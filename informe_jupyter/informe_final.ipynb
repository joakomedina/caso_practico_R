{
 "cells": [
  {
   "cell_type": "markdown",
   "id": "3c3ba639-207b-480d-8728-f6710bd48dfc",
   "metadata": {},
   "source": [
    "# Informe caso práctico"
   ]
  },
  {
   "cell_type": "code",
   "execution_count": 1,
   "id": "534cda6a-8e3e-46fd-a1a2-3625fe68deec",
   "metadata": {},
   "outputs": [
    {
     "data": {
      "text/html": [
       "'C:/Users/Joako/Documents/R_curso_analisis_datos/caso_practico_R/informe_jupyter'"
      ],
      "text/latex": [
       "'C:/Users/Joako/Documents/R\\_curso\\_analisis\\_datos/caso\\_practico\\_R/informe\\_jupyter'"
      ],
      "text/markdown": [
       "'C:/Users/Joako/Documents/R_curso_analisis_datos/caso_practico_R/informe_jupyter'"
      ],
      "text/plain": [
       "[1] \"C:/Users/Joako/Documents/R_curso_analisis_datos/caso_practico_R/informe_jupyter\""
      ]
     },
     "metadata": {},
     "output_type": "display_data"
    }
   ],
   "source": [
    "getwd()"
   ]
  },
  {
   "cell_type": "markdown",
   "id": "9dd4a3ab-85af-448b-9bda-54b47820a1a3",
   "metadata": {
    "tags": []
   },
   "source": [
    "El siguiente informe muestra el análisis realizado con la base de datos suministrada por la empresa bellabet sobre el registro de uso de dispositivos inteligentes de 33 personas durante el período de un mes. Los datos se expresan en distintas variables tales como: numero de pasos, calorías gastadas, intensidad de la actividad, tiempo de sueño, entre otras.\n",
    "La idea es poder observar algunos patrones a partir del uso que hacen éstas personas a fin de poder identificar algunas oportunidades de mejora para mi interesada, la empresa Bellabet."
   ]
  },
  {
   "cell_type": "markdown",
   "id": "7246fb4a-fef8-4165-9b38-a428fe37bf66",
   "metadata": {},
   "source": [
    "## Preguntas que guían el análisis"
   ]
  },
  {
   "cell_type": "markdown",
   "id": "b37be43a-0238-4fd7-82fc-597a704acb63",
   "metadata": {},
   "source": [
    "1. ¿La actividad física recopilada por los dispositivos inteligentes puede generar oportunidades de negocio?\n",
    "2. ¿Cómo usan los dispositivos inteligentes los consumidores?\n",
    "    + ¿Existen usuarios con poco o ningún uso del dispositivo?\n",
    "    + ¿El uso del dispositivo en que medida está relacionado con la cantidad de actividad física realizada?\n",
    "    + ¿Existe alguna relación entre el tiempo de sueño y la actividad física?\n",
    "    + ¿Existe algún patrón en el uso de los dispositivos inteligentes?\n",
    "        + Relación entre distancia y calorias gastadas\n",
    "        + Relación entre la intensidad y las calorías gastadas\n",
    "Luego de revisar cada uno de los data.frame. He decidido seleccionar los siguientes para el análisis ya que son los adecuados para responder a las preguntas que guían ésta investigación."
   ]
  },
  {
   "cell_type": "markdown",
   "id": "f9df5964-fcb7-472f-a836-d389aa32488f",
   "metadata": {},
   "source": [
    "Tablas Seleccionadas               | Nombre data.frame\n",
    "-----------------------------------|------------------------\n",
    "dailyActivity_merged.csv           | daily_activity\n",
    "sleepDay_merged.csv                | sleep_day_df\n",
    "minuteCaloriesNarrow_merged.csv    | min_calories_narrow\n",
    "minuteIntensitiesNarrow_merged.csv | min_intensities_narrow\n",
    "hourlyIntensities_merged.csv       | hourly_intensities\n",
    "hourlyCalories_merged.csv          | hourly_calories"
   ]
  }
 ],
 "metadata": {
  "kernelspec": {
   "display_name": "R",
   "language": "R",
   "name": "ir"
  },
  "language_info": {
   "codemirror_mode": "r",
   "file_extension": ".r",
   "mimetype": "text/x-r-source",
   "name": "R",
   "pygments_lexer": "r",
   "version": "4.2.2"
  }
 },
 "nbformat": 4,
 "nbformat_minor": 5
}
