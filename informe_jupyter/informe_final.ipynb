{
 "cells": [
  {
   "cell_type": "markdown",
   "id": "3c3ba639-207b-480d-8728-f6710bd48dfc",
   "metadata": {},
   "source": [
    "# Informe caso práctico"
   ]
  },
  {
   "cell_type": "code",
   "execution_count": 1,
   "id": "534cda6a-8e3e-46fd-a1a2-3625fe68deec",
   "metadata": {},
   "outputs": [
    {
     "data": {
      "text/html": [
       "'C:/Users/Joako/Documents/R_curso_analisis_datos/caso_practico_R/informe_jupyter'"
      ],
      "text/latex": [
       "'C:/Users/Joako/Documents/R\\_curso\\_analisis\\_datos/caso\\_practico\\_R/informe\\_jupyter'"
      ],
      "text/markdown": [
       "'C:/Users/Joako/Documents/R_curso_analisis_datos/caso_practico_R/informe_jupyter'"
      ],
      "text/plain": [
       "[1] \"C:/Users/Joako/Documents/R_curso_analisis_datos/caso_practico_R/informe_jupyter\""
      ]
     },
     "metadata": {},
     "output_type": "display_data"
    }
   ],
   "source": [
    "getwd()"
   ]
  },
  {
   "cell_type": "markdown",
   "id": "9dd4a3ab-85af-448b-9bda-54b47820a1a3",
   "metadata": {
    "tags": []
   },
   "source": [
    "El siguiente informe muestra el análisis realizado con la base de datos suministrada por la empresa bellabet sobre el registro de uso de dispositivos inteligentes de 33 personas durante el período de un mes. Los datos se expresan en distintas variables tales como: numero de pasos, calorías gastadas, intensidad de la actividad, tiempo de sueño, entre otras.\n",
    "La idea es poder observar algunos patrones a partir del uso que hacen éstas personas a fin de poder identificar algunas oportunidades de mejora para mi interesada, la empresa Bellabet."
   ]
  },
  {
   "cell_type": "markdown",
   "id": "7246fb4a-fef8-4165-9b38-a428fe37bf66",
   "metadata": {},
   "source": [
    "## Preguntas que guían el análisis"
   ]
  },
  {
   "cell_type": "markdown",
   "id": "b37be43a-0238-4fd7-82fc-597a704acb63",
   "metadata": {},
   "source": [
    "1. ¿La actividad física recopilada por los dispositivos inteligentes puede generar oportunidades de negocio?\n",
    "2. ¿Cómo usan los dispositivos inteligentes los consumidores?\n",
    "    + ¿Existen usuarios con poco o ningún uso del dispositivo?\n",
    "    + ¿El uso del dispositivo en que medida está relacionado con la cantidad de actividad física realizada?\n",
    "    + ¿Existe alguna relación entre el tiempo de sueño y la actividad física?\n",
    "    + ¿Existe algún patrón en el uso de los dispositivos inteligentes?\n",
    "        + Relación entre distancia y calorias gastadas\n",
    "        + Relación entre la intensidad y las calorías gastadas\n",
    "Luego de revisar cada uno de los data.frame. He decidido seleccionar los siguientes para el análisis ya que son los adecuados para responder a las preguntas que guían ésta investigación."
   ]
  },
  {
   "cell_type": "markdown",
   "id": "f9df5964-fcb7-472f-a836-d389aa32488f",
   "metadata": {},
   "source": [
    "Tablas Seleccionadas               | Nombre data.frame       | Relación preguntas\n",
    "-----------------------------------|-------------------------|--------------------\n",
    "dailyActivity_merged.csv           | daily_activity          | Estimar el patron de uso del dispositivo\n",
    "sleepDay_merged.csv                | sleep_day_df            | Cálcular el patron de sueño y el impacto en la actividad\n",
    "minuteIntensitiesNarrow_merged.csv | min_intensities         | Escala de tiempo utilizado en cada nivel de intensidad\n",
    "hourlyIntensities_merged.csv       | hourly_intensities      | Horas de mayor actividad física según intensidad y rel cal - int\n",
    "hourlyCalories_merged.csv          | hourly_calories         | Relación gasto calórico e intensidad de la actividad. Merge df ant\n",
    "minuteCaloriesNarrow_merged.csv    | min_calories            | Merge intensities_calories, comparar sujeto contra si, en gasto cal "
   ]
  },
  {
   "cell_type": "markdown",
   "id": "6b82f4f2-612f-4abd-91d5-968878a4af57",
   "metadata": {
    "tags": []
   },
   "source": []
  },
  {
   "cell_type": "markdown",
   "id": "ee8a639c-699d-4e72-818d-62e90e3a89d9",
   "metadata": {
    "tags": []
   },
   "source": [
    "Una vez elegidas las tablas de la base de datos y su uso para el análisis; pasaré al proceso creación de cada data.frame de trabajo y limpieza y formateo de los mismos. Para ello instalaré los paquetes y librerías para formatear, manipular y transformar los datos:\n",
    "\n",
    "Paquetes        | Librerías\n",
    "----------------|------------------\n",
    "tidyverse       | tidyverse\n",
    "janitor         | janitor\n",
    "skimr           | skimr\n",
    "ggrepel         | ggrepel\n",
    "N/A             | lubridate\n",
    "N/A             | IRdisplay"
   ]
  },
  {
   "cell_type": "markdown",
   "id": "237c7803-fc36-48d7-a046-b311c6dd32ea",
   "metadata": {
    "tags": []
   },
   "source": [
    "Los paquetes, los instalo por separados porque me ha dado errores al instalarlos juntos"
   ]
  },
  {
   "cell_type": "code",
   "execution_count": 2,
   "id": "b69a75eb-269a-4e97-8dec-e6cb46c30213",
   "metadata": {
    "collapsed": true,
    "jupyter": {
     "outputs_hidden": true
    },
    "tags": []
   },
   "outputs": [
    {
     "name": "stderr",
     "output_type": "stream",
     "text": [
      "Installing package into 'C:/Users/Joako/AppData/Local/R/win-library/4.2'\n",
      "(as 'lib' is unspecified)\n",
      "\n"
     ]
    },
    {
     "name": "stdout",
     "output_type": "stream",
     "text": [
      "package 'tidyverse' successfully unpacked and MD5 sums checked\n",
      "\n",
      "The downloaded binary packages are in\n",
      "\tC:\\Users\\Joako\\AppData\\Local\\Temp\\Rtmpi4pPIY\\downloaded_packages\n"
     ]
    }
   ],
   "source": [
    "install.packages(\"tidyverse\", dependencies = TRUE)"
   ]
  },
  {
   "cell_type": "code",
   "execution_count": 3,
   "id": "30a49454-9afd-4797-a58b-159e4dc581ae",
   "metadata": {
    "collapsed": true,
    "jupyter": {
     "outputs_hidden": true
    },
    "tags": []
   },
   "outputs": [
    {
     "name": "stderr",
     "output_type": "stream",
     "text": [
      "Installing package into 'C:/Users/Joako/AppData/Local/R/win-library/4.2'\n",
      "(as 'lib' is unspecified)\n",
      "\n"
     ]
    },
    {
     "name": "stdout",
     "output_type": "stream",
     "text": [
      "package 'janitor' successfully unpacked and MD5 sums checked\n",
      "\n",
      "The downloaded binary packages are in\n",
      "\tC:\\Users\\Joako\\AppData\\Local\\Temp\\Rtmpi4pPIY\\downloaded_packages\n"
     ]
    }
   ],
   "source": [
    "install.packages(\"janitor\")"
   ]
  },
  {
   "cell_type": "code",
   "execution_count": 4,
   "id": "7bab9b15-6376-493f-8ffc-61722062d081",
   "metadata": {
    "collapsed": true,
    "jupyter": {
     "outputs_hidden": true
    },
    "tags": []
   },
   "outputs": [
    {
     "name": "stderr",
     "output_type": "stream",
     "text": [
      "Installing package into 'C:/Users/Joako/AppData/Local/R/win-library/4.2'\n",
      "(as 'lib' is unspecified)\n",
      "\n"
     ]
    },
    {
     "name": "stdout",
     "output_type": "stream",
     "text": [
      "package 'skimr' successfully unpacked and MD5 sums checked\n",
      "\n",
      "The downloaded binary packages are in\n",
      "\tC:\\Users\\Joako\\AppData\\Local\\Temp\\Rtmpi4pPIY\\downloaded_packages\n"
     ]
    }
   ],
   "source": [
    "install.packages(\"skimr\")"
   ]
  },
  {
   "cell_type": "code",
   "execution_count": 5,
   "id": "08bf2a43-8454-4927-b0ec-3e47049e1342",
   "metadata": {
    "collapsed": true,
    "jupyter": {
     "outputs_hidden": true
    },
    "tags": []
   },
   "outputs": [
    {
     "name": "stderr",
     "output_type": "stream",
     "text": [
      "Installing package into 'C:/Users/Joako/AppData/Local/R/win-library/4.2'\n",
      "(as 'lib' is unspecified)\n",
      "\n"
     ]
    },
    {
     "name": "stdout",
     "output_type": "stream",
     "text": [
      "package 'ggrepel' successfully unpacked and MD5 sums checked\n",
      "\n",
      "The downloaded binary packages are in\n",
      "\tC:\\Users\\Joako\\AppData\\Local\\Temp\\Rtmpi4pPIY\\downloaded_packages\n"
     ]
    }
   ],
   "source": [
    "install.packages(\"ggrepel\")"
   ]
  },
  {
   "cell_type": "code",
   "execution_count": 6,
   "id": "5c6b82f3-4da6-40af-bf4b-e330db23bbb9",
   "metadata": {
    "collapsed": true,
    "jupyter": {
     "outputs_hidden": true
    },
    "tags": []
   },
   "outputs": [
    {
     "name": "stderr",
     "output_type": "stream",
     "text": [
      "Warning message:\n",
      "\"package 'tidyverse' was built under R version 4.2.3\"\n",
      "Warning message:\n",
      "\"package 'lubridate' was built under R version 4.2.3\"\n",
      "── \u001b[1mAttaching core tidyverse packages\u001b[22m ──────────────────────── tidyverse 2.0.0 ──\n",
      "\u001b[32m✔\u001b[39m \u001b[34mdplyr    \u001b[39m 1.1.0     \u001b[32m✔\u001b[39m \u001b[34mreadr    \u001b[39m 2.1.4\n",
      "\u001b[32m✔\u001b[39m \u001b[34mforcats  \u001b[39m 1.0.0     \u001b[32m✔\u001b[39m \u001b[34mstringr  \u001b[39m 1.5.0\n",
      "\u001b[32m✔\u001b[39m \u001b[34mggplot2  \u001b[39m 3.4.1     \u001b[32m✔\u001b[39m \u001b[34mtibble   \u001b[39m 3.1.8\n",
      "\u001b[32m✔\u001b[39m \u001b[34mlubridate\u001b[39m 1.9.2     \u001b[32m✔\u001b[39m \u001b[34mtidyr    \u001b[39m 1.3.0\n",
      "\u001b[32m✔\u001b[39m \u001b[34mpurrr    \u001b[39m 1.0.1     \n",
      "── \u001b[1mConflicts\u001b[22m ────────────────────────────────────────── tidyverse_conflicts() ──\n",
      "\u001b[31m✖\u001b[39m \u001b[34mdplyr\u001b[39m::\u001b[32mfilter()\u001b[39m masks \u001b[34mstats\u001b[39m::filter()\n",
      "\u001b[31m✖\u001b[39m \u001b[34mdplyr\u001b[39m::\u001b[32mlag()\u001b[39m    masks \u001b[34mstats\u001b[39m::lag()\n",
      "\u001b[36mℹ\u001b[39m Use the conflicted package (\u001b[3m\u001b[34m<http://conflicted.r-lib.org/>\u001b[39m\u001b[23m) to force all conflicts to become errors\n"
     ]
    }
   ],
   "source": [
    "library(tidyverse)"
   ]
  },
  {
   "cell_type": "code",
   "execution_count": 7,
   "id": "5d0780ee-34fa-4ab6-a3d7-7981c9cea041",
   "metadata": {
    "collapsed": true,
    "jupyter": {
     "outputs_hidden": true
    },
    "tags": []
   },
   "outputs": [
    {
     "name": "stderr",
     "output_type": "stream",
     "text": [
      "Warning message:\n",
      "\"package 'janitor' was built under R version 4.2.3\"\n",
      "\n",
      "Attaching package: 'janitor'\n",
      "\n",
      "\n",
      "The following objects are masked from 'package:stats':\n",
      "\n",
      "    chisq.test, fisher.test\n",
      "\n",
      "\n"
     ]
    }
   ],
   "source": [
    "library(janitor)"
   ]
  },
  {
   "cell_type": "code",
   "execution_count": 8,
   "id": "c416c6e3-e6e6-4ce2-a1e7-4076f2792fdc",
   "metadata": {
    "collapsed": true,
    "jupyter": {
     "outputs_hidden": true
    },
    "tags": []
   },
   "outputs": [
    {
     "name": "stderr",
     "output_type": "stream",
     "text": [
      "Warning message:\n",
      "\"package 'skimr' was built under R version 4.2.3\"\n"
     ]
    }
   ],
   "source": [
    "library(skimr)"
   ]
  },
  {
   "cell_type": "code",
   "execution_count": 9,
   "id": "12cc46f0-82f6-43b4-857e-e520104c55e1",
   "metadata": {
    "collapsed": true,
    "jupyter": {
     "outputs_hidden": true
    },
    "tags": []
   },
   "outputs": [
    {
     "name": "stderr",
     "output_type": "stream",
     "text": [
      "Warning message:\n",
      "\"package 'ggrepel' was built under R version 4.2.3\"\n"
     ]
    }
   ],
   "source": [
    "library(ggrepel)"
   ]
  },
  {
   "cell_type": "code",
   "execution_count": 10,
   "id": "4ad4db29-b612-4284-bd71-eb2c5f955732",
   "metadata": {},
   "outputs": [],
   "source": [
    "library(lubridate)"
   ]
  },
  {
   "cell_type": "code",
   "execution_count": 11,
   "id": "22687cd5-97e7-4d6f-b6b0-dc6d2c49cbc7",
   "metadata": {},
   "outputs": [],
   "source": [
    "library(IRdisplay)"
   ]
  },
  {
   "cell_type": "code",
   "execution_count": 49,
   "id": "7a9c3aaf-7e61-4b68-9a92-3cd85285166c",
   "metadata": {
    "collapsed": true,
    "jupyter": {
     "outputs_hidden": true
    },
    "tags": []
   },
   "outputs": [
    {
     "name": "stderr",
     "output_type": "stream",
     "text": [
      "\n",
      "Attaching package: 'data.table'\n",
      "\n",
      "\n",
      "The following objects are masked from 'package:lubridate':\n",
      "\n",
      "    hour, isoweek, mday, minute, month, quarter, second, wday, week,\n",
      "    yday, year\n",
      "\n",
      "\n",
      "The following objects are masked from 'package:dplyr':\n",
      "\n",
      "    between, first, last\n",
      "\n",
      "\n",
      "The following object is masked from 'package:purrr':\n",
      "\n",
      "    transpose\n",
      "\n",
      "\n"
     ]
    }
   ],
   "source": [
    "library(data.table)"
   ]
  },
  {
   "cell_type": "markdown",
   "id": "703819d5-2b46-4b49-99bf-9ef37e1807db",
   "metadata": {},
   "source": [
    "## Creación de los data frame a partir de las tablas seleccionadas"
   ]
  },
  {
   "cell_type": "code",
   "execution_count": 120,
   "id": "404bff54-dedf-4501-8164-c3caf186c76f",
   "metadata": {
    "collapsed": true,
    "jupyter": {
     "outputs_hidden": true
    },
    "tags": []
   },
   "outputs": [
    {
     "name": "stderr",
     "output_type": "stream",
     "text": [
      "\u001b[1mRows: \u001b[22m\u001b[34m940\u001b[39m \u001b[1mColumns: \u001b[22m\u001b[34m15\u001b[39m\n",
      "\u001b[36m──\u001b[39m \u001b[1mColumn specification\u001b[22m \u001b[36m────────────────────────────────────────────────────────\u001b[39m\n",
      "\u001b[1mDelimiter:\u001b[22m \",\"\n",
      "\u001b[31mchr\u001b[39m  (1): ActivityDate\n",
      "\u001b[32mdbl\u001b[39m (14): Id, TotalSteps, TotalDistance, TrackerDistance, LoggedActivitiesDi...\n",
      "\n",
      "\u001b[36mℹ\u001b[39m Use `spec()` to retrieve the full column specification for this data.\n",
      "\u001b[36mℹ\u001b[39m Specify the column types or set `show_col_types = FALSE` to quiet this message.\n",
      "\u001b[1mRows: \u001b[22m\u001b[34m413\u001b[39m \u001b[1mColumns: \u001b[22m\u001b[34m5\u001b[39m\n",
      "\u001b[36m──\u001b[39m \u001b[1mColumn specification\u001b[22m \u001b[36m────────────────────────────────────────────────────────\u001b[39m\n",
      "\u001b[1mDelimiter:\u001b[22m \",\"\n",
      "\u001b[31mchr\u001b[39m (1): SleepDay\n",
      "\u001b[32mdbl\u001b[39m (4): Id, TotalSleepRecords, TotalMinutesAsleep, TotalTimeInBed\n",
      "\n",
      "\u001b[36mℹ\u001b[39m Use `spec()` to retrieve the full column specification for this data.\n",
      "\u001b[36mℹ\u001b[39m Specify the column types or set `show_col_types = FALSE` to quiet this message.\n",
      "\u001b[1mRows: \u001b[22m\u001b[34m1325580\u001b[39m \u001b[1mColumns: \u001b[22m\u001b[34m3\u001b[39m\n",
      "\u001b[36m──\u001b[39m \u001b[1mColumn specification\u001b[22m \u001b[36m────────────────────────────────────────────────────────\u001b[39m\n",
      "\u001b[1mDelimiter:\u001b[22m \",\"\n",
      "\u001b[31mchr\u001b[39m (1): ActivityMinute\n",
      "\u001b[32mdbl\u001b[39m (2): Id, Intensity\n",
      "\n",
      "\u001b[36mℹ\u001b[39m Use `spec()` to retrieve the full column specification for this data.\n",
      "\u001b[36mℹ\u001b[39m Specify the column types or set `show_col_types = FALSE` to quiet this message.\n",
      "\u001b[1mRows: \u001b[22m\u001b[34m22099\u001b[39m \u001b[1mColumns: \u001b[22m\u001b[34m4\u001b[39m\n",
      "\u001b[36m──\u001b[39m \u001b[1mColumn specification\u001b[22m \u001b[36m────────────────────────────────────────────────────────\u001b[39m\n",
      "\u001b[1mDelimiter:\u001b[22m \",\"\n",
      "\u001b[31mchr\u001b[39m (1): ActivityHour\n",
      "\u001b[32mdbl\u001b[39m (3): Id, TotalIntensity, AverageIntensity\n",
      "\n",
      "\u001b[36mℹ\u001b[39m Use `spec()` to retrieve the full column specification for this data.\n",
      "\u001b[36mℹ\u001b[39m Specify the column types or set `show_col_types = FALSE` to quiet this message.\n",
      "\u001b[1mRows: \u001b[22m\u001b[34m22099\u001b[39m \u001b[1mColumns: \u001b[22m\u001b[34m3\u001b[39m\n",
      "\u001b[36m──\u001b[39m \u001b[1mColumn specification\u001b[22m \u001b[36m────────────────────────────────────────────────────────\u001b[39m\n",
      "\u001b[1mDelimiter:\u001b[22m \",\"\n",
      "\u001b[31mchr\u001b[39m (1): ActivityHour\n",
      "\u001b[32mdbl\u001b[39m (2): Id, Calories\n",
      "\n",
      "\u001b[36mℹ\u001b[39m Use `spec()` to retrieve the full column specification for this data.\n",
      "\u001b[36mℹ\u001b[39m Specify the column types or set `show_col_types = FALSE` to quiet this message.\n",
      "\u001b[1mRows: \u001b[22m\u001b[34m1325580\u001b[39m \u001b[1mColumns: \u001b[22m\u001b[34m3\u001b[39m\n",
      "\u001b[36m──\u001b[39m \u001b[1mColumn specification\u001b[22m \u001b[36m────────────────────────────────────────────────────────\u001b[39m\n",
      "\u001b[1mDelimiter:\u001b[22m \",\"\n",
      "\u001b[31mchr\u001b[39m (1): ActivityMinute\n",
      "\u001b[32mdbl\u001b[39m (2): Id, Calories\n",
      "\n",
      "\u001b[36mℹ\u001b[39m Use `spec()` to retrieve the full column specification for this data.\n",
      "\u001b[36mℹ\u001b[39m Specify the column types or set `show_col_types = FALSE` to quiet this message.\n"
     ]
    }
   ],
   "source": [
    "daily_activity <- \n",
    "    read_csv(\"C:\\\\Users\\\\Joako\\\\Documents\\\\R_proyectos\\\\Caso_practico\\\\data_trabajo\\\\dailyActivity_merged.csv\")\n",
    "\n",
    "sleep_day_df <- \n",
    "    read_csv(\"C:\\\\Users\\\\Joako\\\\Documents\\\\R_proyectos\\\\Caso_practico\\\\data_trabajo\\\\sleepDay_merged.csv\")\n",
    "\n",
    "min_intensities <- \n",
    "    read_csv(\"C:\\\\Users\\\\Joako\\\\Documents\\\\R_proyectos\\\\Caso_practico\\\\data_trabajo\\\\minuteIntensitiesNarrow_merged.csv\")\n",
    "\n",
    "hourly_intensities <- \n",
    "    read_csv(\"C:\\\\Users\\\\Joako\\\\Documents\\\\R_proyectos\\\\Caso_practico\\\\data_trabajo\\\\hourlyIntensities_merged.csv\")\n",
    "\n",
    "hourly_calories <-\n",
    "    read_csv(\"C:\\\\Users\\\\Joako\\\\Documents\\\\R_proyectos\\\\Caso_practico\\\\data_trabajo\\\\hourlyCalories_merged.csv\")\n",
    "\n",
    "min_calories <- \n",
    "  read_csv(\"C:\\\\Users\\\\Joako\\\\Documents\\\\R_curso_analisis_datos\\\\caso_practico_R\\\\data\\\\minuteCaloriesNarrow_merged.csv\")"
   ]
  },
  {
   "cell_type": "code",
   "execution_count": 121,
   "id": "c5a376fa-736c-42ee-88eb-e9eb86d87911",
   "metadata": {
    "collapsed": true,
    "jupyter": {
     "outputs_hidden": true
    },
    "tags": []
   },
   "outputs": [
    {
     "data": {
      "text/html": [
       "<table class=\"dataframe\">\n",
       "<caption>A tibble: 6 × 15</caption>\n",
       "<thead>\n",
       "\t<tr><th scope=col>Id</th><th scope=col>ActivityDate</th><th scope=col>TotalSteps</th><th scope=col>TotalDistance</th><th scope=col>TrackerDistance</th><th scope=col>LoggedActivitiesDistance</th><th scope=col>VeryActiveDistance</th><th scope=col>ModeratelyActiveDistance</th><th scope=col>LightActiveDistance</th><th scope=col>SedentaryActiveDistance</th><th scope=col>VeryActiveMinutes</th><th scope=col>FairlyActiveMinutes</th><th scope=col>LightlyActiveMinutes</th><th scope=col>SedentaryMinutes</th><th scope=col>Calories</th></tr>\n",
       "\t<tr><th scope=col>&lt;dbl&gt;</th><th scope=col>&lt;chr&gt;</th><th scope=col>&lt;dbl&gt;</th><th scope=col>&lt;dbl&gt;</th><th scope=col>&lt;dbl&gt;</th><th scope=col>&lt;dbl&gt;</th><th scope=col>&lt;dbl&gt;</th><th scope=col>&lt;dbl&gt;</th><th scope=col>&lt;dbl&gt;</th><th scope=col>&lt;dbl&gt;</th><th scope=col>&lt;dbl&gt;</th><th scope=col>&lt;dbl&gt;</th><th scope=col>&lt;dbl&gt;</th><th scope=col>&lt;dbl&gt;</th><th scope=col>&lt;dbl&gt;</th></tr>\n",
       "</thead>\n",
       "<tbody>\n",
       "\t<tr><td>1503960366</td><td>4/12/2016</td><td>13162</td><td>8.50</td><td>8.50</td><td>0</td><td>1.88</td><td>0.55</td><td>6.06</td><td>0</td><td>25</td><td>13</td><td>328</td><td> 728</td><td>1985</td></tr>\n",
       "\t<tr><td>1503960366</td><td>4/13/2016</td><td>10735</td><td>6.97</td><td>6.97</td><td>0</td><td>1.57</td><td>0.69</td><td>4.71</td><td>0</td><td>21</td><td>19</td><td>217</td><td> 776</td><td>1797</td></tr>\n",
       "\t<tr><td>1503960366</td><td>4/14/2016</td><td>10460</td><td>6.74</td><td>6.74</td><td>0</td><td>2.44</td><td>0.40</td><td>3.91</td><td>0</td><td>30</td><td>11</td><td>181</td><td>1218</td><td>1776</td></tr>\n",
       "\t<tr><td>1503960366</td><td>4/15/2016</td><td> 9762</td><td>6.28</td><td>6.28</td><td>0</td><td>2.14</td><td>1.26</td><td>2.83</td><td>0</td><td>29</td><td>34</td><td>209</td><td> 726</td><td>1745</td></tr>\n",
       "\t<tr><td>1503960366</td><td>4/16/2016</td><td>12669</td><td>8.16</td><td>8.16</td><td>0</td><td>2.71</td><td>0.41</td><td>5.04</td><td>0</td><td>36</td><td>10</td><td>221</td><td> 773</td><td>1863</td></tr>\n",
       "\t<tr><td>1503960366</td><td>4/17/2016</td><td> 9705</td><td>6.48</td><td>6.48</td><td>0</td><td>3.19</td><td>0.78</td><td>2.51</td><td>0</td><td>38</td><td>20</td><td>164</td><td> 539</td><td>1728</td></tr>\n",
       "</tbody>\n",
       "</table>\n"
      ],
      "text/latex": [
       "A tibble: 6 × 15\n",
       "\\begin{tabular}{lllllllllllllll}\n",
       " Id & ActivityDate & TotalSteps & TotalDistance & TrackerDistance & LoggedActivitiesDistance & VeryActiveDistance & ModeratelyActiveDistance & LightActiveDistance & SedentaryActiveDistance & VeryActiveMinutes & FairlyActiveMinutes & LightlyActiveMinutes & SedentaryMinutes & Calories\\\\\n",
       " <dbl> & <chr> & <dbl> & <dbl> & <dbl> & <dbl> & <dbl> & <dbl> & <dbl> & <dbl> & <dbl> & <dbl> & <dbl> & <dbl> & <dbl>\\\\\n",
       "\\hline\n",
       "\t 1503960366 & 4/12/2016 & 13162 & 8.50 & 8.50 & 0 & 1.88 & 0.55 & 6.06 & 0 & 25 & 13 & 328 &  728 & 1985\\\\\n",
       "\t 1503960366 & 4/13/2016 & 10735 & 6.97 & 6.97 & 0 & 1.57 & 0.69 & 4.71 & 0 & 21 & 19 & 217 &  776 & 1797\\\\\n",
       "\t 1503960366 & 4/14/2016 & 10460 & 6.74 & 6.74 & 0 & 2.44 & 0.40 & 3.91 & 0 & 30 & 11 & 181 & 1218 & 1776\\\\\n",
       "\t 1503960366 & 4/15/2016 &  9762 & 6.28 & 6.28 & 0 & 2.14 & 1.26 & 2.83 & 0 & 29 & 34 & 209 &  726 & 1745\\\\\n",
       "\t 1503960366 & 4/16/2016 & 12669 & 8.16 & 8.16 & 0 & 2.71 & 0.41 & 5.04 & 0 & 36 & 10 & 221 &  773 & 1863\\\\\n",
       "\t 1503960366 & 4/17/2016 &  9705 & 6.48 & 6.48 & 0 & 3.19 & 0.78 & 2.51 & 0 & 38 & 20 & 164 &  539 & 1728\\\\\n",
       "\\end{tabular}\n"
      ],
      "text/markdown": [
       "\n",
       "A tibble: 6 × 15\n",
       "\n",
       "| Id &lt;dbl&gt; | ActivityDate &lt;chr&gt; | TotalSteps &lt;dbl&gt; | TotalDistance &lt;dbl&gt; | TrackerDistance &lt;dbl&gt; | LoggedActivitiesDistance &lt;dbl&gt; | VeryActiveDistance &lt;dbl&gt; | ModeratelyActiveDistance &lt;dbl&gt; | LightActiveDistance &lt;dbl&gt; | SedentaryActiveDistance &lt;dbl&gt; | VeryActiveMinutes &lt;dbl&gt; | FairlyActiveMinutes &lt;dbl&gt; | LightlyActiveMinutes &lt;dbl&gt; | SedentaryMinutes &lt;dbl&gt; | Calories &lt;dbl&gt; |\n",
       "|---|---|---|---|---|---|---|---|---|---|---|---|---|---|---|\n",
       "| 1503960366 | 4/12/2016 | 13162 | 8.50 | 8.50 | 0 | 1.88 | 0.55 | 6.06 | 0 | 25 | 13 | 328 |  728 | 1985 |\n",
       "| 1503960366 | 4/13/2016 | 10735 | 6.97 | 6.97 | 0 | 1.57 | 0.69 | 4.71 | 0 | 21 | 19 | 217 |  776 | 1797 |\n",
       "| 1503960366 | 4/14/2016 | 10460 | 6.74 | 6.74 | 0 | 2.44 | 0.40 | 3.91 | 0 | 30 | 11 | 181 | 1218 | 1776 |\n",
       "| 1503960366 | 4/15/2016 |  9762 | 6.28 | 6.28 | 0 | 2.14 | 1.26 | 2.83 | 0 | 29 | 34 | 209 |  726 | 1745 |\n",
       "| 1503960366 | 4/16/2016 | 12669 | 8.16 | 8.16 | 0 | 2.71 | 0.41 | 5.04 | 0 | 36 | 10 | 221 |  773 | 1863 |\n",
       "| 1503960366 | 4/17/2016 |  9705 | 6.48 | 6.48 | 0 | 3.19 | 0.78 | 2.51 | 0 | 38 | 20 | 164 |  539 | 1728 |\n",
       "\n"
      ],
      "text/plain": [
       "  Id         ActivityDate TotalSteps TotalDistance TrackerDistance\n",
       "1 1503960366 4/12/2016    13162      8.50          8.50           \n",
       "2 1503960366 4/13/2016    10735      6.97          6.97           \n",
       "3 1503960366 4/14/2016    10460      6.74          6.74           \n",
       "4 1503960366 4/15/2016     9762      6.28          6.28           \n",
       "5 1503960366 4/16/2016    12669      8.16          8.16           \n",
       "6 1503960366 4/17/2016     9705      6.48          6.48           \n",
       "  LoggedActivitiesDistance VeryActiveDistance ModeratelyActiveDistance\n",
       "1 0                        1.88               0.55                    \n",
       "2 0                        1.57               0.69                    \n",
       "3 0                        2.44               0.40                    \n",
       "4 0                        2.14               1.26                    \n",
       "5 0                        2.71               0.41                    \n",
       "6 0                        3.19               0.78                    \n",
       "  LightActiveDistance SedentaryActiveDistance VeryActiveMinutes\n",
       "1 6.06                0                       25               \n",
       "2 4.71                0                       21               \n",
       "3 3.91                0                       30               \n",
       "4 2.83                0                       29               \n",
       "5 5.04                0                       36               \n",
       "6 2.51                0                       38               \n",
       "  FairlyActiveMinutes LightlyActiveMinutes SedentaryMinutes Calories\n",
       "1 13                  328                   728             1985    \n",
       "2 19                  217                   776             1797    \n",
       "3 11                  181                  1218             1776    \n",
       "4 34                  209                   726             1745    \n",
       "5 10                  221                   773             1863    \n",
       "6 20                  164                   539             1728    "
      ]
     },
     "metadata": {},
     "output_type": "display_data"
    },
    {
     "data": {
      "text/html": [
       "<table class=\"dataframe\">\n",
       "<caption>A tibble: 6 × 5</caption>\n",
       "<thead>\n",
       "\t<tr><th scope=col>Id</th><th scope=col>SleepDay</th><th scope=col>TotalSleepRecords</th><th scope=col>TotalMinutesAsleep</th><th scope=col>TotalTimeInBed</th></tr>\n",
       "\t<tr><th scope=col>&lt;dbl&gt;</th><th scope=col>&lt;chr&gt;</th><th scope=col>&lt;dbl&gt;</th><th scope=col>&lt;dbl&gt;</th><th scope=col>&lt;dbl&gt;</th></tr>\n",
       "</thead>\n",
       "<tbody>\n",
       "\t<tr><td>1503960366</td><td>4/12/2016 12:00:00 AM</td><td>1</td><td>327</td><td>346</td></tr>\n",
       "\t<tr><td>1503960366</td><td>4/13/2016 12:00:00 AM</td><td>2</td><td>384</td><td>407</td></tr>\n",
       "\t<tr><td>1503960366</td><td>4/15/2016 12:00:00 AM</td><td>1</td><td>412</td><td>442</td></tr>\n",
       "\t<tr><td>1503960366</td><td>4/16/2016 12:00:00 AM</td><td>2</td><td>340</td><td>367</td></tr>\n",
       "\t<tr><td>1503960366</td><td>4/17/2016 12:00:00 AM</td><td>1</td><td>700</td><td>712</td></tr>\n",
       "\t<tr><td>1503960366</td><td>4/19/2016 12:00:00 AM</td><td>1</td><td>304</td><td>320</td></tr>\n",
       "</tbody>\n",
       "</table>\n"
      ],
      "text/latex": [
       "A tibble: 6 × 5\n",
       "\\begin{tabular}{lllll}\n",
       " Id & SleepDay & TotalSleepRecords & TotalMinutesAsleep & TotalTimeInBed\\\\\n",
       " <dbl> & <chr> & <dbl> & <dbl> & <dbl>\\\\\n",
       "\\hline\n",
       "\t 1503960366 & 4/12/2016 12:00:00 AM & 1 & 327 & 346\\\\\n",
       "\t 1503960366 & 4/13/2016 12:00:00 AM & 2 & 384 & 407\\\\\n",
       "\t 1503960366 & 4/15/2016 12:00:00 AM & 1 & 412 & 442\\\\\n",
       "\t 1503960366 & 4/16/2016 12:00:00 AM & 2 & 340 & 367\\\\\n",
       "\t 1503960366 & 4/17/2016 12:00:00 AM & 1 & 700 & 712\\\\\n",
       "\t 1503960366 & 4/19/2016 12:00:00 AM & 1 & 304 & 320\\\\\n",
       "\\end{tabular}\n"
      ],
      "text/markdown": [
       "\n",
       "A tibble: 6 × 5\n",
       "\n",
       "| Id &lt;dbl&gt; | SleepDay &lt;chr&gt; | TotalSleepRecords &lt;dbl&gt; | TotalMinutesAsleep &lt;dbl&gt; | TotalTimeInBed &lt;dbl&gt; |\n",
       "|---|---|---|---|---|\n",
       "| 1503960366 | 4/12/2016 12:00:00 AM | 1 | 327 | 346 |\n",
       "| 1503960366 | 4/13/2016 12:00:00 AM | 2 | 384 | 407 |\n",
       "| 1503960366 | 4/15/2016 12:00:00 AM | 1 | 412 | 442 |\n",
       "| 1503960366 | 4/16/2016 12:00:00 AM | 2 | 340 | 367 |\n",
       "| 1503960366 | 4/17/2016 12:00:00 AM | 1 | 700 | 712 |\n",
       "| 1503960366 | 4/19/2016 12:00:00 AM | 1 | 304 | 320 |\n",
       "\n"
      ],
      "text/plain": [
       "  Id         SleepDay              TotalSleepRecords TotalMinutesAsleep\n",
       "1 1503960366 4/12/2016 12:00:00 AM 1                 327               \n",
       "2 1503960366 4/13/2016 12:00:00 AM 2                 384               \n",
       "3 1503960366 4/15/2016 12:00:00 AM 1                 412               \n",
       "4 1503960366 4/16/2016 12:00:00 AM 2                 340               \n",
       "5 1503960366 4/17/2016 12:00:00 AM 1                 700               \n",
       "6 1503960366 4/19/2016 12:00:00 AM 1                 304               \n",
       "  TotalTimeInBed\n",
       "1 346           \n",
       "2 407           \n",
       "3 442           \n",
       "4 367           \n",
       "5 712           \n",
       "6 320           "
      ]
     },
     "metadata": {},
     "output_type": "display_data"
    },
    {
     "data": {
      "text/html": [
       "<table class=\"dataframe\">\n",
       "<caption>A tibble: 6 × 3</caption>\n",
       "<thead>\n",
       "\t<tr><th scope=col>Id</th><th scope=col>ActivityMinute</th><th scope=col>Intensity</th></tr>\n",
       "\t<tr><th scope=col>&lt;dbl&gt;</th><th scope=col>&lt;chr&gt;</th><th scope=col>&lt;dbl&gt;</th></tr>\n",
       "</thead>\n",
       "<tbody>\n",
       "\t<tr><td>1503960366</td><td>4/12/2016 12:00:00 AM</td><td>0</td></tr>\n",
       "\t<tr><td>1503960366</td><td>4/12/2016 12:01:00 AM</td><td>0</td></tr>\n",
       "\t<tr><td>1503960366</td><td>4/12/2016 12:02:00 AM</td><td>0</td></tr>\n",
       "\t<tr><td>1503960366</td><td>4/12/2016 12:03:00 AM</td><td>0</td></tr>\n",
       "\t<tr><td>1503960366</td><td>4/12/2016 12:04:00 AM</td><td>0</td></tr>\n",
       "\t<tr><td>1503960366</td><td>4/12/2016 12:05:00 AM</td><td>0</td></tr>\n",
       "</tbody>\n",
       "</table>\n"
      ],
      "text/latex": [
       "A tibble: 6 × 3\n",
       "\\begin{tabular}{lll}\n",
       " Id & ActivityMinute & Intensity\\\\\n",
       " <dbl> & <chr> & <dbl>\\\\\n",
       "\\hline\n",
       "\t 1503960366 & 4/12/2016 12:00:00 AM & 0\\\\\n",
       "\t 1503960366 & 4/12/2016 12:01:00 AM & 0\\\\\n",
       "\t 1503960366 & 4/12/2016 12:02:00 AM & 0\\\\\n",
       "\t 1503960366 & 4/12/2016 12:03:00 AM & 0\\\\\n",
       "\t 1503960366 & 4/12/2016 12:04:00 AM & 0\\\\\n",
       "\t 1503960366 & 4/12/2016 12:05:00 AM & 0\\\\\n",
       "\\end{tabular}\n"
      ],
      "text/markdown": [
       "\n",
       "A tibble: 6 × 3\n",
       "\n",
       "| Id &lt;dbl&gt; | ActivityMinute &lt;chr&gt; | Intensity &lt;dbl&gt; |\n",
       "|---|---|---|\n",
       "| 1503960366 | 4/12/2016 12:00:00 AM | 0 |\n",
       "| 1503960366 | 4/12/2016 12:01:00 AM | 0 |\n",
       "| 1503960366 | 4/12/2016 12:02:00 AM | 0 |\n",
       "| 1503960366 | 4/12/2016 12:03:00 AM | 0 |\n",
       "| 1503960366 | 4/12/2016 12:04:00 AM | 0 |\n",
       "| 1503960366 | 4/12/2016 12:05:00 AM | 0 |\n",
       "\n"
      ],
      "text/plain": [
       "  Id         ActivityMinute        Intensity\n",
       "1 1503960366 4/12/2016 12:00:00 AM 0        \n",
       "2 1503960366 4/12/2016 12:01:00 AM 0        \n",
       "3 1503960366 4/12/2016 12:02:00 AM 0        \n",
       "4 1503960366 4/12/2016 12:03:00 AM 0        \n",
       "5 1503960366 4/12/2016 12:04:00 AM 0        \n",
       "6 1503960366 4/12/2016 12:05:00 AM 0        "
      ]
     },
     "metadata": {},
     "output_type": "display_data"
    },
    {
     "data": {
      "text/html": [
       "<table class=\"dataframe\">\n",
       "<caption>A tibble: 6 × 4</caption>\n",
       "<thead>\n",
       "\t<tr><th scope=col>Id</th><th scope=col>ActivityHour</th><th scope=col>TotalIntensity</th><th scope=col>AverageIntensity</th></tr>\n",
       "\t<tr><th scope=col>&lt;dbl&gt;</th><th scope=col>&lt;chr&gt;</th><th scope=col>&lt;dbl&gt;</th><th scope=col>&lt;dbl&gt;</th></tr>\n",
       "</thead>\n",
       "<tbody>\n",
       "\t<tr><td>1503960366</td><td>4/12/2016 12:00:00 AM</td><td>20</td><td>0.333333</td></tr>\n",
       "\t<tr><td>1503960366</td><td>4/12/2016 1:00:00 AM </td><td> 8</td><td>0.133333</td></tr>\n",
       "\t<tr><td>1503960366</td><td>4/12/2016 2:00:00 AM </td><td> 7</td><td>0.116667</td></tr>\n",
       "\t<tr><td>1503960366</td><td>4/12/2016 3:00:00 AM </td><td> 0</td><td>0.000000</td></tr>\n",
       "\t<tr><td>1503960366</td><td>4/12/2016 4:00:00 AM </td><td> 0</td><td>0.000000</td></tr>\n",
       "\t<tr><td>1503960366</td><td>4/12/2016 5:00:00 AM </td><td> 0</td><td>0.000000</td></tr>\n",
       "</tbody>\n",
       "</table>\n"
      ],
      "text/latex": [
       "A tibble: 6 × 4\n",
       "\\begin{tabular}{llll}\n",
       " Id & ActivityHour & TotalIntensity & AverageIntensity\\\\\n",
       " <dbl> & <chr> & <dbl> & <dbl>\\\\\n",
       "\\hline\n",
       "\t 1503960366 & 4/12/2016 12:00:00 AM & 20 & 0.333333\\\\\n",
       "\t 1503960366 & 4/12/2016 1:00:00 AM  &  8 & 0.133333\\\\\n",
       "\t 1503960366 & 4/12/2016 2:00:00 AM  &  7 & 0.116667\\\\\n",
       "\t 1503960366 & 4/12/2016 3:00:00 AM  &  0 & 0.000000\\\\\n",
       "\t 1503960366 & 4/12/2016 4:00:00 AM  &  0 & 0.000000\\\\\n",
       "\t 1503960366 & 4/12/2016 5:00:00 AM  &  0 & 0.000000\\\\\n",
       "\\end{tabular}\n"
      ],
      "text/markdown": [
       "\n",
       "A tibble: 6 × 4\n",
       "\n",
       "| Id &lt;dbl&gt; | ActivityHour &lt;chr&gt; | TotalIntensity &lt;dbl&gt; | AverageIntensity &lt;dbl&gt; |\n",
       "|---|---|---|---|\n",
       "| 1503960366 | 4/12/2016 12:00:00 AM | 20 | 0.333333 |\n",
       "| 1503960366 | 4/12/2016 1:00:00 AM  |  8 | 0.133333 |\n",
       "| 1503960366 | 4/12/2016 2:00:00 AM  |  7 | 0.116667 |\n",
       "| 1503960366 | 4/12/2016 3:00:00 AM  |  0 | 0.000000 |\n",
       "| 1503960366 | 4/12/2016 4:00:00 AM  |  0 | 0.000000 |\n",
       "| 1503960366 | 4/12/2016 5:00:00 AM  |  0 | 0.000000 |\n",
       "\n"
      ],
      "text/plain": [
       "  Id         ActivityHour          TotalIntensity AverageIntensity\n",
       "1 1503960366 4/12/2016 12:00:00 AM 20             0.333333        \n",
       "2 1503960366 4/12/2016 1:00:00 AM   8             0.133333        \n",
       "3 1503960366 4/12/2016 2:00:00 AM   7             0.116667        \n",
       "4 1503960366 4/12/2016 3:00:00 AM   0             0.000000        \n",
       "5 1503960366 4/12/2016 4:00:00 AM   0             0.000000        \n",
       "6 1503960366 4/12/2016 5:00:00 AM   0             0.000000        "
      ]
     },
     "metadata": {},
     "output_type": "display_data"
    },
    {
     "data": {
      "text/html": [
       "<table class=\"dataframe\">\n",
       "<caption>A tibble: 6 × 3</caption>\n",
       "<thead>\n",
       "\t<tr><th scope=col>Id</th><th scope=col>ActivityHour</th><th scope=col>Calories</th></tr>\n",
       "\t<tr><th scope=col>&lt;dbl&gt;</th><th scope=col>&lt;chr&gt;</th><th scope=col>&lt;dbl&gt;</th></tr>\n",
       "</thead>\n",
       "<tbody>\n",
       "\t<tr><td>1503960366</td><td>4/12/2016 12:00:00 AM</td><td>81</td></tr>\n",
       "\t<tr><td>1503960366</td><td>4/12/2016 1:00:00 AM </td><td>61</td></tr>\n",
       "\t<tr><td>1503960366</td><td>4/12/2016 2:00:00 AM </td><td>59</td></tr>\n",
       "\t<tr><td>1503960366</td><td>4/12/2016 3:00:00 AM </td><td>47</td></tr>\n",
       "\t<tr><td>1503960366</td><td>4/12/2016 4:00:00 AM </td><td>48</td></tr>\n",
       "\t<tr><td>1503960366</td><td>4/12/2016 5:00:00 AM </td><td>48</td></tr>\n",
       "</tbody>\n",
       "</table>\n"
      ],
      "text/latex": [
       "A tibble: 6 × 3\n",
       "\\begin{tabular}{lll}\n",
       " Id & ActivityHour & Calories\\\\\n",
       " <dbl> & <chr> & <dbl>\\\\\n",
       "\\hline\n",
       "\t 1503960366 & 4/12/2016 12:00:00 AM & 81\\\\\n",
       "\t 1503960366 & 4/12/2016 1:00:00 AM  & 61\\\\\n",
       "\t 1503960366 & 4/12/2016 2:00:00 AM  & 59\\\\\n",
       "\t 1503960366 & 4/12/2016 3:00:00 AM  & 47\\\\\n",
       "\t 1503960366 & 4/12/2016 4:00:00 AM  & 48\\\\\n",
       "\t 1503960366 & 4/12/2016 5:00:00 AM  & 48\\\\\n",
       "\\end{tabular}\n"
      ],
      "text/markdown": [
       "\n",
       "A tibble: 6 × 3\n",
       "\n",
       "| Id &lt;dbl&gt; | ActivityHour &lt;chr&gt; | Calories &lt;dbl&gt; |\n",
       "|---|---|---|\n",
       "| 1503960366 | 4/12/2016 12:00:00 AM | 81 |\n",
       "| 1503960366 | 4/12/2016 1:00:00 AM  | 61 |\n",
       "| 1503960366 | 4/12/2016 2:00:00 AM  | 59 |\n",
       "| 1503960366 | 4/12/2016 3:00:00 AM  | 47 |\n",
       "| 1503960366 | 4/12/2016 4:00:00 AM  | 48 |\n",
       "| 1503960366 | 4/12/2016 5:00:00 AM  | 48 |\n",
       "\n"
      ],
      "text/plain": [
       "  Id         ActivityHour          Calories\n",
       "1 1503960366 4/12/2016 12:00:00 AM 81      \n",
       "2 1503960366 4/12/2016 1:00:00 AM  61      \n",
       "3 1503960366 4/12/2016 2:00:00 AM  59      \n",
       "4 1503960366 4/12/2016 3:00:00 AM  47      \n",
       "5 1503960366 4/12/2016 4:00:00 AM  48      \n",
       "6 1503960366 4/12/2016 5:00:00 AM  48      "
      ]
     },
     "metadata": {},
     "output_type": "display_data"
    },
    {
     "data": {
      "text/html": [
       "<table class=\"dataframe\">\n",
       "<caption>A tibble: 6 × 3</caption>\n",
       "<thead>\n",
       "\t<tr><th scope=col>Id</th><th scope=col>ActivityMinute</th><th scope=col>Calories</th></tr>\n",
       "\t<tr><th scope=col>&lt;dbl&gt;</th><th scope=col>&lt;chr&gt;</th><th scope=col>&lt;dbl&gt;</th></tr>\n",
       "</thead>\n",
       "<tbody>\n",
       "\t<tr><td>1503960366</td><td>4/12/2016 12:00:00 AM</td><td>0.7865</td></tr>\n",
       "\t<tr><td>1503960366</td><td>4/12/2016 12:01:00 AM</td><td>0.7865</td></tr>\n",
       "\t<tr><td>1503960366</td><td>4/12/2016 12:02:00 AM</td><td>0.7865</td></tr>\n",
       "\t<tr><td>1503960366</td><td>4/12/2016 12:03:00 AM</td><td>0.7865</td></tr>\n",
       "\t<tr><td>1503960366</td><td>4/12/2016 12:04:00 AM</td><td>0.7865</td></tr>\n",
       "\t<tr><td>1503960366</td><td>4/12/2016 12:05:00 AM</td><td>0.9438</td></tr>\n",
       "</tbody>\n",
       "</table>\n"
      ],
      "text/latex": [
       "A tibble: 6 × 3\n",
       "\\begin{tabular}{lll}\n",
       " Id & ActivityMinute & Calories\\\\\n",
       " <dbl> & <chr> & <dbl>\\\\\n",
       "\\hline\n",
       "\t 1503960366 & 4/12/2016 12:00:00 AM & 0.7865\\\\\n",
       "\t 1503960366 & 4/12/2016 12:01:00 AM & 0.7865\\\\\n",
       "\t 1503960366 & 4/12/2016 12:02:00 AM & 0.7865\\\\\n",
       "\t 1503960366 & 4/12/2016 12:03:00 AM & 0.7865\\\\\n",
       "\t 1503960366 & 4/12/2016 12:04:00 AM & 0.7865\\\\\n",
       "\t 1503960366 & 4/12/2016 12:05:00 AM & 0.9438\\\\\n",
       "\\end{tabular}\n"
      ],
      "text/markdown": [
       "\n",
       "A tibble: 6 × 3\n",
       "\n",
       "| Id &lt;dbl&gt; | ActivityMinute &lt;chr&gt; | Calories &lt;dbl&gt; |\n",
       "|---|---|---|\n",
       "| 1503960366 | 4/12/2016 12:00:00 AM | 0.7865 |\n",
       "| 1503960366 | 4/12/2016 12:01:00 AM | 0.7865 |\n",
       "| 1503960366 | 4/12/2016 12:02:00 AM | 0.7865 |\n",
       "| 1503960366 | 4/12/2016 12:03:00 AM | 0.7865 |\n",
       "| 1503960366 | 4/12/2016 12:04:00 AM | 0.7865 |\n",
       "| 1503960366 | 4/12/2016 12:05:00 AM | 0.9438 |\n",
       "\n"
      ],
      "text/plain": [
       "  Id         ActivityMinute        Calories\n",
       "1 1503960366 4/12/2016 12:00:00 AM 0.7865  \n",
       "2 1503960366 4/12/2016 12:01:00 AM 0.7865  \n",
       "3 1503960366 4/12/2016 12:02:00 AM 0.7865  \n",
       "4 1503960366 4/12/2016 12:03:00 AM 0.7865  \n",
       "5 1503960366 4/12/2016 12:04:00 AM 0.7865  \n",
       "6 1503960366 4/12/2016 12:05:00 AM 0.9438  "
      ]
     },
     "metadata": {},
     "output_type": "display_data"
    }
   ],
   "source": [
    "head(daily_activity)\n",
    "head(sleep_day_df)\n",
    "head(min_intensities)\n",
    "head(hourly_intensities)\n",
    "head(hourly_calories)\n",
    "head(min_calories)"
   ]
  },
  {
   "cell_type": "markdown",
   "id": "d57a41d9-f450-458e-a67f-d8272608acd8",
   "metadata": {
    "tags": []
   },
   "source": [
    "### 1. Verificación de registros de usuarios y observaciones\n",
    "Los datos recopilados son de 33 usuarios durante 30 días, con lo cual compruebo si los data.frame tienen el mismo numero de registro y mismos usarios"
   ]
  },
  {
   "cell_type": "markdown",
   "id": "6a01e6d5-d0bd-45a7-9865-6896277b1e46",
   "metadata": {},
   "source": [
    "###### 1.1 Verificación registro de informantes cantidad por data.frame"
   ]
  },
  {
   "cell_type": "code",
   "execution_count": 122,
   "id": "3737a533-2d79-406e-85bc-04d99bd39cb3",
   "metadata": {
    "tags": []
   },
   "outputs": [
    {
     "data": {
      "text/html": [
       "33"
      ],
      "text/latex": [
       "33"
      ],
      "text/markdown": [
       "33"
      ],
      "text/plain": [
       "[1] 33"
      ]
     },
     "metadata": {},
     "output_type": "display_data"
    },
    {
     "data": {
      "text/html": [
       "24"
      ],
      "text/latex": [
       "24"
      ],
      "text/markdown": [
       "24"
      ],
      "text/plain": [
       "[1] 24"
      ]
     },
     "metadata": {},
     "output_type": "display_data"
    },
    {
     "data": {
      "text/html": [
       "33"
      ],
      "text/latex": [
       "33"
      ],
      "text/markdown": [
       "33"
      ],
      "text/plain": [
       "[1] 33"
      ]
     },
     "metadata": {},
     "output_type": "display_data"
    },
    {
     "data": {
      "text/html": [
       "33"
      ],
      "text/latex": [
       "33"
      ],
      "text/markdown": [
       "33"
      ],
      "text/plain": [
       "[1] 33"
      ]
     },
     "metadata": {},
     "output_type": "display_data"
    },
    {
     "data": {
      "text/html": [
       "33"
      ],
      "text/latex": [
       "33"
      ],
      "text/markdown": [
       "33"
      ],
      "text/plain": [
       "[1] 33"
      ]
     },
     "metadata": {},
     "output_type": "display_data"
    },
    {
     "data": {
      "text/html": [
       "33"
      ],
      "text/latex": [
       "33"
      ],
      "text/markdown": [
       "33"
      ],
      "text/plain": [
       "[1] 33"
      ]
     },
     "metadata": {},
     "output_type": "display_data"
    }
   ],
   "source": [
    "n_unique(daily_activity$Id)\n",
    "n_unique(sleep_day_df$Id)\n",
    "n_unique(min_intensities$Id)\n",
    "n_unique(hourly_intensities$Id)\n",
    "n_unique(hourly_calories$Id)\n",
    "n_unique(min_calories$Id)"
   ]
  },
  {
   "cell_type": "markdown",
   "id": "1a144705-2326-4010-b992-aad2491794ec",
   "metadata": {},
   "source": [
    "###### 1.2 Verificación casos de informantes duplicados cantidad por data.frame"
   ]
  },
  {
   "cell_type": "code",
   "execution_count": 123,
   "id": "52b3e035-6347-4b2f-a247-c81c5cd12cd2",
   "metadata": {
    "tags": []
   },
   "outputs": [
    {
     "data": {
      "text/html": [
       "0"
      ],
      "text/latex": [
       "0"
      ],
      "text/markdown": [
       "0"
      ],
      "text/plain": [
       "[1] 0"
      ]
     },
     "metadata": {},
     "output_type": "display_data"
    },
    {
     "data": {
      "text/html": [
       "3"
      ],
      "text/latex": [
       "3"
      ],
      "text/markdown": [
       "3"
      ],
      "text/plain": [
       "[1] 3"
      ]
     },
     "metadata": {},
     "output_type": "display_data"
    },
    {
     "data": {
      "text/html": [
       "0"
      ],
      "text/latex": [
       "0"
      ],
      "text/markdown": [
       "0"
      ],
      "text/plain": [
       "[1] 0"
      ]
     },
     "metadata": {},
     "output_type": "display_data"
    },
    {
     "data": {
      "text/html": [
       "0"
      ],
      "text/latex": [
       "0"
      ],
      "text/markdown": [
       "0"
      ],
      "text/plain": [
       "[1] 0"
      ]
     },
     "metadata": {},
     "output_type": "display_data"
    },
    {
     "data": {
      "text/html": [
       "0"
      ],
      "text/latex": [
       "0"
      ],
      "text/markdown": [
       "0"
      ],
      "text/plain": [
       "[1] 0"
      ]
     },
     "metadata": {},
     "output_type": "display_data"
    },
    {
     "data": {
      "text/html": [
       "0"
      ],
      "text/latex": [
       "0"
      ],
      "text/markdown": [
       "0"
      ],
      "text/plain": [
       "[1] 0"
      ]
     },
     "metadata": {},
     "output_type": "display_data"
    }
   ],
   "source": [
    "sum(duplicated(daily_activity))\n",
    "sum(duplicated(sleep_day_df))\n",
    "sum(duplicated(min_intensities))\n",
    "sum(duplicated(hourly_intensities))\n",
    "sum(duplicated(hourly_calories))\n",
    "sum(duplicated(min_calories))"
   ]
  },
  {
   "cell_type": "markdown",
   "id": "b681c02a-921d-47ee-8ac3-60b8596c7ea3",
   "metadata": {},
   "source": [
    "##### Tabla resumen casos únicos y duplicados"
   ]
  },
  {
   "cell_type": "markdown",
   "id": "40500057-73c2-4acf-a5f6-1a5cab32e4b6",
   "metadata": {},
   "source": [
    " Nombre data.frame     | Número se sujetos | Registros duplicados\n",
    "-----------------------|-------------------|----------------------\n",
    "daily_activity         | 33                | 0\n",
    "sleep_day_df           | 24                | 3\n",
    "min_intensities        | 33                | 0\n",
    "hourly_intensities     | 33                | 0\n",
    "hourly_calories        | 33                | 0\n",
    "min_calories           | 33                | 0\n",
    "\n",
    "En este resumen se puede comprobar que el data.frame sleep_day_df tiene 7 sujetos de los que no se tienen registros de tiempo de sueño y adicionalmente de los 24 sujetos existen 3 con registros duplicados con lo cual eliminaré esos registros duplicados."
   ]
  },
  {
   "cell_type": "markdown",
   "id": "04536781-7db1-47c5-a1a0-d036539628ae",
   "metadata": {},
   "source": [
    "###### 1.3 Remover duplicados de la tabla sleep_day_df"
   ]
  },
  {
   "cell_type": "code",
   "execution_count": 124,
   "id": "33cd7056-3e45-4ffd-8e92-ab4238f2a4ba",
   "metadata": {},
   "outputs": [],
   "source": [
    "sleep_day_df <- sleep_day_df %>%\n",
    "  distinct() %>%\n",
    "  drop_na()"
   ]
  },
  {
   "cell_type": "markdown",
   "id": "e108b712-4ed2-4914-898c-d3485b1f7900",
   "metadata": {},
   "source": [
    "### 2. Formateo y estandarización de data.frame\n",
    "La idea es que todas las columnas estén estandarizadas con respectos a sus *nombres*, *espaciado* y el *formato tolower*. Para todos los data.frame la columna que hace referencia a la fecha llevaran el nombre **date** y las que además de incluyen hora, minutos, segundos serán separadas en una nueva columna llamada **time**"
   ]
  },
  {
   "cell_type": "markdown",
   "id": "14753302-fefe-4ee5-b6af-80e069c7f0e5",
   "metadata": {},
   "source": [
    "##### 2.1 Limpiando espaciado columnas"
   ]
  },
  {
   "cell_type": "code",
   "execution_count": 125,
   "id": "68b7c2c0-a935-4113-95c1-44471a4ea165",
   "metadata": {
    "collapsed": true,
    "jupyter": {
     "outputs_hidden": true
    },
    "tags": []
   },
   "outputs": [
    {
     "data": {
      "text/html": [
       "<table class=\"dataframe\">\n",
       "<caption>A spec_tbl_df: 940 × 15</caption>\n",
       "<thead>\n",
       "\t<tr><th scope=col>id</th><th scope=col>activity_date</th><th scope=col>total_steps</th><th scope=col>total_distance</th><th scope=col>tracker_distance</th><th scope=col>logged_activities_distance</th><th scope=col>very_active_distance</th><th scope=col>moderately_active_distance</th><th scope=col>light_active_distance</th><th scope=col>sedentary_active_distance</th><th scope=col>very_active_minutes</th><th scope=col>fairly_active_minutes</th><th scope=col>lightly_active_minutes</th><th scope=col>sedentary_minutes</th><th scope=col>calories</th></tr>\n",
       "\t<tr><th scope=col>&lt;dbl&gt;</th><th scope=col>&lt;chr&gt;</th><th scope=col>&lt;dbl&gt;</th><th scope=col>&lt;dbl&gt;</th><th scope=col>&lt;dbl&gt;</th><th scope=col>&lt;dbl&gt;</th><th scope=col>&lt;dbl&gt;</th><th scope=col>&lt;dbl&gt;</th><th scope=col>&lt;dbl&gt;</th><th scope=col>&lt;dbl&gt;</th><th scope=col>&lt;dbl&gt;</th><th scope=col>&lt;dbl&gt;</th><th scope=col>&lt;dbl&gt;</th><th scope=col>&lt;dbl&gt;</th><th scope=col>&lt;dbl&gt;</th></tr>\n",
       "</thead>\n",
       "<tbody>\n",
       "\t<tr><td>1503960366</td><td>4/12/2016</td><td>13162</td><td> 8.50</td><td> 8.50</td><td>0</td><td>1.88</td><td>0.55</td><td>6.06</td><td>0</td><td>25</td><td>13</td><td>328</td><td> 728</td><td>1985</td></tr>\n",
       "\t<tr><td>1503960366</td><td>4/13/2016</td><td>10735</td><td> 6.97</td><td> 6.97</td><td>0</td><td>1.57</td><td>0.69</td><td>4.71</td><td>0</td><td>21</td><td>19</td><td>217</td><td> 776</td><td>1797</td></tr>\n",
       "\t<tr><td>1503960366</td><td>4/14/2016</td><td>10460</td><td> 6.74</td><td> 6.74</td><td>0</td><td>2.44</td><td>0.40</td><td>3.91</td><td>0</td><td>30</td><td>11</td><td>181</td><td>1218</td><td>1776</td></tr>\n",
       "\t<tr><td>1503960366</td><td>4/15/2016</td><td> 9762</td><td> 6.28</td><td> 6.28</td><td>0</td><td>2.14</td><td>1.26</td><td>2.83</td><td>0</td><td>29</td><td>34</td><td>209</td><td> 726</td><td>1745</td></tr>\n",
       "\t<tr><td>1503960366</td><td>4/16/2016</td><td>12669</td><td> 8.16</td><td> 8.16</td><td>0</td><td>2.71</td><td>0.41</td><td>5.04</td><td>0</td><td>36</td><td>10</td><td>221</td><td> 773</td><td>1863</td></tr>\n",
       "\t<tr><td>1503960366</td><td>4/17/2016</td><td> 9705</td><td> 6.48</td><td> 6.48</td><td>0</td><td>3.19</td><td>0.78</td><td>2.51</td><td>0</td><td>38</td><td>20</td><td>164</td><td> 539</td><td>1728</td></tr>\n",
       "\t<tr><td>1503960366</td><td>4/18/2016</td><td>13019</td><td> 8.59</td><td> 8.59</td><td>0</td><td>3.25</td><td>0.64</td><td>4.71</td><td>0</td><td>42</td><td>16</td><td>233</td><td>1149</td><td>1921</td></tr>\n",
       "\t<tr><td>1503960366</td><td>4/19/2016</td><td>15506</td><td> 9.88</td><td> 9.88</td><td>0</td><td>3.53</td><td>1.32</td><td>5.03</td><td>0</td><td>50</td><td>31</td><td>264</td><td> 775</td><td>2035</td></tr>\n",
       "\t<tr><td>1503960366</td><td>4/20/2016</td><td>10544</td><td> 6.68</td><td> 6.68</td><td>0</td><td>1.96</td><td>0.48</td><td>4.24</td><td>0</td><td>28</td><td>12</td><td>205</td><td> 818</td><td>1786</td></tr>\n",
       "\t<tr><td>1503960366</td><td>4/21/2016</td><td> 9819</td><td> 6.34</td><td> 6.34</td><td>0</td><td>1.34</td><td>0.35</td><td>4.65</td><td>0</td><td>19</td><td> 8</td><td>211</td><td> 838</td><td>1775</td></tr>\n",
       "\t<tr><td>1503960366</td><td>4/22/2016</td><td>12764</td><td> 8.13</td><td> 8.13</td><td>0</td><td>4.76</td><td>1.12</td><td>2.24</td><td>0</td><td>66</td><td>27</td><td>130</td><td>1217</td><td>1827</td></tr>\n",
       "\t<tr><td>1503960366</td><td>4/23/2016</td><td>14371</td><td> 9.04</td><td> 9.04</td><td>0</td><td>2.81</td><td>0.87</td><td>5.36</td><td>0</td><td>41</td><td>21</td><td>262</td><td> 732</td><td>1949</td></tr>\n",
       "\t<tr><td>1503960366</td><td>4/24/2016</td><td>10039</td><td> 6.41</td><td> 6.41</td><td>0</td><td>2.92</td><td>0.21</td><td>3.28</td><td>0</td><td>39</td><td> 5</td><td>238</td><td> 709</td><td>1788</td></tr>\n",
       "\t<tr><td>1503960366</td><td>4/25/2016</td><td>15355</td><td> 9.80</td><td> 9.80</td><td>0</td><td>5.29</td><td>0.57</td><td>3.94</td><td>0</td><td>73</td><td>14</td><td>216</td><td> 814</td><td>2013</td></tr>\n",
       "\t<tr><td>1503960366</td><td>4/26/2016</td><td>13755</td><td> 8.79</td><td> 8.79</td><td>0</td><td>2.33</td><td>0.92</td><td>5.54</td><td>0</td><td>31</td><td>23</td><td>279</td><td> 833</td><td>1970</td></tr>\n",
       "\t<tr><td>1503960366</td><td>4/27/2016</td><td>18134</td><td>12.21</td><td>12.21</td><td>0</td><td>6.40</td><td>0.41</td><td>5.41</td><td>0</td><td>78</td><td>11</td><td>243</td><td>1108</td><td>2159</td></tr>\n",
       "\t<tr><td>1503960366</td><td>4/28/2016</td><td>13154</td><td> 8.53</td><td> 8.53</td><td>0</td><td>3.54</td><td>1.16</td><td>3.79</td><td>0</td><td>48</td><td>28</td><td>189</td><td> 782</td><td>1898</td></tr>\n",
       "\t<tr><td>1503960366</td><td>4/29/2016</td><td>11181</td><td> 7.15</td><td> 7.15</td><td>0</td><td>1.06</td><td>0.50</td><td>5.58</td><td>0</td><td>16</td><td>12</td><td>243</td><td> 815</td><td>1837</td></tr>\n",
       "\t<tr><td>1503960366</td><td>4/30/2016</td><td>14673</td><td> 9.25</td><td> 9.25</td><td>0</td><td>3.56</td><td>1.42</td><td>4.27</td><td>0</td><td>52</td><td>34</td><td>217</td><td> 712</td><td>1947</td></tr>\n",
       "\t<tr><td>1503960366</td><td>5/1/2016 </td><td>10602</td><td> 6.81</td><td> 6.81</td><td>0</td><td>2.29</td><td>1.60</td><td>2.92</td><td>0</td><td>33</td><td>35</td><td>246</td><td> 730</td><td>1820</td></tr>\n",
       "\t<tr><td>1503960366</td><td>5/2/2016 </td><td>14727</td><td> 9.71</td><td> 9.71</td><td>0</td><td>3.21</td><td>0.57</td><td>5.92</td><td>0</td><td>41</td><td>15</td><td>277</td><td> 798</td><td>2004</td></tr>\n",
       "\t<tr><td>1503960366</td><td>5/3/2016 </td><td>15103</td><td> 9.66</td><td> 9.66</td><td>0</td><td>3.73</td><td>1.05</td><td>4.88</td><td>0</td><td>50</td><td>24</td><td>254</td><td> 816</td><td>1990</td></tr>\n",
       "\t<tr><td>1503960366</td><td>5/4/2016 </td><td>11100</td><td> 7.15</td><td> 7.15</td><td>0</td><td>2.46</td><td>0.87</td><td>3.82</td><td>0</td><td>36</td><td>22</td><td>203</td><td>1179</td><td>1819</td></tr>\n",
       "\t<tr><td>1503960366</td><td>5/5/2016 </td><td>14070</td><td> 8.90</td><td> 8.90</td><td>0</td><td>2.92</td><td>1.08</td><td>4.88</td><td>0</td><td>45</td><td>24</td><td>250</td><td> 857</td><td>1959</td></tr>\n",
       "\t<tr><td>1503960366</td><td>5/6/2016 </td><td>12159</td><td> 8.03</td><td> 8.03</td><td>0</td><td>1.97</td><td>0.25</td><td>5.81</td><td>0</td><td>24</td><td> 6</td><td>289</td><td> 754</td><td>1896</td></tr>\n",
       "\t<tr><td>1503960366</td><td>5/7/2016 </td><td>11992</td><td> 7.71</td><td> 7.71</td><td>0</td><td>2.46</td><td>2.12</td><td>3.13</td><td>0</td><td>37</td><td>46</td><td>175</td><td> 833</td><td>1821</td></tr>\n",
       "\t<tr><td>1503960366</td><td>5/8/2016 </td><td>10060</td><td> 6.58</td><td> 6.58</td><td>0</td><td>3.53</td><td>0.32</td><td>2.73</td><td>0</td><td>44</td><td> 8</td><td>203</td><td> 574</td><td>1740</td></tr>\n",
       "\t<tr><td>1503960366</td><td>5/9/2016 </td><td>12022</td><td> 7.72</td><td> 7.72</td><td>0</td><td>3.45</td><td>0.53</td><td>3.74</td><td>0</td><td>46</td><td>11</td><td>206</td><td> 835</td><td>1819</td></tr>\n",
       "\t<tr><td>1503960366</td><td>5/10/2016</td><td>12207</td><td> 7.77</td><td> 7.77</td><td>0</td><td>3.35</td><td>1.16</td><td>3.26</td><td>0</td><td>46</td><td>31</td><td>214</td><td> 746</td><td>1859</td></tr>\n",
       "\t<tr><td>1503960366</td><td>5/11/2016</td><td>12770</td><td> 8.13</td><td> 8.13</td><td>0</td><td>2.56</td><td>1.01</td><td>4.55</td><td>0</td><td>36</td><td>23</td><td>251</td><td> 669</td><td>1783</td></tr>\n",
       "\t<tr><td>⋮</td><td>⋮</td><td>⋮</td><td>⋮</td><td>⋮</td><td>⋮</td><td>⋮</td><td>⋮</td><td>⋮</td><td>⋮</td><td>⋮</td><td>⋮</td><td>⋮</td><td>⋮</td><td>⋮</td></tr>\n",
       "\t<tr><td>8877689391</td><td>4/13/2016</td><td>15337</td><td> 9.58</td><td> 9.58</td><td>0</td><td> 3.55</td><td>0.38</td><td> 5.64</td><td>0.00</td><td>108</td><td>18</td><td>216</td><td>1098</td><td>3566</td></tr>\n",
       "\t<tr><td>8877689391</td><td>4/14/2016</td><td>21129</td><td>18.98</td><td>18.98</td><td>0</td><td>10.55</td><td>0.59</td><td> 7.75</td><td>0.02</td><td> 68</td><td>13</td><td>298</td><td>1061</td><td>3793</td></tr>\n",
       "\t<tr><td>8877689391</td><td>4/15/2016</td><td>13422</td><td> 7.17</td><td> 7.17</td><td>0</td><td> 0.05</td><td>0.05</td><td> 7.01</td><td>0.01</td><td>106</td><td> 1</td><td>281</td><td>1052</td><td>3934</td></tr>\n",
       "\t<tr><td>8877689391</td><td>4/16/2016</td><td>29326</td><td>25.29</td><td>25.29</td><td>0</td><td>13.24</td><td>1.21</td><td>10.71</td><td>0.00</td><td> 94</td><td>29</td><td>429</td><td> 888</td><td>4547</td></tr>\n",
       "\t<tr><td>8877689391</td><td>4/17/2016</td><td>15118</td><td> 8.87</td><td> 8.87</td><td>0</td><td> 0.00</td><td>0.07</td><td> 8.79</td><td>0.00</td><td> 58</td><td>15</td><td>307</td><td>1060</td><td>3545</td></tr>\n",
       "\t<tr><td>8877689391</td><td>4/18/2016</td><td>11423</td><td> 8.67</td><td> 8.67</td><td>0</td><td> 2.44</td><td>0.27</td><td> 5.94</td><td>0.00</td><td> 29</td><td> 5</td><td>191</td><td>1215</td><td>2761</td></tr>\n",
       "\t<tr><td>8877689391</td><td>4/19/2016</td><td>18785</td><td>17.40</td><td>17.40</td><td>0</td><td>12.15</td><td>0.18</td><td> 5.03</td><td>0.00</td><td> 82</td><td>13</td><td>214</td><td>1131</td><td>3676</td></tr>\n",
       "\t<tr><td>8877689391</td><td>4/20/2016</td><td>19948</td><td>18.11</td><td>18.11</td><td>0</td><td>11.02</td><td>0.69</td><td> 6.34</td><td>0.00</td><td> 73</td><td>19</td><td>225</td><td>1123</td><td>3679</td></tr>\n",
       "\t<tr><td>8877689391</td><td>4/21/2016</td><td>19377</td><td>17.62</td><td>17.62</td><td>0</td><td>12.29</td><td>0.42</td><td> 4.89</td><td>0.00</td><td> 82</td><td>13</td><td>226</td><td>1119</td><td>3659</td></tr>\n",
       "\t<tr><td>8877689391</td><td>4/22/2016</td><td>18258</td><td>16.31</td><td>16.31</td><td>0</td><td>10.23</td><td>0.03</td><td> 5.97</td><td>0.05</td><td> 61</td><td> 2</td><td>236</td><td>1141</td><td>3427</td></tr>\n",
       "\t<tr><td>8877689391</td><td>4/23/2016</td><td>11200</td><td> 7.43</td><td> 7.43</td><td>0</td><td> 0.00</td><td>0.00</td><td> 7.40</td><td>0.01</td><td>102</td><td> 6</td><td>300</td><td>1032</td><td>3891</td></tr>\n",
       "\t<tr><td>8877689391</td><td>4/24/2016</td><td>16674</td><td>15.74</td><td>15.74</td><td>0</td><td>11.01</td><td>0.01</td><td> 4.69</td><td>0.00</td><td> 64</td><td> 1</td><td>227</td><td>1148</td><td>3455</td></tr>\n",
       "\t<tr><td>8877689391</td><td>4/25/2016</td><td>12986</td><td> 8.74</td><td> 8.74</td><td>0</td><td> 2.37</td><td>0.07</td><td> 6.27</td><td>0.01</td><td>113</td><td> 8</td><td>218</td><td>1101</td><td>3802</td></tr>\n",
       "\t<tr><td>8877689391</td><td>4/26/2016</td><td>11101</td><td> 8.43</td><td> 8.43</td><td>0</td><td> 1.76</td><td>0.13</td><td> 6.50</td><td>0.00</td><td> 22</td><td> 3</td><td>258</td><td>1157</td><td>2860</td></tr>\n",
       "\t<tr><td>8877689391</td><td>4/27/2016</td><td>23629</td><td>20.65</td><td>20.65</td><td>0</td><td>13.07</td><td>0.44</td><td> 7.10</td><td>0.00</td><td> 93</td><td> 8</td><td>235</td><td>1104</td><td>3808</td></tr>\n",
       "\t<tr><td>8877689391</td><td>4/28/2016</td><td>14890</td><td>11.30</td><td>11.30</td><td>0</td><td> 4.93</td><td>0.38</td><td> 5.97</td><td>0.00</td><td> 58</td><td> 8</td><td>231</td><td>1143</td><td>3060</td></tr>\n",
       "\t<tr><td>8877689391</td><td>4/29/2016</td><td> 9733</td><td> 7.39</td><td> 7.39</td><td>0</td><td> 1.38</td><td>0.17</td><td> 5.79</td><td>0.00</td><td> 18</td><td> 5</td><td>210</td><td>1207</td><td>2698</td></tr>\n",
       "\t<tr><td>8877689391</td><td>4/30/2016</td><td>27745</td><td>26.72</td><td>26.72</td><td>0</td><td>21.66</td><td>0.08</td><td> 4.93</td><td>0.00</td><td>124</td><td> 4</td><td>223</td><td>1089</td><td>4398</td></tr>\n",
       "\t<tr><td>8877689391</td><td>5/1/2016 </td><td>10930</td><td> 8.32</td><td> 8.32</td><td>0</td><td> 3.13</td><td>0.57</td><td> 4.57</td><td>0.00</td><td> 36</td><td>12</td><td>166</td><td>1226</td><td>2786</td></tr>\n",
       "\t<tr><td>8877689391</td><td>5/2/2016 </td><td> 4790</td><td> 3.64</td><td> 3.64</td><td>0</td><td> 0.00</td><td>0.00</td><td> 3.56</td><td>0.00</td><td>  0</td><td> 0</td><td>105</td><td>1335</td><td>2189</td></tr>\n",
       "\t<tr><td>8877689391</td><td>5/3/2016 </td><td>10818</td><td> 8.21</td><td> 8.21</td><td>0</td><td> 1.39</td><td>0.10</td><td> 6.67</td><td>0.01</td><td> 19</td><td> 3</td><td>229</td><td>1189</td><td>2817</td></tr>\n",
       "\t<tr><td>8877689391</td><td>5/4/2016 </td><td>18193</td><td>16.30</td><td>16.30</td><td>0</td><td>10.42</td><td>0.31</td><td> 5.53</td><td>0.00</td><td> 66</td><td> 8</td><td>212</td><td>1154</td><td>3477</td></tr>\n",
       "\t<tr><td>8877689391</td><td>5/5/2016 </td><td>14055</td><td>10.67</td><td>10.67</td><td>0</td><td> 5.46</td><td>0.82</td><td> 4.37</td><td>0.00</td><td> 67</td><td>15</td><td>188</td><td>1170</td><td>3052</td></tr>\n",
       "\t<tr><td>8877689391</td><td>5/6/2016 </td><td>21727</td><td>19.34</td><td>19.34</td><td>0</td><td>12.79</td><td>0.29</td><td> 6.16</td><td>0.00</td><td> 96</td><td>17</td><td>232</td><td>1095</td><td>4015</td></tr>\n",
       "\t<tr><td>8877689391</td><td>5/7/2016 </td><td>12332</td><td> 8.13</td><td> 8.13</td><td>0</td><td> 0.08</td><td>0.96</td><td> 6.99</td><td>0.00</td><td>105</td><td>28</td><td>271</td><td>1036</td><td>4142</td></tr>\n",
       "\t<tr><td>8877689391</td><td>5/8/2016 </td><td>10686</td><td> 8.11</td><td> 8.11</td><td>0</td><td> 1.08</td><td>0.20</td><td> 6.80</td><td>0.00</td><td> 17</td><td> 4</td><td>245</td><td>1174</td><td>2847</td></tr>\n",
       "\t<tr><td>8877689391</td><td>5/9/2016 </td><td>20226</td><td>18.25</td><td>18.25</td><td>0</td><td>11.10</td><td>0.80</td><td> 6.24</td><td>0.05</td><td> 73</td><td>19</td><td>217</td><td>1131</td><td>3710</td></tr>\n",
       "\t<tr><td>8877689391</td><td>5/10/2016</td><td>10733</td><td> 8.15</td><td> 8.15</td><td>0</td><td> 1.35</td><td>0.46</td><td> 6.28</td><td>0.00</td><td> 18</td><td>11</td><td>224</td><td>1187</td><td>2832</td></tr>\n",
       "\t<tr><td>8877689391</td><td>5/11/2016</td><td>21420</td><td>19.56</td><td>19.56</td><td>0</td><td>13.22</td><td>0.41</td><td> 5.89</td><td>0.00</td><td> 88</td><td>12</td><td>213</td><td>1127</td><td>3832</td></tr>\n",
       "\t<tr><td>8877689391</td><td>5/12/2016</td><td> 8064</td><td> 6.12</td><td> 6.12</td><td>0</td><td> 1.82</td><td>0.04</td><td> 4.25</td><td>0.00</td><td> 23</td><td> 1</td><td>137</td><td> 770</td><td>1849</td></tr>\n",
       "</tbody>\n",
       "</table>\n"
      ],
      "text/latex": [
       "A spec\\_tbl\\_df: 940 × 15\n",
       "\\begin{tabular}{lllllllllllllll}\n",
       " id & activity\\_date & total\\_steps & total\\_distance & tracker\\_distance & logged\\_activities\\_distance & very\\_active\\_distance & moderately\\_active\\_distance & light\\_active\\_distance & sedentary\\_active\\_distance & very\\_active\\_minutes & fairly\\_active\\_minutes & lightly\\_active\\_minutes & sedentary\\_minutes & calories\\\\\n",
       " <dbl> & <chr> & <dbl> & <dbl> & <dbl> & <dbl> & <dbl> & <dbl> & <dbl> & <dbl> & <dbl> & <dbl> & <dbl> & <dbl> & <dbl>\\\\\n",
       "\\hline\n",
       "\t 1503960366 & 4/12/2016 & 13162 &  8.50 &  8.50 & 0 & 1.88 & 0.55 & 6.06 & 0 & 25 & 13 & 328 &  728 & 1985\\\\\n",
       "\t 1503960366 & 4/13/2016 & 10735 &  6.97 &  6.97 & 0 & 1.57 & 0.69 & 4.71 & 0 & 21 & 19 & 217 &  776 & 1797\\\\\n",
       "\t 1503960366 & 4/14/2016 & 10460 &  6.74 &  6.74 & 0 & 2.44 & 0.40 & 3.91 & 0 & 30 & 11 & 181 & 1218 & 1776\\\\\n",
       "\t 1503960366 & 4/15/2016 &  9762 &  6.28 &  6.28 & 0 & 2.14 & 1.26 & 2.83 & 0 & 29 & 34 & 209 &  726 & 1745\\\\\n",
       "\t 1503960366 & 4/16/2016 & 12669 &  8.16 &  8.16 & 0 & 2.71 & 0.41 & 5.04 & 0 & 36 & 10 & 221 &  773 & 1863\\\\\n",
       "\t 1503960366 & 4/17/2016 &  9705 &  6.48 &  6.48 & 0 & 3.19 & 0.78 & 2.51 & 0 & 38 & 20 & 164 &  539 & 1728\\\\\n",
       "\t 1503960366 & 4/18/2016 & 13019 &  8.59 &  8.59 & 0 & 3.25 & 0.64 & 4.71 & 0 & 42 & 16 & 233 & 1149 & 1921\\\\\n",
       "\t 1503960366 & 4/19/2016 & 15506 &  9.88 &  9.88 & 0 & 3.53 & 1.32 & 5.03 & 0 & 50 & 31 & 264 &  775 & 2035\\\\\n",
       "\t 1503960366 & 4/20/2016 & 10544 &  6.68 &  6.68 & 0 & 1.96 & 0.48 & 4.24 & 0 & 28 & 12 & 205 &  818 & 1786\\\\\n",
       "\t 1503960366 & 4/21/2016 &  9819 &  6.34 &  6.34 & 0 & 1.34 & 0.35 & 4.65 & 0 & 19 &  8 & 211 &  838 & 1775\\\\\n",
       "\t 1503960366 & 4/22/2016 & 12764 &  8.13 &  8.13 & 0 & 4.76 & 1.12 & 2.24 & 0 & 66 & 27 & 130 & 1217 & 1827\\\\\n",
       "\t 1503960366 & 4/23/2016 & 14371 &  9.04 &  9.04 & 0 & 2.81 & 0.87 & 5.36 & 0 & 41 & 21 & 262 &  732 & 1949\\\\\n",
       "\t 1503960366 & 4/24/2016 & 10039 &  6.41 &  6.41 & 0 & 2.92 & 0.21 & 3.28 & 0 & 39 &  5 & 238 &  709 & 1788\\\\\n",
       "\t 1503960366 & 4/25/2016 & 15355 &  9.80 &  9.80 & 0 & 5.29 & 0.57 & 3.94 & 0 & 73 & 14 & 216 &  814 & 2013\\\\\n",
       "\t 1503960366 & 4/26/2016 & 13755 &  8.79 &  8.79 & 0 & 2.33 & 0.92 & 5.54 & 0 & 31 & 23 & 279 &  833 & 1970\\\\\n",
       "\t 1503960366 & 4/27/2016 & 18134 & 12.21 & 12.21 & 0 & 6.40 & 0.41 & 5.41 & 0 & 78 & 11 & 243 & 1108 & 2159\\\\\n",
       "\t 1503960366 & 4/28/2016 & 13154 &  8.53 &  8.53 & 0 & 3.54 & 1.16 & 3.79 & 0 & 48 & 28 & 189 &  782 & 1898\\\\\n",
       "\t 1503960366 & 4/29/2016 & 11181 &  7.15 &  7.15 & 0 & 1.06 & 0.50 & 5.58 & 0 & 16 & 12 & 243 &  815 & 1837\\\\\n",
       "\t 1503960366 & 4/30/2016 & 14673 &  9.25 &  9.25 & 0 & 3.56 & 1.42 & 4.27 & 0 & 52 & 34 & 217 &  712 & 1947\\\\\n",
       "\t 1503960366 & 5/1/2016  & 10602 &  6.81 &  6.81 & 0 & 2.29 & 1.60 & 2.92 & 0 & 33 & 35 & 246 &  730 & 1820\\\\\n",
       "\t 1503960366 & 5/2/2016  & 14727 &  9.71 &  9.71 & 0 & 3.21 & 0.57 & 5.92 & 0 & 41 & 15 & 277 &  798 & 2004\\\\\n",
       "\t 1503960366 & 5/3/2016  & 15103 &  9.66 &  9.66 & 0 & 3.73 & 1.05 & 4.88 & 0 & 50 & 24 & 254 &  816 & 1990\\\\\n",
       "\t 1503960366 & 5/4/2016  & 11100 &  7.15 &  7.15 & 0 & 2.46 & 0.87 & 3.82 & 0 & 36 & 22 & 203 & 1179 & 1819\\\\\n",
       "\t 1503960366 & 5/5/2016  & 14070 &  8.90 &  8.90 & 0 & 2.92 & 1.08 & 4.88 & 0 & 45 & 24 & 250 &  857 & 1959\\\\\n",
       "\t 1503960366 & 5/6/2016  & 12159 &  8.03 &  8.03 & 0 & 1.97 & 0.25 & 5.81 & 0 & 24 &  6 & 289 &  754 & 1896\\\\\n",
       "\t 1503960366 & 5/7/2016  & 11992 &  7.71 &  7.71 & 0 & 2.46 & 2.12 & 3.13 & 0 & 37 & 46 & 175 &  833 & 1821\\\\\n",
       "\t 1503960366 & 5/8/2016  & 10060 &  6.58 &  6.58 & 0 & 3.53 & 0.32 & 2.73 & 0 & 44 &  8 & 203 &  574 & 1740\\\\\n",
       "\t 1503960366 & 5/9/2016  & 12022 &  7.72 &  7.72 & 0 & 3.45 & 0.53 & 3.74 & 0 & 46 & 11 & 206 &  835 & 1819\\\\\n",
       "\t 1503960366 & 5/10/2016 & 12207 &  7.77 &  7.77 & 0 & 3.35 & 1.16 & 3.26 & 0 & 46 & 31 & 214 &  746 & 1859\\\\\n",
       "\t 1503960366 & 5/11/2016 & 12770 &  8.13 &  8.13 & 0 & 2.56 & 1.01 & 4.55 & 0 & 36 & 23 & 251 &  669 & 1783\\\\\n",
       "\t ⋮ & ⋮ & ⋮ & ⋮ & ⋮ & ⋮ & ⋮ & ⋮ & ⋮ & ⋮ & ⋮ & ⋮ & ⋮ & ⋮ & ⋮\\\\\n",
       "\t 8877689391 & 4/13/2016 & 15337 &  9.58 &  9.58 & 0 &  3.55 & 0.38 &  5.64 & 0.00 & 108 & 18 & 216 & 1098 & 3566\\\\\n",
       "\t 8877689391 & 4/14/2016 & 21129 & 18.98 & 18.98 & 0 & 10.55 & 0.59 &  7.75 & 0.02 &  68 & 13 & 298 & 1061 & 3793\\\\\n",
       "\t 8877689391 & 4/15/2016 & 13422 &  7.17 &  7.17 & 0 &  0.05 & 0.05 &  7.01 & 0.01 & 106 &  1 & 281 & 1052 & 3934\\\\\n",
       "\t 8877689391 & 4/16/2016 & 29326 & 25.29 & 25.29 & 0 & 13.24 & 1.21 & 10.71 & 0.00 &  94 & 29 & 429 &  888 & 4547\\\\\n",
       "\t 8877689391 & 4/17/2016 & 15118 &  8.87 &  8.87 & 0 &  0.00 & 0.07 &  8.79 & 0.00 &  58 & 15 & 307 & 1060 & 3545\\\\\n",
       "\t 8877689391 & 4/18/2016 & 11423 &  8.67 &  8.67 & 0 &  2.44 & 0.27 &  5.94 & 0.00 &  29 &  5 & 191 & 1215 & 2761\\\\\n",
       "\t 8877689391 & 4/19/2016 & 18785 & 17.40 & 17.40 & 0 & 12.15 & 0.18 &  5.03 & 0.00 &  82 & 13 & 214 & 1131 & 3676\\\\\n",
       "\t 8877689391 & 4/20/2016 & 19948 & 18.11 & 18.11 & 0 & 11.02 & 0.69 &  6.34 & 0.00 &  73 & 19 & 225 & 1123 & 3679\\\\\n",
       "\t 8877689391 & 4/21/2016 & 19377 & 17.62 & 17.62 & 0 & 12.29 & 0.42 &  4.89 & 0.00 &  82 & 13 & 226 & 1119 & 3659\\\\\n",
       "\t 8877689391 & 4/22/2016 & 18258 & 16.31 & 16.31 & 0 & 10.23 & 0.03 &  5.97 & 0.05 &  61 &  2 & 236 & 1141 & 3427\\\\\n",
       "\t 8877689391 & 4/23/2016 & 11200 &  7.43 &  7.43 & 0 &  0.00 & 0.00 &  7.40 & 0.01 & 102 &  6 & 300 & 1032 & 3891\\\\\n",
       "\t 8877689391 & 4/24/2016 & 16674 & 15.74 & 15.74 & 0 & 11.01 & 0.01 &  4.69 & 0.00 &  64 &  1 & 227 & 1148 & 3455\\\\\n",
       "\t 8877689391 & 4/25/2016 & 12986 &  8.74 &  8.74 & 0 &  2.37 & 0.07 &  6.27 & 0.01 & 113 &  8 & 218 & 1101 & 3802\\\\\n",
       "\t 8877689391 & 4/26/2016 & 11101 &  8.43 &  8.43 & 0 &  1.76 & 0.13 &  6.50 & 0.00 &  22 &  3 & 258 & 1157 & 2860\\\\\n",
       "\t 8877689391 & 4/27/2016 & 23629 & 20.65 & 20.65 & 0 & 13.07 & 0.44 &  7.10 & 0.00 &  93 &  8 & 235 & 1104 & 3808\\\\\n",
       "\t 8877689391 & 4/28/2016 & 14890 & 11.30 & 11.30 & 0 &  4.93 & 0.38 &  5.97 & 0.00 &  58 &  8 & 231 & 1143 & 3060\\\\\n",
       "\t 8877689391 & 4/29/2016 &  9733 &  7.39 &  7.39 & 0 &  1.38 & 0.17 &  5.79 & 0.00 &  18 &  5 & 210 & 1207 & 2698\\\\\n",
       "\t 8877689391 & 4/30/2016 & 27745 & 26.72 & 26.72 & 0 & 21.66 & 0.08 &  4.93 & 0.00 & 124 &  4 & 223 & 1089 & 4398\\\\\n",
       "\t 8877689391 & 5/1/2016  & 10930 &  8.32 &  8.32 & 0 &  3.13 & 0.57 &  4.57 & 0.00 &  36 & 12 & 166 & 1226 & 2786\\\\\n",
       "\t 8877689391 & 5/2/2016  &  4790 &  3.64 &  3.64 & 0 &  0.00 & 0.00 &  3.56 & 0.00 &   0 &  0 & 105 & 1335 & 2189\\\\\n",
       "\t 8877689391 & 5/3/2016  & 10818 &  8.21 &  8.21 & 0 &  1.39 & 0.10 &  6.67 & 0.01 &  19 &  3 & 229 & 1189 & 2817\\\\\n",
       "\t 8877689391 & 5/4/2016  & 18193 & 16.30 & 16.30 & 0 & 10.42 & 0.31 &  5.53 & 0.00 &  66 &  8 & 212 & 1154 & 3477\\\\\n",
       "\t 8877689391 & 5/5/2016  & 14055 & 10.67 & 10.67 & 0 &  5.46 & 0.82 &  4.37 & 0.00 &  67 & 15 & 188 & 1170 & 3052\\\\\n",
       "\t 8877689391 & 5/6/2016  & 21727 & 19.34 & 19.34 & 0 & 12.79 & 0.29 &  6.16 & 0.00 &  96 & 17 & 232 & 1095 & 4015\\\\\n",
       "\t 8877689391 & 5/7/2016  & 12332 &  8.13 &  8.13 & 0 &  0.08 & 0.96 &  6.99 & 0.00 & 105 & 28 & 271 & 1036 & 4142\\\\\n",
       "\t 8877689391 & 5/8/2016  & 10686 &  8.11 &  8.11 & 0 &  1.08 & 0.20 &  6.80 & 0.00 &  17 &  4 & 245 & 1174 & 2847\\\\\n",
       "\t 8877689391 & 5/9/2016  & 20226 & 18.25 & 18.25 & 0 & 11.10 & 0.80 &  6.24 & 0.05 &  73 & 19 & 217 & 1131 & 3710\\\\\n",
       "\t 8877689391 & 5/10/2016 & 10733 &  8.15 &  8.15 & 0 &  1.35 & 0.46 &  6.28 & 0.00 &  18 & 11 & 224 & 1187 & 2832\\\\\n",
       "\t 8877689391 & 5/11/2016 & 21420 & 19.56 & 19.56 & 0 & 13.22 & 0.41 &  5.89 & 0.00 &  88 & 12 & 213 & 1127 & 3832\\\\\n",
       "\t 8877689391 & 5/12/2016 &  8064 &  6.12 &  6.12 & 0 &  1.82 & 0.04 &  4.25 & 0.00 &  23 &  1 & 137 &  770 & 1849\\\\\n",
       "\\end{tabular}\n"
      ],
      "text/markdown": [
       "\n",
       "A spec_tbl_df: 940 × 15\n",
       "\n",
       "| id &lt;dbl&gt; | activity_date &lt;chr&gt; | total_steps &lt;dbl&gt; | total_distance &lt;dbl&gt; | tracker_distance &lt;dbl&gt; | logged_activities_distance &lt;dbl&gt; | very_active_distance &lt;dbl&gt; | moderately_active_distance &lt;dbl&gt; | light_active_distance &lt;dbl&gt; | sedentary_active_distance &lt;dbl&gt; | very_active_minutes &lt;dbl&gt; | fairly_active_minutes &lt;dbl&gt; | lightly_active_minutes &lt;dbl&gt; | sedentary_minutes &lt;dbl&gt; | calories &lt;dbl&gt; |\n",
       "|---|---|---|---|---|---|---|---|---|---|---|---|---|---|---|\n",
       "| 1503960366 | 4/12/2016 | 13162 |  8.50 |  8.50 | 0 | 1.88 | 0.55 | 6.06 | 0 | 25 | 13 | 328 |  728 | 1985 |\n",
       "| 1503960366 | 4/13/2016 | 10735 |  6.97 |  6.97 | 0 | 1.57 | 0.69 | 4.71 | 0 | 21 | 19 | 217 |  776 | 1797 |\n",
       "| 1503960366 | 4/14/2016 | 10460 |  6.74 |  6.74 | 0 | 2.44 | 0.40 | 3.91 | 0 | 30 | 11 | 181 | 1218 | 1776 |\n",
       "| 1503960366 | 4/15/2016 |  9762 |  6.28 |  6.28 | 0 | 2.14 | 1.26 | 2.83 | 0 | 29 | 34 | 209 |  726 | 1745 |\n",
       "| 1503960366 | 4/16/2016 | 12669 |  8.16 |  8.16 | 0 | 2.71 | 0.41 | 5.04 | 0 | 36 | 10 | 221 |  773 | 1863 |\n",
       "| 1503960366 | 4/17/2016 |  9705 |  6.48 |  6.48 | 0 | 3.19 | 0.78 | 2.51 | 0 | 38 | 20 | 164 |  539 | 1728 |\n",
       "| 1503960366 | 4/18/2016 | 13019 |  8.59 |  8.59 | 0 | 3.25 | 0.64 | 4.71 | 0 | 42 | 16 | 233 | 1149 | 1921 |\n",
       "| 1503960366 | 4/19/2016 | 15506 |  9.88 |  9.88 | 0 | 3.53 | 1.32 | 5.03 | 0 | 50 | 31 | 264 |  775 | 2035 |\n",
       "| 1503960366 | 4/20/2016 | 10544 |  6.68 |  6.68 | 0 | 1.96 | 0.48 | 4.24 | 0 | 28 | 12 | 205 |  818 | 1786 |\n",
       "| 1503960366 | 4/21/2016 |  9819 |  6.34 |  6.34 | 0 | 1.34 | 0.35 | 4.65 | 0 | 19 |  8 | 211 |  838 | 1775 |\n",
       "| 1503960366 | 4/22/2016 | 12764 |  8.13 |  8.13 | 0 | 4.76 | 1.12 | 2.24 | 0 | 66 | 27 | 130 | 1217 | 1827 |\n",
       "| 1503960366 | 4/23/2016 | 14371 |  9.04 |  9.04 | 0 | 2.81 | 0.87 | 5.36 | 0 | 41 | 21 | 262 |  732 | 1949 |\n",
       "| 1503960366 | 4/24/2016 | 10039 |  6.41 |  6.41 | 0 | 2.92 | 0.21 | 3.28 | 0 | 39 |  5 | 238 |  709 | 1788 |\n",
       "| 1503960366 | 4/25/2016 | 15355 |  9.80 |  9.80 | 0 | 5.29 | 0.57 | 3.94 | 0 | 73 | 14 | 216 |  814 | 2013 |\n",
       "| 1503960366 | 4/26/2016 | 13755 |  8.79 |  8.79 | 0 | 2.33 | 0.92 | 5.54 | 0 | 31 | 23 | 279 |  833 | 1970 |\n",
       "| 1503960366 | 4/27/2016 | 18134 | 12.21 | 12.21 | 0 | 6.40 | 0.41 | 5.41 | 0 | 78 | 11 | 243 | 1108 | 2159 |\n",
       "| 1503960366 | 4/28/2016 | 13154 |  8.53 |  8.53 | 0 | 3.54 | 1.16 | 3.79 | 0 | 48 | 28 | 189 |  782 | 1898 |\n",
       "| 1503960366 | 4/29/2016 | 11181 |  7.15 |  7.15 | 0 | 1.06 | 0.50 | 5.58 | 0 | 16 | 12 | 243 |  815 | 1837 |\n",
       "| 1503960366 | 4/30/2016 | 14673 |  9.25 |  9.25 | 0 | 3.56 | 1.42 | 4.27 | 0 | 52 | 34 | 217 |  712 | 1947 |\n",
       "| 1503960366 | 5/1/2016  | 10602 |  6.81 |  6.81 | 0 | 2.29 | 1.60 | 2.92 | 0 | 33 | 35 | 246 |  730 | 1820 |\n",
       "| 1503960366 | 5/2/2016  | 14727 |  9.71 |  9.71 | 0 | 3.21 | 0.57 | 5.92 | 0 | 41 | 15 | 277 |  798 | 2004 |\n",
       "| 1503960366 | 5/3/2016  | 15103 |  9.66 |  9.66 | 0 | 3.73 | 1.05 | 4.88 | 0 | 50 | 24 | 254 |  816 | 1990 |\n",
       "| 1503960366 | 5/4/2016  | 11100 |  7.15 |  7.15 | 0 | 2.46 | 0.87 | 3.82 | 0 | 36 | 22 | 203 | 1179 | 1819 |\n",
       "| 1503960366 | 5/5/2016  | 14070 |  8.90 |  8.90 | 0 | 2.92 | 1.08 | 4.88 | 0 | 45 | 24 | 250 |  857 | 1959 |\n",
       "| 1503960366 | 5/6/2016  | 12159 |  8.03 |  8.03 | 0 | 1.97 | 0.25 | 5.81 | 0 | 24 |  6 | 289 |  754 | 1896 |\n",
       "| 1503960366 | 5/7/2016  | 11992 |  7.71 |  7.71 | 0 | 2.46 | 2.12 | 3.13 | 0 | 37 | 46 | 175 |  833 | 1821 |\n",
       "| 1503960366 | 5/8/2016  | 10060 |  6.58 |  6.58 | 0 | 3.53 | 0.32 | 2.73 | 0 | 44 |  8 | 203 |  574 | 1740 |\n",
       "| 1503960366 | 5/9/2016  | 12022 |  7.72 |  7.72 | 0 | 3.45 | 0.53 | 3.74 | 0 | 46 | 11 | 206 |  835 | 1819 |\n",
       "| 1503960366 | 5/10/2016 | 12207 |  7.77 |  7.77 | 0 | 3.35 | 1.16 | 3.26 | 0 | 46 | 31 | 214 |  746 | 1859 |\n",
       "| 1503960366 | 5/11/2016 | 12770 |  8.13 |  8.13 | 0 | 2.56 | 1.01 | 4.55 | 0 | 36 | 23 | 251 |  669 | 1783 |\n",
       "| ⋮ | ⋮ | ⋮ | ⋮ | ⋮ | ⋮ | ⋮ | ⋮ | ⋮ | ⋮ | ⋮ | ⋮ | ⋮ | ⋮ | ⋮ |\n",
       "| 8877689391 | 4/13/2016 | 15337 |  9.58 |  9.58 | 0 |  3.55 | 0.38 |  5.64 | 0.00 | 108 | 18 | 216 | 1098 | 3566 |\n",
       "| 8877689391 | 4/14/2016 | 21129 | 18.98 | 18.98 | 0 | 10.55 | 0.59 |  7.75 | 0.02 |  68 | 13 | 298 | 1061 | 3793 |\n",
       "| 8877689391 | 4/15/2016 | 13422 |  7.17 |  7.17 | 0 |  0.05 | 0.05 |  7.01 | 0.01 | 106 |  1 | 281 | 1052 | 3934 |\n",
       "| 8877689391 | 4/16/2016 | 29326 | 25.29 | 25.29 | 0 | 13.24 | 1.21 | 10.71 | 0.00 |  94 | 29 | 429 |  888 | 4547 |\n",
       "| 8877689391 | 4/17/2016 | 15118 |  8.87 |  8.87 | 0 |  0.00 | 0.07 |  8.79 | 0.00 |  58 | 15 | 307 | 1060 | 3545 |\n",
       "| 8877689391 | 4/18/2016 | 11423 |  8.67 |  8.67 | 0 |  2.44 | 0.27 |  5.94 | 0.00 |  29 |  5 | 191 | 1215 | 2761 |\n",
       "| 8877689391 | 4/19/2016 | 18785 | 17.40 | 17.40 | 0 | 12.15 | 0.18 |  5.03 | 0.00 |  82 | 13 | 214 | 1131 | 3676 |\n",
       "| 8877689391 | 4/20/2016 | 19948 | 18.11 | 18.11 | 0 | 11.02 | 0.69 |  6.34 | 0.00 |  73 | 19 | 225 | 1123 | 3679 |\n",
       "| 8877689391 | 4/21/2016 | 19377 | 17.62 | 17.62 | 0 | 12.29 | 0.42 |  4.89 | 0.00 |  82 | 13 | 226 | 1119 | 3659 |\n",
       "| 8877689391 | 4/22/2016 | 18258 | 16.31 | 16.31 | 0 | 10.23 | 0.03 |  5.97 | 0.05 |  61 |  2 | 236 | 1141 | 3427 |\n",
       "| 8877689391 | 4/23/2016 | 11200 |  7.43 |  7.43 | 0 |  0.00 | 0.00 |  7.40 | 0.01 | 102 |  6 | 300 | 1032 | 3891 |\n",
       "| 8877689391 | 4/24/2016 | 16674 | 15.74 | 15.74 | 0 | 11.01 | 0.01 |  4.69 | 0.00 |  64 |  1 | 227 | 1148 | 3455 |\n",
       "| 8877689391 | 4/25/2016 | 12986 |  8.74 |  8.74 | 0 |  2.37 | 0.07 |  6.27 | 0.01 | 113 |  8 | 218 | 1101 | 3802 |\n",
       "| 8877689391 | 4/26/2016 | 11101 |  8.43 |  8.43 | 0 |  1.76 | 0.13 |  6.50 | 0.00 |  22 |  3 | 258 | 1157 | 2860 |\n",
       "| 8877689391 | 4/27/2016 | 23629 | 20.65 | 20.65 | 0 | 13.07 | 0.44 |  7.10 | 0.00 |  93 |  8 | 235 | 1104 | 3808 |\n",
       "| 8877689391 | 4/28/2016 | 14890 | 11.30 | 11.30 | 0 |  4.93 | 0.38 |  5.97 | 0.00 |  58 |  8 | 231 | 1143 | 3060 |\n",
       "| 8877689391 | 4/29/2016 |  9733 |  7.39 |  7.39 | 0 |  1.38 | 0.17 |  5.79 | 0.00 |  18 |  5 | 210 | 1207 | 2698 |\n",
       "| 8877689391 | 4/30/2016 | 27745 | 26.72 | 26.72 | 0 | 21.66 | 0.08 |  4.93 | 0.00 | 124 |  4 | 223 | 1089 | 4398 |\n",
       "| 8877689391 | 5/1/2016  | 10930 |  8.32 |  8.32 | 0 |  3.13 | 0.57 |  4.57 | 0.00 |  36 | 12 | 166 | 1226 | 2786 |\n",
       "| 8877689391 | 5/2/2016  |  4790 |  3.64 |  3.64 | 0 |  0.00 | 0.00 |  3.56 | 0.00 |   0 |  0 | 105 | 1335 | 2189 |\n",
       "| 8877689391 | 5/3/2016  | 10818 |  8.21 |  8.21 | 0 |  1.39 | 0.10 |  6.67 | 0.01 |  19 |  3 | 229 | 1189 | 2817 |\n",
       "| 8877689391 | 5/4/2016  | 18193 | 16.30 | 16.30 | 0 | 10.42 | 0.31 |  5.53 | 0.00 |  66 |  8 | 212 | 1154 | 3477 |\n",
       "| 8877689391 | 5/5/2016  | 14055 | 10.67 | 10.67 | 0 |  5.46 | 0.82 |  4.37 | 0.00 |  67 | 15 | 188 | 1170 | 3052 |\n",
       "| 8877689391 | 5/6/2016  | 21727 | 19.34 | 19.34 | 0 | 12.79 | 0.29 |  6.16 | 0.00 |  96 | 17 | 232 | 1095 | 4015 |\n",
       "| 8877689391 | 5/7/2016  | 12332 |  8.13 |  8.13 | 0 |  0.08 | 0.96 |  6.99 | 0.00 | 105 | 28 | 271 | 1036 | 4142 |\n",
       "| 8877689391 | 5/8/2016  | 10686 |  8.11 |  8.11 | 0 |  1.08 | 0.20 |  6.80 | 0.00 |  17 |  4 | 245 | 1174 | 2847 |\n",
       "| 8877689391 | 5/9/2016  | 20226 | 18.25 | 18.25 | 0 | 11.10 | 0.80 |  6.24 | 0.05 |  73 | 19 | 217 | 1131 | 3710 |\n",
       "| 8877689391 | 5/10/2016 | 10733 |  8.15 |  8.15 | 0 |  1.35 | 0.46 |  6.28 | 0.00 |  18 | 11 | 224 | 1187 | 2832 |\n",
       "| 8877689391 | 5/11/2016 | 21420 | 19.56 | 19.56 | 0 | 13.22 | 0.41 |  5.89 | 0.00 |  88 | 12 | 213 | 1127 | 3832 |\n",
       "| 8877689391 | 5/12/2016 |  8064 |  6.12 |  6.12 | 0 |  1.82 | 0.04 |  4.25 | 0.00 |  23 |  1 | 137 |  770 | 1849 |\n",
       "\n"
      ],
      "text/plain": [
       "    id         activity_date total_steps total_distance tracker_distance\n",
       "1   1503960366 4/12/2016     13162        8.50           8.50           \n",
       "2   1503960366 4/13/2016     10735        6.97           6.97           \n",
       "3   1503960366 4/14/2016     10460        6.74           6.74           \n",
       "4   1503960366 4/15/2016      9762        6.28           6.28           \n",
       "5   1503960366 4/16/2016     12669        8.16           8.16           \n",
       "6   1503960366 4/17/2016      9705        6.48           6.48           \n",
       "7   1503960366 4/18/2016     13019        8.59           8.59           \n",
       "8   1503960366 4/19/2016     15506        9.88           9.88           \n",
       "9   1503960366 4/20/2016     10544        6.68           6.68           \n",
       "10  1503960366 4/21/2016      9819        6.34           6.34           \n",
       "11  1503960366 4/22/2016     12764        8.13           8.13           \n",
       "12  1503960366 4/23/2016     14371        9.04           9.04           \n",
       "13  1503960366 4/24/2016     10039        6.41           6.41           \n",
       "14  1503960366 4/25/2016     15355        9.80           9.80           \n",
       "15  1503960366 4/26/2016     13755        8.79           8.79           \n",
       "16  1503960366 4/27/2016     18134       12.21          12.21           \n",
       "17  1503960366 4/28/2016     13154        8.53           8.53           \n",
       "18  1503960366 4/29/2016     11181        7.15           7.15           \n",
       "19  1503960366 4/30/2016     14673        9.25           9.25           \n",
       "20  1503960366 5/1/2016      10602        6.81           6.81           \n",
       "21  1503960366 5/2/2016      14727        9.71           9.71           \n",
       "22  1503960366 5/3/2016      15103        9.66           9.66           \n",
       "23  1503960366 5/4/2016      11100        7.15           7.15           \n",
       "24  1503960366 5/5/2016      14070        8.90           8.90           \n",
       "25  1503960366 5/6/2016      12159        8.03           8.03           \n",
       "26  1503960366 5/7/2016      11992        7.71           7.71           \n",
       "27  1503960366 5/8/2016      10060        6.58           6.58           \n",
       "28  1503960366 5/9/2016      12022        7.72           7.72           \n",
       "29  1503960366 5/10/2016     12207        7.77           7.77           \n",
       "30  1503960366 5/11/2016     12770        8.13           8.13           \n",
       "⋮   ⋮          ⋮             ⋮           ⋮              ⋮               \n",
       "911 8877689391 4/13/2016     15337        9.58           9.58           \n",
       "912 8877689391 4/14/2016     21129       18.98          18.98           \n",
       "913 8877689391 4/15/2016     13422        7.17           7.17           \n",
       "914 8877689391 4/16/2016     29326       25.29          25.29           \n",
       "915 8877689391 4/17/2016     15118        8.87           8.87           \n",
       "916 8877689391 4/18/2016     11423        8.67           8.67           \n",
       "917 8877689391 4/19/2016     18785       17.40          17.40           \n",
       "918 8877689391 4/20/2016     19948       18.11          18.11           \n",
       "919 8877689391 4/21/2016     19377       17.62          17.62           \n",
       "920 8877689391 4/22/2016     18258       16.31          16.31           \n",
       "921 8877689391 4/23/2016     11200        7.43           7.43           \n",
       "922 8877689391 4/24/2016     16674       15.74          15.74           \n",
       "923 8877689391 4/25/2016     12986        8.74           8.74           \n",
       "924 8877689391 4/26/2016     11101        8.43           8.43           \n",
       "925 8877689391 4/27/2016     23629       20.65          20.65           \n",
       "926 8877689391 4/28/2016     14890       11.30          11.30           \n",
       "927 8877689391 4/29/2016      9733        7.39           7.39           \n",
       "928 8877689391 4/30/2016     27745       26.72          26.72           \n",
       "929 8877689391 5/1/2016      10930        8.32           8.32           \n",
       "930 8877689391 5/2/2016       4790        3.64           3.64           \n",
       "931 8877689391 5/3/2016      10818        8.21           8.21           \n",
       "932 8877689391 5/4/2016      18193       16.30          16.30           \n",
       "933 8877689391 5/5/2016      14055       10.67          10.67           \n",
       "934 8877689391 5/6/2016      21727       19.34          19.34           \n",
       "935 8877689391 5/7/2016      12332        8.13           8.13           \n",
       "936 8877689391 5/8/2016      10686        8.11           8.11           \n",
       "937 8877689391 5/9/2016      20226       18.25          18.25           \n",
       "938 8877689391 5/10/2016     10733        8.15           8.15           \n",
       "939 8877689391 5/11/2016     21420       19.56          19.56           \n",
       "940 8877689391 5/12/2016      8064        6.12           6.12           \n",
       "    logged_activities_distance very_active_distance moderately_active_distance\n",
       "1   0                          1.88                 0.55                      \n",
       "2   0                          1.57                 0.69                      \n",
       "3   0                          2.44                 0.40                      \n",
       "4   0                          2.14                 1.26                      \n",
       "5   0                          2.71                 0.41                      \n",
       "6   0                          3.19                 0.78                      \n",
       "7   0                          3.25                 0.64                      \n",
       "8   0                          3.53                 1.32                      \n",
       "9   0                          1.96                 0.48                      \n",
       "10  0                          1.34                 0.35                      \n",
       "11  0                          4.76                 1.12                      \n",
       "12  0                          2.81                 0.87                      \n",
       "13  0                          2.92                 0.21                      \n",
       "14  0                          5.29                 0.57                      \n",
       "15  0                          2.33                 0.92                      \n",
       "16  0                          6.40                 0.41                      \n",
       "17  0                          3.54                 1.16                      \n",
       "18  0                          1.06                 0.50                      \n",
       "19  0                          3.56                 1.42                      \n",
       "20  0                          2.29                 1.60                      \n",
       "21  0                          3.21                 0.57                      \n",
       "22  0                          3.73                 1.05                      \n",
       "23  0                          2.46                 0.87                      \n",
       "24  0                          2.92                 1.08                      \n",
       "25  0                          1.97                 0.25                      \n",
       "26  0                          2.46                 2.12                      \n",
       "27  0                          3.53                 0.32                      \n",
       "28  0                          3.45                 0.53                      \n",
       "29  0                          3.35                 1.16                      \n",
       "30  0                          2.56                 1.01                      \n",
       "⋮   ⋮                          ⋮                    ⋮                         \n",
       "911 0                           3.55                0.38                      \n",
       "912 0                          10.55                0.59                      \n",
       "913 0                           0.05                0.05                      \n",
       "914 0                          13.24                1.21                      \n",
       "915 0                           0.00                0.07                      \n",
       "916 0                           2.44                0.27                      \n",
       "917 0                          12.15                0.18                      \n",
       "918 0                          11.02                0.69                      \n",
       "919 0                          12.29                0.42                      \n",
       "920 0                          10.23                0.03                      \n",
       "921 0                           0.00                0.00                      \n",
       "922 0                          11.01                0.01                      \n",
       "923 0                           2.37                0.07                      \n",
       "924 0                           1.76                0.13                      \n",
       "925 0                          13.07                0.44                      \n",
       "926 0                           4.93                0.38                      \n",
       "927 0                           1.38                0.17                      \n",
       "928 0                          21.66                0.08                      \n",
       "929 0                           3.13                0.57                      \n",
       "930 0                           0.00                0.00                      \n",
       "931 0                           1.39                0.10                      \n",
       "932 0                          10.42                0.31                      \n",
       "933 0                           5.46                0.82                      \n",
       "934 0                          12.79                0.29                      \n",
       "935 0                           0.08                0.96                      \n",
       "936 0                           1.08                0.20                      \n",
       "937 0                          11.10                0.80                      \n",
       "938 0                           1.35                0.46                      \n",
       "939 0                          13.22                0.41                      \n",
       "940 0                           1.82                0.04                      \n",
       "    light_active_distance sedentary_active_distance very_active_minutes\n",
       "1   6.06                  0                         25                 \n",
       "2   4.71                  0                         21                 \n",
       "3   3.91                  0                         30                 \n",
       "4   2.83                  0                         29                 \n",
       "5   5.04                  0                         36                 \n",
       "6   2.51                  0                         38                 \n",
       "7   4.71                  0                         42                 \n",
       "8   5.03                  0                         50                 \n",
       "9   4.24                  0                         28                 \n",
       "10  4.65                  0                         19                 \n",
       "11  2.24                  0                         66                 \n",
       "12  5.36                  0                         41                 \n",
       "13  3.28                  0                         39                 \n",
       "14  3.94                  0                         73                 \n",
       "15  5.54                  0                         31                 \n",
       "16  5.41                  0                         78                 \n",
       "17  3.79                  0                         48                 \n",
       "18  5.58                  0                         16                 \n",
       "19  4.27                  0                         52                 \n",
       "20  2.92                  0                         33                 \n",
       "21  5.92                  0                         41                 \n",
       "22  4.88                  0                         50                 \n",
       "23  3.82                  0                         36                 \n",
       "24  4.88                  0                         45                 \n",
       "25  5.81                  0                         24                 \n",
       "26  3.13                  0                         37                 \n",
       "27  2.73                  0                         44                 \n",
       "28  3.74                  0                         46                 \n",
       "29  3.26                  0                         46                 \n",
       "30  4.55                  0                         36                 \n",
       "⋮   ⋮                     ⋮                         ⋮                  \n",
       "911  5.64                 0.00                      108                \n",
       "912  7.75                 0.02                       68                \n",
       "913  7.01                 0.01                      106                \n",
       "914 10.71                 0.00                       94                \n",
       "915  8.79                 0.00                       58                \n",
       "916  5.94                 0.00                       29                \n",
       "917  5.03                 0.00                       82                \n",
       "918  6.34                 0.00                       73                \n",
       "919  4.89                 0.00                       82                \n",
       "920  5.97                 0.05                       61                \n",
       "921  7.40                 0.01                      102                \n",
       "922  4.69                 0.00                       64                \n",
       "923  6.27                 0.01                      113                \n",
       "924  6.50                 0.00                       22                \n",
       "925  7.10                 0.00                       93                \n",
       "926  5.97                 0.00                       58                \n",
       "927  5.79                 0.00                       18                \n",
       "928  4.93                 0.00                      124                \n",
       "929  4.57                 0.00                       36                \n",
       "930  3.56                 0.00                        0                \n",
       "931  6.67                 0.01                       19                \n",
       "932  5.53                 0.00                       66                \n",
       "933  4.37                 0.00                       67                \n",
       "934  6.16                 0.00                       96                \n",
       "935  6.99                 0.00                      105                \n",
       "936  6.80                 0.00                       17                \n",
       "937  6.24                 0.05                       73                \n",
       "938  6.28                 0.00                       18                \n",
       "939  5.89                 0.00                       88                \n",
       "940  4.25                 0.00                       23                \n",
       "    fairly_active_minutes lightly_active_minutes sedentary_minutes calories\n",
       "1   13                    328                     728              1985    \n",
       "2   19                    217                     776              1797    \n",
       "3   11                    181                    1218              1776    \n",
       "4   34                    209                     726              1745    \n",
       "5   10                    221                     773              1863    \n",
       "6   20                    164                     539              1728    \n",
       "7   16                    233                    1149              1921    \n",
       "8   31                    264                     775              2035    \n",
       "9   12                    205                     818              1786    \n",
       "10   8                    211                     838              1775    \n",
       "11  27                    130                    1217              1827    \n",
       "12  21                    262                     732              1949    \n",
       "13   5                    238                     709              1788    \n",
       "14  14                    216                     814              2013    \n",
       "15  23                    279                     833              1970    \n",
       "16  11                    243                    1108              2159    \n",
       "17  28                    189                     782              1898    \n",
       "18  12                    243                     815              1837    \n",
       "19  34                    217                     712              1947    \n",
       "20  35                    246                     730              1820    \n",
       "21  15                    277                     798              2004    \n",
       "22  24                    254                     816              1990    \n",
       "23  22                    203                    1179              1819    \n",
       "24  24                    250                     857              1959    \n",
       "25   6                    289                     754              1896    \n",
       "26  46                    175                     833              1821    \n",
       "27   8                    203                     574              1740    \n",
       "28  11                    206                     835              1819    \n",
       "29  31                    214                     746              1859    \n",
       "30  23                    251                     669              1783    \n",
       "⋮   ⋮                     ⋮                      ⋮                 ⋮       \n",
       "911 18                    216                    1098              3566    \n",
       "912 13                    298                    1061              3793    \n",
       "913  1                    281                    1052              3934    \n",
       "914 29                    429                     888              4547    \n",
       "915 15                    307                    1060              3545    \n",
       "916  5                    191                    1215              2761    \n",
       "917 13                    214                    1131              3676    \n",
       "918 19                    225                    1123              3679    \n",
       "919 13                    226                    1119              3659    \n",
       "920  2                    236                    1141              3427    \n",
       "921  6                    300                    1032              3891    \n",
       "922  1                    227                    1148              3455    \n",
       "923  8                    218                    1101              3802    \n",
       "924  3                    258                    1157              2860    \n",
       "925  8                    235                    1104              3808    \n",
       "926  8                    231                    1143              3060    \n",
       "927  5                    210                    1207              2698    \n",
       "928  4                    223                    1089              4398    \n",
       "929 12                    166                    1226              2786    \n",
       "930  0                    105                    1335              2189    \n",
       "931  3                    229                    1189              2817    \n",
       "932  8                    212                    1154              3477    \n",
       "933 15                    188                    1170              3052    \n",
       "934 17                    232                    1095              4015    \n",
       "935 28                    271                    1036              4142    \n",
       "936  4                    245                    1174              2847    \n",
       "937 19                    217                    1131              3710    \n",
       "938 11                    224                    1187              2832    \n",
       "939 12                    213                    1127              3832    \n",
       "940  1                    137                     770              1849    "
      ]
     },
     "metadata": {},
     "output_type": "display_data"
    },
    {
     "data": {
      "text/html": [
       "<table class=\"dataframe\">\n",
       "<caption>A tibble: 410 × 5</caption>\n",
       "<thead>\n",
       "\t<tr><th scope=col>id</th><th scope=col>sleep_day</th><th scope=col>total_sleep_records</th><th scope=col>total_minutes_asleep</th><th scope=col>total_time_in_bed</th></tr>\n",
       "\t<tr><th scope=col>&lt;dbl&gt;</th><th scope=col>&lt;chr&gt;</th><th scope=col>&lt;dbl&gt;</th><th scope=col>&lt;dbl&gt;</th><th scope=col>&lt;dbl&gt;</th></tr>\n",
       "</thead>\n",
       "<tbody>\n",
       "\t<tr><td>1503960366</td><td>4/12/2016 12:00:00 AM</td><td>1</td><td>327</td><td>346</td></tr>\n",
       "\t<tr><td>1503960366</td><td>4/13/2016 12:00:00 AM</td><td>2</td><td>384</td><td>407</td></tr>\n",
       "\t<tr><td>1503960366</td><td>4/15/2016 12:00:00 AM</td><td>1</td><td>412</td><td>442</td></tr>\n",
       "\t<tr><td>1503960366</td><td>4/16/2016 12:00:00 AM</td><td>2</td><td>340</td><td>367</td></tr>\n",
       "\t<tr><td>1503960366</td><td>4/17/2016 12:00:00 AM</td><td>1</td><td>700</td><td>712</td></tr>\n",
       "\t<tr><td>1503960366</td><td>4/19/2016 12:00:00 AM</td><td>1</td><td>304</td><td>320</td></tr>\n",
       "\t<tr><td>1503960366</td><td>4/20/2016 12:00:00 AM</td><td>1</td><td>360</td><td>377</td></tr>\n",
       "\t<tr><td>1503960366</td><td>4/21/2016 12:00:00 AM</td><td>1</td><td>325</td><td>364</td></tr>\n",
       "\t<tr><td>1503960366</td><td>4/23/2016 12:00:00 AM</td><td>1</td><td>361</td><td>384</td></tr>\n",
       "\t<tr><td>1503960366</td><td>4/24/2016 12:00:00 AM</td><td>1</td><td>430</td><td>449</td></tr>\n",
       "\t<tr><td>1503960366</td><td>4/25/2016 12:00:00 AM</td><td>1</td><td>277</td><td>323</td></tr>\n",
       "\t<tr><td>1503960366</td><td>4/26/2016 12:00:00 AM</td><td>1</td><td>245</td><td>274</td></tr>\n",
       "\t<tr><td>1503960366</td><td>4/28/2016 12:00:00 AM</td><td>1</td><td>366</td><td>393</td></tr>\n",
       "\t<tr><td>1503960366</td><td>4/29/2016 12:00:00 AM</td><td>1</td><td>341</td><td>354</td></tr>\n",
       "\t<tr><td>1503960366</td><td>4/30/2016 12:00:00 AM</td><td>1</td><td>404</td><td>425</td></tr>\n",
       "\t<tr><td>1503960366</td><td>5/1/2016 12:00:00 AM </td><td>1</td><td>369</td><td>396</td></tr>\n",
       "\t<tr><td>1503960366</td><td>5/2/2016 12:00:00 AM </td><td>1</td><td>277</td><td>309</td></tr>\n",
       "\t<tr><td>1503960366</td><td>5/3/2016 12:00:00 AM </td><td>1</td><td>273</td><td>296</td></tr>\n",
       "\t<tr><td>1503960366</td><td>5/5/2016 12:00:00 AM </td><td>1</td><td>247</td><td>264</td></tr>\n",
       "\t<tr><td>1503960366</td><td>5/6/2016 12:00:00 AM </td><td>1</td><td>334</td><td>367</td></tr>\n",
       "\t<tr><td>1503960366</td><td>5/7/2016 12:00:00 AM </td><td>1</td><td>331</td><td>349</td></tr>\n",
       "\t<tr><td>1503960366</td><td>5/8/2016 12:00:00 AM </td><td>1</td><td>594</td><td>611</td></tr>\n",
       "\t<tr><td>1503960366</td><td>5/9/2016 12:00:00 AM </td><td>1</td><td>338</td><td>342</td></tr>\n",
       "\t<tr><td>1503960366</td><td>5/10/2016 12:00:00 AM</td><td>1</td><td>383</td><td>403</td></tr>\n",
       "\t<tr><td>1503960366</td><td>5/11/2016 12:00:00 AM</td><td>1</td><td>285</td><td>306</td></tr>\n",
       "\t<tr><td>1644430081</td><td>4/29/2016 12:00:00 AM</td><td>1</td><td>119</td><td>127</td></tr>\n",
       "\t<tr><td>1644430081</td><td>4/30/2016 12:00:00 AM</td><td>1</td><td>124</td><td>142</td></tr>\n",
       "\t<tr><td>1644430081</td><td>5/2/2016 12:00:00 AM </td><td>1</td><td>796</td><td>961</td></tr>\n",
       "\t<tr><td>1644430081</td><td>5/8/2016 12:00:00 AM </td><td>1</td><td>137</td><td>154</td></tr>\n",
       "\t<tr><td>1844505072</td><td>4/15/2016 12:00:00 AM</td><td>1</td><td>644</td><td>961</td></tr>\n",
       "\t<tr><td>⋮</td><td>⋮</td><td>⋮</td><td>⋮</td><td>⋮</td></tr>\n",
       "\t<tr><td>8378563200</td><td>4/28/2016 12:00:00 AM</td><td>1</td><td>506</td><td>556</td></tr>\n",
       "\t<tr><td>8378563200</td><td>4/29/2016 12:00:00 AM</td><td>1</td><td>527</td><td>562</td></tr>\n",
       "\t<tr><td>8378563200</td><td>4/30/2016 12:00:00 AM</td><td>1</td><td>468</td><td>555</td></tr>\n",
       "\t<tr><td>8378563200</td><td>5/1/2016 12:00:00 AM </td><td>1</td><td>475</td><td>539</td></tr>\n",
       "\t<tr><td>8378563200</td><td>5/2/2016 12:00:00 AM </td><td>1</td><td>351</td><td>385</td></tr>\n",
       "\t<tr><td>8378563200</td><td>5/3/2016 12:00:00 AM </td><td>1</td><td>405</td><td>429</td></tr>\n",
       "\t<tr><td>8378563200</td><td>5/4/2016 12:00:00 AM </td><td>1</td><td>441</td><td>477</td></tr>\n",
       "\t<tr><td>8378563200</td><td>5/5/2016 12:00:00 AM </td><td>1</td><td>381</td><td>417</td></tr>\n",
       "\t<tr><td>8378563200</td><td>5/6/2016 12:00:00 AM </td><td>1</td><td>323</td><td>355</td></tr>\n",
       "\t<tr><td>8378563200</td><td>5/7/2016 12:00:00 AM </td><td>2</td><td>459</td><td>513</td></tr>\n",
       "\t<tr><td>8378563200</td><td>5/8/2016 12:00:00 AM </td><td>1</td><td>545</td><td>606</td></tr>\n",
       "\t<tr><td>8378563200</td><td>5/9/2016 12:00:00 AM </td><td>1</td><td>359</td><td>399</td></tr>\n",
       "\t<tr><td>8378563200</td><td>5/10/2016 12:00:00 AM</td><td>1</td><td>342</td><td>391</td></tr>\n",
       "\t<tr><td>8378563200</td><td>5/11/2016 12:00:00 AM</td><td>1</td><td>368</td><td>387</td></tr>\n",
       "\t<tr><td>8378563200</td><td>5/12/2016 12:00:00 AM</td><td>1</td><td>496</td><td>546</td></tr>\n",
       "\t<tr><td>8792009665</td><td>4/12/2016 12:00:00 AM</td><td>1</td><td>458</td><td>493</td></tr>\n",
       "\t<tr><td>8792009665</td><td>4/13/2016 12:00:00 AM</td><td>1</td><td>531</td><td>552</td></tr>\n",
       "\t<tr><td>8792009665</td><td>4/14/2016 12:00:00 AM</td><td>1</td><td>486</td><td>503</td></tr>\n",
       "\t<tr><td>8792009665</td><td>4/15/2016 12:00:00 AM</td><td>1</td><td>363</td><td>377</td></tr>\n",
       "\t<tr><td>8792009665</td><td>4/20/2016 12:00:00 AM</td><td>1</td><td>528</td><td>547</td></tr>\n",
       "\t<tr><td>8792009665</td><td>4/22/2016 12:00:00 AM</td><td>1</td><td>391</td><td>407</td></tr>\n",
       "\t<tr><td>8792009665</td><td>4/23/2016 12:00:00 AM</td><td>1</td><td>339</td><td>360</td></tr>\n",
       "\t<tr><td>8792009665</td><td>4/27/2016 12:00:00 AM</td><td>1</td><td>423</td><td>428</td></tr>\n",
       "\t<tr><td>8792009665</td><td>4/28/2016 12:00:00 AM</td><td>1</td><td>402</td><td>416</td></tr>\n",
       "\t<tr><td>8792009665</td><td>4/29/2016 12:00:00 AM</td><td>1</td><td>398</td><td>406</td></tr>\n",
       "\t<tr><td>8792009665</td><td>4/30/2016 12:00:00 AM</td><td>1</td><td>343</td><td>360</td></tr>\n",
       "\t<tr><td>8792009665</td><td>5/1/2016 12:00:00 AM </td><td>1</td><td>503</td><td>527</td></tr>\n",
       "\t<tr><td>8792009665</td><td>5/2/2016 12:00:00 AM </td><td>1</td><td>415</td><td>423</td></tr>\n",
       "\t<tr><td>8792009665</td><td>5/3/2016 12:00:00 AM </td><td>1</td><td>516</td><td>545</td></tr>\n",
       "\t<tr><td>8792009665</td><td>5/4/2016 12:00:00 AM </td><td>1</td><td>439</td><td>463</td></tr>\n",
       "</tbody>\n",
       "</table>\n"
      ],
      "text/latex": [
       "A tibble: 410 × 5\n",
       "\\begin{tabular}{lllll}\n",
       " id & sleep\\_day & total\\_sleep\\_records & total\\_minutes\\_asleep & total\\_time\\_in\\_bed\\\\\n",
       " <dbl> & <chr> & <dbl> & <dbl> & <dbl>\\\\\n",
       "\\hline\n",
       "\t 1503960366 & 4/12/2016 12:00:00 AM & 1 & 327 & 346\\\\\n",
       "\t 1503960366 & 4/13/2016 12:00:00 AM & 2 & 384 & 407\\\\\n",
       "\t 1503960366 & 4/15/2016 12:00:00 AM & 1 & 412 & 442\\\\\n",
       "\t 1503960366 & 4/16/2016 12:00:00 AM & 2 & 340 & 367\\\\\n",
       "\t 1503960366 & 4/17/2016 12:00:00 AM & 1 & 700 & 712\\\\\n",
       "\t 1503960366 & 4/19/2016 12:00:00 AM & 1 & 304 & 320\\\\\n",
       "\t 1503960366 & 4/20/2016 12:00:00 AM & 1 & 360 & 377\\\\\n",
       "\t 1503960366 & 4/21/2016 12:00:00 AM & 1 & 325 & 364\\\\\n",
       "\t 1503960366 & 4/23/2016 12:00:00 AM & 1 & 361 & 384\\\\\n",
       "\t 1503960366 & 4/24/2016 12:00:00 AM & 1 & 430 & 449\\\\\n",
       "\t 1503960366 & 4/25/2016 12:00:00 AM & 1 & 277 & 323\\\\\n",
       "\t 1503960366 & 4/26/2016 12:00:00 AM & 1 & 245 & 274\\\\\n",
       "\t 1503960366 & 4/28/2016 12:00:00 AM & 1 & 366 & 393\\\\\n",
       "\t 1503960366 & 4/29/2016 12:00:00 AM & 1 & 341 & 354\\\\\n",
       "\t 1503960366 & 4/30/2016 12:00:00 AM & 1 & 404 & 425\\\\\n",
       "\t 1503960366 & 5/1/2016 12:00:00 AM  & 1 & 369 & 396\\\\\n",
       "\t 1503960366 & 5/2/2016 12:00:00 AM  & 1 & 277 & 309\\\\\n",
       "\t 1503960366 & 5/3/2016 12:00:00 AM  & 1 & 273 & 296\\\\\n",
       "\t 1503960366 & 5/5/2016 12:00:00 AM  & 1 & 247 & 264\\\\\n",
       "\t 1503960366 & 5/6/2016 12:00:00 AM  & 1 & 334 & 367\\\\\n",
       "\t 1503960366 & 5/7/2016 12:00:00 AM  & 1 & 331 & 349\\\\\n",
       "\t 1503960366 & 5/8/2016 12:00:00 AM  & 1 & 594 & 611\\\\\n",
       "\t 1503960366 & 5/9/2016 12:00:00 AM  & 1 & 338 & 342\\\\\n",
       "\t 1503960366 & 5/10/2016 12:00:00 AM & 1 & 383 & 403\\\\\n",
       "\t 1503960366 & 5/11/2016 12:00:00 AM & 1 & 285 & 306\\\\\n",
       "\t 1644430081 & 4/29/2016 12:00:00 AM & 1 & 119 & 127\\\\\n",
       "\t 1644430081 & 4/30/2016 12:00:00 AM & 1 & 124 & 142\\\\\n",
       "\t 1644430081 & 5/2/2016 12:00:00 AM  & 1 & 796 & 961\\\\\n",
       "\t 1644430081 & 5/8/2016 12:00:00 AM  & 1 & 137 & 154\\\\\n",
       "\t 1844505072 & 4/15/2016 12:00:00 AM & 1 & 644 & 961\\\\\n",
       "\t ⋮ & ⋮ & ⋮ & ⋮ & ⋮\\\\\n",
       "\t 8378563200 & 4/28/2016 12:00:00 AM & 1 & 506 & 556\\\\\n",
       "\t 8378563200 & 4/29/2016 12:00:00 AM & 1 & 527 & 562\\\\\n",
       "\t 8378563200 & 4/30/2016 12:00:00 AM & 1 & 468 & 555\\\\\n",
       "\t 8378563200 & 5/1/2016 12:00:00 AM  & 1 & 475 & 539\\\\\n",
       "\t 8378563200 & 5/2/2016 12:00:00 AM  & 1 & 351 & 385\\\\\n",
       "\t 8378563200 & 5/3/2016 12:00:00 AM  & 1 & 405 & 429\\\\\n",
       "\t 8378563200 & 5/4/2016 12:00:00 AM  & 1 & 441 & 477\\\\\n",
       "\t 8378563200 & 5/5/2016 12:00:00 AM  & 1 & 381 & 417\\\\\n",
       "\t 8378563200 & 5/6/2016 12:00:00 AM  & 1 & 323 & 355\\\\\n",
       "\t 8378563200 & 5/7/2016 12:00:00 AM  & 2 & 459 & 513\\\\\n",
       "\t 8378563200 & 5/8/2016 12:00:00 AM  & 1 & 545 & 606\\\\\n",
       "\t 8378563200 & 5/9/2016 12:00:00 AM  & 1 & 359 & 399\\\\\n",
       "\t 8378563200 & 5/10/2016 12:00:00 AM & 1 & 342 & 391\\\\\n",
       "\t 8378563200 & 5/11/2016 12:00:00 AM & 1 & 368 & 387\\\\\n",
       "\t 8378563200 & 5/12/2016 12:00:00 AM & 1 & 496 & 546\\\\\n",
       "\t 8792009665 & 4/12/2016 12:00:00 AM & 1 & 458 & 493\\\\\n",
       "\t 8792009665 & 4/13/2016 12:00:00 AM & 1 & 531 & 552\\\\\n",
       "\t 8792009665 & 4/14/2016 12:00:00 AM & 1 & 486 & 503\\\\\n",
       "\t 8792009665 & 4/15/2016 12:00:00 AM & 1 & 363 & 377\\\\\n",
       "\t 8792009665 & 4/20/2016 12:00:00 AM & 1 & 528 & 547\\\\\n",
       "\t 8792009665 & 4/22/2016 12:00:00 AM & 1 & 391 & 407\\\\\n",
       "\t 8792009665 & 4/23/2016 12:00:00 AM & 1 & 339 & 360\\\\\n",
       "\t 8792009665 & 4/27/2016 12:00:00 AM & 1 & 423 & 428\\\\\n",
       "\t 8792009665 & 4/28/2016 12:00:00 AM & 1 & 402 & 416\\\\\n",
       "\t 8792009665 & 4/29/2016 12:00:00 AM & 1 & 398 & 406\\\\\n",
       "\t 8792009665 & 4/30/2016 12:00:00 AM & 1 & 343 & 360\\\\\n",
       "\t 8792009665 & 5/1/2016 12:00:00 AM  & 1 & 503 & 527\\\\\n",
       "\t 8792009665 & 5/2/2016 12:00:00 AM  & 1 & 415 & 423\\\\\n",
       "\t 8792009665 & 5/3/2016 12:00:00 AM  & 1 & 516 & 545\\\\\n",
       "\t 8792009665 & 5/4/2016 12:00:00 AM  & 1 & 439 & 463\\\\\n",
       "\\end{tabular}\n"
      ],
      "text/markdown": [
       "\n",
       "A tibble: 410 × 5\n",
       "\n",
       "| id &lt;dbl&gt; | sleep_day &lt;chr&gt; | total_sleep_records &lt;dbl&gt; | total_minutes_asleep &lt;dbl&gt; | total_time_in_bed &lt;dbl&gt; |\n",
       "|---|---|---|---|---|\n",
       "| 1503960366 | 4/12/2016 12:00:00 AM | 1 | 327 | 346 |\n",
       "| 1503960366 | 4/13/2016 12:00:00 AM | 2 | 384 | 407 |\n",
       "| 1503960366 | 4/15/2016 12:00:00 AM | 1 | 412 | 442 |\n",
       "| 1503960366 | 4/16/2016 12:00:00 AM | 2 | 340 | 367 |\n",
       "| 1503960366 | 4/17/2016 12:00:00 AM | 1 | 700 | 712 |\n",
       "| 1503960366 | 4/19/2016 12:00:00 AM | 1 | 304 | 320 |\n",
       "| 1503960366 | 4/20/2016 12:00:00 AM | 1 | 360 | 377 |\n",
       "| 1503960366 | 4/21/2016 12:00:00 AM | 1 | 325 | 364 |\n",
       "| 1503960366 | 4/23/2016 12:00:00 AM | 1 | 361 | 384 |\n",
       "| 1503960366 | 4/24/2016 12:00:00 AM | 1 | 430 | 449 |\n",
       "| 1503960366 | 4/25/2016 12:00:00 AM | 1 | 277 | 323 |\n",
       "| 1503960366 | 4/26/2016 12:00:00 AM | 1 | 245 | 274 |\n",
       "| 1503960366 | 4/28/2016 12:00:00 AM | 1 | 366 | 393 |\n",
       "| 1503960366 | 4/29/2016 12:00:00 AM | 1 | 341 | 354 |\n",
       "| 1503960366 | 4/30/2016 12:00:00 AM | 1 | 404 | 425 |\n",
       "| 1503960366 | 5/1/2016 12:00:00 AM  | 1 | 369 | 396 |\n",
       "| 1503960366 | 5/2/2016 12:00:00 AM  | 1 | 277 | 309 |\n",
       "| 1503960366 | 5/3/2016 12:00:00 AM  | 1 | 273 | 296 |\n",
       "| 1503960366 | 5/5/2016 12:00:00 AM  | 1 | 247 | 264 |\n",
       "| 1503960366 | 5/6/2016 12:00:00 AM  | 1 | 334 | 367 |\n",
       "| 1503960366 | 5/7/2016 12:00:00 AM  | 1 | 331 | 349 |\n",
       "| 1503960366 | 5/8/2016 12:00:00 AM  | 1 | 594 | 611 |\n",
       "| 1503960366 | 5/9/2016 12:00:00 AM  | 1 | 338 | 342 |\n",
       "| 1503960366 | 5/10/2016 12:00:00 AM | 1 | 383 | 403 |\n",
       "| 1503960366 | 5/11/2016 12:00:00 AM | 1 | 285 | 306 |\n",
       "| 1644430081 | 4/29/2016 12:00:00 AM | 1 | 119 | 127 |\n",
       "| 1644430081 | 4/30/2016 12:00:00 AM | 1 | 124 | 142 |\n",
       "| 1644430081 | 5/2/2016 12:00:00 AM  | 1 | 796 | 961 |\n",
       "| 1644430081 | 5/8/2016 12:00:00 AM  | 1 | 137 | 154 |\n",
       "| 1844505072 | 4/15/2016 12:00:00 AM | 1 | 644 | 961 |\n",
       "| ⋮ | ⋮ | ⋮ | ⋮ | ⋮ |\n",
       "| 8378563200 | 4/28/2016 12:00:00 AM | 1 | 506 | 556 |\n",
       "| 8378563200 | 4/29/2016 12:00:00 AM | 1 | 527 | 562 |\n",
       "| 8378563200 | 4/30/2016 12:00:00 AM | 1 | 468 | 555 |\n",
       "| 8378563200 | 5/1/2016 12:00:00 AM  | 1 | 475 | 539 |\n",
       "| 8378563200 | 5/2/2016 12:00:00 AM  | 1 | 351 | 385 |\n",
       "| 8378563200 | 5/3/2016 12:00:00 AM  | 1 | 405 | 429 |\n",
       "| 8378563200 | 5/4/2016 12:00:00 AM  | 1 | 441 | 477 |\n",
       "| 8378563200 | 5/5/2016 12:00:00 AM  | 1 | 381 | 417 |\n",
       "| 8378563200 | 5/6/2016 12:00:00 AM  | 1 | 323 | 355 |\n",
       "| 8378563200 | 5/7/2016 12:00:00 AM  | 2 | 459 | 513 |\n",
       "| 8378563200 | 5/8/2016 12:00:00 AM  | 1 | 545 | 606 |\n",
       "| 8378563200 | 5/9/2016 12:00:00 AM  | 1 | 359 | 399 |\n",
       "| 8378563200 | 5/10/2016 12:00:00 AM | 1 | 342 | 391 |\n",
       "| 8378563200 | 5/11/2016 12:00:00 AM | 1 | 368 | 387 |\n",
       "| 8378563200 | 5/12/2016 12:00:00 AM | 1 | 496 | 546 |\n",
       "| 8792009665 | 4/12/2016 12:00:00 AM | 1 | 458 | 493 |\n",
       "| 8792009665 | 4/13/2016 12:00:00 AM | 1 | 531 | 552 |\n",
       "| 8792009665 | 4/14/2016 12:00:00 AM | 1 | 486 | 503 |\n",
       "| 8792009665 | 4/15/2016 12:00:00 AM | 1 | 363 | 377 |\n",
       "| 8792009665 | 4/20/2016 12:00:00 AM | 1 | 528 | 547 |\n",
       "| 8792009665 | 4/22/2016 12:00:00 AM | 1 | 391 | 407 |\n",
       "| 8792009665 | 4/23/2016 12:00:00 AM | 1 | 339 | 360 |\n",
       "| 8792009665 | 4/27/2016 12:00:00 AM | 1 | 423 | 428 |\n",
       "| 8792009665 | 4/28/2016 12:00:00 AM | 1 | 402 | 416 |\n",
       "| 8792009665 | 4/29/2016 12:00:00 AM | 1 | 398 | 406 |\n",
       "| 8792009665 | 4/30/2016 12:00:00 AM | 1 | 343 | 360 |\n",
       "| 8792009665 | 5/1/2016 12:00:00 AM  | 1 | 503 | 527 |\n",
       "| 8792009665 | 5/2/2016 12:00:00 AM  | 1 | 415 | 423 |\n",
       "| 8792009665 | 5/3/2016 12:00:00 AM  | 1 | 516 | 545 |\n",
       "| 8792009665 | 5/4/2016 12:00:00 AM  | 1 | 439 | 463 |\n",
       "\n"
      ],
      "text/plain": [
       "    id         sleep_day             total_sleep_records total_minutes_asleep\n",
       "1   1503960366 4/12/2016 12:00:00 AM 1                   327                 \n",
       "2   1503960366 4/13/2016 12:00:00 AM 2                   384                 \n",
       "3   1503960366 4/15/2016 12:00:00 AM 1                   412                 \n",
       "4   1503960366 4/16/2016 12:00:00 AM 2                   340                 \n",
       "5   1503960366 4/17/2016 12:00:00 AM 1                   700                 \n",
       "6   1503960366 4/19/2016 12:00:00 AM 1                   304                 \n",
       "7   1503960366 4/20/2016 12:00:00 AM 1                   360                 \n",
       "8   1503960366 4/21/2016 12:00:00 AM 1                   325                 \n",
       "9   1503960366 4/23/2016 12:00:00 AM 1                   361                 \n",
       "10  1503960366 4/24/2016 12:00:00 AM 1                   430                 \n",
       "11  1503960366 4/25/2016 12:00:00 AM 1                   277                 \n",
       "12  1503960366 4/26/2016 12:00:00 AM 1                   245                 \n",
       "13  1503960366 4/28/2016 12:00:00 AM 1                   366                 \n",
       "14  1503960366 4/29/2016 12:00:00 AM 1                   341                 \n",
       "15  1503960366 4/30/2016 12:00:00 AM 1                   404                 \n",
       "16  1503960366 5/1/2016 12:00:00 AM  1                   369                 \n",
       "17  1503960366 5/2/2016 12:00:00 AM  1                   277                 \n",
       "18  1503960366 5/3/2016 12:00:00 AM  1                   273                 \n",
       "19  1503960366 5/5/2016 12:00:00 AM  1                   247                 \n",
       "20  1503960366 5/6/2016 12:00:00 AM  1                   334                 \n",
       "21  1503960366 5/7/2016 12:00:00 AM  1                   331                 \n",
       "22  1503960366 5/8/2016 12:00:00 AM  1                   594                 \n",
       "23  1503960366 5/9/2016 12:00:00 AM  1                   338                 \n",
       "24  1503960366 5/10/2016 12:00:00 AM 1                   383                 \n",
       "25  1503960366 5/11/2016 12:00:00 AM 1                   285                 \n",
       "26  1644430081 4/29/2016 12:00:00 AM 1                   119                 \n",
       "27  1644430081 4/30/2016 12:00:00 AM 1                   124                 \n",
       "28  1644430081 5/2/2016 12:00:00 AM  1                   796                 \n",
       "29  1644430081 5/8/2016 12:00:00 AM  1                   137                 \n",
       "30  1844505072 4/15/2016 12:00:00 AM 1                   644                 \n",
       "⋮   ⋮          ⋮                     ⋮                   ⋮                   \n",
       "381 8378563200 4/28/2016 12:00:00 AM 1                   506                 \n",
       "382 8378563200 4/29/2016 12:00:00 AM 1                   527                 \n",
       "383 8378563200 4/30/2016 12:00:00 AM 1                   468                 \n",
       "384 8378563200 5/1/2016 12:00:00 AM  1                   475                 \n",
       "385 8378563200 5/2/2016 12:00:00 AM  1                   351                 \n",
       "386 8378563200 5/3/2016 12:00:00 AM  1                   405                 \n",
       "387 8378563200 5/4/2016 12:00:00 AM  1                   441                 \n",
       "388 8378563200 5/5/2016 12:00:00 AM  1                   381                 \n",
       "389 8378563200 5/6/2016 12:00:00 AM  1                   323                 \n",
       "390 8378563200 5/7/2016 12:00:00 AM  2                   459                 \n",
       "391 8378563200 5/8/2016 12:00:00 AM  1                   545                 \n",
       "392 8378563200 5/9/2016 12:00:00 AM  1                   359                 \n",
       "393 8378563200 5/10/2016 12:00:00 AM 1                   342                 \n",
       "394 8378563200 5/11/2016 12:00:00 AM 1                   368                 \n",
       "395 8378563200 5/12/2016 12:00:00 AM 1                   496                 \n",
       "396 8792009665 4/12/2016 12:00:00 AM 1                   458                 \n",
       "397 8792009665 4/13/2016 12:00:00 AM 1                   531                 \n",
       "398 8792009665 4/14/2016 12:00:00 AM 1                   486                 \n",
       "399 8792009665 4/15/2016 12:00:00 AM 1                   363                 \n",
       "400 8792009665 4/20/2016 12:00:00 AM 1                   528                 \n",
       "401 8792009665 4/22/2016 12:00:00 AM 1                   391                 \n",
       "402 8792009665 4/23/2016 12:00:00 AM 1                   339                 \n",
       "403 8792009665 4/27/2016 12:00:00 AM 1                   423                 \n",
       "404 8792009665 4/28/2016 12:00:00 AM 1                   402                 \n",
       "405 8792009665 4/29/2016 12:00:00 AM 1                   398                 \n",
       "406 8792009665 4/30/2016 12:00:00 AM 1                   343                 \n",
       "407 8792009665 5/1/2016 12:00:00 AM  1                   503                 \n",
       "408 8792009665 5/2/2016 12:00:00 AM  1                   415                 \n",
       "409 8792009665 5/3/2016 12:00:00 AM  1                   516                 \n",
       "410 8792009665 5/4/2016 12:00:00 AM  1                   439                 \n",
       "    total_time_in_bed\n",
       "1   346              \n",
       "2   407              \n",
       "3   442              \n",
       "4   367              \n",
       "5   712              \n",
       "6   320              \n",
       "7   377              \n",
       "8   364              \n",
       "9   384              \n",
       "10  449              \n",
       "11  323              \n",
       "12  274              \n",
       "13  393              \n",
       "14  354              \n",
       "15  425              \n",
       "16  396              \n",
       "17  309              \n",
       "18  296              \n",
       "19  264              \n",
       "20  367              \n",
       "21  349              \n",
       "22  611              \n",
       "23  342              \n",
       "24  403              \n",
       "25  306              \n",
       "26  127              \n",
       "27  142              \n",
       "28  961              \n",
       "29  154              \n",
       "30  961              \n",
       "⋮   ⋮                \n",
       "381 556              \n",
       "382 562              \n",
       "383 555              \n",
       "384 539              \n",
       "385 385              \n",
       "386 429              \n",
       "387 477              \n",
       "388 417              \n",
       "389 355              \n",
       "390 513              \n",
       "391 606              \n",
       "392 399              \n",
       "393 391              \n",
       "394 387              \n",
       "395 546              \n",
       "396 493              \n",
       "397 552              \n",
       "398 503              \n",
       "399 377              \n",
       "400 547              \n",
       "401 407              \n",
       "402 360              \n",
       "403 428              \n",
       "404 416              \n",
       "405 406              \n",
       "406 360              \n",
       "407 527              \n",
       "408 423              \n",
       "409 545              \n",
       "410 463              "
      ]
     },
     "metadata": {},
     "output_type": "display_data"
    },
    {
     "data": {
      "text/html": [
       "<table class=\"dataframe\">\n",
       "<caption>A spec_tbl_df: 1325580 × 3</caption>\n",
       "<thead>\n",
       "\t<tr><th scope=col>id</th><th scope=col>activity_minute</th><th scope=col>intensity</th></tr>\n",
       "\t<tr><th scope=col>&lt;dbl&gt;</th><th scope=col>&lt;chr&gt;</th><th scope=col>&lt;dbl&gt;</th></tr>\n",
       "</thead>\n",
       "<tbody>\n",
       "\t<tr><td>1503960366</td><td>4/12/2016 12:00:00 AM</td><td>0</td></tr>\n",
       "\t<tr><td>1503960366</td><td>4/12/2016 12:01:00 AM</td><td>0</td></tr>\n",
       "\t<tr><td>1503960366</td><td>4/12/2016 12:02:00 AM</td><td>0</td></tr>\n",
       "\t<tr><td>1503960366</td><td>4/12/2016 12:03:00 AM</td><td>0</td></tr>\n",
       "\t<tr><td>1503960366</td><td>4/12/2016 12:04:00 AM</td><td>0</td></tr>\n",
       "\t<tr><td>1503960366</td><td>4/12/2016 12:05:00 AM</td><td>0</td></tr>\n",
       "\t<tr><td>1503960366</td><td>4/12/2016 12:06:00 AM</td><td>0</td></tr>\n",
       "\t<tr><td>1503960366</td><td>4/12/2016 12:07:00 AM</td><td>0</td></tr>\n",
       "\t<tr><td>1503960366</td><td>4/12/2016 12:08:00 AM</td><td>0</td></tr>\n",
       "\t<tr><td>1503960366</td><td>4/12/2016 12:09:00 AM</td><td>0</td></tr>\n",
       "\t<tr><td>1503960366</td><td>4/12/2016 12:10:00 AM</td><td>0</td></tr>\n",
       "\t<tr><td>1503960366</td><td>4/12/2016 12:11:00 AM</td><td>0</td></tr>\n",
       "\t<tr><td>1503960366</td><td>4/12/2016 12:12:00 AM</td><td>0</td></tr>\n",
       "\t<tr><td>1503960366</td><td>4/12/2016 12:13:00 AM</td><td>0</td></tr>\n",
       "\t<tr><td>1503960366</td><td>4/12/2016 12:14:00 AM</td><td>0</td></tr>\n",
       "\t<tr><td>1503960366</td><td>4/12/2016 12:15:00 AM</td><td>0</td></tr>\n",
       "\t<tr><td>1503960366</td><td>4/12/2016 12:16:00 AM</td><td>0</td></tr>\n",
       "\t<tr><td>1503960366</td><td>4/12/2016 12:17:00 AM</td><td>0</td></tr>\n",
       "\t<tr><td>1503960366</td><td>4/12/2016 12:18:00 AM</td><td>0</td></tr>\n",
       "\t<tr><td>1503960366</td><td>4/12/2016 12:19:00 AM</td><td>0</td></tr>\n",
       "\t<tr><td>1503960366</td><td>4/12/2016 12:20:00 AM</td><td>0</td></tr>\n",
       "\t<tr><td>1503960366</td><td>4/12/2016 12:21:00 AM</td><td>0</td></tr>\n",
       "\t<tr><td>1503960366</td><td>4/12/2016 12:22:00 AM</td><td>0</td></tr>\n",
       "\t<tr><td>1503960366</td><td>4/12/2016 12:23:00 AM</td><td>0</td></tr>\n",
       "\t<tr><td>1503960366</td><td>4/12/2016 12:24:00 AM</td><td>0</td></tr>\n",
       "\t<tr><td>1503960366</td><td>4/12/2016 12:25:00 AM</td><td>1</td></tr>\n",
       "\t<tr><td>1503960366</td><td>4/12/2016 12:26:00 AM</td><td>0</td></tr>\n",
       "\t<tr><td>1503960366</td><td>4/12/2016 12:27:00 AM</td><td>0</td></tr>\n",
       "\t<tr><td>1503960366</td><td>4/12/2016 12:28:00 AM</td><td>0</td></tr>\n",
       "\t<tr><td>1503960366</td><td>4/12/2016 12:29:00 AM</td><td>1</td></tr>\n",
       "\t<tr><td>⋮</td><td>⋮</td><td>⋮</td></tr>\n",
       "\t<tr><td>8877689391</td><td>5/12/2016 1:30:00 PM</td><td>0</td></tr>\n",
       "\t<tr><td>8877689391</td><td>5/12/2016 1:31:00 PM</td><td>0</td></tr>\n",
       "\t<tr><td>8877689391</td><td>5/12/2016 1:32:00 PM</td><td>0</td></tr>\n",
       "\t<tr><td>8877689391</td><td>5/12/2016 1:33:00 PM</td><td>0</td></tr>\n",
       "\t<tr><td>8877689391</td><td>5/12/2016 1:34:00 PM</td><td>1</td></tr>\n",
       "\t<tr><td>8877689391</td><td>5/12/2016 1:35:00 PM</td><td>1</td></tr>\n",
       "\t<tr><td>8877689391</td><td>5/12/2016 1:36:00 PM</td><td>1</td></tr>\n",
       "\t<tr><td>8877689391</td><td>5/12/2016 1:37:00 PM</td><td>1</td></tr>\n",
       "\t<tr><td>8877689391</td><td>5/12/2016 1:38:00 PM</td><td>1</td></tr>\n",
       "\t<tr><td>8877689391</td><td>5/12/2016 1:39:00 PM</td><td>0</td></tr>\n",
       "\t<tr><td>8877689391</td><td>5/12/2016 1:40:00 PM</td><td>0</td></tr>\n",
       "\t<tr><td>8877689391</td><td>5/12/2016 1:41:00 PM</td><td>0</td></tr>\n",
       "\t<tr><td>8877689391</td><td>5/12/2016 1:42:00 PM</td><td>0</td></tr>\n",
       "\t<tr><td>8877689391</td><td>5/12/2016 1:43:00 PM</td><td>0</td></tr>\n",
       "\t<tr><td>8877689391</td><td>5/12/2016 1:44:00 PM</td><td>1</td></tr>\n",
       "\t<tr><td>8877689391</td><td>5/12/2016 1:45:00 PM</td><td>0</td></tr>\n",
       "\t<tr><td>8877689391</td><td>5/12/2016 1:46:00 PM</td><td>0</td></tr>\n",
       "\t<tr><td>8877689391</td><td>5/12/2016 1:47:00 PM</td><td>0</td></tr>\n",
       "\t<tr><td>8877689391</td><td>5/12/2016 1:48:00 PM</td><td>0</td></tr>\n",
       "\t<tr><td>8877689391</td><td>5/12/2016 1:49:00 PM</td><td>0</td></tr>\n",
       "\t<tr><td>8877689391</td><td>5/12/2016 1:50:00 PM</td><td>0</td></tr>\n",
       "\t<tr><td>8877689391</td><td>5/12/2016 1:51:00 PM</td><td>0</td></tr>\n",
       "\t<tr><td>8877689391</td><td>5/12/2016 1:52:00 PM</td><td>0</td></tr>\n",
       "\t<tr><td>8877689391</td><td>5/12/2016 1:53:00 PM</td><td>0</td></tr>\n",
       "\t<tr><td>8877689391</td><td>5/12/2016 1:54:00 PM</td><td>0</td></tr>\n",
       "\t<tr><td>8877689391</td><td>5/12/2016 1:55:00 PM</td><td>0</td></tr>\n",
       "\t<tr><td>8877689391</td><td>5/12/2016 1:56:00 PM</td><td>0</td></tr>\n",
       "\t<tr><td>8877689391</td><td>5/12/2016 1:57:00 PM</td><td>0</td></tr>\n",
       "\t<tr><td>8877689391</td><td>5/12/2016 1:58:00 PM</td><td>0</td></tr>\n",
       "\t<tr><td>8877689391</td><td>5/12/2016 1:59:00 PM</td><td>0</td></tr>\n",
       "</tbody>\n",
       "</table>\n"
      ],
      "text/latex": [
       "A spec\\_tbl\\_df: 1325580 × 3\n",
       "\\begin{tabular}{lll}\n",
       " id & activity\\_minute & intensity\\\\\n",
       " <dbl> & <chr> & <dbl>\\\\\n",
       "\\hline\n",
       "\t 1503960366 & 4/12/2016 12:00:00 AM & 0\\\\\n",
       "\t 1503960366 & 4/12/2016 12:01:00 AM & 0\\\\\n",
       "\t 1503960366 & 4/12/2016 12:02:00 AM & 0\\\\\n",
       "\t 1503960366 & 4/12/2016 12:03:00 AM & 0\\\\\n",
       "\t 1503960366 & 4/12/2016 12:04:00 AM & 0\\\\\n",
       "\t 1503960366 & 4/12/2016 12:05:00 AM & 0\\\\\n",
       "\t 1503960366 & 4/12/2016 12:06:00 AM & 0\\\\\n",
       "\t 1503960366 & 4/12/2016 12:07:00 AM & 0\\\\\n",
       "\t 1503960366 & 4/12/2016 12:08:00 AM & 0\\\\\n",
       "\t 1503960366 & 4/12/2016 12:09:00 AM & 0\\\\\n",
       "\t 1503960366 & 4/12/2016 12:10:00 AM & 0\\\\\n",
       "\t 1503960366 & 4/12/2016 12:11:00 AM & 0\\\\\n",
       "\t 1503960366 & 4/12/2016 12:12:00 AM & 0\\\\\n",
       "\t 1503960366 & 4/12/2016 12:13:00 AM & 0\\\\\n",
       "\t 1503960366 & 4/12/2016 12:14:00 AM & 0\\\\\n",
       "\t 1503960366 & 4/12/2016 12:15:00 AM & 0\\\\\n",
       "\t 1503960366 & 4/12/2016 12:16:00 AM & 0\\\\\n",
       "\t 1503960366 & 4/12/2016 12:17:00 AM & 0\\\\\n",
       "\t 1503960366 & 4/12/2016 12:18:00 AM & 0\\\\\n",
       "\t 1503960366 & 4/12/2016 12:19:00 AM & 0\\\\\n",
       "\t 1503960366 & 4/12/2016 12:20:00 AM & 0\\\\\n",
       "\t 1503960366 & 4/12/2016 12:21:00 AM & 0\\\\\n",
       "\t 1503960366 & 4/12/2016 12:22:00 AM & 0\\\\\n",
       "\t 1503960366 & 4/12/2016 12:23:00 AM & 0\\\\\n",
       "\t 1503960366 & 4/12/2016 12:24:00 AM & 0\\\\\n",
       "\t 1503960366 & 4/12/2016 12:25:00 AM & 1\\\\\n",
       "\t 1503960366 & 4/12/2016 12:26:00 AM & 0\\\\\n",
       "\t 1503960366 & 4/12/2016 12:27:00 AM & 0\\\\\n",
       "\t 1503960366 & 4/12/2016 12:28:00 AM & 0\\\\\n",
       "\t 1503960366 & 4/12/2016 12:29:00 AM & 1\\\\\n",
       "\t ⋮ & ⋮ & ⋮\\\\\n",
       "\t 8877689391 & 5/12/2016 1:30:00 PM & 0\\\\\n",
       "\t 8877689391 & 5/12/2016 1:31:00 PM & 0\\\\\n",
       "\t 8877689391 & 5/12/2016 1:32:00 PM & 0\\\\\n",
       "\t 8877689391 & 5/12/2016 1:33:00 PM & 0\\\\\n",
       "\t 8877689391 & 5/12/2016 1:34:00 PM & 1\\\\\n",
       "\t 8877689391 & 5/12/2016 1:35:00 PM & 1\\\\\n",
       "\t 8877689391 & 5/12/2016 1:36:00 PM & 1\\\\\n",
       "\t 8877689391 & 5/12/2016 1:37:00 PM & 1\\\\\n",
       "\t 8877689391 & 5/12/2016 1:38:00 PM & 1\\\\\n",
       "\t 8877689391 & 5/12/2016 1:39:00 PM & 0\\\\\n",
       "\t 8877689391 & 5/12/2016 1:40:00 PM & 0\\\\\n",
       "\t 8877689391 & 5/12/2016 1:41:00 PM & 0\\\\\n",
       "\t 8877689391 & 5/12/2016 1:42:00 PM & 0\\\\\n",
       "\t 8877689391 & 5/12/2016 1:43:00 PM & 0\\\\\n",
       "\t 8877689391 & 5/12/2016 1:44:00 PM & 1\\\\\n",
       "\t 8877689391 & 5/12/2016 1:45:00 PM & 0\\\\\n",
       "\t 8877689391 & 5/12/2016 1:46:00 PM & 0\\\\\n",
       "\t 8877689391 & 5/12/2016 1:47:00 PM & 0\\\\\n",
       "\t 8877689391 & 5/12/2016 1:48:00 PM & 0\\\\\n",
       "\t 8877689391 & 5/12/2016 1:49:00 PM & 0\\\\\n",
       "\t 8877689391 & 5/12/2016 1:50:00 PM & 0\\\\\n",
       "\t 8877689391 & 5/12/2016 1:51:00 PM & 0\\\\\n",
       "\t 8877689391 & 5/12/2016 1:52:00 PM & 0\\\\\n",
       "\t 8877689391 & 5/12/2016 1:53:00 PM & 0\\\\\n",
       "\t 8877689391 & 5/12/2016 1:54:00 PM & 0\\\\\n",
       "\t 8877689391 & 5/12/2016 1:55:00 PM & 0\\\\\n",
       "\t 8877689391 & 5/12/2016 1:56:00 PM & 0\\\\\n",
       "\t 8877689391 & 5/12/2016 1:57:00 PM & 0\\\\\n",
       "\t 8877689391 & 5/12/2016 1:58:00 PM & 0\\\\\n",
       "\t 8877689391 & 5/12/2016 1:59:00 PM & 0\\\\\n",
       "\\end{tabular}\n"
      ],
      "text/markdown": [
       "\n",
       "A spec_tbl_df: 1325580 × 3\n",
       "\n",
       "| id &lt;dbl&gt; | activity_minute &lt;chr&gt; | intensity &lt;dbl&gt; |\n",
       "|---|---|---|\n",
       "| 1503960366 | 4/12/2016 12:00:00 AM | 0 |\n",
       "| 1503960366 | 4/12/2016 12:01:00 AM | 0 |\n",
       "| 1503960366 | 4/12/2016 12:02:00 AM | 0 |\n",
       "| 1503960366 | 4/12/2016 12:03:00 AM | 0 |\n",
       "| 1503960366 | 4/12/2016 12:04:00 AM | 0 |\n",
       "| 1503960366 | 4/12/2016 12:05:00 AM | 0 |\n",
       "| 1503960366 | 4/12/2016 12:06:00 AM | 0 |\n",
       "| 1503960366 | 4/12/2016 12:07:00 AM | 0 |\n",
       "| 1503960366 | 4/12/2016 12:08:00 AM | 0 |\n",
       "| 1503960366 | 4/12/2016 12:09:00 AM | 0 |\n",
       "| 1503960366 | 4/12/2016 12:10:00 AM | 0 |\n",
       "| 1503960366 | 4/12/2016 12:11:00 AM | 0 |\n",
       "| 1503960366 | 4/12/2016 12:12:00 AM | 0 |\n",
       "| 1503960366 | 4/12/2016 12:13:00 AM | 0 |\n",
       "| 1503960366 | 4/12/2016 12:14:00 AM | 0 |\n",
       "| 1503960366 | 4/12/2016 12:15:00 AM | 0 |\n",
       "| 1503960366 | 4/12/2016 12:16:00 AM | 0 |\n",
       "| 1503960366 | 4/12/2016 12:17:00 AM | 0 |\n",
       "| 1503960366 | 4/12/2016 12:18:00 AM | 0 |\n",
       "| 1503960366 | 4/12/2016 12:19:00 AM | 0 |\n",
       "| 1503960366 | 4/12/2016 12:20:00 AM | 0 |\n",
       "| 1503960366 | 4/12/2016 12:21:00 AM | 0 |\n",
       "| 1503960366 | 4/12/2016 12:22:00 AM | 0 |\n",
       "| 1503960366 | 4/12/2016 12:23:00 AM | 0 |\n",
       "| 1503960366 | 4/12/2016 12:24:00 AM | 0 |\n",
       "| 1503960366 | 4/12/2016 12:25:00 AM | 1 |\n",
       "| 1503960366 | 4/12/2016 12:26:00 AM | 0 |\n",
       "| 1503960366 | 4/12/2016 12:27:00 AM | 0 |\n",
       "| 1503960366 | 4/12/2016 12:28:00 AM | 0 |\n",
       "| 1503960366 | 4/12/2016 12:29:00 AM | 1 |\n",
       "| ⋮ | ⋮ | ⋮ |\n",
       "| 8877689391 | 5/12/2016 1:30:00 PM | 0 |\n",
       "| 8877689391 | 5/12/2016 1:31:00 PM | 0 |\n",
       "| 8877689391 | 5/12/2016 1:32:00 PM | 0 |\n",
       "| 8877689391 | 5/12/2016 1:33:00 PM | 0 |\n",
       "| 8877689391 | 5/12/2016 1:34:00 PM | 1 |\n",
       "| 8877689391 | 5/12/2016 1:35:00 PM | 1 |\n",
       "| 8877689391 | 5/12/2016 1:36:00 PM | 1 |\n",
       "| 8877689391 | 5/12/2016 1:37:00 PM | 1 |\n",
       "| 8877689391 | 5/12/2016 1:38:00 PM | 1 |\n",
       "| 8877689391 | 5/12/2016 1:39:00 PM | 0 |\n",
       "| 8877689391 | 5/12/2016 1:40:00 PM | 0 |\n",
       "| 8877689391 | 5/12/2016 1:41:00 PM | 0 |\n",
       "| 8877689391 | 5/12/2016 1:42:00 PM | 0 |\n",
       "| 8877689391 | 5/12/2016 1:43:00 PM | 0 |\n",
       "| 8877689391 | 5/12/2016 1:44:00 PM | 1 |\n",
       "| 8877689391 | 5/12/2016 1:45:00 PM | 0 |\n",
       "| 8877689391 | 5/12/2016 1:46:00 PM | 0 |\n",
       "| 8877689391 | 5/12/2016 1:47:00 PM | 0 |\n",
       "| 8877689391 | 5/12/2016 1:48:00 PM | 0 |\n",
       "| 8877689391 | 5/12/2016 1:49:00 PM | 0 |\n",
       "| 8877689391 | 5/12/2016 1:50:00 PM | 0 |\n",
       "| 8877689391 | 5/12/2016 1:51:00 PM | 0 |\n",
       "| 8877689391 | 5/12/2016 1:52:00 PM | 0 |\n",
       "| 8877689391 | 5/12/2016 1:53:00 PM | 0 |\n",
       "| 8877689391 | 5/12/2016 1:54:00 PM | 0 |\n",
       "| 8877689391 | 5/12/2016 1:55:00 PM | 0 |\n",
       "| 8877689391 | 5/12/2016 1:56:00 PM | 0 |\n",
       "| 8877689391 | 5/12/2016 1:57:00 PM | 0 |\n",
       "| 8877689391 | 5/12/2016 1:58:00 PM | 0 |\n",
       "| 8877689391 | 5/12/2016 1:59:00 PM | 0 |\n",
       "\n"
      ],
      "text/plain": [
       "        id         activity_minute       intensity\n",
       "1       1503960366 4/12/2016 12:00:00 AM 0        \n",
       "2       1503960366 4/12/2016 12:01:00 AM 0        \n",
       "3       1503960366 4/12/2016 12:02:00 AM 0        \n",
       "4       1503960366 4/12/2016 12:03:00 AM 0        \n",
       "5       1503960366 4/12/2016 12:04:00 AM 0        \n",
       "6       1503960366 4/12/2016 12:05:00 AM 0        \n",
       "7       1503960366 4/12/2016 12:06:00 AM 0        \n",
       "8       1503960366 4/12/2016 12:07:00 AM 0        \n",
       "9       1503960366 4/12/2016 12:08:00 AM 0        \n",
       "10      1503960366 4/12/2016 12:09:00 AM 0        \n",
       "11      1503960366 4/12/2016 12:10:00 AM 0        \n",
       "12      1503960366 4/12/2016 12:11:00 AM 0        \n",
       "13      1503960366 4/12/2016 12:12:00 AM 0        \n",
       "14      1503960366 4/12/2016 12:13:00 AM 0        \n",
       "15      1503960366 4/12/2016 12:14:00 AM 0        \n",
       "16      1503960366 4/12/2016 12:15:00 AM 0        \n",
       "17      1503960366 4/12/2016 12:16:00 AM 0        \n",
       "18      1503960366 4/12/2016 12:17:00 AM 0        \n",
       "19      1503960366 4/12/2016 12:18:00 AM 0        \n",
       "20      1503960366 4/12/2016 12:19:00 AM 0        \n",
       "21      1503960366 4/12/2016 12:20:00 AM 0        \n",
       "22      1503960366 4/12/2016 12:21:00 AM 0        \n",
       "23      1503960366 4/12/2016 12:22:00 AM 0        \n",
       "24      1503960366 4/12/2016 12:23:00 AM 0        \n",
       "25      1503960366 4/12/2016 12:24:00 AM 0        \n",
       "26      1503960366 4/12/2016 12:25:00 AM 1        \n",
       "27      1503960366 4/12/2016 12:26:00 AM 0        \n",
       "28      1503960366 4/12/2016 12:27:00 AM 0        \n",
       "29      1503960366 4/12/2016 12:28:00 AM 0        \n",
       "30      1503960366 4/12/2016 12:29:00 AM 1        \n",
       "⋮       ⋮          ⋮                     ⋮        \n",
       "1325551 8877689391 5/12/2016 1:30:00 PM  0        \n",
       "1325552 8877689391 5/12/2016 1:31:00 PM  0        \n",
       "1325553 8877689391 5/12/2016 1:32:00 PM  0        \n",
       "1325554 8877689391 5/12/2016 1:33:00 PM  0        \n",
       "1325555 8877689391 5/12/2016 1:34:00 PM  1        \n",
       "1325556 8877689391 5/12/2016 1:35:00 PM  1        \n",
       "1325557 8877689391 5/12/2016 1:36:00 PM  1        \n",
       "1325558 8877689391 5/12/2016 1:37:00 PM  1        \n",
       "1325559 8877689391 5/12/2016 1:38:00 PM  1        \n",
       "1325560 8877689391 5/12/2016 1:39:00 PM  0        \n",
       "1325561 8877689391 5/12/2016 1:40:00 PM  0        \n",
       "1325562 8877689391 5/12/2016 1:41:00 PM  0        \n",
       "1325563 8877689391 5/12/2016 1:42:00 PM  0        \n",
       "1325564 8877689391 5/12/2016 1:43:00 PM  0        \n",
       "1325565 8877689391 5/12/2016 1:44:00 PM  1        \n",
       "1325566 8877689391 5/12/2016 1:45:00 PM  0        \n",
       "1325567 8877689391 5/12/2016 1:46:00 PM  0        \n",
       "1325568 8877689391 5/12/2016 1:47:00 PM  0        \n",
       "1325569 8877689391 5/12/2016 1:48:00 PM  0        \n",
       "1325570 8877689391 5/12/2016 1:49:00 PM  0        \n",
       "1325571 8877689391 5/12/2016 1:50:00 PM  0        \n",
       "1325572 8877689391 5/12/2016 1:51:00 PM  0        \n",
       "1325573 8877689391 5/12/2016 1:52:00 PM  0        \n",
       "1325574 8877689391 5/12/2016 1:53:00 PM  0        \n",
       "1325575 8877689391 5/12/2016 1:54:00 PM  0        \n",
       "1325576 8877689391 5/12/2016 1:55:00 PM  0        \n",
       "1325577 8877689391 5/12/2016 1:56:00 PM  0        \n",
       "1325578 8877689391 5/12/2016 1:57:00 PM  0        \n",
       "1325579 8877689391 5/12/2016 1:58:00 PM  0        \n",
       "1325580 8877689391 5/12/2016 1:59:00 PM  0        "
      ]
     },
     "metadata": {},
     "output_type": "display_data"
    },
    {
     "data": {
      "text/html": [
       "<table class=\"dataframe\">\n",
       "<caption>A spec_tbl_df: 22099 × 4</caption>\n",
       "<thead>\n",
       "\t<tr><th scope=col>id</th><th scope=col>activity_hour</th><th scope=col>total_intensity</th><th scope=col>average_intensity</th></tr>\n",
       "\t<tr><th scope=col>&lt;dbl&gt;</th><th scope=col>&lt;chr&gt;</th><th scope=col>&lt;dbl&gt;</th><th scope=col>&lt;dbl&gt;</th></tr>\n",
       "</thead>\n",
       "<tbody>\n",
       "\t<tr><td>1503960366</td><td>4/12/2016 12:00:00 AM</td><td>20</td><td>0.333333</td></tr>\n",
       "\t<tr><td>1503960366</td><td>4/12/2016 1:00:00 AM </td><td> 8</td><td>0.133333</td></tr>\n",
       "\t<tr><td>1503960366</td><td>4/12/2016 2:00:00 AM </td><td> 7</td><td>0.116667</td></tr>\n",
       "\t<tr><td>1503960366</td><td>4/12/2016 3:00:00 AM </td><td> 0</td><td>0.000000</td></tr>\n",
       "\t<tr><td>1503960366</td><td>4/12/2016 4:00:00 AM </td><td> 0</td><td>0.000000</td></tr>\n",
       "\t<tr><td>1503960366</td><td>4/12/2016 5:00:00 AM </td><td> 0</td><td>0.000000</td></tr>\n",
       "\t<tr><td>1503960366</td><td>4/12/2016 6:00:00 AM </td><td> 0</td><td>0.000000</td></tr>\n",
       "\t<tr><td>1503960366</td><td>4/12/2016 7:00:00 AM </td><td> 0</td><td>0.000000</td></tr>\n",
       "\t<tr><td>1503960366</td><td>4/12/2016 8:00:00 AM </td><td>13</td><td>0.216667</td></tr>\n",
       "\t<tr><td>1503960366</td><td>4/12/2016 9:00:00 AM </td><td>30</td><td>0.500000</td></tr>\n",
       "\t<tr><td>1503960366</td><td>4/12/2016 10:00:00 AM</td><td>29</td><td>0.483333</td></tr>\n",
       "\t<tr><td>1503960366</td><td>4/12/2016 11:00:00 AM</td><td>12</td><td>0.200000</td></tr>\n",
       "\t<tr><td>1503960366</td><td>4/12/2016 12:00:00 PM</td><td>11</td><td>0.183333</td></tr>\n",
       "\t<tr><td>1503960366</td><td>4/12/2016 1:00:00 PM </td><td> 6</td><td>0.100000</td></tr>\n",
       "\t<tr><td>1503960366</td><td>4/12/2016 2:00:00 PM </td><td>36</td><td>0.600000</td></tr>\n",
       "\t<tr><td>1503960366</td><td>4/12/2016 3:00:00 PM </td><td>58</td><td>0.966667</td></tr>\n",
       "\t<tr><td>1503960366</td><td>4/12/2016 4:00:00 PM </td><td>13</td><td>0.216667</td></tr>\n",
       "\t<tr><td>1503960366</td><td>4/12/2016 5:00:00 PM </td><td>16</td><td>0.266667</td></tr>\n",
       "\t<tr><td>1503960366</td><td>4/12/2016 6:00:00 PM </td><td>29</td><td>0.483333</td></tr>\n",
       "\t<tr><td>1503960366</td><td>4/12/2016 7:00:00 PM </td><td>39</td><td>0.650000</td></tr>\n",
       "\t<tr><td>1503960366</td><td>4/12/2016 8:00:00 PM </td><td>41</td><td>0.683333</td></tr>\n",
       "\t<tr><td>1503960366</td><td>4/12/2016 9:00:00 PM </td><td>31</td><td>0.516667</td></tr>\n",
       "\t<tr><td>1503960366</td><td>4/12/2016 10:00:00 PM</td><td> 9</td><td>0.150000</td></tr>\n",
       "\t<tr><td>1503960366</td><td>4/12/2016 11:00:00 PM</td><td>21</td><td>0.350000</td></tr>\n",
       "\t<tr><td>1503960366</td><td>4/13/2016 12:00:00 AM</td><td>14</td><td>0.233333</td></tr>\n",
       "\t<tr><td>1503960366</td><td>4/13/2016 1:00:00 AM </td><td> 0</td><td>0.000000</td></tr>\n",
       "\t<tr><td>1503960366</td><td>4/13/2016 2:00:00 AM </td><td> 0</td><td>0.000000</td></tr>\n",
       "\t<tr><td>1503960366</td><td>4/13/2016 3:00:00 AM </td><td> 4</td><td>0.066667</td></tr>\n",
       "\t<tr><td>1503960366</td><td>4/13/2016 4:00:00 AM </td><td> 0</td><td>0.000000</td></tr>\n",
       "\t<tr><td>1503960366</td><td>4/13/2016 5:00:00 AM </td><td> 0</td><td>0.000000</td></tr>\n",
       "\t<tr><td>⋮</td><td>⋮</td><td>⋮</td><td>⋮</td></tr>\n",
       "\t<tr><td>8877689391</td><td>5/11/2016 9:00:00 AM </td><td> 11</td><td>0.183333</td></tr>\n",
       "\t<tr><td>8877689391</td><td>5/11/2016 10:00:00 AM</td><td> 11</td><td>0.183333</td></tr>\n",
       "\t<tr><td>8877689391</td><td>5/11/2016 11:00:00 AM</td><td> 23</td><td>0.383333</td></tr>\n",
       "\t<tr><td>8877689391</td><td>5/11/2016 12:00:00 PM</td><td> 96</td><td>1.600000</td></tr>\n",
       "\t<tr><td>8877689391</td><td>5/11/2016 1:00:00 PM </td><td> 12</td><td>0.200000</td></tr>\n",
       "\t<tr><td>8877689391</td><td>5/11/2016 2:00:00 PM </td><td>  3</td><td>0.050000</td></tr>\n",
       "\t<tr><td>8877689391</td><td>5/11/2016 3:00:00 PM </td><td>  8</td><td>0.133333</td></tr>\n",
       "\t<tr><td>8877689391</td><td>5/11/2016 4:00:00 PM </td><td> 58</td><td>0.966667</td></tr>\n",
       "\t<tr><td>8877689391</td><td>5/11/2016 5:00:00 PM </td><td>163</td><td>2.716667</td></tr>\n",
       "\t<tr><td>8877689391</td><td>5/11/2016 6:00:00 PM </td><td> 29</td><td>0.483333</td></tr>\n",
       "\t<tr><td>8877689391</td><td>5/11/2016 7:00:00 PM </td><td> 15</td><td>0.250000</td></tr>\n",
       "\t<tr><td>8877689391</td><td>5/11/2016 8:00:00 PM </td><td> 26</td><td>0.433333</td></tr>\n",
       "\t<tr><td>8877689391</td><td>5/11/2016 9:00:00 PM </td><td> 13</td><td>0.216667</td></tr>\n",
       "\t<tr><td>8877689391</td><td>5/11/2016 10:00:00 PM</td><td>  4</td><td>0.066667</td></tr>\n",
       "\t<tr><td>8877689391</td><td>5/11/2016 11:00:00 PM</td><td>  0</td><td>0.000000</td></tr>\n",
       "\t<tr><td>8877689391</td><td>5/12/2016 12:00:00 AM</td><td>  0</td><td>0.000000</td></tr>\n",
       "\t<tr><td>8877689391</td><td>5/12/2016 1:00:00 AM </td><td>  0</td><td>0.000000</td></tr>\n",
       "\t<tr><td>8877689391</td><td>5/12/2016 2:00:00 AM </td><td>  0</td><td>0.000000</td></tr>\n",
       "\t<tr><td>8877689391</td><td>5/12/2016 3:00:00 AM </td><td>  0</td><td>0.000000</td></tr>\n",
       "\t<tr><td>8877689391</td><td>5/12/2016 4:00:00 AM </td><td>  0</td><td>0.000000</td></tr>\n",
       "\t<tr><td>8877689391</td><td>5/12/2016 5:00:00 AM </td><td>  0</td><td>0.000000</td></tr>\n",
       "\t<tr><td>8877689391</td><td>5/12/2016 6:00:00 AM </td><td>  9</td><td>0.150000</td></tr>\n",
       "\t<tr><td>8877689391</td><td>5/12/2016 7:00:00 AM </td><td> 19</td><td>0.316667</td></tr>\n",
       "\t<tr><td>8877689391</td><td>5/12/2016 8:00:00 AM </td><td> 16</td><td>0.266667</td></tr>\n",
       "\t<tr><td>8877689391</td><td>5/12/2016 9:00:00 AM </td><td>  4</td><td>0.066667</td></tr>\n",
       "\t<tr><td>8877689391</td><td>5/12/2016 10:00:00 AM</td><td> 12</td><td>0.200000</td></tr>\n",
       "\t<tr><td>8877689391</td><td>5/12/2016 11:00:00 AM</td><td> 29</td><td>0.483333</td></tr>\n",
       "\t<tr><td>8877689391</td><td>5/12/2016 12:00:00 PM</td><td> 93</td><td>1.550000</td></tr>\n",
       "\t<tr><td>8877689391</td><td>5/12/2016 1:00:00 PM </td><td>  6</td><td>0.100000</td></tr>\n",
       "\t<tr><td>8877689391</td><td>5/12/2016 2:00:00 PM </td><td>  9</td><td>0.150000</td></tr>\n",
       "</tbody>\n",
       "</table>\n"
      ],
      "text/latex": [
       "A spec\\_tbl\\_df: 22099 × 4\n",
       "\\begin{tabular}{llll}\n",
       " id & activity\\_hour & total\\_intensity & average\\_intensity\\\\\n",
       " <dbl> & <chr> & <dbl> & <dbl>\\\\\n",
       "\\hline\n",
       "\t 1503960366 & 4/12/2016 12:00:00 AM & 20 & 0.333333\\\\\n",
       "\t 1503960366 & 4/12/2016 1:00:00 AM  &  8 & 0.133333\\\\\n",
       "\t 1503960366 & 4/12/2016 2:00:00 AM  &  7 & 0.116667\\\\\n",
       "\t 1503960366 & 4/12/2016 3:00:00 AM  &  0 & 0.000000\\\\\n",
       "\t 1503960366 & 4/12/2016 4:00:00 AM  &  0 & 0.000000\\\\\n",
       "\t 1503960366 & 4/12/2016 5:00:00 AM  &  0 & 0.000000\\\\\n",
       "\t 1503960366 & 4/12/2016 6:00:00 AM  &  0 & 0.000000\\\\\n",
       "\t 1503960366 & 4/12/2016 7:00:00 AM  &  0 & 0.000000\\\\\n",
       "\t 1503960366 & 4/12/2016 8:00:00 AM  & 13 & 0.216667\\\\\n",
       "\t 1503960366 & 4/12/2016 9:00:00 AM  & 30 & 0.500000\\\\\n",
       "\t 1503960366 & 4/12/2016 10:00:00 AM & 29 & 0.483333\\\\\n",
       "\t 1503960366 & 4/12/2016 11:00:00 AM & 12 & 0.200000\\\\\n",
       "\t 1503960366 & 4/12/2016 12:00:00 PM & 11 & 0.183333\\\\\n",
       "\t 1503960366 & 4/12/2016 1:00:00 PM  &  6 & 0.100000\\\\\n",
       "\t 1503960366 & 4/12/2016 2:00:00 PM  & 36 & 0.600000\\\\\n",
       "\t 1503960366 & 4/12/2016 3:00:00 PM  & 58 & 0.966667\\\\\n",
       "\t 1503960366 & 4/12/2016 4:00:00 PM  & 13 & 0.216667\\\\\n",
       "\t 1503960366 & 4/12/2016 5:00:00 PM  & 16 & 0.266667\\\\\n",
       "\t 1503960366 & 4/12/2016 6:00:00 PM  & 29 & 0.483333\\\\\n",
       "\t 1503960366 & 4/12/2016 7:00:00 PM  & 39 & 0.650000\\\\\n",
       "\t 1503960366 & 4/12/2016 8:00:00 PM  & 41 & 0.683333\\\\\n",
       "\t 1503960366 & 4/12/2016 9:00:00 PM  & 31 & 0.516667\\\\\n",
       "\t 1503960366 & 4/12/2016 10:00:00 PM &  9 & 0.150000\\\\\n",
       "\t 1503960366 & 4/12/2016 11:00:00 PM & 21 & 0.350000\\\\\n",
       "\t 1503960366 & 4/13/2016 12:00:00 AM & 14 & 0.233333\\\\\n",
       "\t 1503960366 & 4/13/2016 1:00:00 AM  &  0 & 0.000000\\\\\n",
       "\t 1503960366 & 4/13/2016 2:00:00 AM  &  0 & 0.000000\\\\\n",
       "\t 1503960366 & 4/13/2016 3:00:00 AM  &  4 & 0.066667\\\\\n",
       "\t 1503960366 & 4/13/2016 4:00:00 AM  &  0 & 0.000000\\\\\n",
       "\t 1503960366 & 4/13/2016 5:00:00 AM  &  0 & 0.000000\\\\\n",
       "\t ⋮ & ⋮ & ⋮ & ⋮\\\\\n",
       "\t 8877689391 & 5/11/2016 9:00:00 AM  &  11 & 0.183333\\\\\n",
       "\t 8877689391 & 5/11/2016 10:00:00 AM &  11 & 0.183333\\\\\n",
       "\t 8877689391 & 5/11/2016 11:00:00 AM &  23 & 0.383333\\\\\n",
       "\t 8877689391 & 5/11/2016 12:00:00 PM &  96 & 1.600000\\\\\n",
       "\t 8877689391 & 5/11/2016 1:00:00 PM  &  12 & 0.200000\\\\\n",
       "\t 8877689391 & 5/11/2016 2:00:00 PM  &   3 & 0.050000\\\\\n",
       "\t 8877689391 & 5/11/2016 3:00:00 PM  &   8 & 0.133333\\\\\n",
       "\t 8877689391 & 5/11/2016 4:00:00 PM  &  58 & 0.966667\\\\\n",
       "\t 8877689391 & 5/11/2016 5:00:00 PM  & 163 & 2.716667\\\\\n",
       "\t 8877689391 & 5/11/2016 6:00:00 PM  &  29 & 0.483333\\\\\n",
       "\t 8877689391 & 5/11/2016 7:00:00 PM  &  15 & 0.250000\\\\\n",
       "\t 8877689391 & 5/11/2016 8:00:00 PM  &  26 & 0.433333\\\\\n",
       "\t 8877689391 & 5/11/2016 9:00:00 PM  &  13 & 0.216667\\\\\n",
       "\t 8877689391 & 5/11/2016 10:00:00 PM &   4 & 0.066667\\\\\n",
       "\t 8877689391 & 5/11/2016 11:00:00 PM &   0 & 0.000000\\\\\n",
       "\t 8877689391 & 5/12/2016 12:00:00 AM &   0 & 0.000000\\\\\n",
       "\t 8877689391 & 5/12/2016 1:00:00 AM  &   0 & 0.000000\\\\\n",
       "\t 8877689391 & 5/12/2016 2:00:00 AM  &   0 & 0.000000\\\\\n",
       "\t 8877689391 & 5/12/2016 3:00:00 AM  &   0 & 0.000000\\\\\n",
       "\t 8877689391 & 5/12/2016 4:00:00 AM  &   0 & 0.000000\\\\\n",
       "\t 8877689391 & 5/12/2016 5:00:00 AM  &   0 & 0.000000\\\\\n",
       "\t 8877689391 & 5/12/2016 6:00:00 AM  &   9 & 0.150000\\\\\n",
       "\t 8877689391 & 5/12/2016 7:00:00 AM  &  19 & 0.316667\\\\\n",
       "\t 8877689391 & 5/12/2016 8:00:00 AM  &  16 & 0.266667\\\\\n",
       "\t 8877689391 & 5/12/2016 9:00:00 AM  &   4 & 0.066667\\\\\n",
       "\t 8877689391 & 5/12/2016 10:00:00 AM &  12 & 0.200000\\\\\n",
       "\t 8877689391 & 5/12/2016 11:00:00 AM &  29 & 0.483333\\\\\n",
       "\t 8877689391 & 5/12/2016 12:00:00 PM &  93 & 1.550000\\\\\n",
       "\t 8877689391 & 5/12/2016 1:00:00 PM  &   6 & 0.100000\\\\\n",
       "\t 8877689391 & 5/12/2016 2:00:00 PM  &   9 & 0.150000\\\\\n",
       "\\end{tabular}\n"
      ],
      "text/markdown": [
       "\n",
       "A spec_tbl_df: 22099 × 4\n",
       "\n",
       "| id &lt;dbl&gt; | activity_hour &lt;chr&gt; | total_intensity &lt;dbl&gt; | average_intensity &lt;dbl&gt; |\n",
       "|---|---|---|---|\n",
       "| 1503960366 | 4/12/2016 12:00:00 AM | 20 | 0.333333 |\n",
       "| 1503960366 | 4/12/2016 1:00:00 AM  |  8 | 0.133333 |\n",
       "| 1503960366 | 4/12/2016 2:00:00 AM  |  7 | 0.116667 |\n",
       "| 1503960366 | 4/12/2016 3:00:00 AM  |  0 | 0.000000 |\n",
       "| 1503960366 | 4/12/2016 4:00:00 AM  |  0 | 0.000000 |\n",
       "| 1503960366 | 4/12/2016 5:00:00 AM  |  0 | 0.000000 |\n",
       "| 1503960366 | 4/12/2016 6:00:00 AM  |  0 | 0.000000 |\n",
       "| 1503960366 | 4/12/2016 7:00:00 AM  |  0 | 0.000000 |\n",
       "| 1503960366 | 4/12/2016 8:00:00 AM  | 13 | 0.216667 |\n",
       "| 1503960366 | 4/12/2016 9:00:00 AM  | 30 | 0.500000 |\n",
       "| 1503960366 | 4/12/2016 10:00:00 AM | 29 | 0.483333 |\n",
       "| 1503960366 | 4/12/2016 11:00:00 AM | 12 | 0.200000 |\n",
       "| 1503960366 | 4/12/2016 12:00:00 PM | 11 | 0.183333 |\n",
       "| 1503960366 | 4/12/2016 1:00:00 PM  |  6 | 0.100000 |\n",
       "| 1503960366 | 4/12/2016 2:00:00 PM  | 36 | 0.600000 |\n",
       "| 1503960366 | 4/12/2016 3:00:00 PM  | 58 | 0.966667 |\n",
       "| 1503960366 | 4/12/2016 4:00:00 PM  | 13 | 0.216667 |\n",
       "| 1503960366 | 4/12/2016 5:00:00 PM  | 16 | 0.266667 |\n",
       "| 1503960366 | 4/12/2016 6:00:00 PM  | 29 | 0.483333 |\n",
       "| 1503960366 | 4/12/2016 7:00:00 PM  | 39 | 0.650000 |\n",
       "| 1503960366 | 4/12/2016 8:00:00 PM  | 41 | 0.683333 |\n",
       "| 1503960366 | 4/12/2016 9:00:00 PM  | 31 | 0.516667 |\n",
       "| 1503960366 | 4/12/2016 10:00:00 PM |  9 | 0.150000 |\n",
       "| 1503960366 | 4/12/2016 11:00:00 PM | 21 | 0.350000 |\n",
       "| 1503960366 | 4/13/2016 12:00:00 AM | 14 | 0.233333 |\n",
       "| 1503960366 | 4/13/2016 1:00:00 AM  |  0 | 0.000000 |\n",
       "| 1503960366 | 4/13/2016 2:00:00 AM  |  0 | 0.000000 |\n",
       "| 1503960366 | 4/13/2016 3:00:00 AM  |  4 | 0.066667 |\n",
       "| 1503960366 | 4/13/2016 4:00:00 AM  |  0 | 0.000000 |\n",
       "| 1503960366 | 4/13/2016 5:00:00 AM  |  0 | 0.000000 |\n",
       "| ⋮ | ⋮ | ⋮ | ⋮ |\n",
       "| 8877689391 | 5/11/2016 9:00:00 AM  |  11 | 0.183333 |\n",
       "| 8877689391 | 5/11/2016 10:00:00 AM |  11 | 0.183333 |\n",
       "| 8877689391 | 5/11/2016 11:00:00 AM |  23 | 0.383333 |\n",
       "| 8877689391 | 5/11/2016 12:00:00 PM |  96 | 1.600000 |\n",
       "| 8877689391 | 5/11/2016 1:00:00 PM  |  12 | 0.200000 |\n",
       "| 8877689391 | 5/11/2016 2:00:00 PM  |   3 | 0.050000 |\n",
       "| 8877689391 | 5/11/2016 3:00:00 PM  |   8 | 0.133333 |\n",
       "| 8877689391 | 5/11/2016 4:00:00 PM  |  58 | 0.966667 |\n",
       "| 8877689391 | 5/11/2016 5:00:00 PM  | 163 | 2.716667 |\n",
       "| 8877689391 | 5/11/2016 6:00:00 PM  |  29 | 0.483333 |\n",
       "| 8877689391 | 5/11/2016 7:00:00 PM  |  15 | 0.250000 |\n",
       "| 8877689391 | 5/11/2016 8:00:00 PM  |  26 | 0.433333 |\n",
       "| 8877689391 | 5/11/2016 9:00:00 PM  |  13 | 0.216667 |\n",
       "| 8877689391 | 5/11/2016 10:00:00 PM |   4 | 0.066667 |\n",
       "| 8877689391 | 5/11/2016 11:00:00 PM |   0 | 0.000000 |\n",
       "| 8877689391 | 5/12/2016 12:00:00 AM |   0 | 0.000000 |\n",
       "| 8877689391 | 5/12/2016 1:00:00 AM  |   0 | 0.000000 |\n",
       "| 8877689391 | 5/12/2016 2:00:00 AM  |   0 | 0.000000 |\n",
       "| 8877689391 | 5/12/2016 3:00:00 AM  |   0 | 0.000000 |\n",
       "| 8877689391 | 5/12/2016 4:00:00 AM  |   0 | 0.000000 |\n",
       "| 8877689391 | 5/12/2016 5:00:00 AM  |   0 | 0.000000 |\n",
       "| 8877689391 | 5/12/2016 6:00:00 AM  |   9 | 0.150000 |\n",
       "| 8877689391 | 5/12/2016 7:00:00 AM  |  19 | 0.316667 |\n",
       "| 8877689391 | 5/12/2016 8:00:00 AM  |  16 | 0.266667 |\n",
       "| 8877689391 | 5/12/2016 9:00:00 AM  |   4 | 0.066667 |\n",
       "| 8877689391 | 5/12/2016 10:00:00 AM |  12 | 0.200000 |\n",
       "| 8877689391 | 5/12/2016 11:00:00 AM |  29 | 0.483333 |\n",
       "| 8877689391 | 5/12/2016 12:00:00 PM |  93 | 1.550000 |\n",
       "| 8877689391 | 5/12/2016 1:00:00 PM  |   6 | 0.100000 |\n",
       "| 8877689391 | 5/12/2016 2:00:00 PM  |   9 | 0.150000 |\n",
       "\n"
      ],
      "text/plain": [
       "      id         activity_hour         total_intensity average_intensity\n",
       "1     1503960366 4/12/2016 12:00:00 AM 20              0.333333         \n",
       "2     1503960366 4/12/2016 1:00:00 AM   8              0.133333         \n",
       "3     1503960366 4/12/2016 2:00:00 AM   7              0.116667         \n",
       "4     1503960366 4/12/2016 3:00:00 AM   0              0.000000         \n",
       "5     1503960366 4/12/2016 4:00:00 AM   0              0.000000         \n",
       "6     1503960366 4/12/2016 5:00:00 AM   0              0.000000         \n",
       "7     1503960366 4/12/2016 6:00:00 AM   0              0.000000         \n",
       "8     1503960366 4/12/2016 7:00:00 AM   0              0.000000         \n",
       "9     1503960366 4/12/2016 8:00:00 AM  13              0.216667         \n",
       "10    1503960366 4/12/2016 9:00:00 AM  30              0.500000         \n",
       "11    1503960366 4/12/2016 10:00:00 AM 29              0.483333         \n",
       "12    1503960366 4/12/2016 11:00:00 AM 12              0.200000         \n",
       "13    1503960366 4/12/2016 12:00:00 PM 11              0.183333         \n",
       "14    1503960366 4/12/2016 1:00:00 PM   6              0.100000         \n",
       "15    1503960366 4/12/2016 2:00:00 PM  36              0.600000         \n",
       "16    1503960366 4/12/2016 3:00:00 PM  58              0.966667         \n",
       "17    1503960366 4/12/2016 4:00:00 PM  13              0.216667         \n",
       "18    1503960366 4/12/2016 5:00:00 PM  16              0.266667         \n",
       "19    1503960366 4/12/2016 6:00:00 PM  29              0.483333         \n",
       "20    1503960366 4/12/2016 7:00:00 PM  39              0.650000         \n",
       "21    1503960366 4/12/2016 8:00:00 PM  41              0.683333         \n",
       "22    1503960366 4/12/2016 9:00:00 PM  31              0.516667         \n",
       "23    1503960366 4/12/2016 10:00:00 PM  9              0.150000         \n",
       "24    1503960366 4/12/2016 11:00:00 PM 21              0.350000         \n",
       "25    1503960366 4/13/2016 12:00:00 AM 14              0.233333         \n",
       "26    1503960366 4/13/2016 1:00:00 AM   0              0.000000         \n",
       "27    1503960366 4/13/2016 2:00:00 AM   0              0.000000         \n",
       "28    1503960366 4/13/2016 3:00:00 AM   4              0.066667         \n",
       "29    1503960366 4/13/2016 4:00:00 AM   0              0.000000         \n",
       "30    1503960366 4/13/2016 5:00:00 AM   0              0.000000         \n",
       "⋮     ⋮          ⋮                     ⋮               ⋮                \n",
       "22070 8877689391 5/11/2016 9:00:00 AM   11             0.183333         \n",
       "22071 8877689391 5/11/2016 10:00:00 AM  11             0.183333         \n",
       "22072 8877689391 5/11/2016 11:00:00 AM  23             0.383333         \n",
       "22073 8877689391 5/11/2016 12:00:00 PM  96             1.600000         \n",
       "22074 8877689391 5/11/2016 1:00:00 PM   12             0.200000         \n",
       "22075 8877689391 5/11/2016 2:00:00 PM    3             0.050000         \n",
       "22076 8877689391 5/11/2016 3:00:00 PM    8             0.133333         \n",
       "22077 8877689391 5/11/2016 4:00:00 PM   58             0.966667         \n",
       "22078 8877689391 5/11/2016 5:00:00 PM  163             2.716667         \n",
       "22079 8877689391 5/11/2016 6:00:00 PM   29             0.483333         \n",
       "22080 8877689391 5/11/2016 7:00:00 PM   15             0.250000         \n",
       "22081 8877689391 5/11/2016 8:00:00 PM   26             0.433333         \n",
       "22082 8877689391 5/11/2016 9:00:00 PM   13             0.216667         \n",
       "22083 8877689391 5/11/2016 10:00:00 PM   4             0.066667         \n",
       "22084 8877689391 5/11/2016 11:00:00 PM   0             0.000000         \n",
       "22085 8877689391 5/12/2016 12:00:00 AM   0             0.000000         \n",
       "22086 8877689391 5/12/2016 1:00:00 AM    0             0.000000         \n",
       "22087 8877689391 5/12/2016 2:00:00 AM    0             0.000000         \n",
       "22088 8877689391 5/12/2016 3:00:00 AM    0             0.000000         \n",
       "22089 8877689391 5/12/2016 4:00:00 AM    0             0.000000         \n",
       "22090 8877689391 5/12/2016 5:00:00 AM    0             0.000000         \n",
       "22091 8877689391 5/12/2016 6:00:00 AM    9             0.150000         \n",
       "22092 8877689391 5/12/2016 7:00:00 AM   19             0.316667         \n",
       "22093 8877689391 5/12/2016 8:00:00 AM   16             0.266667         \n",
       "22094 8877689391 5/12/2016 9:00:00 AM    4             0.066667         \n",
       "22095 8877689391 5/12/2016 10:00:00 AM  12             0.200000         \n",
       "22096 8877689391 5/12/2016 11:00:00 AM  29             0.483333         \n",
       "22097 8877689391 5/12/2016 12:00:00 PM  93             1.550000         \n",
       "22098 8877689391 5/12/2016 1:00:00 PM    6             0.100000         \n",
       "22099 8877689391 5/12/2016 2:00:00 PM    9             0.150000         "
      ]
     },
     "metadata": {},
     "output_type": "display_data"
    },
    {
     "data": {
      "text/html": [
       "<table class=\"dataframe\">\n",
       "<caption>A spec_tbl_df: 22099 × 3</caption>\n",
       "<thead>\n",
       "\t<tr><th scope=col>id</th><th scope=col>activity_hour</th><th scope=col>calories</th></tr>\n",
       "\t<tr><th scope=col>&lt;dbl&gt;</th><th scope=col>&lt;chr&gt;</th><th scope=col>&lt;dbl&gt;</th></tr>\n",
       "</thead>\n",
       "<tbody>\n",
       "\t<tr><td>1503960366</td><td>4/12/2016 12:00:00 AM</td><td> 81</td></tr>\n",
       "\t<tr><td>1503960366</td><td>4/12/2016 1:00:00 AM </td><td> 61</td></tr>\n",
       "\t<tr><td>1503960366</td><td>4/12/2016 2:00:00 AM </td><td> 59</td></tr>\n",
       "\t<tr><td>1503960366</td><td>4/12/2016 3:00:00 AM </td><td> 47</td></tr>\n",
       "\t<tr><td>1503960366</td><td>4/12/2016 4:00:00 AM </td><td> 48</td></tr>\n",
       "\t<tr><td>1503960366</td><td>4/12/2016 5:00:00 AM </td><td> 48</td></tr>\n",
       "\t<tr><td>1503960366</td><td>4/12/2016 6:00:00 AM </td><td> 48</td></tr>\n",
       "\t<tr><td>1503960366</td><td>4/12/2016 7:00:00 AM </td><td> 47</td></tr>\n",
       "\t<tr><td>1503960366</td><td>4/12/2016 8:00:00 AM </td><td> 68</td></tr>\n",
       "\t<tr><td>1503960366</td><td>4/12/2016 9:00:00 AM </td><td>141</td></tr>\n",
       "\t<tr><td>1503960366</td><td>4/12/2016 10:00:00 AM</td><td> 99</td></tr>\n",
       "\t<tr><td>1503960366</td><td>4/12/2016 11:00:00 AM</td><td> 76</td></tr>\n",
       "\t<tr><td>1503960366</td><td>4/12/2016 12:00:00 PM</td><td> 73</td></tr>\n",
       "\t<tr><td>1503960366</td><td>4/12/2016 1:00:00 PM </td><td> 66</td></tr>\n",
       "\t<tr><td>1503960366</td><td>4/12/2016 2:00:00 PM </td><td>110</td></tr>\n",
       "\t<tr><td>1503960366</td><td>4/12/2016 3:00:00 PM </td><td>151</td></tr>\n",
       "\t<tr><td>1503960366</td><td>4/12/2016 4:00:00 PM </td><td> 76</td></tr>\n",
       "\t<tr><td>1503960366</td><td>4/12/2016 5:00:00 PM </td><td> 83</td></tr>\n",
       "\t<tr><td>1503960366</td><td>4/12/2016 6:00:00 PM </td><td>124</td></tr>\n",
       "\t<tr><td>1503960366</td><td>4/12/2016 7:00:00 PM </td><td>104</td></tr>\n",
       "\t<tr><td>1503960366</td><td>4/12/2016 8:00:00 PM </td><td>132</td></tr>\n",
       "\t<tr><td>1503960366</td><td>4/12/2016 9:00:00 PM </td><td>100</td></tr>\n",
       "\t<tr><td>1503960366</td><td>4/12/2016 10:00:00 PM</td><td> 65</td></tr>\n",
       "\t<tr><td>1503960366</td><td>4/12/2016 11:00:00 PM</td><td> 81</td></tr>\n",
       "\t<tr><td>1503960366</td><td>4/13/2016 12:00:00 AM</td><td> 69</td></tr>\n",
       "\t<tr><td>1503960366</td><td>4/13/2016 1:00:00 AM </td><td> 48</td></tr>\n",
       "\t<tr><td>1503960366</td><td>4/13/2016 2:00:00 AM </td><td> 47</td></tr>\n",
       "\t<tr><td>1503960366</td><td>4/13/2016 3:00:00 AM </td><td> 53</td></tr>\n",
       "\t<tr><td>1503960366</td><td>4/13/2016 4:00:00 AM </td><td> 47</td></tr>\n",
       "\t<tr><td>1503960366</td><td>4/13/2016 5:00:00 AM </td><td> 47</td></tr>\n",
       "\t<tr><td>⋮</td><td>⋮</td><td>⋮</td></tr>\n",
       "\t<tr><td>8877689391</td><td>5/11/2016 9:00:00 AM </td><td>113</td></tr>\n",
       "\t<tr><td>8877689391</td><td>5/11/2016 10:00:00 AM</td><td>107</td></tr>\n",
       "\t<tr><td>8877689391</td><td>5/11/2016 11:00:00 AM</td><td>168</td></tr>\n",
       "\t<tr><td>8877689391</td><td>5/11/2016 12:00:00 PM</td><td>402</td></tr>\n",
       "\t<tr><td>8877689391</td><td>5/11/2016 1:00:00 PM </td><td>120</td></tr>\n",
       "\t<tr><td>8877689391</td><td>5/11/2016 2:00:00 PM </td><td> 82</td></tr>\n",
       "\t<tr><td>8877689391</td><td>5/11/2016 3:00:00 PM </td><td>108</td></tr>\n",
       "\t<tr><td>8877689391</td><td>5/11/2016 4:00:00 PM </td><td>310</td></tr>\n",
       "\t<tr><td>8877689391</td><td>5/11/2016 5:00:00 PM </td><td>835</td></tr>\n",
       "\t<tr><td>8877689391</td><td>5/11/2016 6:00:00 PM </td><td>197</td></tr>\n",
       "\t<tr><td>8877689391</td><td>5/11/2016 7:00:00 PM </td><td>144</td></tr>\n",
       "\t<tr><td>8877689391</td><td>5/11/2016 8:00:00 PM </td><td>174</td></tr>\n",
       "\t<tr><td>8877689391</td><td>5/11/2016 9:00:00 PM </td><td>123</td></tr>\n",
       "\t<tr><td>8877689391</td><td>5/11/2016 10:00:00 PM</td><td> 93</td></tr>\n",
       "\t<tr><td>8877689391</td><td>5/11/2016 11:00:00 PM</td><td> 73</td></tr>\n",
       "\t<tr><td>8877689391</td><td>5/12/2016 12:00:00 AM</td><td> 73</td></tr>\n",
       "\t<tr><td>8877689391</td><td>5/12/2016 1:00:00 AM </td><td> 73</td></tr>\n",
       "\t<tr><td>8877689391</td><td>5/12/2016 2:00:00 AM </td><td> 73</td></tr>\n",
       "\t<tr><td>8877689391</td><td>5/12/2016 3:00:00 AM </td><td> 73</td></tr>\n",
       "\t<tr><td>8877689391</td><td>5/12/2016 4:00:00 AM </td><td> 73</td></tr>\n",
       "\t<tr><td>8877689391</td><td>5/12/2016 5:00:00 AM </td><td> 73</td></tr>\n",
       "\t<tr><td>8877689391</td><td>5/12/2016 6:00:00 AM </td><td>107</td></tr>\n",
       "\t<tr><td>8877689391</td><td>5/12/2016 7:00:00 AM </td><td>148</td></tr>\n",
       "\t<tr><td>8877689391</td><td>5/12/2016 8:00:00 AM </td><td>137</td></tr>\n",
       "\t<tr><td>8877689391</td><td>5/12/2016 9:00:00 AM </td><td> 88</td></tr>\n",
       "\t<tr><td>8877689391</td><td>5/12/2016 10:00:00 AM</td><td>126</td></tr>\n",
       "\t<tr><td>8877689391</td><td>5/12/2016 11:00:00 AM</td><td>192</td></tr>\n",
       "\t<tr><td>8877689391</td><td>5/12/2016 12:00:00 PM</td><td>321</td></tr>\n",
       "\t<tr><td>8877689391</td><td>5/12/2016 1:00:00 PM </td><td>101</td></tr>\n",
       "\t<tr><td>8877689391</td><td>5/12/2016 2:00:00 PM </td><td>113</td></tr>\n",
       "</tbody>\n",
       "</table>\n"
      ],
      "text/latex": [
       "A spec\\_tbl\\_df: 22099 × 3\n",
       "\\begin{tabular}{lll}\n",
       " id & activity\\_hour & calories\\\\\n",
       " <dbl> & <chr> & <dbl>\\\\\n",
       "\\hline\n",
       "\t 1503960366 & 4/12/2016 12:00:00 AM &  81\\\\\n",
       "\t 1503960366 & 4/12/2016 1:00:00 AM  &  61\\\\\n",
       "\t 1503960366 & 4/12/2016 2:00:00 AM  &  59\\\\\n",
       "\t 1503960366 & 4/12/2016 3:00:00 AM  &  47\\\\\n",
       "\t 1503960366 & 4/12/2016 4:00:00 AM  &  48\\\\\n",
       "\t 1503960366 & 4/12/2016 5:00:00 AM  &  48\\\\\n",
       "\t 1503960366 & 4/12/2016 6:00:00 AM  &  48\\\\\n",
       "\t 1503960366 & 4/12/2016 7:00:00 AM  &  47\\\\\n",
       "\t 1503960366 & 4/12/2016 8:00:00 AM  &  68\\\\\n",
       "\t 1503960366 & 4/12/2016 9:00:00 AM  & 141\\\\\n",
       "\t 1503960366 & 4/12/2016 10:00:00 AM &  99\\\\\n",
       "\t 1503960366 & 4/12/2016 11:00:00 AM &  76\\\\\n",
       "\t 1503960366 & 4/12/2016 12:00:00 PM &  73\\\\\n",
       "\t 1503960366 & 4/12/2016 1:00:00 PM  &  66\\\\\n",
       "\t 1503960366 & 4/12/2016 2:00:00 PM  & 110\\\\\n",
       "\t 1503960366 & 4/12/2016 3:00:00 PM  & 151\\\\\n",
       "\t 1503960366 & 4/12/2016 4:00:00 PM  &  76\\\\\n",
       "\t 1503960366 & 4/12/2016 5:00:00 PM  &  83\\\\\n",
       "\t 1503960366 & 4/12/2016 6:00:00 PM  & 124\\\\\n",
       "\t 1503960366 & 4/12/2016 7:00:00 PM  & 104\\\\\n",
       "\t 1503960366 & 4/12/2016 8:00:00 PM  & 132\\\\\n",
       "\t 1503960366 & 4/12/2016 9:00:00 PM  & 100\\\\\n",
       "\t 1503960366 & 4/12/2016 10:00:00 PM &  65\\\\\n",
       "\t 1503960366 & 4/12/2016 11:00:00 PM &  81\\\\\n",
       "\t 1503960366 & 4/13/2016 12:00:00 AM &  69\\\\\n",
       "\t 1503960366 & 4/13/2016 1:00:00 AM  &  48\\\\\n",
       "\t 1503960366 & 4/13/2016 2:00:00 AM  &  47\\\\\n",
       "\t 1503960366 & 4/13/2016 3:00:00 AM  &  53\\\\\n",
       "\t 1503960366 & 4/13/2016 4:00:00 AM  &  47\\\\\n",
       "\t 1503960366 & 4/13/2016 5:00:00 AM  &  47\\\\\n",
       "\t ⋮ & ⋮ & ⋮\\\\\n",
       "\t 8877689391 & 5/11/2016 9:00:00 AM  & 113\\\\\n",
       "\t 8877689391 & 5/11/2016 10:00:00 AM & 107\\\\\n",
       "\t 8877689391 & 5/11/2016 11:00:00 AM & 168\\\\\n",
       "\t 8877689391 & 5/11/2016 12:00:00 PM & 402\\\\\n",
       "\t 8877689391 & 5/11/2016 1:00:00 PM  & 120\\\\\n",
       "\t 8877689391 & 5/11/2016 2:00:00 PM  &  82\\\\\n",
       "\t 8877689391 & 5/11/2016 3:00:00 PM  & 108\\\\\n",
       "\t 8877689391 & 5/11/2016 4:00:00 PM  & 310\\\\\n",
       "\t 8877689391 & 5/11/2016 5:00:00 PM  & 835\\\\\n",
       "\t 8877689391 & 5/11/2016 6:00:00 PM  & 197\\\\\n",
       "\t 8877689391 & 5/11/2016 7:00:00 PM  & 144\\\\\n",
       "\t 8877689391 & 5/11/2016 8:00:00 PM  & 174\\\\\n",
       "\t 8877689391 & 5/11/2016 9:00:00 PM  & 123\\\\\n",
       "\t 8877689391 & 5/11/2016 10:00:00 PM &  93\\\\\n",
       "\t 8877689391 & 5/11/2016 11:00:00 PM &  73\\\\\n",
       "\t 8877689391 & 5/12/2016 12:00:00 AM &  73\\\\\n",
       "\t 8877689391 & 5/12/2016 1:00:00 AM  &  73\\\\\n",
       "\t 8877689391 & 5/12/2016 2:00:00 AM  &  73\\\\\n",
       "\t 8877689391 & 5/12/2016 3:00:00 AM  &  73\\\\\n",
       "\t 8877689391 & 5/12/2016 4:00:00 AM  &  73\\\\\n",
       "\t 8877689391 & 5/12/2016 5:00:00 AM  &  73\\\\\n",
       "\t 8877689391 & 5/12/2016 6:00:00 AM  & 107\\\\\n",
       "\t 8877689391 & 5/12/2016 7:00:00 AM  & 148\\\\\n",
       "\t 8877689391 & 5/12/2016 8:00:00 AM  & 137\\\\\n",
       "\t 8877689391 & 5/12/2016 9:00:00 AM  &  88\\\\\n",
       "\t 8877689391 & 5/12/2016 10:00:00 AM & 126\\\\\n",
       "\t 8877689391 & 5/12/2016 11:00:00 AM & 192\\\\\n",
       "\t 8877689391 & 5/12/2016 12:00:00 PM & 321\\\\\n",
       "\t 8877689391 & 5/12/2016 1:00:00 PM  & 101\\\\\n",
       "\t 8877689391 & 5/12/2016 2:00:00 PM  & 113\\\\\n",
       "\\end{tabular}\n"
      ],
      "text/markdown": [
       "\n",
       "A spec_tbl_df: 22099 × 3\n",
       "\n",
       "| id &lt;dbl&gt; | activity_hour &lt;chr&gt; | calories &lt;dbl&gt; |\n",
       "|---|---|---|\n",
       "| 1503960366 | 4/12/2016 12:00:00 AM |  81 |\n",
       "| 1503960366 | 4/12/2016 1:00:00 AM  |  61 |\n",
       "| 1503960366 | 4/12/2016 2:00:00 AM  |  59 |\n",
       "| 1503960366 | 4/12/2016 3:00:00 AM  |  47 |\n",
       "| 1503960366 | 4/12/2016 4:00:00 AM  |  48 |\n",
       "| 1503960366 | 4/12/2016 5:00:00 AM  |  48 |\n",
       "| 1503960366 | 4/12/2016 6:00:00 AM  |  48 |\n",
       "| 1503960366 | 4/12/2016 7:00:00 AM  |  47 |\n",
       "| 1503960366 | 4/12/2016 8:00:00 AM  |  68 |\n",
       "| 1503960366 | 4/12/2016 9:00:00 AM  | 141 |\n",
       "| 1503960366 | 4/12/2016 10:00:00 AM |  99 |\n",
       "| 1503960366 | 4/12/2016 11:00:00 AM |  76 |\n",
       "| 1503960366 | 4/12/2016 12:00:00 PM |  73 |\n",
       "| 1503960366 | 4/12/2016 1:00:00 PM  |  66 |\n",
       "| 1503960366 | 4/12/2016 2:00:00 PM  | 110 |\n",
       "| 1503960366 | 4/12/2016 3:00:00 PM  | 151 |\n",
       "| 1503960366 | 4/12/2016 4:00:00 PM  |  76 |\n",
       "| 1503960366 | 4/12/2016 5:00:00 PM  |  83 |\n",
       "| 1503960366 | 4/12/2016 6:00:00 PM  | 124 |\n",
       "| 1503960366 | 4/12/2016 7:00:00 PM  | 104 |\n",
       "| 1503960366 | 4/12/2016 8:00:00 PM  | 132 |\n",
       "| 1503960366 | 4/12/2016 9:00:00 PM  | 100 |\n",
       "| 1503960366 | 4/12/2016 10:00:00 PM |  65 |\n",
       "| 1503960366 | 4/12/2016 11:00:00 PM |  81 |\n",
       "| 1503960366 | 4/13/2016 12:00:00 AM |  69 |\n",
       "| 1503960366 | 4/13/2016 1:00:00 AM  |  48 |\n",
       "| 1503960366 | 4/13/2016 2:00:00 AM  |  47 |\n",
       "| 1503960366 | 4/13/2016 3:00:00 AM  |  53 |\n",
       "| 1503960366 | 4/13/2016 4:00:00 AM  |  47 |\n",
       "| 1503960366 | 4/13/2016 5:00:00 AM  |  47 |\n",
       "| ⋮ | ⋮ | ⋮ |\n",
       "| 8877689391 | 5/11/2016 9:00:00 AM  | 113 |\n",
       "| 8877689391 | 5/11/2016 10:00:00 AM | 107 |\n",
       "| 8877689391 | 5/11/2016 11:00:00 AM | 168 |\n",
       "| 8877689391 | 5/11/2016 12:00:00 PM | 402 |\n",
       "| 8877689391 | 5/11/2016 1:00:00 PM  | 120 |\n",
       "| 8877689391 | 5/11/2016 2:00:00 PM  |  82 |\n",
       "| 8877689391 | 5/11/2016 3:00:00 PM  | 108 |\n",
       "| 8877689391 | 5/11/2016 4:00:00 PM  | 310 |\n",
       "| 8877689391 | 5/11/2016 5:00:00 PM  | 835 |\n",
       "| 8877689391 | 5/11/2016 6:00:00 PM  | 197 |\n",
       "| 8877689391 | 5/11/2016 7:00:00 PM  | 144 |\n",
       "| 8877689391 | 5/11/2016 8:00:00 PM  | 174 |\n",
       "| 8877689391 | 5/11/2016 9:00:00 PM  | 123 |\n",
       "| 8877689391 | 5/11/2016 10:00:00 PM |  93 |\n",
       "| 8877689391 | 5/11/2016 11:00:00 PM |  73 |\n",
       "| 8877689391 | 5/12/2016 12:00:00 AM |  73 |\n",
       "| 8877689391 | 5/12/2016 1:00:00 AM  |  73 |\n",
       "| 8877689391 | 5/12/2016 2:00:00 AM  |  73 |\n",
       "| 8877689391 | 5/12/2016 3:00:00 AM  |  73 |\n",
       "| 8877689391 | 5/12/2016 4:00:00 AM  |  73 |\n",
       "| 8877689391 | 5/12/2016 5:00:00 AM  |  73 |\n",
       "| 8877689391 | 5/12/2016 6:00:00 AM  | 107 |\n",
       "| 8877689391 | 5/12/2016 7:00:00 AM  | 148 |\n",
       "| 8877689391 | 5/12/2016 8:00:00 AM  | 137 |\n",
       "| 8877689391 | 5/12/2016 9:00:00 AM  |  88 |\n",
       "| 8877689391 | 5/12/2016 10:00:00 AM | 126 |\n",
       "| 8877689391 | 5/12/2016 11:00:00 AM | 192 |\n",
       "| 8877689391 | 5/12/2016 12:00:00 PM | 321 |\n",
       "| 8877689391 | 5/12/2016 1:00:00 PM  | 101 |\n",
       "| 8877689391 | 5/12/2016 2:00:00 PM  | 113 |\n",
       "\n"
      ],
      "text/plain": [
       "      id         activity_hour         calories\n",
       "1     1503960366 4/12/2016 12:00:00 AM  81     \n",
       "2     1503960366 4/12/2016 1:00:00 AM   61     \n",
       "3     1503960366 4/12/2016 2:00:00 AM   59     \n",
       "4     1503960366 4/12/2016 3:00:00 AM   47     \n",
       "5     1503960366 4/12/2016 4:00:00 AM   48     \n",
       "6     1503960366 4/12/2016 5:00:00 AM   48     \n",
       "7     1503960366 4/12/2016 6:00:00 AM   48     \n",
       "8     1503960366 4/12/2016 7:00:00 AM   47     \n",
       "9     1503960366 4/12/2016 8:00:00 AM   68     \n",
       "10    1503960366 4/12/2016 9:00:00 AM  141     \n",
       "11    1503960366 4/12/2016 10:00:00 AM  99     \n",
       "12    1503960366 4/12/2016 11:00:00 AM  76     \n",
       "13    1503960366 4/12/2016 12:00:00 PM  73     \n",
       "14    1503960366 4/12/2016 1:00:00 PM   66     \n",
       "15    1503960366 4/12/2016 2:00:00 PM  110     \n",
       "16    1503960366 4/12/2016 3:00:00 PM  151     \n",
       "17    1503960366 4/12/2016 4:00:00 PM   76     \n",
       "18    1503960366 4/12/2016 5:00:00 PM   83     \n",
       "19    1503960366 4/12/2016 6:00:00 PM  124     \n",
       "20    1503960366 4/12/2016 7:00:00 PM  104     \n",
       "21    1503960366 4/12/2016 8:00:00 PM  132     \n",
       "22    1503960366 4/12/2016 9:00:00 PM  100     \n",
       "23    1503960366 4/12/2016 10:00:00 PM  65     \n",
       "24    1503960366 4/12/2016 11:00:00 PM  81     \n",
       "25    1503960366 4/13/2016 12:00:00 AM  69     \n",
       "26    1503960366 4/13/2016 1:00:00 AM   48     \n",
       "27    1503960366 4/13/2016 2:00:00 AM   47     \n",
       "28    1503960366 4/13/2016 3:00:00 AM   53     \n",
       "29    1503960366 4/13/2016 4:00:00 AM   47     \n",
       "30    1503960366 4/13/2016 5:00:00 AM   47     \n",
       "⋮     ⋮          ⋮                     ⋮       \n",
       "22070 8877689391 5/11/2016 9:00:00 AM  113     \n",
       "22071 8877689391 5/11/2016 10:00:00 AM 107     \n",
       "22072 8877689391 5/11/2016 11:00:00 AM 168     \n",
       "22073 8877689391 5/11/2016 12:00:00 PM 402     \n",
       "22074 8877689391 5/11/2016 1:00:00 PM  120     \n",
       "22075 8877689391 5/11/2016 2:00:00 PM   82     \n",
       "22076 8877689391 5/11/2016 3:00:00 PM  108     \n",
       "22077 8877689391 5/11/2016 4:00:00 PM  310     \n",
       "22078 8877689391 5/11/2016 5:00:00 PM  835     \n",
       "22079 8877689391 5/11/2016 6:00:00 PM  197     \n",
       "22080 8877689391 5/11/2016 7:00:00 PM  144     \n",
       "22081 8877689391 5/11/2016 8:00:00 PM  174     \n",
       "22082 8877689391 5/11/2016 9:00:00 PM  123     \n",
       "22083 8877689391 5/11/2016 10:00:00 PM  93     \n",
       "22084 8877689391 5/11/2016 11:00:00 PM  73     \n",
       "22085 8877689391 5/12/2016 12:00:00 AM  73     \n",
       "22086 8877689391 5/12/2016 1:00:00 AM   73     \n",
       "22087 8877689391 5/12/2016 2:00:00 AM   73     \n",
       "22088 8877689391 5/12/2016 3:00:00 AM   73     \n",
       "22089 8877689391 5/12/2016 4:00:00 AM   73     \n",
       "22090 8877689391 5/12/2016 5:00:00 AM   73     \n",
       "22091 8877689391 5/12/2016 6:00:00 AM  107     \n",
       "22092 8877689391 5/12/2016 7:00:00 AM  148     \n",
       "22093 8877689391 5/12/2016 8:00:00 AM  137     \n",
       "22094 8877689391 5/12/2016 9:00:00 AM   88     \n",
       "22095 8877689391 5/12/2016 10:00:00 AM 126     \n",
       "22096 8877689391 5/12/2016 11:00:00 AM 192     \n",
       "22097 8877689391 5/12/2016 12:00:00 PM 321     \n",
       "22098 8877689391 5/12/2016 1:00:00 PM  101     \n",
       "22099 8877689391 5/12/2016 2:00:00 PM  113     "
      ]
     },
     "metadata": {},
     "output_type": "display_data"
    },
    {
     "data": {
      "text/html": [
       "<table class=\"dataframe\">\n",
       "<caption>A spec_tbl_df: 1325580 × 3</caption>\n",
       "<thead>\n",
       "\t<tr><th scope=col>id</th><th scope=col>activity_minute</th><th scope=col>calories</th></tr>\n",
       "\t<tr><th scope=col>&lt;dbl&gt;</th><th scope=col>&lt;chr&gt;</th><th scope=col>&lt;dbl&gt;</th></tr>\n",
       "</thead>\n",
       "<tbody>\n",
       "\t<tr><td>1503960366</td><td>4/12/2016 12:00:00 AM</td><td>0.7865</td></tr>\n",
       "\t<tr><td>1503960366</td><td>4/12/2016 12:01:00 AM</td><td>0.7865</td></tr>\n",
       "\t<tr><td>1503960366</td><td>4/12/2016 12:02:00 AM</td><td>0.7865</td></tr>\n",
       "\t<tr><td>1503960366</td><td>4/12/2016 12:03:00 AM</td><td>0.7865</td></tr>\n",
       "\t<tr><td>1503960366</td><td>4/12/2016 12:04:00 AM</td><td>0.7865</td></tr>\n",
       "\t<tr><td>1503960366</td><td>4/12/2016 12:05:00 AM</td><td>0.9438</td></tr>\n",
       "\t<tr><td>1503960366</td><td>4/12/2016 12:06:00 AM</td><td>0.9438</td></tr>\n",
       "\t<tr><td>1503960366</td><td>4/12/2016 12:07:00 AM</td><td>0.9438</td></tr>\n",
       "\t<tr><td>1503960366</td><td>4/12/2016 12:08:00 AM</td><td>0.9438</td></tr>\n",
       "\t<tr><td>1503960366</td><td>4/12/2016 12:09:00 AM</td><td>0.9438</td></tr>\n",
       "\t<tr><td>1503960366</td><td>4/12/2016 12:10:00 AM</td><td>0.9438</td></tr>\n",
       "\t<tr><td>1503960366</td><td>4/12/2016 12:11:00 AM</td><td>0.9438</td></tr>\n",
       "\t<tr><td>1503960366</td><td>4/12/2016 12:12:00 AM</td><td>0.7865</td></tr>\n",
       "\t<tr><td>1503960366</td><td>4/12/2016 12:13:00 AM</td><td>0.7865</td></tr>\n",
       "\t<tr><td>1503960366</td><td>4/12/2016 12:14:00 AM</td><td>0.9438</td></tr>\n",
       "\t<tr><td>1503960366</td><td>4/12/2016 12:15:00 AM</td><td>0.7865</td></tr>\n",
       "\t<tr><td>1503960366</td><td>4/12/2016 12:16:00 AM</td><td>0.9438</td></tr>\n",
       "\t<tr><td>1503960366</td><td>4/12/2016 12:17:00 AM</td><td>0.7865</td></tr>\n",
       "\t<tr><td>1503960366</td><td>4/12/2016 12:18:00 AM</td><td>0.7865</td></tr>\n",
       "\t<tr><td>1503960366</td><td>4/12/2016 12:19:00 AM</td><td>0.7865</td></tr>\n",
       "\t<tr><td>1503960366</td><td>4/12/2016 12:20:00 AM</td><td>0.9438</td></tr>\n",
       "\t<tr><td>1503960366</td><td>4/12/2016 12:21:00 AM</td><td>0.9438</td></tr>\n",
       "\t<tr><td>1503960366</td><td>4/12/2016 12:22:00 AM</td><td>0.9438</td></tr>\n",
       "\t<tr><td>1503960366</td><td>4/12/2016 12:23:00 AM</td><td>0.9438</td></tr>\n",
       "\t<tr><td>1503960366</td><td>4/12/2016 12:24:00 AM</td><td>0.9438</td></tr>\n",
       "\t<tr><td>1503960366</td><td>4/12/2016 12:25:00 AM</td><td>2.0449</td></tr>\n",
       "\t<tr><td>1503960366</td><td>4/12/2016 12:26:00 AM</td><td>0.9438</td></tr>\n",
       "\t<tr><td>1503960366</td><td>4/12/2016 12:27:00 AM</td><td>0.9438</td></tr>\n",
       "\t<tr><td>1503960366</td><td>4/12/2016 12:28:00 AM</td><td>0.9438</td></tr>\n",
       "\t<tr><td>1503960366</td><td>4/12/2016 12:29:00 AM</td><td>2.5168</td></tr>\n",
       "\t<tr><td>⋮</td><td>⋮</td><td>⋮</td></tr>\n",
       "\t<tr><td>8877689391</td><td>5/12/2016 1:30:00 PM</td><td>1.33353</td></tr>\n",
       "\t<tr><td>8877689391</td><td>5/12/2016 1:31:00 PM</td><td>1.21230</td></tr>\n",
       "\t<tr><td>8877689391</td><td>5/12/2016 1:32:00 PM</td><td>1.21230</td></tr>\n",
       "\t<tr><td>8877689391</td><td>5/12/2016 1:33:00 PM</td><td>1.21230</td></tr>\n",
       "\t<tr><td>8877689391</td><td>5/12/2016 1:34:00 PM</td><td>3.15198</td></tr>\n",
       "\t<tr><td>8877689391</td><td>5/12/2016 1:35:00 PM</td><td>5.09166</td></tr>\n",
       "\t<tr><td>8877689391</td><td>5/12/2016 1:36:00 PM</td><td>6.54642</td></tr>\n",
       "\t<tr><td>8877689391</td><td>5/12/2016 1:37:00 PM</td><td>8.97102</td></tr>\n",
       "\t<tr><td>8877689391</td><td>5/12/2016 1:38:00 PM</td><td>3.63690</td></tr>\n",
       "\t<tr><td>8877689391</td><td>5/12/2016 1:39:00 PM</td><td>1.21230</td></tr>\n",
       "\t<tr><td>8877689391</td><td>5/12/2016 1:40:00 PM</td><td>1.33353</td></tr>\n",
       "\t<tr><td>8877689391</td><td>5/12/2016 1:41:00 PM</td><td>1.33353</td></tr>\n",
       "\t<tr><td>8877689391</td><td>5/12/2016 1:42:00 PM</td><td>1.33353</td></tr>\n",
       "\t<tr><td>8877689391</td><td>5/12/2016 1:43:00 PM</td><td>1.33353</td></tr>\n",
       "\t<tr><td>8877689391</td><td>5/12/2016 1:44:00 PM</td><td>3.39444</td></tr>\n",
       "\t<tr><td>8877689391</td><td>5/12/2016 1:45:00 PM</td><td>1.57599</td></tr>\n",
       "\t<tr><td>8877689391</td><td>5/12/2016 1:46:00 PM</td><td>1.33353</td></tr>\n",
       "\t<tr><td>8877689391</td><td>5/12/2016 1:47:00 PM</td><td>1.21230</td></tr>\n",
       "\t<tr><td>8877689391</td><td>5/12/2016 1:48:00 PM</td><td>1.33353</td></tr>\n",
       "\t<tr><td>8877689391</td><td>5/12/2016 1:49:00 PM</td><td>1.33353</td></tr>\n",
       "\t<tr><td>8877689391</td><td>5/12/2016 1:50:00 PM</td><td>1.33353</td></tr>\n",
       "\t<tr><td>8877689391</td><td>5/12/2016 1:51:00 PM</td><td>1.33353</td></tr>\n",
       "\t<tr><td>8877689391</td><td>5/12/2016 1:52:00 PM</td><td>1.33353</td></tr>\n",
       "\t<tr><td>8877689391</td><td>5/12/2016 1:53:00 PM</td><td>1.33353</td></tr>\n",
       "\t<tr><td>8877689391</td><td>5/12/2016 1:54:00 PM</td><td>1.33353</td></tr>\n",
       "\t<tr><td>8877689391</td><td>5/12/2016 1:55:00 PM</td><td>1.33353</td></tr>\n",
       "\t<tr><td>8877689391</td><td>5/12/2016 1:56:00 PM</td><td>1.33353</td></tr>\n",
       "\t<tr><td>8877689391</td><td>5/12/2016 1:57:00 PM</td><td>1.33353</td></tr>\n",
       "\t<tr><td>8877689391</td><td>5/12/2016 1:58:00 PM</td><td>1.33353</td></tr>\n",
       "\t<tr><td>8877689391</td><td>5/12/2016 1:59:00 PM</td><td>1.33353</td></tr>\n",
       "</tbody>\n",
       "</table>\n"
      ],
      "text/latex": [
       "A spec\\_tbl\\_df: 1325580 × 3\n",
       "\\begin{tabular}{lll}\n",
       " id & activity\\_minute & calories\\\\\n",
       " <dbl> & <chr> & <dbl>\\\\\n",
       "\\hline\n",
       "\t 1503960366 & 4/12/2016 12:00:00 AM & 0.7865\\\\\n",
       "\t 1503960366 & 4/12/2016 12:01:00 AM & 0.7865\\\\\n",
       "\t 1503960366 & 4/12/2016 12:02:00 AM & 0.7865\\\\\n",
       "\t 1503960366 & 4/12/2016 12:03:00 AM & 0.7865\\\\\n",
       "\t 1503960366 & 4/12/2016 12:04:00 AM & 0.7865\\\\\n",
       "\t 1503960366 & 4/12/2016 12:05:00 AM & 0.9438\\\\\n",
       "\t 1503960366 & 4/12/2016 12:06:00 AM & 0.9438\\\\\n",
       "\t 1503960366 & 4/12/2016 12:07:00 AM & 0.9438\\\\\n",
       "\t 1503960366 & 4/12/2016 12:08:00 AM & 0.9438\\\\\n",
       "\t 1503960366 & 4/12/2016 12:09:00 AM & 0.9438\\\\\n",
       "\t 1503960366 & 4/12/2016 12:10:00 AM & 0.9438\\\\\n",
       "\t 1503960366 & 4/12/2016 12:11:00 AM & 0.9438\\\\\n",
       "\t 1503960366 & 4/12/2016 12:12:00 AM & 0.7865\\\\\n",
       "\t 1503960366 & 4/12/2016 12:13:00 AM & 0.7865\\\\\n",
       "\t 1503960366 & 4/12/2016 12:14:00 AM & 0.9438\\\\\n",
       "\t 1503960366 & 4/12/2016 12:15:00 AM & 0.7865\\\\\n",
       "\t 1503960366 & 4/12/2016 12:16:00 AM & 0.9438\\\\\n",
       "\t 1503960366 & 4/12/2016 12:17:00 AM & 0.7865\\\\\n",
       "\t 1503960366 & 4/12/2016 12:18:00 AM & 0.7865\\\\\n",
       "\t 1503960366 & 4/12/2016 12:19:00 AM & 0.7865\\\\\n",
       "\t 1503960366 & 4/12/2016 12:20:00 AM & 0.9438\\\\\n",
       "\t 1503960366 & 4/12/2016 12:21:00 AM & 0.9438\\\\\n",
       "\t 1503960366 & 4/12/2016 12:22:00 AM & 0.9438\\\\\n",
       "\t 1503960366 & 4/12/2016 12:23:00 AM & 0.9438\\\\\n",
       "\t 1503960366 & 4/12/2016 12:24:00 AM & 0.9438\\\\\n",
       "\t 1503960366 & 4/12/2016 12:25:00 AM & 2.0449\\\\\n",
       "\t 1503960366 & 4/12/2016 12:26:00 AM & 0.9438\\\\\n",
       "\t 1503960366 & 4/12/2016 12:27:00 AM & 0.9438\\\\\n",
       "\t 1503960366 & 4/12/2016 12:28:00 AM & 0.9438\\\\\n",
       "\t 1503960366 & 4/12/2016 12:29:00 AM & 2.5168\\\\\n",
       "\t ⋮ & ⋮ & ⋮\\\\\n",
       "\t 8877689391 & 5/12/2016 1:30:00 PM & 1.33353\\\\\n",
       "\t 8877689391 & 5/12/2016 1:31:00 PM & 1.21230\\\\\n",
       "\t 8877689391 & 5/12/2016 1:32:00 PM & 1.21230\\\\\n",
       "\t 8877689391 & 5/12/2016 1:33:00 PM & 1.21230\\\\\n",
       "\t 8877689391 & 5/12/2016 1:34:00 PM & 3.15198\\\\\n",
       "\t 8877689391 & 5/12/2016 1:35:00 PM & 5.09166\\\\\n",
       "\t 8877689391 & 5/12/2016 1:36:00 PM & 6.54642\\\\\n",
       "\t 8877689391 & 5/12/2016 1:37:00 PM & 8.97102\\\\\n",
       "\t 8877689391 & 5/12/2016 1:38:00 PM & 3.63690\\\\\n",
       "\t 8877689391 & 5/12/2016 1:39:00 PM & 1.21230\\\\\n",
       "\t 8877689391 & 5/12/2016 1:40:00 PM & 1.33353\\\\\n",
       "\t 8877689391 & 5/12/2016 1:41:00 PM & 1.33353\\\\\n",
       "\t 8877689391 & 5/12/2016 1:42:00 PM & 1.33353\\\\\n",
       "\t 8877689391 & 5/12/2016 1:43:00 PM & 1.33353\\\\\n",
       "\t 8877689391 & 5/12/2016 1:44:00 PM & 3.39444\\\\\n",
       "\t 8877689391 & 5/12/2016 1:45:00 PM & 1.57599\\\\\n",
       "\t 8877689391 & 5/12/2016 1:46:00 PM & 1.33353\\\\\n",
       "\t 8877689391 & 5/12/2016 1:47:00 PM & 1.21230\\\\\n",
       "\t 8877689391 & 5/12/2016 1:48:00 PM & 1.33353\\\\\n",
       "\t 8877689391 & 5/12/2016 1:49:00 PM & 1.33353\\\\\n",
       "\t 8877689391 & 5/12/2016 1:50:00 PM & 1.33353\\\\\n",
       "\t 8877689391 & 5/12/2016 1:51:00 PM & 1.33353\\\\\n",
       "\t 8877689391 & 5/12/2016 1:52:00 PM & 1.33353\\\\\n",
       "\t 8877689391 & 5/12/2016 1:53:00 PM & 1.33353\\\\\n",
       "\t 8877689391 & 5/12/2016 1:54:00 PM & 1.33353\\\\\n",
       "\t 8877689391 & 5/12/2016 1:55:00 PM & 1.33353\\\\\n",
       "\t 8877689391 & 5/12/2016 1:56:00 PM & 1.33353\\\\\n",
       "\t 8877689391 & 5/12/2016 1:57:00 PM & 1.33353\\\\\n",
       "\t 8877689391 & 5/12/2016 1:58:00 PM & 1.33353\\\\\n",
       "\t 8877689391 & 5/12/2016 1:59:00 PM & 1.33353\\\\\n",
       "\\end{tabular}\n"
      ],
      "text/markdown": [
       "\n",
       "A spec_tbl_df: 1325580 × 3\n",
       "\n",
       "| id &lt;dbl&gt; | activity_minute &lt;chr&gt; | calories &lt;dbl&gt; |\n",
       "|---|---|---|\n",
       "| 1503960366 | 4/12/2016 12:00:00 AM | 0.7865 |\n",
       "| 1503960366 | 4/12/2016 12:01:00 AM | 0.7865 |\n",
       "| 1503960366 | 4/12/2016 12:02:00 AM | 0.7865 |\n",
       "| 1503960366 | 4/12/2016 12:03:00 AM | 0.7865 |\n",
       "| 1503960366 | 4/12/2016 12:04:00 AM | 0.7865 |\n",
       "| 1503960366 | 4/12/2016 12:05:00 AM | 0.9438 |\n",
       "| 1503960366 | 4/12/2016 12:06:00 AM | 0.9438 |\n",
       "| 1503960366 | 4/12/2016 12:07:00 AM | 0.9438 |\n",
       "| 1503960366 | 4/12/2016 12:08:00 AM | 0.9438 |\n",
       "| 1503960366 | 4/12/2016 12:09:00 AM | 0.9438 |\n",
       "| 1503960366 | 4/12/2016 12:10:00 AM | 0.9438 |\n",
       "| 1503960366 | 4/12/2016 12:11:00 AM | 0.9438 |\n",
       "| 1503960366 | 4/12/2016 12:12:00 AM | 0.7865 |\n",
       "| 1503960366 | 4/12/2016 12:13:00 AM | 0.7865 |\n",
       "| 1503960366 | 4/12/2016 12:14:00 AM | 0.9438 |\n",
       "| 1503960366 | 4/12/2016 12:15:00 AM | 0.7865 |\n",
       "| 1503960366 | 4/12/2016 12:16:00 AM | 0.9438 |\n",
       "| 1503960366 | 4/12/2016 12:17:00 AM | 0.7865 |\n",
       "| 1503960366 | 4/12/2016 12:18:00 AM | 0.7865 |\n",
       "| 1503960366 | 4/12/2016 12:19:00 AM | 0.7865 |\n",
       "| 1503960366 | 4/12/2016 12:20:00 AM | 0.9438 |\n",
       "| 1503960366 | 4/12/2016 12:21:00 AM | 0.9438 |\n",
       "| 1503960366 | 4/12/2016 12:22:00 AM | 0.9438 |\n",
       "| 1503960366 | 4/12/2016 12:23:00 AM | 0.9438 |\n",
       "| 1503960366 | 4/12/2016 12:24:00 AM | 0.9438 |\n",
       "| 1503960366 | 4/12/2016 12:25:00 AM | 2.0449 |\n",
       "| 1503960366 | 4/12/2016 12:26:00 AM | 0.9438 |\n",
       "| 1503960366 | 4/12/2016 12:27:00 AM | 0.9438 |\n",
       "| 1503960366 | 4/12/2016 12:28:00 AM | 0.9438 |\n",
       "| 1503960366 | 4/12/2016 12:29:00 AM | 2.5168 |\n",
       "| ⋮ | ⋮ | ⋮ |\n",
       "| 8877689391 | 5/12/2016 1:30:00 PM | 1.33353 |\n",
       "| 8877689391 | 5/12/2016 1:31:00 PM | 1.21230 |\n",
       "| 8877689391 | 5/12/2016 1:32:00 PM | 1.21230 |\n",
       "| 8877689391 | 5/12/2016 1:33:00 PM | 1.21230 |\n",
       "| 8877689391 | 5/12/2016 1:34:00 PM | 3.15198 |\n",
       "| 8877689391 | 5/12/2016 1:35:00 PM | 5.09166 |\n",
       "| 8877689391 | 5/12/2016 1:36:00 PM | 6.54642 |\n",
       "| 8877689391 | 5/12/2016 1:37:00 PM | 8.97102 |\n",
       "| 8877689391 | 5/12/2016 1:38:00 PM | 3.63690 |\n",
       "| 8877689391 | 5/12/2016 1:39:00 PM | 1.21230 |\n",
       "| 8877689391 | 5/12/2016 1:40:00 PM | 1.33353 |\n",
       "| 8877689391 | 5/12/2016 1:41:00 PM | 1.33353 |\n",
       "| 8877689391 | 5/12/2016 1:42:00 PM | 1.33353 |\n",
       "| 8877689391 | 5/12/2016 1:43:00 PM | 1.33353 |\n",
       "| 8877689391 | 5/12/2016 1:44:00 PM | 3.39444 |\n",
       "| 8877689391 | 5/12/2016 1:45:00 PM | 1.57599 |\n",
       "| 8877689391 | 5/12/2016 1:46:00 PM | 1.33353 |\n",
       "| 8877689391 | 5/12/2016 1:47:00 PM | 1.21230 |\n",
       "| 8877689391 | 5/12/2016 1:48:00 PM | 1.33353 |\n",
       "| 8877689391 | 5/12/2016 1:49:00 PM | 1.33353 |\n",
       "| 8877689391 | 5/12/2016 1:50:00 PM | 1.33353 |\n",
       "| 8877689391 | 5/12/2016 1:51:00 PM | 1.33353 |\n",
       "| 8877689391 | 5/12/2016 1:52:00 PM | 1.33353 |\n",
       "| 8877689391 | 5/12/2016 1:53:00 PM | 1.33353 |\n",
       "| 8877689391 | 5/12/2016 1:54:00 PM | 1.33353 |\n",
       "| 8877689391 | 5/12/2016 1:55:00 PM | 1.33353 |\n",
       "| 8877689391 | 5/12/2016 1:56:00 PM | 1.33353 |\n",
       "| 8877689391 | 5/12/2016 1:57:00 PM | 1.33353 |\n",
       "| 8877689391 | 5/12/2016 1:58:00 PM | 1.33353 |\n",
       "| 8877689391 | 5/12/2016 1:59:00 PM | 1.33353 |\n",
       "\n"
      ],
      "text/plain": [
       "        id         activity_minute       calories\n",
       "1       1503960366 4/12/2016 12:00:00 AM 0.7865  \n",
       "2       1503960366 4/12/2016 12:01:00 AM 0.7865  \n",
       "3       1503960366 4/12/2016 12:02:00 AM 0.7865  \n",
       "4       1503960366 4/12/2016 12:03:00 AM 0.7865  \n",
       "5       1503960366 4/12/2016 12:04:00 AM 0.7865  \n",
       "6       1503960366 4/12/2016 12:05:00 AM 0.9438  \n",
       "7       1503960366 4/12/2016 12:06:00 AM 0.9438  \n",
       "8       1503960366 4/12/2016 12:07:00 AM 0.9438  \n",
       "9       1503960366 4/12/2016 12:08:00 AM 0.9438  \n",
       "10      1503960366 4/12/2016 12:09:00 AM 0.9438  \n",
       "11      1503960366 4/12/2016 12:10:00 AM 0.9438  \n",
       "12      1503960366 4/12/2016 12:11:00 AM 0.9438  \n",
       "13      1503960366 4/12/2016 12:12:00 AM 0.7865  \n",
       "14      1503960366 4/12/2016 12:13:00 AM 0.7865  \n",
       "15      1503960366 4/12/2016 12:14:00 AM 0.9438  \n",
       "16      1503960366 4/12/2016 12:15:00 AM 0.7865  \n",
       "17      1503960366 4/12/2016 12:16:00 AM 0.9438  \n",
       "18      1503960366 4/12/2016 12:17:00 AM 0.7865  \n",
       "19      1503960366 4/12/2016 12:18:00 AM 0.7865  \n",
       "20      1503960366 4/12/2016 12:19:00 AM 0.7865  \n",
       "21      1503960366 4/12/2016 12:20:00 AM 0.9438  \n",
       "22      1503960366 4/12/2016 12:21:00 AM 0.9438  \n",
       "23      1503960366 4/12/2016 12:22:00 AM 0.9438  \n",
       "24      1503960366 4/12/2016 12:23:00 AM 0.9438  \n",
       "25      1503960366 4/12/2016 12:24:00 AM 0.9438  \n",
       "26      1503960366 4/12/2016 12:25:00 AM 2.0449  \n",
       "27      1503960366 4/12/2016 12:26:00 AM 0.9438  \n",
       "28      1503960366 4/12/2016 12:27:00 AM 0.9438  \n",
       "29      1503960366 4/12/2016 12:28:00 AM 0.9438  \n",
       "30      1503960366 4/12/2016 12:29:00 AM 2.5168  \n",
       "⋮       ⋮          ⋮                     ⋮       \n",
       "1325551 8877689391 5/12/2016 1:30:00 PM  1.33353 \n",
       "1325552 8877689391 5/12/2016 1:31:00 PM  1.21230 \n",
       "1325553 8877689391 5/12/2016 1:32:00 PM  1.21230 \n",
       "1325554 8877689391 5/12/2016 1:33:00 PM  1.21230 \n",
       "1325555 8877689391 5/12/2016 1:34:00 PM  3.15198 \n",
       "1325556 8877689391 5/12/2016 1:35:00 PM  5.09166 \n",
       "1325557 8877689391 5/12/2016 1:36:00 PM  6.54642 \n",
       "1325558 8877689391 5/12/2016 1:37:00 PM  8.97102 \n",
       "1325559 8877689391 5/12/2016 1:38:00 PM  3.63690 \n",
       "1325560 8877689391 5/12/2016 1:39:00 PM  1.21230 \n",
       "1325561 8877689391 5/12/2016 1:40:00 PM  1.33353 \n",
       "1325562 8877689391 5/12/2016 1:41:00 PM  1.33353 \n",
       "1325563 8877689391 5/12/2016 1:42:00 PM  1.33353 \n",
       "1325564 8877689391 5/12/2016 1:43:00 PM  1.33353 \n",
       "1325565 8877689391 5/12/2016 1:44:00 PM  3.39444 \n",
       "1325566 8877689391 5/12/2016 1:45:00 PM  1.57599 \n",
       "1325567 8877689391 5/12/2016 1:46:00 PM  1.33353 \n",
       "1325568 8877689391 5/12/2016 1:47:00 PM  1.21230 \n",
       "1325569 8877689391 5/12/2016 1:48:00 PM  1.33353 \n",
       "1325570 8877689391 5/12/2016 1:49:00 PM  1.33353 \n",
       "1325571 8877689391 5/12/2016 1:50:00 PM  1.33353 \n",
       "1325572 8877689391 5/12/2016 1:51:00 PM  1.33353 \n",
       "1325573 8877689391 5/12/2016 1:52:00 PM  1.33353 \n",
       "1325574 8877689391 5/12/2016 1:53:00 PM  1.33353 \n",
       "1325575 8877689391 5/12/2016 1:54:00 PM  1.33353 \n",
       "1325576 8877689391 5/12/2016 1:55:00 PM  1.33353 \n",
       "1325577 8877689391 5/12/2016 1:56:00 PM  1.33353 \n",
       "1325578 8877689391 5/12/2016 1:57:00 PM  1.33353 \n",
       "1325579 8877689391 5/12/2016 1:58:00 PM  1.33353 \n",
       "1325580 8877689391 5/12/2016 1:59:00 PM  1.33353 "
      ]
     },
     "metadata": {},
     "output_type": "display_data"
    }
   ],
   "source": [
    "clean_names(daily_activity)\n",
    "clean_names(sleep_day_df)\n",
    "clean_names(min_intensities)\n",
    "clean_names(hourly_intensities)\n",
    "clean_names(hourly_calories)\n",
    "clean_names(min_calories)"
   ]
  },
  {
   "cell_type": "markdown",
   "id": "66b4e987-cf8a-4ac2-a47f-dd56bd8aefe5",
   "metadata": {},
   "source": [
    "##### 2.2 Formateando a minúsculas nombres de las columnas"
   ]
  },
  {
   "cell_type": "code",
   "execution_count": 126,
   "id": "e461c943-be4c-446e-a975-9f53d4de28dd",
   "metadata": {},
   "outputs": [],
   "source": [
    "daily_activity <- rename_with(daily_activity, tolower)\n",
    "sleep_day_df <- rename_with(sleep_day_df, tolower)\n",
    "min_intensities <- rename_with(min_intensities, tolower)\n",
    "hourly_intensities <- rename_with(hourly_intensities, tolower)\n",
    "hourly_calories <- rename_with(hourly_calories, tolower)\n",
    "min_calories <- rename_with(min_calories, tolower)"
   ]
  },
  {
   "cell_type": "markdown",
   "id": "c67304b8-174c-4d48-a6ec-6db222007d27",
   "metadata": {},
   "source": [
    "###### 2.3 Formateando columna referida a fecha a tipo 'Date' con nombre date en algunos casos y en otros solo queda como caracter"
   ]
  },
  {
   "cell_type": "code",
   "execution_count": 127,
   "id": "c545491a-5147-4ad2-a6e8-bee36d5bfcb7",
   "metadata": {},
   "outputs": [],
   "source": [
    "# daily_activity\n",
    "daily_activity <- daily_activity %>% \n",
    "  rename(date = activitydate) %>% \n",
    "  mutate(date = as.POSIXct(date,format =\"%m/%d/%Y\" , tz=Sys.timezone()))\n",
    "\n",
    "daily_activity$date <- format(daily_activity$date, format = \"%m-%d-%Y\")\n",
    "\n",
    "# sleep_day\n",
    "sleep_day_df <- sleep_day_df %>%\n",
    "  rename(date = sleepday)\n",
    "\n",
    "sleep_day_df <- sleep_day_df %>%\n",
    "  mutate(date = as.POSIXct(date,format =\"%m/%d/%Y %I:%M:%S %p\" , tz=Sys.timezone()))\n",
    "\n",
    "sleep_day_df$time <- format(sleep_day_df$date, format = \"%H:%M:%S\")\n",
    "sleep_day_df$date <- format(sleep_day_df$date, format = \"%m-%d-%Y\")\n",
    "\n",
    "# min_intensities, caso que se vuelve type date y ITime\n",
    "min_intensities <- min_intensities %>% \n",
    "  rename(date = activityminute) %>% \n",
    "  mutate(date = as.POSIXct(date,format =\"%m/%d/%Y %I:%M:%S %p\" , tz=Sys.timezone()))\n",
    "\n",
    "min_intensities$time <- format(min_intensities$date, format = \"%H:%M:%S\")\n",
    "min_intensities$date <- format(min_intensities$date, format = \"%m-%d-%Y\")\n",
    "\n",
    "min_intensities$date <- as.Date(strptime(min_intensities$date, format = \"%m-%d-%Y\"))\n",
    "min_intensities$time <- as.ITime(min_intensities$time, format = \"%H:%M:%S\")\n",
    "\n",
    "# hourly_intensities\n",
    "hourly_intensities <- hourly_intensities %>%\n",
    "  rename(date = activityhour) %>%\n",
    "  mutate(date = as.POSIXct(date,format =\"%m/%d/%Y %I:%M:%S %p\" , tz=Sys.timezone()))\n",
    "\n",
    "hourly_intensities$time <- format(hourly_intensities$date, format = \"%H:%M:%S\")\n",
    "hourly_intensities$date <- format(hourly_intensities$date, format = \"%m-%d-%y\")\n",
    "\n",
    "# hourly_calories\n",
    "hourly_calories <- hourly_calories %>%\n",
    "  rename(date = activityhour) %>%\n",
    "  mutate(date = as.POSIXct(date,format =\"%m/%d/%Y %I:%M:%S %p\" , tz=Sys.timezone()))\n",
    "hourly_calories$time <- format(hourly_calories$date, format = \"%H:%M:%S\")\n",
    "hourly_calories$date <- format(hourly_calories$date, format = \"%m-%d-%y\")\n",
    "\n",
    "# min_calories\n",
    "min_calories <- min_calories %>% \n",
    "  rename(date = activityminute) %>% \n",
    "  mutate(date = as.POSIXct(date,format =\"%m/%d/%Y %I:%M:%S %p\" , tz=Sys.timezone())) %>%\n",
    "  rename(averagecalories = calories)\n",
    "min_calories$time <- format(min_calories$date, format = \"%H:%M:%S\")\n",
    "min_calories$date <- format(min_calories$date, format = \"%m-%d-%y\")"
   ]
  },
  {
   "cell_type": "markdown",
   "id": "49d2fa9d-5d73-4f68-980c-a47667a78c60",
   "metadata": {},
   "source": [
    "## 3. Análisis de uso del dispositivo inteligente"
   ]
  },
  {
   "cell_type": "markdown",
   "id": "f2a18ae9-2fd5-4c3e-a477-3a7c8f0547f9",
   "metadata": {},
   "source": [
    "Para el análisis del patrón de uso, utilizo el data.frame daily_activity para construir uno llamado daily_minutes_used en el que ubicaremos el uso que hicieron los sujetos informantes del dispositivo inteligente. En el proceso se construye una escala de uso: *bajo*, *moderado*, *regular*, *alto* totalizando los minutos de actividad desde sedentary, hasta veryactive."
   ]
  },
  {
   "cell_type": "code",
   "execution_count": 128,
   "id": "e23fd434-01ea-4e24-87f1-7618ceb430a0",
   "metadata": {},
   "outputs": [],
   "source": [
    "daily_minutes_used <- daily_activity %>%\n",
    "  group_by(id, date) %>%\n",
    "  mutate(minutesused = sum(veryactiveminutes, fairlyactiveminutes, lightlyactiveminutes, sedentaryminutes))"
   ]
  },
  {
   "cell_type": "markdown",
   "id": "1b3ad844-2571-4d1a-aeae-022c9ec95a86",
   "metadata": {},
   "source": [
    "##### 3.1 Filtrando a los sujetos con cero uso\n",
    "La idea es ubicar si alguno de los sujetos no uso durante estos 30 días el dispositivo inteligente"
   ]
  },
  {
   "cell_type": "code",
   "execution_count": 129,
   "id": "cf236b23-e77d-4458-a07c-6006bca726a2",
   "metadata": {
    "collapsed": true,
    "jupyter": {
     "outputs_hidden": true
    },
    "tags": []
   },
   "outputs": [
    {
     "data": {
      "text/html": [
       "<table class=\"dataframe\">\n",
       "<caption>A grouped_df: 0 × 16</caption>\n",
       "<thead>\n",
       "\t<tr><th scope=col>id</th><th scope=col>date</th><th scope=col>totalsteps</th><th scope=col>totaldistance</th><th scope=col>trackerdistance</th><th scope=col>loggedactivitiesdistance</th><th scope=col>veryactivedistance</th><th scope=col>moderatelyactivedistance</th><th scope=col>lightactivedistance</th><th scope=col>sedentaryactivedistance</th><th scope=col>veryactiveminutes</th><th scope=col>fairlyactiveminutes</th><th scope=col>lightlyactiveminutes</th><th scope=col>sedentaryminutes</th><th scope=col>calories</th><th scope=col>minutesused</th></tr>\n",
       "\t<tr><th scope=col>&lt;dbl&gt;</th><th scope=col>&lt;chr&gt;</th><th scope=col>&lt;dbl&gt;</th><th scope=col>&lt;dbl&gt;</th><th scope=col>&lt;dbl&gt;</th><th scope=col>&lt;dbl&gt;</th><th scope=col>&lt;dbl&gt;</th><th scope=col>&lt;dbl&gt;</th><th scope=col>&lt;dbl&gt;</th><th scope=col>&lt;dbl&gt;</th><th scope=col>&lt;dbl&gt;</th><th scope=col>&lt;dbl&gt;</th><th scope=col>&lt;dbl&gt;</th><th scope=col>&lt;dbl&gt;</th><th scope=col>&lt;dbl&gt;</th><th scope=col>&lt;dbl&gt;</th></tr>\n",
       "</thead>\n",
       "<tbody>\n",
       "</tbody>\n",
       "</table>\n"
      ],
      "text/latex": [
       "A grouped\\_df: 0 × 16\n",
       "\\begin{tabular}{llllllllllllllll}\n",
       " id & date & totalsteps & totaldistance & trackerdistance & loggedactivitiesdistance & veryactivedistance & moderatelyactivedistance & lightactivedistance & sedentaryactivedistance & veryactiveminutes & fairlyactiveminutes & lightlyactiveminutes & sedentaryminutes & calories & minutesused\\\\\n",
       " <dbl> & <chr> & <dbl> & <dbl> & <dbl> & <dbl> & <dbl> & <dbl> & <dbl> & <dbl> & <dbl> & <dbl> & <dbl> & <dbl> & <dbl> & <dbl>\\\\\n",
       "\\hline\n",
       "\\end{tabular}\n"
      ],
      "text/markdown": [
       "\n",
       "A grouped_df: 0 × 16\n",
       "\n",
       "| id &lt;dbl&gt; | date &lt;chr&gt; | totalsteps &lt;dbl&gt; | totaldistance &lt;dbl&gt; | trackerdistance &lt;dbl&gt; | loggedactivitiesdistance &lt;dbl&gt; | veryactivedistance &lt;dbl&gt; | moderatelyactivedistance &lt;dbl&gt; | lightactivedistance &lt;dbl&gt; | sedentaryactivedistance &lt;dbl&gt; | veryactiveminutes &lt;dbl&gt; | fairlyactiveminutes &lt;dbl&gt; | lightlyactiveminutes &lt;dbl&gt; | sedentaryminutes &lt;dbl&gt; | calories &lt;dbl&gt; | minutesused &lt;dbl&gt; |\n",
       "|---|---|---|---|---|---|---|---|---|---|---|---|---|---|---|---|\n",
       "\n"
      ],
      "text/plain": [
       "     id date totalsteps totaldistance trackerdistance loggedactivitiesdistance\n",
       "     veryactivedistance moderatelyactivedistance lightactivedistance\n",
       "     sedentaryactivedistance veryactiveminutes fairlyactiveminutes\n",
       "     lightlyactiveminutes sedentaryminutes calories minutesused"
      ]
     },
     "metadata": {},
     "output_type": "display_data"
    }
   ],
   "source": [
    "daily_minutes_used %>%\n",
    "  group_by(id, date) %>%\n",
    "  filter(minutesused <= 1)"
   ]
  },
  {
   "cell_type": "markdown",
   "id": "37c57fef-fb08-4800-9f3e-26001ad9a425",
   "metadata": {},
   "source": [
    "No hay ningún sujeto que no usuara el dispositivo inteligente, todos los usaron en mayor o menor medida. Lo cual indica que los dispositivos una vez adquirido siempre son usados por las personas."
   ]
  },
  {
   "cell_type": "markdown",
   "id": "ea689275-f9ce-4308-90ba-836715236315",
   "metadata": {},
   "source": [
    "##### 3.2 Descubriendo a los sujetos con menor uso diario del dispositivo inteligente"
   ]
  },
  {
   "cell_type": "code",
   "execution_count": 130,
   "id": "56cf4389-2b8c-4481-a725-dc9749e97d38",
   "metadata": {
    "collapsed": true,
    "jupyter": {
     "outputs_hidden": true
    },
    "tags": []
   },
   "outputs": [
    {
     "data": {
      "text/html": [
       "<table class=\"dataframe\">\n",
       "<caption>A grouped_df: 31 × 3</caption>\n",
       "<thead>\n",
       "\t<tr><th scope=col>id</th><th scope=col>date</th><th scope=col>minutesused</th></tr>\n",
       "\t<tr><th scope=col>&lt;dbl&gt;</th><th scope=col>&lt;chr&gt;</th><th scope=col>&lt;dbl&gt;</th></tr>\n",
       "</thead>\n",
       "<tbody>\n",
       "\t<tr><td>1927972279</td><td>04-12-2016</td><td>789</td></tr>\n",
       "\t<tr><td>6962181067</td><td>04-13-2016</td><td>722</td></tr>\n",
       "\t<tr><td>2026352035</td><td>04-14-2016</td><td>850</td></tr>\n",
       "\t<tr><td>1844505072</td><td>04-15-2016</td><td>703</td></tr>\n",
       "\t<tr><td>8378563200</td><td>04-16-2016</td><td>790</td></tr>\n",
       "\t<tr><td>8378563200</td><td>04-17-2016</td><td>692</td></tr>\n",
       "\t<tr><td>5553957443</td><td>04-18-2016</td><td>828</td></tr>\n",
       "\t<tr><td>6117666160</td><td>04-19-2016</td><td>905</td></tr>\n",
       "\t<tr><td>5553957443</td><td>04-20-2016</td><td>746</td></tr>\n",
       "\t<tr><td>2026352035</td><td>04-21-2016</td><td>902</td></tr>\n",
       "\t<tr><td>6117666160</td><td>04-22-2016</td><td>815</td></tr>\n",
       "\t<tr><td>5553957443</td><td>04-23-2016</td><td>715</td></tr>\n",
       "\t<tr><td>5553957443</td><td>04-24-2016</td><td>686</td></tr>\n",
       "\t<tr><td>4319703577</td><td>04-25-2016</td><td>942</td></tr>\n",
       "\t<tr><td>8378563200</td><td>04-26-2016</td><td>862</td></tr>\n",
       "\t<tr><td>2026352035</td><td>04-27-2016</td><td>872</td></tr>\n",
       "\t<tr><td>8378563200</td><td>04-28-2016</td><td>871</td></tr>\n",
       "\t<tr><td>2347167796</td><td>04-29-2016</td><td>  6</td></tr>\n",
       "\t<tr><td>1844505072</td><td>04-30-2016</td><td>402</td></tr>\n",
       "\t<tr><td>1844505072</td><td>05-01-2016</td><td>667</td></tr>\n",
       "\t<tr><td>1644430081</td><td>05-02-2016</td><td>838</td></tr>\n",
       "\t<tr><td>8792009665</td><td>05-03-2016</td><td>895</td></tr>\n",
       "\t<tr><td>5577150313</td><td>05-04-2016</td><td>806</td></tr>\n",
       "\t<tr><td>4445114986</td><td>05-05-2016</td><td>927</td></tr>\n",
       "\t<tr><td>6117666160</td><td>05-06-2016</td><td>806</td></tr>\n",
       "\t<tr><td>7007744171</td><td>05-07-2016</td><td>111</td></tr>\n",
       "\t<tr><td>5553957443</td><td>05-08-2016</td><td>726</td></tr>\n",
       "\t<tr><td>6117666160</td><td>05-09-2016</td><td>322</td></tr>\n",
       "\t<tr><td>8792009665</td><td>05-10-2016</td><td> 48</td></tr>\n",
       "\t<tr><td>3977333714</td><td>05-11-2016</td><td> 26</td></tr>\n",
       "\t<tr><td>4319703577</td><td>05-12-2016</td><td>  2</td></tr>\n",
       "</tbody>\n",
       "</table>\n"
      ],
      "text/latex": [
       "A grouped\\_df: 31 × 3\n",
       "\\begin{tabular}{lll}\n",
       " id & date & minutesused\\\\\n",
       " <dbl> & <chr> & <dbl>\\\\\n",
       "\\hline\n",
       "\t 1927972279 & 04-12-2016 & 789\\\\\n",
       "\t 6962181067 & 04-13-2016 & 722\\\\\n",
       "\t 2026352035 & 04-14-2016 & 850\\\\\n",
       "\t 1844505072 & 04-15-2016 & 703\\\\\n",
       "\t 8378563200 & 04-16-2016 & 790\\\\\n",
       "\t 8378563200 & 04-17-2016 & 692\\\\\n",
       "\t 5553957443 & 04-18-2016 & 828\\\\\n",
       "\t 6117666160 & 04-19-2016 & 905\\\\\n",
       "\t 5553957443 & 04-20-2016 & 746\\\\\n",
       "\t 2026352035 & 04-21-2016 & 902\\\\\n",
       "\t 6117666160 & 04-22-2016 & 815\\\\\n",
       "\t 5553957443 & 04-23-2016 & 715\\\\\n",
       "\t 5553957443 & 04-24-2016 & 686\\\\\n",
       "\t 4319703577 & 04-25-2016 & 942\\\\\n",
       "\t 8378563200 & 04-26-2016 & 862\\\\\n",
       "\t 2026352035 & 04-27-2016 & 872\\\\\n",
       "\t 8378563200 & 04-28-2016 & 871\\\\\n",
       "\t 2347167796 & 04-29-2016 &   6\\\\\n",
       "\t 1844505072 & 04-30-2016 & 402\\\\\n",
       "\t 1844505072 & 05-01-2016 & 667\\\\\n",
       "\t 1644430081 & 05-02-2016 & 838\\\\\n",
       "\t 8792009665 & 05-03-2016 & 895\\\\\n",
       "\t 5577150313 & 05-04-2016 & 806\\\\\n",
       "\t 4445114986 & 05-05-2016 & 927\\\\\n",
       "\t 6117666160 & 05-06-2016 & 806\\\\\n",
       "\t 7007744171 & 05-07-2016 & 111\\\\\n",
       "\t 5553957443 & 05-08-2016 & 726\\\\\n",
       "\t 6117666160 & 05-09-2016 & 322\\\\\n",
       "\t 8792009665 & 05-10-2016 &  48\\\\\n",
       "\t 3977333714 & 05-11-2016 &  26\\\\\n",
       "\t 4319703577 & 05-12-2016 &   2\\\\\n",
       "\\end{tabular}\n"
      ],
      "text/markdown": [
       "\n",
       "A grouped_df: 31 × 3\n",
       "\n",
       "| id &lt;dbl&gt; | date &lt;chr&gt; | minutesused &lt;dbl&gt; |\n",
       "|---|---|---|\n",
       "| 1927972279 | 04-12-2016 | 789 |\n",
       "| 6962181067 | 04-13-2016 | 722 |\n",
       "| 2026352035 | 04-14-2016 | 850 |\n",
       "| 1844505072 | 04-15-2016 | 703 |\n",
       "| 8378563200 | 04-16-2016 | 790 |\n",
       "| 8378563200 | 04-17-2016 | 692 |\n",
       "| 5553957443 | 04-18-2016 | 828 |\n",
       "| 6117666160 | 04-19-2016 | 905 |\n",
       "| 5553957443 | 04-20-2016 | 746 |\n",
       "| 2026352035 | 04-21-2016 | 902 |\n",
       "| 6117666160 | 04-22-2016 | 815 |\n",
       "| 5553957443 | 04-23-2016 | 715 |\n",
       "| 5553957443 | 04-24-2016 | 686 |\n",
       "| 4319703577 | 04-25-2016 | 942 |\n",
       "| 8378563200 | 04-26-2016 | 862 |\n",
       "| 2026352035 | 04-27-2016 | 872 |\n",
       "| 8378563200 | 04-28-2016 | 871 |\n",
       "| 2347167796 | 04-29-2016 |   6 |\n",
       "| 1844505072 | 04-30-2016 | 402 |\n",
       "| 1844505072 | 05-01-2016 | 667 |\n",
       "| 1644430081 | 05-02-2016 | 838 |\n",
       "| 8792009665 | 05-03-2016 | 895 |\n",
       "| 5577150313 | 05-04-2016 | 806 |\n",
       "| 4445114986 | 05-05-2016 | 927 |\n",
       "| 6117666160 | 05-06-2016 | 806 |\n",
       "| 7007744171 | 05-07-2016 | 111 |\n",
       "| 5553957443 | 05-08-2016 | 726 |\n",
       "| 6117666160 | 05-09-2016 | 322 |\n",
       "| 8792009665 | 05-10-2016 |  48 |\n",
       "| 3977333714 | 05-11-2016 |  26 |\n",
       "| 4319703577 | 05-12-2016 |   2 |\n",
       "\n"
      ],
      "text/plain": [
       "   id         date       minutesused\n",
       "1  1927972279 04-12-2016 789        \n",
       "2  6962181067 04-13-2016 722        \n",
       "3  2026352035 04-14-2016 850        \n",
       "4  1844505072 04-15-2016 703        \n",
       "5  8378563200 04-16-2016 790        \n",
       "6  8378563200 04-17-2016 692        \n",
       "7  5553957443 04-18-2016 828        \n",
       "8  6117666160 04-19-2016 905        \n",
       "9  5553957443 04-20-2016 746        \n",
       "10 2026352035 04-21-2016 902        \n",
       "11 6117666160 04-22-2016 815        \n",
       "12 5553957443 04-23-2016 715        \n",
       "13 5553957443 04-24-2016 686        \n",
       "14 4319703577 04-25-2016 942        \n",
       "15 8378563200 04-26-2016 862        \n",
       "16 2026352035 04-27-2016 872        \n",
       "17 8378563200 04-28-2016 871        \n",
       "18 2347167796 04-29-2016   6        \n",
       "19 1844505072 04-30-2016 402        \n",
       "20 1844505072 05-01-2016 667        \n",
       "21 1644430081 05-02-2016 838        \n",
       "22 8792009665 05-03-2016 895        \n",
       "23 5577150313 05-04-2016 806        \n",
       "24 4445114986 05-05-2016 927        \n",
       "25 6117666160 05-06-2016 806        \n",
       "26 7007744171 05-07-2016 111        \n",
       "27 5553957443 05-08-2016 726        \n",
       "28 6117666160 05-09-2016 322        \n",
       "29 8792009665 05-10-2016  48        \n",
       "30 3977333714 05-11-2016  26        \n",
       "31 4319703577 05-12-2016   2        "
      ]
     },
     "metadata": {},
     "output_type": "display_data"
    }
   ],
   "source": [
    "min_df_uso <- daily_minutes_used %>%\n",
    "  group_by(date) %>%\n",
    "  filter(minutesused == min(minutesused)) %>%\n",
    "  select(id, date, minutesused) %>%\n",
    "  arrange(date)\n",
    "View(min_df_uso)"
   ]
  },
  {
   "cell_type": "markdown",
   "id": "9b2d91e4-fbe3-4a63-8038-a7f95ff06ba7",
   "metadata": {},
   "source": [
    "Aquí se puede observar que existen algunas personas con un uso bajo del dispositivo inteligente"
   ]
  },
  {
   "cell_type": "markdown",
   "id": "fd022842-d72b-4771-bced-c9d5c2d570c9",
   "metadata": {},
   "source": [
    "##### 3.3 Destacando a aquellos un con un uso bajo. Son 5 personas"
   ]
  },
  {
   "cell_type": "code",
   "execution_count": 131,
   "id": "5f7e30e7-7d81-44a0-ab14-a9ac9981d150",
   "metadata": {
    "collapsed": true,
    "jupyter": {
     "outputs_hidden": true
    },
    "tags": []
   },
   "outputs": [
    {
     "data": {
      "text/html": [
       "<table class=\"dataframe\">\n",
       "<caption>A grouped_df: 5 × 3</caption>\n",
       "<thead>\n",
       "\t<tr><th scope=col>id</th><th scope=col>date</th><th scope=col>minutesused</th></tr>\n",
       "\t<tr><th scope=col>&lt;dbl&gt;</th><th scope=col>&lt;chr&gt;</th><th scope=col>&lt;dbl&gt;</th></tr>\n",
       "</thead>\n",
       "<tbody>\n",
       "\t<tr><td>2347167796</td><td>04-29-2016</td><td>  6</td></tr>\n",
       "\t<tr><td>7007744171</td><td>05-07-2016</td><td>111</td></tr>\n",
       "\t<tr><td>8792009665</td><td>05-10-2016</td><td> 48</td></tr>\n",
       "\t<tr><td>3977333714</td><td>05-11-2016</td><td> 26</td></tr>\n",
       "\t<tr><td>4319703577</td><td>05-12-2016</td><td>  2</td></tr>\n",
       "</tbody>\n",
       "</table>\n"
      ],
      "text/latex": [
       "A grouped\\_df: 5 × 3\n",
       "\\begin{tabular}{lll}\n",
       " id & date & minutesused\\\\\n",
       " <dbl> & <chr> & <dbl>\\\\\n",
       "\\hline\n",
       "\t 2347167796 & 04-29-2016 &   6\\\\\n",
       "\t 7007744171 & 05-07-2016 & 111\\\\\n",
       "\t 8792009665 & 05-10-2016 &  48\\\\\n",
       "\t 3977333714 & 05-11-2016 &  26\\\\\n",
       "\t 4319703577 & 05-12-2016 &   2\\\\\n",
       "\\end{tabular}\n"
      ],
      "text/markdown": [
       "\n",
       "A grouped_df: 5 × 3\n",
       "\n",
       "| id &lt;dbl&gt; | date &lt;chr&gt; | minutesused &lt;dbl&gt; |\n",
       "|---|---|---|\n",
       "| 2347167796 | 04-29-2016 |   6 |\n",
       "| 7007744171 | 05-07-2016 | 111 |\n",
       "| 8792009665 | 05-10-2016 |  48 |\n",
       "| 3977333714 | 05-11-2016 |  26 |\n",
       "| 4319703577 | 05-12-2016 |   2 |\n",
       "\n"
      ],
      "text/plain": [
       "  id         date       minutesused\n",
       "1 2347167796 04-29-2016   6        \n",
       "2 7007744171 05-07-2016 111        \n",
       "3 8792009665 05-10-2016  48        \n",
       "4 3977333714 05-11-2016  26        \n",
       "5 4319703577 05-12-2016   2        "
      ]
     },
     "metadata": {},
     "output_type": "display_data"
    }
   ],
   "source": [
    "min_df_uso %>%\n",
    "    group_by(date) %>%\n",
    "    filter(minutesused <= 150) %>%\n",
    "    select(id, date, minutesused) %>%\n",
    "    arrange(date)"
   ]
  },
  {
   "cell_type": "markdown",
   "id": "a125af6d-b036-4a68-a191-12eca92861ff",
   "metadata": {},
   "source": [
    "##### 3.4 Construyendo la escala de uso\n",
    "Esta escala tiene 4 niveles de uso: bajo, moderado, regular y alto"
   ]
  },
  {
   "cell_type": "code",
   "execution_count": 132,
   "id": "65734b90-985f-400b-b827-85ff9fa803a2",
   "metadata": {},
   "outputs": [],
   "source": [
    "rango_uso <- daily_minutes_used %>%\n",
    "  mutate(usertype = case_when(\n",
    "    minutesused < 360 ~ \"Bajo\",\n",
    "    minutesused >= 361 & minutesused < 719 ~ \"Moderado\",\n",
    "    minutesused >= 720 & minutesused < 1079 ~ \"Regular\",\n",
    "    minutesused >= 1080 ~ \"Alto\"\n",
    "  )) "
   ]
  },
  {
   "cell_type": "markdown",
   "id": "237b5861-d8f8-4fbe-8cca-aa5bcd3a2005",
   "metadata": {},
   "source": [
    "##### 3.5 Totalizar la escala"
   ]
  },
  {
   "cell_type": "code",
   "execution_count": 133,
   "id": "cfe788ba-f164-45b2-942f-8c13752f7500",
   "metadata": {
    "collapsed": true,
    "jupyter": {
     "outputs_hidden": true
    },
    "tags": []
   },
   "outputs": [
    {
     "data": {
      "text/html": [
       "<table class=\"dataframe\">\n",
       "<caption>A tibble: 4 × 3</caption>\n",
       "<thead>\n",
       "\t<tr><th scope=col>usertype</th><th scope=col>totalpercent</th><th scope=col>labels</th></tr>\n",
       "\t<tr><th scope=col>&lt;fct&gt;</th><th scope=col>&lt;dbl&gt;</th><th scope=col>&lt;chr&gt;</th></tr>\n",
       "</thead>\n",
       "<tbody>\n",
       "\t<tr><td>Alto    </td><td>60.6382979</td><td>60.64 %</td></tr>\n",
       "\t<tr><td>Bajo    </td><td> 0.9574468</td><td>0.96 % </td></tr>\n",
       "\t<tr><td>Moderado</td><td> 1.7021277</td><td>1.7 %  </td></tr>\n",
       "\t<tr><td>Regular </td><td>36.7021277</td><td>36.7 % </td></tr>\n",
       "</tbody>\n",
       "</table>\n"
      ],
      "text/latex": [
       "A tibble: 4 × 3\n",
       "\\begin{tabular}{lll}\n",
       " usertype & totalpercent & labels\\\\\n",
       " <fct> & <dbl> & <chr>\\\\\n",
       "\\hline\n",
       "\t Alto     & 60.6382979 & 60.64 \\%\\\\\n",
       "\t Bajo     &  0.9574468 & 0.96 \\% \\\\\n",
       "\t Moderado &  1.7021277 & 1.7 \\%  \\\\\n",
       "\t Regular  & 36.7021277 & 36.7 \\% \\\\\n",
       "\\end{tabular}\n"
      ],
      "text/markdown": [
       "\n",
       "A tibble: 4 × 3\n",
       "\n",
       "| usertype &lt;fct&gt; | totalpercent &lt;dbl&gt; | labels &lt;chr&gt; |\n",
       "|---|---|---|\n",
       "| Alto     | 60.6382979 | 60.64 % |\n",
       "| Bajo     |  0.9574468 | 0.96 %  |\n",
       "| Moderado |  1.7021277 | 1.7 %   |\n",
       "| Regular  | 36.7021277 | 36.7 %  |\n",
       "\n"
      ],
      "text/plain": [
       "  usertype totalpercent labels \n",
       "1 Alto     60.6382979   60.64 %\n",
       "2 Bajo      0.9574468   0.96 % \n",
       "3 Moderado  1.7021277   1.7 %  \n",
       "4 Regular  36.7021277   36.7 % "
      ]
     },
     "metadata": {},
     "output_type": "display_data"
    }
   ],
   "source": [
    "rango_uso_percent <- rango_uso %>%\n",
    "  group_by(usertype) %>%\n",
    "  summarise(total = n()) %>%\n",
    "  mutate(totals = sum(total)) %>%\n",
    "  group_by(usertype) %>%\n",
    "  summarise(totalpercent = (total/totals)*100) %>%\n",
    "  mutate(labels = paste(round(totalpercent, 2), \"%\"))\n",
    "\n",
    "rango_uso_percent$usertype <- factor(rango_uso_percent$usertype, levels = c(\"Bajo\", \"Moderado\", \"Regular\", \"Alto\"))\n",
    "View(rango_uso_percent)"
   ]
  },
  {
   "cell_type": "markdown",
   "id": "016422d9-3c9b-452b-86ff-a9c5bee744f2",
   "metadata": {},
   "source": [
    "##### 3.6 Exportar datos\n",
    "Los datos se exportan para realizar gráfico de visualización de datos en tableau"
   ]
  },
  {
   "cell_type": "code",
   "execution_count": null,
   "id": "1bca64b9-2b43-4bc2-833f-5eeae6cecfe3",
   "metadata": {},
   "outputs": [],
   "source": [
    "write.csv(rango_uso_percent, \"rango_uso_percent.csv\", row.names = FALSE)"
   ]
  },
  {
   "cell_type": "markdown",
   "id": "ffd672f6-a0b8-4f4a-93b8-fed26c542eba",
   "metadata": {},
   "source": [
    "##### G.1 Porcentaje de uso del dispositivo inteligente"
   ]
  },
  {
   "cell_type": "code",
   "execution_count": 73,
   "id": "19ed12f5-2525-4938-a6f6-9ab4f5839b82",
   "metadata": {
    "tags": []
   },
   "outputs": [
    {
     "data": {
      "image/png": "[encoded data removed]"
     },
     "metadata": {},
     "output_type": "display_data"
    }
   ],
   "source": [
    "display_png(file=\"C:/Users/Joako/Documents/R_proyectos/Caso_practico/Informe_jupyter/Imagenes/Porcentaje_uso.png\")"
   ]
  },
  {
   "cell_type": "markdown",
   "id": "3bf5427f-2c45-4b6b-81a6-55eb585c928c",
   "metadata": {},
   "source": [
    "Quizás incluir una relación entre rango de uso y la actividad física"
   ]
  },
  {
   "cell_type": "markdown",
   "id": "1968a569-4292-4330-9824-e890c3cdee3c",
   "metadata": {},
   "source": [
    "Termine de pasar uso del dispositivo. Pero noté que las url se vinculan con los archivos anteriores, quizás moficar mañana"
   ]
  },
  {
   "cell_type": "markdown",
   "id": "520a78f8-91db-49b9-8ed4-7cd6f997d321",
   "metadata": {},
   "source": [
    "## 4. Horas de mayor actividad física"
   ]
  },
  {
   "cell_type": "code",
   "execution_count": 134,
   "id": "32c72cb6-aeb3-45d5-ba84-533028a71755",
   "metadata": {},
   "outputs": [],
   "source": [
    "intensities <- hourly_intensities %>%\n",
    "  group_by(time) %>%\n",
    "  summarise(avg_intensity = mean(averageintensity))"
   ]
  },
  {
   "cell_type": "markdown",
   "id": "1daeafc8-7293-42fc-bca3-c095fafc4965",
   "metadata": {},
   "source": [
    "##### G.2 Patrón de horas de mayor actividad física"
   ]
  },
  {
   "cell_type": "code",
   "execution_count": 135,
   "id": "4b2fcb5a-3806-405e-a60b-8508358bdda2",
   "metadata": {},
   "outputs": [
    {
     "data": {
      "image/png": "[encoded data removed]",
      "text/plain": [
       "plot without title"
      ]
     },
     "metadata": {
      "image/png": {
       "height": 420,
       "width": 420
      }
     },
     "output_type": "display_data"
    }
   ],
   "source": [
    "ggplot(intensities, aes(x = time, y = avg_intensity)) +\n",
    "  geom_bar(stat = \"identity\", fill = \"#76b7b2\") +\n",
    "  theme(axis.text.x = element_text(angle = 45))+\n",
    "  labs(title = \"Patron de horas de mayor actividad física \",\n",
    "       x = \"Tiempo en horas\", y = \"Promedio de intensidad\")"
   ]
  },
  {
   "cell_type": "markdown",
   "id": "a72d535a-ffa2-4e79-9de5-0d9e7c8376fd",
   "metadata": {},
   "source": [
    "Se puede observar que las horas de mayor actividad física durante el día se corresponde en primer lugar entre las 17:00 y las 19:00 seguido de las 12:00 a las 14:00. Aquí es donde se agrupan la mayor cantidad de usuarios."
   ]
  },
  {
   "cell_type": "markdown",
   "id": "d497d355-700f-4947-8f47-47b88514ecbc",
   "metadata": {},
   "source": [
    "Hasta ahora hemos aprendido que el 97% aprox de las personas durante el período del registro de información utilizaron de en una rango regular-alto el dispositivo inteligente. Y además su patrón de mayor actividad durante el día fue de 12:00 a 14:00 y de 17:00 a 19:00 siendo este último bloque el de mayor concentración de personas haciendo actividad física.\n",
    "\n",
    "En las próximas líneas, nos centraremos en algunos aspectos más específicos, que nos ayuden a descubrir algunos otros patrones que puedan ser relevantes para Bellabet en su planificación de la campaña de marketing"
   ]
  },
  {
   "cell_type": "markdown",
   "id": "0d3ab258-4235-421d-8649-2593ad185b9e",
   "metadata": {},
   "source": [
    "### 5. Comparación del gasto calórico diario de cada persona contra su media mensual"
   ]
  },
  {
   "cell_type": "markdown",
   "id": "bca111ec-3acf-4e96-a300-3c2c7dee9386",
   "metadata": {},
   "source": [
    "##### 5.1 Crear data.frame a partir de merge de hourly_calories y hourly_intensities\n",
    "El objetivo es comparar el gasto calórico diario de cada persona durante los 30 días contra su propia media mensual y reflejar como su actividad física diaria se ubicaba por debajo o por encima.\n",
    "El data.frame intensities_calories fue creado previamente y ahora creare otro"
   ]
  },
  {
   "cell_type": "code",
   "execution_count": 136,
   "id": "951d18ac-46eb-4f72-b4ed-45899b3777f2",
   "metadata": {},
   "outputs": [],
   "source": [
    "intensities_calories <- merge(hourly_calories, hourly_intensities, by =c(\"id\", \"date\", \"time\"))"
   ]
  },
  {
   "cell_type": "code",
   "execution_count": 137,
   "id": "a8220a5d-dc15-4438-973d-1f3a67ff9202",
   "metadata": {},
   "outputs": [],
   "source": [
    "calorias_mismo <- merge(min_calories, intensities_calories, by=c(\"id\", \"date\", \"time\"))"
   ]
  },
  {
   "cell_type": "markdown",
   "id": "6a9011a1-d11b-465b-9036-f24b08d2a049",
   "metadata": {},
   "source": [
    "##### 5.2 Crear data.frame group_calories\n",
    "agrupando por id el gasto calórico"
   ]
  },
  {
   "cell_type": "code",
   "execution_count": 138,
   "id": "a88b11c5-4e1d-4e4a-a872-272b2a2e8c6e",
   "metadata": {},
   "outputs": [],
   "source": [
    "group_calories <- calorias_mismo %>%\n",
    "  select(id, date, calories) %>%\n",
    "  group_by(id, date)%>%\n",
    "  summarise(totaldiaria = sum(calories), \n",
    "            .groups = \"drop\")"
   ]
  },
  {
   "cell_type": "code",
   "execution_count": 139,
   "id": "49bfe209-3541-4d4e-bc81-00ec5a155e28",
   "metadata": {
    "tags": []
   },
   "outputs": [
    {
     "data": {
      "text/html": [
       "<table class=\"dataframe\">\n",
       "<caption>A data.frame: 6 × 3</caption>\n",
       "<thead>\n",
       "\t<tr><th></th><th scope=col>id</th><th scope=col>date</th><th scope=col>totaldiaria</th></tr>\n",
       "\t<tr><th></th><th scope=col>&lt;dbl&gt;</th><th scope=col>&lt;chr&gt;</th><th scope=col>&lt;dbl&gt;</th></tr>\n",
       "</thead>\n",
       "<tbody>\n",
       "\t<tr><th scope=row>1</th><td>1503960366</td><td>04-12-16</td><td>1988</td></tr>\n",
       "\t<tr><th scope=row>2</th><td>1624580081</td><td>04-12-16</td><td>1433</td></tr>\n",
       "\t<tr><th scope=row>3</th><td>1644430081</td><td>04-12-16</td><td>3200</td></tr>\n",
       "\t<tr><th scope=row>4</th><td>1844505072</td><td>04-12-16</td><td>2031</td></tr>\n",
       "\t<tr><th scope=row>5</th><td>1927972279</td><td>04-12-16</td><td>2195</td></tr>\n",
       "\t<tr><th scope=row>6</th><td>2022484408</td><td>04-12-16</td><td>2386</td></tr>\n",
       "</tbody>\n",
       "</table>\n"
      ],
      "text/latex": [
       "A data.frame: 6 × 3\n",
       "\\begin{tabular}{r|lll}\n",
       "  & id & date & totaldiaria\\\\\n",
       "  & <dbl> & <chr> & <dbl>\\\\\n",
       "\\hline\n",
       "\t1 & 1503960366 & 04-12-16 & 1988\\\\\n",
       "\t2 & 1624580081 & 04-12-16 & 1433\\\\\n",
       "\t3 & 1644430081 & 04-12-16 & 3200\\\\\n",
       "\t4 & 1844505072 & 04-12-16 & 2031\\\\\n",
       "\t5 & 1927972279 & 04-12-16 & 2195\\\\\n",
       "\t6 & 2022484408 & 04-12-16 & 2386\\\\\n",
       "\\end{tabular}\n"
      ],
      "text/markdown": [
       "\n",
       "A data.frame: 6 × 3\n",
       "\n",
       "| <!--/--> | id &lt;dbl&gt; | date &lt;chr&gt; | totaldiaria &lt;dbl&gt; |\n",
       "|---|---|---|---|\n",
       "| 1 | 1503960366 | 04-12-16 | 1988 |\n",
       "| 2 | 1624580081 | 04-12-16 | 1433 |\n",
       "| 3 | 1644430081 | 04-12-16 | 3200 |\n",
       "| 4 | 1844505072 | 04-12-16 | 2031 |\n",
       "| 5 | 1927972279 | 04-12-16 | 2195 |\n",
       "| 6 | 2022484408 | 04-12-16 | 2386 |\n",
       "\n"
      ],
      "text/plain": [
       "  id         date     totaldiaria\n",
       "1 1503960366 04-12-16 1988       \n",
       "2 1624580081 04-12-16 1433       \n",
       "3 1644430081 04-12-16 3200       \n",
       "4 1844505072 04-12-16 2031       \n",
       "5 1927972279 04-12-16 2195       \n",
       "6 2022484408 04-12-16 2386       "
      ]
     },
     "metadata": {},
     "output_type": "display_data"
    }
   ],
   "source": [
    "calories_id <- aggregate(totaldiaria ~ id + date, group_calories, mean)\n",
    "head(calories_id) "
   ]
  },
  {
   "cell_type": "markdown",
   "id": "8e2df553-acdf-425d-aaba-cd22588f08e9",
   "metadata": {},
   "source": [
    "##### 5.2 Creación nueva columna llamada rendimiento con dos rangos por encima o por debajo"
   ]
  },
  {
   "cell_type": "code",
   "execution_count": 140,
   "id": "a27c52be-5ec2-43fb-8d2d-f64e7a31047d",
   "metadata": {},
   "outputs": [],
   "source": [
    "group_calories$rendimiento <- \n",
    "  ifelse(group_calories$totaldiaria > calories_id$totaldiaria, \"encima\", \"debajo\")"
   ]
  },
  {
   "cell_type": "code",
   "execution_count": 141,
   "id": "c12f8a6d-81b6-418b-8ccc-2ee3a178ad90",
   "metadata": {},
   "outputs": [],
   "source": [
    "resumen <- table(group_calories$id, group_calories$rendimiento)\n",
    "\n",
    "resumen <- as.data.frame.matrix(resumen)\n",
    "colnames(resumen) <- c(\"encima\", \"debajo\")\n",
    "resumen$id <- rownames(resumen)"
   ]
  },
  {
   "cell_type": "code",
   "execution_count": 142,
   "id": "3ddb8632-ec7e-4343-9ad5-c4fd59ee0f1d",
   "metadata": {
    "tags": []
   },
   "outputs": [
    {
     "data": {
      "text/html": [
       "<table class=\"dataframe\">\n",
       "<caption>A data.frame: 6 × 3</caption>\n",
       "<thead>\n",
       "\t<tr><th></th><th scope=col>encima</th><th scope=col>debajo</th><th scope=col>id</th></tr>\n",
       "\t<tr><th></th><th scope=col>&lt;int&gt;</th><th scope=col>&lt;int&gt;</th><th scope=col>&lt;chr&gt;</th></tr>\n",
       "</thead>\n",
       "<tbody>\n",
       "\t<tr><th scope=row>1503960366</th><td>22</td><td> 8</td><td>1503960366</td></tr>\n",
       "\t<tr><th scope=row>1624580081</th><td>29</td><td> 2</td><td>1624580081</td></tr>\n",
       "\t<tr><th scope=row>1644430081</th><td> 7</td><td>23</td><td>1644430081</td></tr>\n",
       "\t<tr><th scope=row>1844505072</th><td>27</td><td> 4</td><td>1844505072</td></tr>\n",
       "\t<tr><th scope=row>1927972279</th><td>13</td><td>18</td><td>1927972279</td></tr>\n",
       "\t<tr><th scope=row>2022484408</th><td>10</td><td>21</td><td>2022484408</td></tr>\n",
       "</tbody>\n",
       "</table>\n"
      ],
      "text/latex": [
       "A data.frame: 6 × 3\n",
       "\\begin{tabular}{r|lll}\n",
       "  & encima & debajo & id\\\\\n",
       "  & <int> & <int> & <chr>\\\\\n",
       "\\hline\n",
       "\t1503960366 & 22 &  8 & 1503960366\\\\\n",
       "\t1624580081 & 29 &  2 & 1624580081\\\\\n",
       "\t1644430081 &  7 & 23 & 1644430081\\\\\n",
       "\t1844505072 & 27 &  4 & 1844505072\\\\\n",
       "\t1927972279 & 13 & 18 & 1927972279\\\\\n",
       "\t2022484408 & 10 & 21 & 2022484408\\\\\n",
       "\\end{tabular}\n"
      ],
      "text/markdown": [
       "\n",
       "A data.frame: 6 × 3\n",
       "\n",
       "| <!--/--> | encima &lt;int&gt; | debajo &lt;int&gt; | id &lt;chr&gt; |\n",
       "|---|---|---|---|\n",
       "| 1503960366 | 22 |  8 | 1503960366 |\n",
       "| 1624580081 | 29 |  2 | 1624580081 |\n",
       "| 1644430081 |  7 | 23 | 1644430081 |\n",
       "| 1844505072 | 27 |  4 | 1844505072 |\n",
       "| 1927972279 | 13 | 18 | 1927972279 |\n",
       "| 2022484408 | 10 | 21 | 2022484408 |\n",
       "\n"
      ],
      "text/plain": [
       "           encima debajo id        \n",
       "1503960366 22      8     1503960366\n",
       "1624580081 29      2     1624580081\n",
       "1644430081  7     23     1644430081\n",
       "1844505072 27      4     1844505072\n",
       "1927972279 13     18     1927972279\n",
       "2022484408 10     21     2022484408"
      ]
     },
     "metadata": {},
     "output_type": "display_data"
    }
   ],
   "source": [
    "head(resumen)"
   ]
  },
  {
   "cell_type": "markdown",
   "id": "ebba86a0-b085-4ddf-9e42-ef1ac2ad9fe4",
   "metadata": {},
   "source": [
    "##### 5.3 transforma a formato largo"
   ]
  },
  {
   "cell_type": "code",
   "execution_count": 102,
   "id": "c95d77db-a91c-441b-b902-6f08eb46430b",
   "metadata": {},
   "outputs": [],
   "source": [
    "resumen_larga <- pivot_longer(resumen, cols =c(\"debajo\", \"encima\"), names_to = \"tipo\", values_to =\"dias\")"
   ]
  },
  {
   "cell_type": "code",
   "execution_count": null,
   "id": "8ad67397-4677-4421-b026-3a0753fa840d",
   "metadata": {},
   "outputs": [],
   "source": [
    "write.csv(resumen_larga, \"resumen_larga.csv\", row.names = FALSE)"
   ]
  },
  {
   "cell_type": "markdown",
   "id": "b95f16f9-0b5d-4232-93c3-7648196ffd9e",
   "metadata": {},
   "source": [
    "##### G.3 Gasto calórico diario de cada sujeto contra su media mensual"
   ]
  },
  {
   "cell_type": "code",
   "execution_count": 103,
   "id": "cee4162b-ff7e-41c2-a7d4-1482ebf1c465",
   "metadata": {
    "tags": []
   },
   "outputs": [
    {
     "data": {
      "image/png": "[encoded data removed]"
     },
     "metadata": {},
     "output_type": "display_data"
    }
   ],
   "source": [
    "display_png(file=\"C:/Users/Joako/Documents/R_curso_analisis_datos/caso_practico_R/Informe_jupyter/Imagenes/Gasto_calorico_sujeto_contra_su_media.png\")"
   ]
  },
  {
   "cell_type": "markdown",
   "id": "c91bd694-a470-48fc-acd6-6cb2f7094a15",
   "metadata": {},
   "source": [
    "### 6. Relación entre la intensidad de la actividad física y el gasto calórico\n",
    "El objetivo es identificar una relación del gasto calórico con el nivel de intensidad de la actividad física"
   ]
  },
  {
   "cell_type": "markdown",
   "id": "cecec9cd-9f64-4b3e-a82c-4dcfed67a5f4",
   "metadata": {},
   "source": [
    "##### G.4 Relación entre la intensidad de la actividad física y el gasto calórico"
   ]
  },
  {
   "cell_type": "code",
   "execution_count": 105,
   "id": "1d107704-908a-4954-91fb-b468ddad4ab5",
   "metadata": {},
   "outputs": [
    {
     "name": "stderr",
     "output_type": "stream",
     "text": [
      "\u001b[1m\u001b[22m`geom_smooth()` using method = 'gam' and formula = 'y ~ s(x, bs = \"cs\")'\n"
     ]
    },
    {
     "data": {
      "image/png": "[encoded data removed]",
      "text/plain": [
       "plot without title"
      ]
     },
     "metadata": {
      "image/png": {
       "height": 420,
       "width": 420
      }
     },
     "output_type": "display_data"
    }
   ],
   "source": [
    "ggplot(data=intensities_calories)+\n",
    "  geom_smooth(mapping = aes(x=calories, y= averageintensity), color=\"#76b7b2\")+\n",
    "  labs(title = \"Relación entre la intensidad de la actividad física y el gasto calórico\",\n",
    "       x = \"Gasto Calórico\", y = \"Intensidad de actividad\")"
   ]
  },
  {
   "cell_type": "markdown",
   "id": "9c53ea0e-64a1-4249-b972-55388b09d191",
   "metadata": {},
   "source": [
    "En este gráfico se puede notar como existe una relación directa y positiva entre el gasto calórico y la intensidad de la actividad física. Mientras más intensa es la actividad es mayor el gasto calórico"
   ]
  },
  {
   "cell_type": "markdown",
   "id": "72c20446-4da1-455d-baa1-3a1073030dc0",
   "metadata": {},
   "source": [
    "### 6. Descripción del tiempo empleado en la actividad física y la intensidad de la misma"
   ]
  },
  {
   "cell_type": "markdown",
   "id": "bc509a0c-922d-4dd7-9f09-c480e2344dde",
   "metadata": {},
   "source": [
    "##### 6.1 Escala de intensidad"
   ]
  },
  {
   "cell_type": "code",
   "execution_count": 106,
   "id": "8361ad24-5dbb-4b4a-a9fc-96b4d3c634cb",
   "metadata": {},
   "outputs": [],
   "source": [
    "counts_0 <- min_intensities %>%\n",
    "  group_by(id) %>%\n",
    "  summarise(intensity_0 = sum(intensity == 0))\n",
    "\n",
    "counts_1 <- min_intensities %>%\n",
    "  group_by(id) %>%\n",
    "  summarise(intensity_1 = sum(intensity == 1))\n",
    "\n",
    "counts_2 <- min_intensities %>%\n",
    "  group_by(id) %>%\n",
    "  summarise(intensity_2 = sum(intensity == 2))\n",
    "\n",
    "\n",
    "counts_3 <- min_intensities %>%\n",
    "  group_by(id) %>%\n",
    "  summarise(intensity_3 = sum(intensity == 3))"
   ]
  },
  {
   "cell_type": "code",
   "execution_count": 107,
   "id": "e2ba7b8b-ddb1-47f6-9ed7-6bd54e2114a4",
   "metadata": {},
   "outputs": [],
   "source": [
    "lista_df <- list(counts_0, counts_1, counts_2, counts_3)\n",
    "escale_intensities_min <- Reduce(function(x, y) merge(x, y, by = c(\"id\"), all = TRUE), lista_df)"
   ]
  },
  {
   "cell_type": "markdown",
   "id": "0aeb0076-afd4-4e67-9420-437690252c11",
   "metadata": {},
   "source": [
    "##### 6.2 Resumen"
   ]
  },
  {
   "cell_type": "code",
   "execution_count": 143,
   "id": "c545dd78-c61f-4709-b149-0259254fe5b5",
   "metadata": {},
   "outputs": [
    {
     "data": {
      "text/plain": [
       "  intensity_0     intensity_1    intensity_2      intensity_3    \n",
       " Min.   : 4861   Min.   : 410   Min.   :   6.0   Min.   :   3.0  \n",
       " 1st Qu.:34125   1st Qu.:4433   1st Qu.: 110.0   1st Qu.: 111.0  \n",
       " Median :35532   Median :6140   Median : 318.0   Median : 286.0  \n",
       " Mean   :33700   Mean   :5482   Mean   : 386.3   Mean   : 601.2  \n",
       " 3rd Qu.:37262   3rd Qu.:7256   3rd Qu.: 594.0   3rd Qu.: 726.0  \n",
       " Max.   :42899   Max.   :9562   Max.   :1838.0   Max.   :2640.0  "
      ]
     },
     "metadata": {},
     "output_type": "display_data"
    }
   ],
   "source": [
    "escale_intensities_min %>%\n",
    "  select(intensity_0, intensity_1, intensity_2, intensity_3) %>%\n",
    "  summary()"
   ]
  },
  {
   "cell_type": "code",
   "execution_count": 109,
   "id": "cefcf8cf-4410-415d-80fa-3e64bb216535",
   "metadata": {},
   "outputs": [],
   "source": [
    "escale_avg <- escale_intensities_min %>%\n",
    "  select(intensity_0, intensity_1, intensity_2, intensity_3) %>%\n",
    "  summarise(avg_0 = mean(intensity_0), avg_1 = mean(intensity_1), avg_2 = mean(intensity_2), avg_3 = mean(intensity_3))"
   ]
  },
  {
   "cell_type": "markdown",
   "id": "4a038992-d76a-400c-9174-e7c181a7012c",
   "metadata": {},
   "source": [
    "##### 6.3 Transformación formato largo"
   ]
  },
  {
   "cell_type": "code",
   "execution_count": 110,
   "id": "6dbb5479-4305-469f-be71-efd05c45114f",
   "metadata": {},
   "outputs": [],
   "source": [
    "escale_avg_long <- escale_avg %>%\n",
    "  pivot_longer(cols = starts_with(\"avg\"), names_to = \"intensity\", values_to = \"mean\")"
   ]
  },
  {
   "cell_type": "code",
   "execution_count": 111,
   "id": "e404a8d3-a72d-48f3-8a6c-4efdf7f5ab28",
   "metadata": {},
   "outputs": [],
   "source": [
    "write.csv(escale_avg_long, \"escale_avg_long.csv\", row.names = FALSE)"
   ]
  },
  {
   "cell_type": "code",
   "execution_count": 113,
   "id": "b1fdc38a-3221-4c07-83a0-895379066bab",
   "metadata": {
    "collapsed": true,
    "jupyter": {
     "outputs_hidden": true
    },
    "tags": []
   },
   "outputs": [
    {
     "data": {
      "image/png": "[encoded data removed]"
     },
     "metadata": {},
     "output_type": "display_data"
    }
   ],
   "source": [
    "display_png(file=\"C:/Users/Joako/Documents/R_curso_analisis_datos/caso_practico_R/Informe_jupyter/Imagenes/Duracion_intensidad.png\")"
   ]
  },
  {
   "cell_type": "markdown",
   "id": "eeb279eb-5b5e-462e-ac3b-ab88b4e0e1de",
   "metadata": {},
   "source": [
    "### 7. Análisis e identificación de patrón de sueño"
   ]
  },
  {
   "cell_type": "code",
   "execution_count": 114,
   "id": "e6386470-9871-4c72-95f6-4486b5cd5499",
   "metadata": {},
   "outputs": [],
   "source": [
    "sleep <- sleep_day_df %>%\n",
    "  select(id, date, totalsleeprecords, totalminutesasleep, totaltimeinbed)"
   ]
  },
  {
   "cell_type": "markdown",
   "id": "c629a538-0629-42ba-9dfc-26c5a5a8b5c8",
   "metadata": {},
   "source": [
    "##### 7.1 Resumen patrón de sueño"
   ]
  },
  {
   "cell_type": "code",
   "execution_count": 115,
   "id": "f72b7467-0be5-4c6a-bf97-a8211795a81e",
   "metadata": {},
   "outputs": [
    {
     "data": {
      "text/plain": [
       " totalsleeprecords totalminutesasleep totaltimeinbed \n",
       " Min.   :1.000     Min.   : 58.0      Min.   : 61.0  \n",
       " 1st Qu.:1.000     1st Qu.:361.0      1st Qu.:403.0  \n",
       " Median :1.000     Median :433.0      Median :463.0  \n",
       " Mean   :1.119     Mean   :419.5      Mean   :458.6  \n",
       " 3rd Qu.:1.000     3rd Qu.:490.0      3rd Qu.:526.0  \n",
       " Max.   :3.000     Max.   :796.0      Max.   :961.0  "
      ]
     },
     "metadata": {},
     "output_type": "display_data"
    }
   ],
   "source": [
    "sleep_summary <- sleep %>%\n",
    "  select( totalsleeprecords, totalminutesasleep, totaltimeinbed) %>%\n",
    "  summary()\n",
    "View(sleep_summary)"
   ]
  },
  {
   "cell_type": "markdown",
   "id": "f147a0e9-8227-4077-bb49-96a8ae694c9c",
   "metadata": {},
   "source": [
    "### 7.2 Determinar si existe una relación entre una, dos o tres sesiones de sueño y la actividad física"
   ]
  },
  {
   "cell_type": "markdown",
   "id": "2e8558b6-4ad8-4744-a25d-fc96ce938450",
   "metadata": {},
   "source": [
    "##### 7.2.1 Fusionar sleep_day_df y daily_activity"
   ]
  },
  {
   "cell_type": "code",
   "execution_count": 144,
   "id": "007021e8-3474-4230-bb64-9d3851870fdf",
   "metadata": {},
   "outputs": [],
   "source": [
    "activity_sleep <- merge(sleep_day_df, daily_activity, by =c(\"id\", \"date\"))"
   ]
  },
  {
   "cell_type": "code",
   "execution_count": 145,
   "id": "04d33852-024f-4b72-87e2-bc32f0aa9754",
   "metadata": {
    "collapsed": true,
    "jupyter": {
     "outputs_hidden": true
    },
    "tags": []
   },
   "outputs": [
    {
     "data": {
      "text/html": [
       "<table class=\"dataframe\">\n",
       "<caption>A data.frame: 6 × 19</caption>\n",
       "<thead>\n",
       "\t<tr><th></th><th scope=col>id</th><th scope=col>date</th><th scope=col>totalsleeprecords</th><th scope=col>totalminutesasleep</th><th scope=col>totaltimeinbed</th><th scope=col>time</th><th scope=col>totalsteps</th><th scope=col>totaldistance</th><th scope=col>trackerdistance</th><th scope=col>loggedactivitiesdistance</th><th scope=col>veryactivedistance</th><th scope=col>moderatelyactivedistance</th><th scope=col>lightactivedistance</th><th scope=col>sedentaryactivedistance</th><th scope=col>veryactiveminutes</th><th scope=col>fairlyactiveminutes</th><th scope=col>lightlyactiveminutes</th><th scope=col>sedentaryminutes</th><th scope=col>calories</th></tr>\n",
       "\t<tr><th></th><th scope=col>&lt;dbl&gt;</th><th scope=col>&lt;chr&gt;</th><th scope=col>&lt;dbl&gt;</th><th scope=col>&lt;dbl&gt;</th><th scope=col>&lt;dbl&gt;</th><th scope=col>&lt;chr&gt;</th><th scope=col>&lt;dbl&gt;</th><th scope=col>&lt;dbl&gt;</th><th scope=col>&lt;dbl&gt;</th><th scope=col>&lt;dbl&gt;</th><th scope=col>&lt;dbl&gt;</th><th scope=col>&lt;dbl&gt;</th><th scope=col>&lt;dbl&gt;</th><th scope=col>&lt;dbl&gt;</th><th scope=col>&lt;dbl&gt;</th><th scope=col>&lt;dbl&gt;</th><th scope=col>&lt;dbl&gt;</th><th scope=col>&lt;dbl&gt;</th><th scope=col>&lt;dbl&gt;</th></tr>\n",
       "</thead>\n",
       "<tbody>\n",
       "\t<tr><th scope=row>1</th><td>1503960366</td><td>04-12-2016</td><td>1</td><td>327</td><td>346</td><td>00:00:00</td><td>13162</td><td>8.50</td><td>8.50</td><td>0</td><td>1.88</td><td>0.55</td><td>6.06</td><td>0</td><td>25</td><td>13</td><td>328</td><td>728</td><td>1985</td></tr>\n",
       "\t<tr><th scope=row>2</th><td>1503960366</td><td>04-13-2016</td><td>2</td><td>384</td><td>407</td><td>00:00:00</td><td>10735</td><td>6.97</td><td>6.97</td><td>0</td><td>1.57</td><td>0.69</td><td>4.71</td><td>0</td><td>21</td><td>19</td><td>217</td><td>776</td><td>1797</td></tr>\n",
       "\t<tr><th scope=row>3</th><td>1503960366</td><td>04-15-2016</td><td>1</td><td>412</td><td>442</td><td>00:00:00</td><td> 9762</td><td>6.28</td><td>6.28</td><td>0</td><td>2.14</td><td>1.26</td><td>2.83</td><td>0</td><td>29</td><td>34</td><td>209</td><td>726</td><td>1745</td></tr>\n",
       "\t<tr><th scope=row>4</th><td>1503960366</td><td>04-16-2016</td><td>2</td><td>340</td><td>367</td><td>00:00:00</td><td>12669</td><td>8.16</td><td>8.16</td><td>0</td><td>2.71</td><td>0.41</td><td>5.04</td><td>0</td><td>36</td><td>10</td><td>221</td><td>773</td><td>1863</td></tr>\n",
       "\t<tr><th scope=row>5</th><td>1503960366</td><td>04-17-2016</td><td>1</td><td>700</td><td>712</td><td>00:00:00</td><td> 9705</td><td>6.48</td><td>6.48</td><td>0</td><td>3.19</td><td>0.78</td><td>2.51</td><td>0</td><td>38</td><td>20</td><td>164</td><td>539</td><td>1728</td></tr>\n",
       "\t<tr><th scope=row>6</th><td>1503960366</td><td>04-19-2016</td><td>1</td><td>304</td><td>320</td><td>00:00:00</td><td>15506</td><td>9.88</td><td>9.88</td><td>0</td><td>3.53</td><td>1.32</td><td>5.03</td><td>0</td><td>50</td><td>31</td><td>264</td><td>775</td><td>2035</td></tr>\n",
       "</tbody>\n",
       "</table>\n"
      ],
      "text/latex": [
       "A data.frame: 6 × 19\n",
       "\\begin{tabular}{r|lllllllllllllllllll}\n",
       "  & id & date & totalsleeprecords & totalminutesasleep & totaltimeinbed & time & totalsteps & totaldistance & trackerdistance & loggedactivitiesdistance & veryactivedistance & moderatelyactivedistance & lightactivedistance & sedentaryactivedistance & veryactiveminutes & fairlyactiveminutes & lightlyactiveminutes & sedentaryminutes & calories\\\\\n",
       "  & <dbl> & <chr> & <dbl> & <dbl> & <dbl> & <chr> & <dbl> & <dbl> & <dbl> & <dbl> & <dbl> & <dbl> & <dbl> & <dbl> & <dbl> & <dbl> & <dbl> & <dbl> & <dbl>\\\\\n",
       "\\hline\n",
       "\t1 & 1503960366 & 04-12-2016 & 1 & 327 & 346 & 00:00:00 & 13162 & 8.50 & 8.50 & 0 & 1.88 & 0.55 & 6.06 & 0 & 25 & 13 & 328 & 728 & 1985\\\\\n",
       "\t2 & 1503960366 & 04-13-2016 & 2 & 384 & 407 & 00:00:00 & 10735 & 6.97 & 6.97 & 0 & 1.57 & 0.69 & 4.71 & 0 & 21 & 19 & 217 & 776 & 1797\\\\\n",
       "\t3 & 1503960366 & 04-15-2016 & 1 & 412 & 442 & 00:00:00 &  9762 & 6.28 & 6.28 & 0 & 2.14 & 1.26 & 2.83 & 0 & 29 & 34 & 209 & 726 & 1745\\\\\n",
       "\t4 & 1503960366 & 04-16-2016 & 2 & 340 & 367 & 00:00:00 & 12669 & 8.16 & 8.16 & 0 & 2.71 & 0.41 & 5.04 & 0 & 36 & 10 & 221 & 773 & 1863\\\\\n",
       "\t5 & 1503960366 & 04-17-2016 & 1 & 700 & 712 & 00:00:00 &  9705 & 6.48 & 6.48 & 0 & 3.19 & 0.78 & 2.51 & 0 & 38 & 20 & 164 & 539 & 1728\\\\\n",
       "\t6 & 1503960366 & 04-19-2016 & 1 & 304 & 320 & 00:00:00 & 15506 & 9.88 & 9.88 & 0 & 3.53 & 1.32 & 5.03 & 0 & 50 & 31 & 264 & 775 & 2035\\\\\n",
       "\\end{tabular}\n"
      ],
      "text/markdown": [
       "\n",
       "A data.frame: 6 × 19\n",
       "\n",
       "| <!--/--> | id &lt;dbl&gt; | date &lt;chr&gt; | totalsleeprecords &lt;dbl&gt; | totalminutesasleep &lt;dbl&gt; | totaltimeinbed &lt;dbl&gt; | time &lt;chr&gt; | totalsteps &lt;dbl&gt; | totaldistance &lt;dbl&gt; | trackerdistance &lt;dbl&gt; | loggedactivitiesdistance &lt;dbl&gt; | veryactivedistance &lt;dbl&gt; | moderatelyactivedistance &lt;dbl&gt; | lightactivedistance &lt;dbl&gt; | sedentaryactivedistance &lt;dbl&gt; | veryactiveminutes &lt;dbl&gt; | fairlyactiveminutes &lt;dbl&gt; | lightlyactiveminutes &lt;dbl&gt; | sedentaryminutes &lt;dbl&gt; | calories &lt;dbl&gt; |\n",
       "|---|---|---|---|---|---|---|---|---|---|---|---|---|---|---|---|---|---|---|---|\n",
       "| 1 | 1503960366 | 04-12-2016 | 1 | 327 | 346 | 00:00:00 | 13162 | 8.50 | 8.50 | 0 | 1.88 | 0.55 | 6.06 | 0 | 25 | 13 | 328 | 728 | 1985 |\n",
       "| 2 | 1503960366 | 04-13-2016 | 2 | 384 | 407 | 00:00:00 | 10735 | 6.97 | 6.97 | 0 | 1.57 | 0.69 | 4.71 | 0 | 21 | 19 | 217 | 776 | 1797 |\n",
       "| 3 | 1503960366 | 04-15-2016 | 1 | 412 | 442 | 00:00:00 |  9762 | 6.28 | 6.28 | 0 | 2.14 | 1.26 | 2.83 | 0 | 29 | 34 | 209 | 726 | 1745 |\n",
       "| 4 | 1503960366 | 04-16-2016 | 2 | 340 | 367 | 00:00:00 | 12669 | 8.16 | 8.16 | 0 | 2.71 | 0.41 | 5.04 | 0 | 36 | 10 | 221 | 773 | 1863 |\n",
       "| 5 | 1503960366 | 04-17-2016 | 1 | 700 | 712 | 00:00:00 |  9705 | 6.48 | 6.48 | 0 | 3.19 | 0.78 | 2.51 | 0 | 38 | 20 | 164 | 539 | 1728 |\n",
       "| 6 | 1503960366 | 04-19-2016 | 1 | 304 | 320 | 00:00:00 | 15506 | 9.88 | 9.88 | 0 | 3.53 | 1.32 | 5.03 | 0 | 50 | 31 | 264 | 775 | 2035 |\n",
       "\n"
      ],
      "text/plain": [
       "  id         date       totalsleeprecords totalminutesasleep totaltimeinbed\n",
       "1 1503960366 04-12-2016 1                 327                346           \n",
       "2 1503960366 04-13-2016 2                 384                407           \n",
       "3 1503960366 04-15-2016 1                 412                442           \n",
       "4 1503960366 04-16-2016 2                 340                367           \n",
       "5 1503960366 04-17-2016 1                 700                712           \n",
       "6 1503960366 04-19-2016 1                 304                320           \n",
       "  time     totalsteps totaldistance trackerdistance loggedactivitiesdistance\n",
       "1 00:00:00 13162      8.50          8.50            0                       \n",
       "2 00:00:00 10735      6.97          6.97            0                       \n",
       "3 00:00:00  9762      6.28          6.28            0                       \n",
       "4 00:00:00 12669      8.16          8.16            0                       \n",
       "5 00:00:00  9705      6.48          6.48            0                       \n",
       "6 00:00:00 15506      9.88          9.88            0                       \n",
       "  veryactivedistance moderatelyactivedistance lightactivedistance\n",
       "1 1.88               0.55                     6.06               \n",
       "2 1.57               0.69                     4.71               \n",
       "3 2.14               1.26                     2.83               \n",
       "4 2.71               0.41                     5.04               \n",
       "5 3.19               0.78                     2.51               \n",
       "6 3.53               1.32                     5.03               \n",
       "  sedentaryactivedistance veryactiveminutes fairlyactiveminutes\n",
       "1 0                       25                13                 \n",
       "2 0                       21                19                 \n",
       "3 0                       29                34                 \n",
       "4 0                       36                10                 \n",
       "5 0                       38                20                 \n",
       "6 0                       50                31                 \n",
       "  lightlyactiveminutes sedentaryminutes calories\n",
       "1 328                  728              1985    \n",
       "2 217                  776              1797    \n",
       "3 209                  726              1745    \n",
       "4 221                  773              1863    \n",
       "5 164                  539              1728    \n",
       "6 264                  775              2035    "
      ]
     },
     "metadata": {},
     "output_type": "display_data"
    }
   ],
   "source": [
    "head(activity_sleep)"
   ]
  },
  {
   "cell_type": "code",
   "execution_count": 146,
   "id": "429d7b57-1338-41db-b26f-991652ac52a8",
   "metadata": {},
   "outputs": [
    {
     "data": {
      "text/html": [
       "<table class=\"dataframe\">\n",
       "<caption>A tibble: 3 × 2</caption>\n",
       "<thead>\n",
       "\t<tr><th scope=col>totalsleeprecords</th><th scope=col>avg</th></tr>\n",
       "\t<tr><th scope=col>&lt;dbl&gt;</th><th scope=col>&lt;dbl&gt;</th></tr>\n",
       "</thead>\n",
       "<tbody>\n",
       "\t<tr><td>1</td><td>8750.893</td></tr>\n",
       "\t<tr><td>2</td><td>6725.930</td></tr>\n",
       "\t<tr><td>3</td><td>5524.333</td></tr>\n",
       "</tbody>\n",
       "</table>\n"
      ],
      "text/latex": [
       "A tibble: 3 × 2\n",
       "\\begin{tabular}{ll}\n",
       " totalsleeprecords & avg\\\\\n",
       " <dbl> & <dbl>\\\\\n",
       "\\hline\n",
       "\t 1 & 8750.893\\\\\n",
       "\t 2 & 6725.930\\\\\n",
       "\t 3 & 5524.333\\\\\n",
       "\\end{tabular}\n"
      ],
      "text/markdown": [
       "\n",
       "A tibble: 3 × 2\n",
       "\n",
       "| totalsleeprecords &lt;dbl&gt; | avg &lt;dbl&gt; |\n",
       "|---|---|\n",
       "| 1 | 8750.893 |\n",
       "| 2 | 6725.930 |\n",
       "| 3 | 5524.333 |\n",
       "\n"
      ],
      "text/plain": [
       "  totalsleeprecords avg     \n",
       "1 1                 8750.893\n",
       "2 2                 6725.930\n",
       "3 3                 5524.333"
      ]
     },
     "metadata": {},
     "output_type": "display_data"
    }
   ],
   "source": [
    "sleep_activity <- activity_sleep %>%\n",
    "  select(id, date, totalsleeprecords, totalsteps) %>%\n",
    "  group_by(totalsleeprecords) %>%\n",
    "  summarise(avg = mean(totalsteps))\n",
    "head(sleep_activity)"
   ]
  },
  {
   "cell_type": "markdown",
   "id": "540f9aba-ec02-4b7a-8ab5-431b213455e5",
   "metadata": {},
   "source": [
    "##### G.5 Relación entre registros de sueños(siestas) y pasos dados"
   ]
  },
  {
   "cell_type": "code",
   "execution_count": null,
   "id": "e077f77f-68ba-4077-b422-2cc94d667a2b",
   "metadata": {},
   "outputs": [
    {
     "data": {
      "image/png": "[encoded data removed]",
      "text/plain": [
       "plot without title"
      ]
     },
     "metadata": {
      "image/png": {
       "height": 420,
       "width": 420
      }
     },
     "output_type": "display_data"
    }
   ],
   "source": [
    "ggplot(sleep_activity, aes(x = totalsleeprecords, y = avg)) +\n",
    "  geom_bar(stat = \"identity\", fill = \"#76b7b2\") +\n",
    "  labs(title = \"Promedio de pasos dados según el número de registros de sueño\",\n",
    "       x = \"Número de registros de sueño\", y = \"Promedio de pasos dados\")"
   ]
  },
  {
   "cell_type": "markdown",
   "id": "feae494e-f890-4228-865a-55cc964bdf4c",
   "metadata": {},
   "source": [
    "##### G.6 Relación entre tiempo de sueños y pasos dados"
   ]
  },
  {
   "cell_type": "code",
   "execution_count": 148,
   "id": "f30f7250-3803-492b-ae72-fc3572df86c7",
   "metadata": {},
   "outputs": [
    {
     "name": "stderr",
     "output_type": "stream",
     "text": [
      "\u001b[1m\u001b[22m`geom_smooth()` using method = 'loess' and formula = 'y ~ x'\n"
     ]
    },
    {
     "data": {
      "image/png": "[encoded data removed]",
      "text/plain": [
       "plot without title"
      ]
     },
     "metadata": {
      "image/png": {
       "height": 420,
       "width": 420
      }
     },
     "output_type": "display_data"
    }
   ],
   "source": [
    "\n",
    "ggplot(data=activity_sleep)+\n",
    "  geom_smooth(mapping = aes(x=totalminutesasleep, y= totalsteps), color=\"#76b7b2\")+\n",
    "  labs(title = \"Relación tiempos de sueño y total de pasos realizados\",\n",
    "       x = \"Total minutos sueño\", y = \"Total de pasos\")"
   ]
  }
 ],
 "metadata": {
  "kernelspec": {
   "display_name": "R",
   "language": "R",
   "name": "ir"
  },
  "language_info": {
   "codemirror_mode": "r",
   "file_extension": ".r",
   "mimetype": "text/x-r-source",
   "name": "R",
   "pygments_lexer": "r",
   "version": "4.2.2"
  }
 },
 "nbformat": 4,
 "nbformat_minor": 5
}
