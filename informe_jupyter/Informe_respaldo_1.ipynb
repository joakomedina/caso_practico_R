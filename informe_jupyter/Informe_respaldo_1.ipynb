{
 "cells": [
  {
   "cell_type": "markdown",
   "id": "6801243a-8da0-4a42-9ad1-920711299b01",
   "metadata": {},
   "source": [
    "# Informe caso práctico"
   ]
  },
  {
   "cell_type": "code",
   "execution_count": 10,
   "id": "2619d405-d798-4bf9-b3ed-5262001224f3",
   "metadata": {},
   "outputs": [
    {
     "data": {
      "text/html": [
       "'C:/Users/Joako/Documents/R_proyectos/Caso_practico/Informe_jupyter'"
      ],
      "text/latex": [
       "'C:/Users/Joako/Documents/R\\_proyectos/Caso\\_practico/Informe\\_jupyter'"
      ],
      "text/markdown": [
       "'C:/Users/Joako/Documents/R_proyectos/Caso_practico/Informe_jupyter'"
      ],
      "text/plain": [
       "[1] \"C:/Users/Joako/Documents/R_proyectos/Caso_practico/Informe_jupyter\""
      ]
     },
     "metadata": {},
     "output_type": "display_data"
    }
   ],
   "source": [
    "getwd()"
   ]
  },
  {
   "cell_type": "markdown",
   "id": "cd563a74-7c3e-47ed-a368-d0eeda4c6270",
   "metadata": {},
   "source": [
    "El siguiente informe muestra el análisis realizado con la base de datos suministrada por la empresa bellabet sobre el registro de uso de dispositivos inteligentes de 33 personas durante el período de un mes. Los datos se expresan en distintas variables tales como: numero de pasos, calorías gastadas, intensidad de la actividad, tiempo de sueño, entre otras.\n",
    "La idea es poder observar algunos patrones a partir del uso que hacen éstas personas a fin de poder identificar algunas oportunidades de mejora para mi interesada, la empresa Bellabet."
   ]
  },
  {
   "cell_type": "markdown",
   "id": "4f31fffc-dec6-4ef1-a77c-4a199ea9fcff",
   "metadata": {},
   "source": [
    "### Preguntas que guían el análisis"
   ]
  },
  {
   "cell_type": "markdown",
   "id": "582b0dfd-150d-4114-a151-cb394f720407",
   "metadata": {},
   "source": [
    "1. ¿La actividad física recopilada por los dispositivos inteligentes puede generar oportunidades de negocio?\n",
    "2. ¿Cómo usan los dispositivos inteligentes los consumidores?\n",
    "    + ¿Existen usuarios con poco o ningún uso del dispositivo?\n",
    "    + ¿El uso del dispositivo en que medida está relacionado con la cantidad de actividad física realizada?\n",
    "    + ¿Existe alguna relación entre el tiempo de sueño y la actividad física?\n",
    "    + ¿Existe algún patrón en el uso de los dispositivos inteligentes?\n",
    "        + Relación entre distancia y calorias gastadas\n",
    "        + Relación entre la intensidad y las calorías gastadas\n",
    "Luego de revisar cada uno de los data.frame. He decidido seleccionar los siguientes para el análisis ya que son los adecuados para responder a las preguntas que guían ésta investigación."
   ]
  },
  {
   "cell_type": "markdown",
   "id": "1fb52301-12f0-4857-bb0e-e2559d8056ba",
   "metadata": {
    "tags": []
   },
   "source": [
    "Tablas Seleccionadas               | Nombre data.frame\n",
    "-----------------------------------|------------------------\n",
    "dailyActivity_merged.csv           | daily_activity\n",
    "sleepDay_merged.csv                | sleep_day_df\n",
    "minuteCaloriesNarrow_merged.csv    | min_calories_narrow\n",
    "minuteIntensitiesNarrow_merged.csv | min_intensities_narrow\n",
    "hourlyIntensities_merged.csv       | hourly_intensities\n",
    "hourlyCalories_merged.csv          | hourly_calories"
   ]
  },
  {
   "cell_type": "markdown",
   "id": "8babd544-9d70-4a47-9a1a-906fe8e93ad5",
   "metadata": {
    "tags": []
   },
   "source": [
    "Una vez elegidas las tablas pasaré al proceso creación de data.frame de trabajo, limpieza y formateo de los mismos. Para ello instalaré los paquetes necesarios que me permitiran formatear, manipular y transformar los datos:\n",
    "* tidyverse\n",
    "* janitor\n",
    "* skimr"
   ]
  },
  {
   "cell_type": "code",
   "execution_count": 2,
   "id": "3cbd228a-6c62-4a56-a290-d626d82eca98",
   "metadata": {
    "collapsed": true,
    "jupyter": {
     "outputs_hidden": true
    },
    "tags": []
   },
   "outputs": [
    {
     "name": "stderr",
     "output_type": "stream",
     "text": [
      "Installing package into 'C:/Users/Joako/AppData/Local/R/win-library/4.2'\n",
      "(as 'lib' is unspecified)\n",
      "\n",
      "also installing the dependencies 'feather', 'mockr'\n",
      "\n",
      "\n"
     ]
    },
    {
     "name": "stdout",
     "output_type": "stream",
     "text": [
      "package 'feather' successfully unpacked and MD5 sums checked\n",
      "package 'mockr' successfully unpacked and MD5 sums checked\n",
      "package 'tidyverse' successfully unpacked and MD5 sums checked\n",
      "\n",
      "The downloaded binary packages are in\n",
      "\tC:\\Users\\Joako\\AppData\\Local\\Temp\\Rtmpk1uyIw\\downloaded_packages\n"
     ]
    }
   ],
   "source": [
    "install.packages(\"tidyverse\", dependencies = TRUE)"
   ]
  },
  {
   "cell_type": "code",
   "execution_count": 3,
   "id": "7a554e5f-a33b-4a14-819f-742e8e8df9a6",
   "metadata": {
    "collapsed": true,
    "jupyter": {
     "outputs_hidden": true
    },
    "tags": []
   },
   "outputs": [
    {
     "name": "stderr",
     "output_type": "stream",
     "text": [
      "── \u001b[1mAttaching core tidyverse packages\u001b[22m ──────────────────────── tidyverse 2.0.0 ──\n",
      "\u001b[32m✔\u001b[39m \u001b[34mdplyr    \u001b[39m 1.1.0     \u001b[32m✔\u001b[39m \u001b[34mreadr    \u001b[39m 2.1.4\n",
      "\u001b[32m✔\u001b[39m \u001b[34mforcats  \u001b[39m 1.0.0     \u001b[32m✔\u001b[39m \u001b[34mstringr  \u001b[39m 1.5.0\n",
      "\u001b[32m✔\u001b[39m \u001b[34mggplot2  \u001b[39m 3.4.1     \u001b[32m✔\u001b[39m \u001b[34mtibble   \u001b[39m 3.1.8\n",
      "\u001b[32m✔\u001b[39m \u001b[34mlubridate\u001b[39m 1.9.2     \u001b[32m✔\u001b[39m \u001b[34mtidyr    \u001b[39m 1.3.0\n",
      "\u001b[32m✔\u001b[39m \u001b[34mpurrr    \u001b[39m 1.0.1     \n",
      "── \u001b[1mConflicts\u001b[22m ────────────────────────────────────────── tidyverse_conflicts() ──\n",
      "\u001b[31m✖\u001b[39m \u001b[34mdplyr\u001b[39m::\u001b[32mfilter()\u001b[39m masks \u001b[34mstats\u001b[39m::filter()\n",
      "\u001b[31m✖\u001b[39m \u001b[34mdplyr\u001b[39m::\u001b[32mlag()\u001b[39m    masks \u001b[34mstats\u001b[39m::lag()\n",
      "\u001b[36mℹ\u001b[39m Use the conflicted package (\u001b[3m\u001b[34m<http://conflicted.r-lib.org/>\u001b[39m\u001b[23m) to force all conflicts to become errors\n"
     ]
    }
   ],
   "source": [
    "library(tidyverse)"
   ]
  },
  {
   "cell_type": "code",
   "execution_count": 17,
   "id": "779110fd-e1dd-4738-8abe-40ef4963ca07",
   "metadata": {
    "collapsed": true,
    "jupyter": {
     "outputs_hidden": true
    },
    "tags": []
   },
   "outputs": [
    {
     "name": "stderr",
     "output_type": "stream",
     "text": [
      "Installing package into 'C:/Users/Joako/AppData/Local/R/win-library/4.2'\n",
      "(as 'lib' is unspecified)\n",
      "\n"
     ]
    },
    {
     "name": "stdout",
     "output_type": "stream",
     "text": [
      "package 'janitor' successfully unpacked and MD5 sums checked\n",
      "\n",
      "The downloaded binary packages are in\n",
      "\tC:\\Users\\Joako\\AppData\\Local\\Temp\\RtmpimSnBs\\downloaded_packages\n"
     ]
    }
   ],
   "source": [
    "install.packages(\"janitor\")"
   ]
  },
  {
   "cell_type": "code",
   "execution_count": 16,
   "id": "d9ef5248-703c-488f-84f8-0fa9bd0e1472",
   "metadata": {
    "collapsed": true,
    "jupyter": {
     "outputs_hidden": true
    },
    "tags": []
   },
   "outputs": [
    {
     "name": "stderr",
     "output_type": "stream",
     "text": [
      "Installing package into 'C:/Users/Joako/AppData/Local/R/win-library/4.2'\n",
      "(as 'lib' is unspecified)\n",
      "\n"
     ]
    },
    {
     "name": "stdout",
     "output_type": "stream",
     "text": [
      "package 'skimr' successfully unpacked and MD5 sums checked\n",
      "\n",
      "The downloaded binary packages are in\n",
      "\tC:\\Users\\Joako\\AppData\\Local\\Temp\\RtmpimSnBs\\downloaded_packages\n"
     ]
    }
   ],
   "source": [
    "install.packages(\"skimr\")"
   ]
  },
  {
   "cell_type": "markdown",
   "id": "705a2af1-99fa-46b5-ac7b-5fd4c9252722",
   "metadata": {},
   "source": [
    "Este paquete ggrepel me ayuda con los gráficos para evitar que las etiquetas se solapen"
   ]
  },
  {
   "cell_type": "code",
   "execution_count": 118,
   "id": "3bd5efa6-0af3-4c6a-87a5-6c5489ba3c19",
   "metadata": {
    "collapsed": true,
    "jupyter": {
     "outputs_hidden": true
    },
    "tags": []
   },
   "outputs": [
    {
     "name": "stderr",
     "output_type": "stream",
     "text": [
      "Installing package into 'C:/Users/Joako/AppData/Local/R/win-library/4.2'\n",
      "(as 'lib' is unspecified)\n",
      "\n"
     ]
    },
    {
     "name": "stdout",
     "output_type": "stream",
     "text": [
      "package 'ggrepel' successfully unpacked and MD5 sums checked\n",
      "\n",
      "The downloaded binary packages are in\n",
      "\tC:\\Users\\Joako\\AppData\\Local\\Temp\\RtmpimSnBs\\downloaded_packages\n"
     ]
    }
   ],
   "source": [
    "install.packages(\"ggrepel\")"
   ]
  },
  {
   "cell_type": "code",
   "execution_count": 119,
   "id": "15d1f747-19a6-4273-9fa9-14e0d5963050",
   "metadata": {},
   "outputs": [],
   "source": [
    "library(ggrepel)"
   ]
  },
  {
   "cell_type": "code",
   "execution_count": 18,
   "id": "4bb059ad-bc49-4a53-b411-a96a7ec92d99",
   "metadata": {
    "collapsed": true,
    "jupyter": {
     "outputs_hidden": true
    },
    "tags": []
   },
   "outputs": [
    {
     "name": "stderr",
     "output_type": "stream",
     "text": [
      "\n",
      "Attaching package: 'janitor'\n",
      "\n",
      "\n",
      "The following objects are masked from 'package:stats':\n",
      "\n",
      "    chisq.test, fisher.test\n",
      "\n",
      "\n"
     ]
    }
   ],
   "source": [
    "library(janitor)"
   ]
  },
  {
   "cell_type": "code",
   "execution_count": 19,
   "id": "6a9dfe08-4311-4adc-930c-66e6ce462d18",
   "metadata": {},
   "outputs": [],
   "source": [
    "library(skimr)"
   ]
  },
  {
   "cell_type": "code",
   "execution_count": 20,
   "id": "9044c7cd-9c39-480d-9e66-3260534db861",
   "metadata": {},
   "outputs": [],
   "source": [
    "library(lubridate)"
   ]
  },
  {
   "cell_type": "code",
   "execution_count": 90,
   "id": "aa4fe1dc-f8ed-41d6-9658-596a3d972bcd",
   "metadata": {},
   "outputs": [],
   "source": [
    "library(IRdisplay)"
   ]
  },
  {
   "cell_type": "markdown",
   "id": "ab2b5739-b4a8-42a9-b171-dae1f6c6bbf4",
   "metadata": {
    "tags": []
   },
   "source": [
    "### Creación de los data frame a partir de las tablas seleccionadas"
   ]
  },
  {
   "cell_type": "code",
   "execution_count": 11,
   "id": "c233c881-3b3c-48e0-8c62-10333e3c3662",
   "metadata": {
    "collapsed": true,
    "jupyter": {
     "outputs_hidden": true
    },
    "tags": []
   },
   "outputs": [
    {
     "name": "stderr",
     "output_type": "stream",
     "text": [
      "\u001b[1mRows: \u001b[22m\u001b[34m940\u001b[39m \u001b[1mColumns: \u001b[22m\u001b[34m15\u001b[39m\n",
      "\u001b[36m──\u001b[39m \u001b[1mColumn specification\u001b[22m \u001b[36m────────────────────────────────────────────────────────\u001b[39m\n",
      "\u001b[1mDelimiter:\u001b[22m \",\"\n",
      "\u001b[31mchr\u001b[39m  (1): ActivityDate\n",
      "\u001b[32mdbl\u001b[39m (14): Id, TotalSteps, TotalDistance, TrackerDistance, LoggedActivitiesDi...\n",
      "\n",
      "\u001b[36mℹ\u001b[39m Use `spec()` to retrieve the full column specification for this data.\n",
      "\u001b[36mℹ\u001b[39m Specify the column types or set `show_col_types = FALSE` to quiet this message.\n"
     ]
    },
    {
     "data": {
      "text/html": [
       "<table class=\"dataframe\">\n",
       "<caption>A tibble: 6 × 15</caption>\n",
       "<thead>\n",
       "\t<tr><th scope=col>Id</th><th scope=col>ActivityDate</th><th scope=col>TotalSteps</th><th scope=col>TotalDistance</th><th scope=col>TrackerDistance</th><th scope=col>LoggedActivitiesDistance</th><th scope=col>VeryActiveDistance</th><th scope=col>ModeratelyActiveDistance</th><th scope=col>LightActiveDistance</th><th scope=col>SedentaryActiveDistance</th><th scope=col>VeryActiveMinutes</th><th scope=col>FairlyActiveMinutes</th><th scope=col>LightlyActiveMinutes</th><th scope=col>SedentaryMinutes</th><th scope=col>Calories</th></tr>\n",
       "\t<tr><th scope=col>&lt;dbl&gt;</th><th scope=col>&lt;chr&gt;</th><th scope=col>&lt;dbl&gt;</th><th scope=col>&lt;dbl&gt;</th><th scope=col>&lt;dbl&gt;</th><th scope=col>&lt;dbl&gt;</th><th scope=col>&lt;dbl&gt;</th><th scope=col>&lt;dbl&gt;</th><th scope=col>&lt;dbl&gt;</th><th scope=col>&lt;dbl&gt;</th><th scope=col>&lt;dbl&gt;</th><th scope=col>&lt;dbl&gt;</th><th scope=col>&lt;dbl&gt;</th><th scope=col>&lt;dbl&gt;</th><th scope=col>&lt;dbl&gt;</th></tr>\n",
       "</thead>\n",
       "<tbody>\n",
       "\t<tr><td>1503960366</td><td>4/12/2016</td><td>13162</td><td>8.50</td><td>8.50</td><td>0</td><td>1.88</td><td>0.55</td><td>6.06</td><td>0</td><td>25</td><td>13</td><td>328</td><td> 728</td><td>1985</td></tr>\n",
       "\t<tr><td>1503960366</td><td>4/13/2016</td><td>10735</td><td>6.97</td><td>6.97</td><td>0</td><td>1.57</td><td>0.69</td><td>4.71</td><td>0</td><td>21</td><td>19</td><td>217</td><td> 776</td><td>1797</td></tr>\n",
       "\t<tr><td>1503960366</td><td>4/14/2016</td><td>10460</td><td>6.74</td><td>6.74</td><td>0</td><td>2.44</td><td>0.40</td><td>3.91</td><td>0</td><td>30</td><td>11</td><td>181</td><td>1218</td><td>1776</td></tr>\n",
       "\t<tr><td>1503960366</td><td>4/15/2016</td><td> 9762</td><td>6.28</td><td>6.28</td><td>0</td><td>2.14</td><td>1.26</td><td>2.83</td><td>0</td><td>29</td><td>34</td><td>209</td><td> 726</td><td>1745</td></tr>\n",
       "\t<tr><td>1503960366</td><td>4/16/2016</td><td>12669</td><td>8.16</td><td>8.16</td><td>0</td><td>2.71</td><td>0.41</td><td>5.04</td><td>0</td><td>36</td><td>10</td><td>221</td><td> 773</td><td>1863</td></tr>\n",
       "\t<tr><td>1503960366</td><td>4/17/2016</td><td> 9705</td><td>6.48</td><td>6.48</td><td>0</td><td>3.19</td><td>0.78</td><td>2.51</td><td>0</td><td>38</td><td>20</td><td>164</td><td> 539</td><td>1728</td></tr>\n",
       "</tbody>\n",
       "</table>\n"
      ],
      "text/latex": [
       "A tibble: 6 × 15\n",
       "\\begin{tabular}{lllllllllllllll}\n",
       " Id & ActivityDate & TotalSteps & TotalDistance & TrackerDistance & LoggedActivitiesDistance & VeryActiveDistance & ModeratelyActiveDistance & LightActiveDistance & SedentaryActiveDistance & VeryActiveMinutes & FairlyActiveMinutes & LightlyActiveMinutes & SedentaryMinutes & Calories\\\\\n",
       " <dbl> & <chr> & <dbl> & <dbl> & <dbl> & <dbl> & <dbl> & <dbl> & <dbl> & <dbl> & <dbl> & <dbl> & <dbl> & <dbl> & <dbl>\\\\\n",
       "\\hline\n",
       "\t 1503960366 & 4/12/2016 & 13162 & 8.50 & 8.50 & 0 & 1.88 & 0.55 & 6.06 & 0 & 25 & 13 & 328 &  728 & 1985\\\\\n",
       "\t 1503960366 & 4/13/2016 & 10735 & 6.97 & 6.97 & 0 & 1.57 & 0.69 & 4.71 & 0 & 21 & 19 & 217 &  776 & 1797\\\\\n",
       "\t 1503960366 & 4/14/2016 & 10460 & 6.74 & 6.74 & 0 & 2.44 & 0.40 & 3.91 & 0 & 30 & 11 & 181 & 1218 & 1776\\\\\n",
       "\t 1503960366 & 4/15/2016 &  9762 & 6.28 & 6.28 & 0 & 2.14 & 1.26 & 2.83 & 0 & 29 & 34 & 209 &  726 & 1745\\\\\n",
       "\t 1503960366 & 4/16/2016 & 12669 & 8.16 & 8.16 & 0 & 2.71 & 0.41 & 5.04 & 0 & 36 & 10 & 221 &  773 & 1863\\\\\n",
       "\t 1503960366 & 4/17/2016 &  9705 & 6.48 & 6.48 & 0 & 3.19 & 0.78 & 2.51 & 0 & 38 & 20 & 164 &  539 & 1728\\\\\n",
       "\\end{tabular}\n"
      ],
      "text/markdown": [
       "\n",
       "A tibble: 6 × 15\n",
       "\n",
       "| Id &lt;dbl&gt; | ActivityDate &lt;chr&gt; | TotalSteps &lt;dbl&gt; | TotalDistance &lt;dbl&gt; | TrackerDistance &lt;dbl&gt; | LoggedActivitiesDistance &lt;dbl&gt; | VeryActiveDistance &lt;dbl&gt; | ModeratelyActiveDistance &lt;dbl&gt; | LightActiveDistance &lt;dbl&gt; | SedentaryActiveDistance &lt;dbl&gt; | VeryActiveMinutes &lt;dbl&gt; | FairlyActiveMinutes &lt;dbl&gt; | LightlyActiveMinutes &lt;dbl&gt; | SedentaryMinutes &lt;dbl&gt; | Calories &lt;dbl&gt; |\n",
       "|---|---|---|---|---|---|---|---|---|---|---|---|---|---|---|\n",
       "| 1503960366 | 4/12/2016 | 13162 | 8.50 | 8.50 | 0 | 1.88 | 0.55 | 6.06 | 0 | 25 | 13 | 328 |  728 | 1985 |\n",
       "| 1503960366 | 4/13/2016 | 10735 | 6.97 | 6.97 | 0 | 1.57 | 0.69 | 4.71 | 0 | 21 | 19 | 217 |  776 | 1797 |\n",
       "| 1503960366 | 4/14/2016 | 10460 | 6.74 | 6.74 | 0 | 2.44 | 0.40 | 3.91 | 0 | 30 | 11 | 181 | 1218 | 1776 |\n",
       "| 1503960366 | 4/15/2016 |  9762 | 6.28 | 6.28 | 0 | 2.14 | 1.26 | 2.83 | 0 | 29 | 34 | 209 |  726 | 1745 |\n",
       "| 1503960366 | 4/16/2016 | 12669 | 8.16 | 8.16 | 0 | 2.71 | 0.41 | 5.04 | 0 | 36 | 10 | 221 |  773 | 1863 |\n",
       "| 1503960366 | 4/17/2016 |  9705 | 6.48 | 6.48 | 0 | 3.19 | 0.78 | 2.51 | 0 | 38 | 20 | 164 |  539 | 1728 |\n",
       "\n"
      ],
      "text/plain": [
       "  Id         ActivityDate TotalSteps TotalDistance TrackerDistance\n",
       "1 1503960366 4/12/2016    13162      8.50          8.50           \n",
       "2 1503960366 4/13/2016    10735      6.97          6.97           \n",
       "3 1503960366 4/14/2016    10460      6.74          6.74           \n",
       "4 1503960366 4/15/2016     9762      6.28          6.28           \n",
       "5 1503960366 4/16/2016    12669      8.16          8.16           \n",
       "6 1503960366 4/17/2016     9705      6.48          6.48           \n",
       "  LoggedActivitiesDistance VeryActiveDistance ModeratelyActiveDistance\n",
       "1 0                        1.88               0.55                    \n",
       "2 0                        1.57               0.69                    \n",
       "3 0                        2.44               0.40                    \n",
       "4 0                        2.14               1.26                    \n",
       "5 0                        2.71               0.41                    \n",
       "6 0                        3.19               0.78                    \n",
       "  LightActiveDistance SedentaryActiveDistance VeryActiveMinutes\n",
       "1 6.06                0                       25               \n",
       "2 4.71                0                       21               \n",
       "3 3.91                0                       30               \n",
       "4 2.83                0                       29               \n",
       "5 5.04                0                       36               \n",
       "6 2.51                0                       38               \n",
       "  FairlyActiveMinutes LightlyActiveMinutes SedentaryMinutes Calories\n",
       "1 13                  328                   728             1985    \n",
       "2 19                  217                   776             1797    \n",
       "3 11                  181                  1218             1776    \n",
       "4 34                  209                   726             1745    \n",
       "5 10                  221                   773             1863    \n",
       "6 20                  164                   539             1728    "
      ]
     },
     "metadata": {},
     "output_type": "display_data"
    }
   ],
   "source": [
    "daily_activity <- \n",
    "  read_csv(\"C:\\\\Users\\\\Joako\\\\Documents\\\\R_proyectos\\\\Caso_practico\\\\data_trabajo\\\\dailyActivity_merged.csv\")\n",
    "head(daily_activity)"
   ]
  },
  {
   "cell_type": "code",
   "execution_count": 12,
   "id": "4ad8dbd3-6225-4351-b1c4-ce8b163c6a18",
   "metadata": {
    "collapsed": true,
    "jupyter": {
     "outputs_hidden": true
    },
    "tags": []
   },
   "outputs": [
    {
     "name": "stderr",
     "output_type": "stream",
     "text": [
      "\u001b[1mRows: \u001b[22m\u001b[34m413\u001b[39m \u001b[1mColumns: \u001b[22m\u001b[34m5\u001b[39m\n",
      "\u001b[36m──\u001b[39m \u001b[1mColumn specification\u001b[22m \u001b[36m────────────────────────────────────────────────────────\u001b[39m\n",
      "\u001b[1mDelimiter:\u001b[22m \",\"\n",
      "\u001b[31mchr\u001b[39m (1): SleepDay\n",
      "\u001b[32mdbl\u001b[39m (4): Id, TotalSleepRecords, TotalMinutesAsleep, TotalTimeInBed\n",
      "\n",
      "\u001b[36mℹ\u001b[39m Use `spec()` to retrieve the full column specification for this data.\n",
      "\u001b[36mℹ\u001b[39m Specify the column types or set `show_col_types = FALSE` to quiet this message.\n"
     ]
    },
    {
     "data": {
      "text/html": [
       "<table class=\"dataframe\">\n",
       "<caption>A tibble: 6 × 5</caption>\n",
       "<thead>\n",
       "\t<tr><th scope=col>Id</th><th scope=col>SleepDay</th><th scope=col>TotalSleepRecords</th><th scope=col>TotalMinutesAsleep</th><th scope=col>TotalTimeInBed</th></tr>\n",
       "\t<tr><th scope=col>&lt;dbl&gt;</th><th scope=col>&lt;chr&gt;</th><th scope=col>&lt;dbl&gt;</th><th scope=col>&lt;dbl&gt;</th><th scope=col>&lt;dbl&gt;</th></tr>\n",
       "</thead>\n",
       "<tbody>\n",
       "\t<tr><td>1503960366</td><td>4/12/2016 12:00:00 AM</td><td>1</td><td>327</td><td>346</td></tr>\n",
       "\t<tr><td>1503960366</td><td>4/13/2016 12:00:00 AM</td><td>2</td><td>384</td><td>407</td></tr>\n",
       "\t<tr><td>1503960366</td><td>4/15/2016 12:00:00 AM</td><td>1</td><td>412</td><td>442</td></tr>\n",
       "\t<tr><td>1503960366</td><td>4/16/2016 12:00:00 AM</td><td>2</td><td>340</td><td>367</td></tr>\n",
       "\t<tr><td>1503960366</td><td>4/17/2016 12:00:00 AM</td><td>1</td><td>700</td><td>712</td></tr>\n",
       "\t<tr><td>1503960366</td><td>4/19/2016 12:00:00 AM</td><td>1</td><td>304</td><td>320</td></tr>\n",
       "</tbody>\n",
       "</table>\n"
      ],
      "text/latex": [
       "A tibble: 6 × 5\n",
       "\\begin{tabular}{lllll}\n",
       " Id & SleepDay & TotalSleepRecords & TotalMinutesAsleep & TotalTimeInBed\\\\\n",
       " <dbl> & <chr> & <dbl> & <dbl> & <dbl>\\\\\n",
       "\\hline\n",
       "\t 1503960366 & 4/12/2016 12:00:00 AM & 1 & 327 & 346\\\\\n",
       "\t 1503960366 & 4/13/2016 12:00:00 AM & 2 & 384 & 407\\\\\n",
       "\t 1503960366 & 4/15/2016 12:00:00 AM & 1 & 412 & 442\\\\\n",
       "\t 1503960366 & 4/16/2016 12:00:00 AM & 2 & 340 & 367\\\\\n",
       "\t 1503960366 & 4/17/2016 12:00:00 AM & 1 & 700 & 712\\\\\n",
       "\t 1503960366 & 4/19/2016 12:00:00 AM & 1 & 304 & 320\\\\\n",
       "\\end{tabular}\n"
      ],
      "text/markdown": [
       "\n",
       "A tibble: 6 × 5\n",
       "\n",
       "| Id &lt;dbl&gt; | SleepDay &lt;chr&gt; | TotalSleepRecords &lt;dbl&gt; | TotalMinutesAsleep &lt;dbl&gt; | TotalTimeInBed &lt;dbl&gt; |\n",
       "|---|---|---|---|---|\n",
       "| 1503960366 | 4/12/2016 12:00:00 AM | 1 | 327 | 346 |\n",
       "| 1503960366 | 4/13/2016 12:00:00 AM | 2 | 384 | 407 |\n",
       "| 1503960366 | 4/15/2016 12:00:00 AM | 1 | 412 | 442 |\n",
       "| 1503960366 | 4/16/2016 12:00:00 AM | 2 | 340 | 367 |\n",
       "| 1503960366 | 4/17/2016 12:00:00 AM | 1 | 700 | 712 |\n",
       "| 1503960366 | 4/19/2016 12:00:00 AM | 1 | 304 | 320 |\n",
       "\n"
      ],
      "text/plain": [
       "  Id         SleepDay              TotalSleepRecords TotalMinutesAsleep\n",
       "1 1503960366 4/12/2016 12:00:00 AM 1                 327               \n",
       "2 1503960366 4/13/2016 12:00:00 AM 2                 384               \n",
       "3 1503960366 4/15/2016 12:00:00 AM 1                 412               \n",
       "4 1503960366 4/16/2016 12:00:00 AM 2                 340               \n",
       "5 1503960366 4/17/2016 12:00:00 AM 1                 700               \n",
       "6 1503960366 4/19/2016 12:00:00 AM 1                 304               \n",
       "  TotalTimeInBed\n",
       "1 346           \n",
       "2 407           \n",
       "3 442           \n",
       "4 367           \n",
       "5 712           \n",
       "6 320           "
      ]
     },
     "metadata": {},
     "output_type": "display_data"
    }
   ],
   "source": [
    "sleep_day_df <- \n",
    "  read_csv(\"C:\\\\Users\\\\Joako\\\\Documents\\\\R_proyectos\\\\Caso_practico\\\\data_trabajo\\\\sleepDay_merged.csv\")\n",
    "head(sleep_day_df)"
   ]
  },
  {
   "cell_type": "code",
   "execution_count": 13,
   "id": "e29ce945-4768-4d76-82f9-6086ffc3fc21",
   "metadata": {
    "collapsed": true,
    "jupyter": {
     "outputs_hidden": true
    },
    "tags": []
   },
   "outputs": [
    {
     "name": "stderr",
     "output_type": "stream",
     "text": [
      "\u001b[1mRows: \u001b[22m\u001b[34m1325580\u001b[39m \u001b[1mColumns: \u001b[22m\u001b[34m3\u001b[39m\n",
      "\u001b[36m──\u001b[39m \u001b[1mColumn specification\u001b[22m \u001b[36m────────────────────────────────────────────────────────\u001b[39m\n",
      "\u001b[1mDelimiter:\u001b[22m \",\"\n",
      "\u001b[31mchr\u001b[39m (1): ActivityMinute\n",
      "\u001b[32mdbl\u001b[39m (2): Id, Calories\n",
      "\n",
      "\u001b[36mℹ\u001b[39m Use `spec()` to retrieve the full column specification for this data.\n",
      "\u001b[36mℹ\u001b[39m Specify the column types or set `show_col_types = FALSE` to quiet this message.\n"
     ]
    },
    {
     "data": {
      "text/html": [
       "<table class=\"dataframe\">\n",
       "<caption>A tibble: 6 × 3</caption>\n",
       "<thead>\n",
       "\t<tr><th scope=col>Id</th><th scope=col>ActivityMinute</th><th scope=col>Calories</th></tr>\n",
       "\t<tr><th scope=col>&lt;dbl&gt;</th><th scope=col>&lt;chr&gt;</th><th scope=col>&lt;dbl&gt;</th></tr>\n",
       "</thead>\n",
       "<tbody>\n",
       "\t<tr><td>1503960366</td><td>4/12/2016 12:00:00 AM</td><td>0.7865</td></tr>\n",
       "\t<tr><td>1503960366</td><td>4/12/2016 12:01:00 AM</td><td>0.7865</td></tr>\n",
       "\t<tr><td>1503960366</td><td>4/12/2016 12:02:00 AM</td><td>0.7865</td></tr>\n",
       "\t<tr><td>1503960366</td><td>4/12/2016 12:03:00 AM</td><td>0.7865</td></tr>\n",
       "\t<tr><td>1503960366</td><td>4/12/2016 12:04:00 AM</td><td>0.7865</td></tr>\n",
       "\t<tr><td>1503960366</td><td>4/12/2016 12:05:00 AM</td><td>0.9438</td></tr>\n",
       "</tbody>\n",
       "</table>\n"
      ],
      "text/latex": [
       "A tibble: 6 × 3\n",
       "\\begin{tabular}{lll}\n",
       " Id & ActivityMinute & Calories\\\\\n",
       " <dbl> & <chr> & <dbl>\\\\\n",
       "\\hline\n",
       "\t 1503960366 & 4/12/2016 12:00:00 AM & 0.7865\\\\\n",
       "\t 1503960366 & 4/12/2016 12:01:00 AM & 0.7865\\\\\n",
       "\t 1503960366 & 4/12/2016 12:02:00 AM & 0.7865\\\\\n",
       "\t 1503960366 & 4/12/2016 12:03:00 AM & 0.7865\\\\\n",
       "\t 1503960366 & 4/12/2016 12:04:00 AM & 0.7865\\\\\n",
       "\t 1503960366 & 4/12/2016 12:05:00 AM & 0.9438\\\\\n",
       "\\end{tabular}\n"
      ],
      "text/markdown": [
       "\n",
       "A tibble: 6 × 3\n",
       "\n",
       "| Id &lt;dbl&gt; | ActivityMinute &lt;chr&gt; | Calories &lt;dbl&gt; |\n",
       "|---|---|---|\n",
       "| 1503960366 | 4/12/2016 12:00:00 AM | 0.7865 |\n",
       "| 1503960366 | 4/12/2016 12:01:00 AM | 0.7865 |\n",
       "| 1503960366 | 4/12/2016 12:02:00 AM | 0.7865 |\n",
       "| 1503960366 | 4/12/2016 12:03:00 AM | 0.7865 |\n",
       "| 1503960366 | 4/12/2016 12:04:00 AM | 0.7865 |\n",
       "| 1503960366 | 4/12/2016 12:05:00 AM | 0.9438 |\n",
       "\n"
      ],
      "text/plain": [
       "  Id         ActivityMinute        Calories\n",
       "1 1503960366 4/12/2016 12:00:00 AM 0.7865  \n",
       "2 1503960366 4/12/2016 12:01:00 AM 0.7865  \n",
       "3 1503960366 4/12/2016 12:02:00 AM 0.7865  \n",
       "4 1503960366 4/12/2016 12:03:00 AM 0.7865  \n",
       "5 1503960366 4/12/2016 12:04:00 AM 0.7865  \n",
       "6 1503960366 4/12/2016 12:05:00 AM 0.9438  "
      ]
     },
     "metadata": {},
     "output_type": "display_data"
    }
   ],
   "source": [
    "min_calories_narrow <- \n",
    "  read_csv(\"C:\\\\Users\\\\Joako\\\\Documents\\\\R_proyectos\\\\Caso_practico\\\\data_trabajo\\\\minuteCaloriesNarrow_merged.csv\")\n",
    "head(min_calories_narrow)"
   ]
  },
  {
   "cell_type": "code",
   "execution_count": 14,
   "id": "0c55ba5f-78b1-4381-a9f9-97f13d399158",
   "metadata": {
    "collapsed": true,
    "jupyter": {
     "outputs_hidden": true
    },
    "tags": []
   },
   "outputs": [
    {
     "name": "stderr",
     "output_type": "stream",
     "text": [
      "\u001b[1mRows: \u001b[22m\u001b[34m1325580\u001b[39m \u001b[1mColumns: \u001b[22m\u001b[34m3\u001b[39m\n",
      "\u001b[36m──\u001b[39m \u001b[1mColumn specification\u001b[22m \u001b[36m────────────────────────────────────────────────────────\u001b[39m\n",
      "\u001b[1mDelimiter:\u001b[22m \",\"\n",
      "\u001b[31mchr\u001b[39m (1): ActivityMinute\n",
      "\u001b[32mdbl\u001b[39m (2): Id, Intensity\n",
      "\n",
      "\u001b[36mℹ\u001b[39m Use `spec()` to retrieve the full column specification for this data.\n",
      "\u001b[36mℹ\u001b[39m Specify the column types or set `show_col_types = FALSE` to quiet this message.\n"
     ]
    },
    {
     "data": {
      "text/html": [
       "<table class=\"dataframe\">\n",
       "<caption>A tibble: 6 × 3</caption>\n",
       "<thead>\n",
       "\t<tr><th scope=col>Id</th><th scope=col>ActivityMinute</th><th scope=col>Intensity</th></tr>\n",
       "\t<tr><th scope=col>&lt;dbl&gt;</th><th scope=col>&lt;chr&gt;</th><th scope=col>&lt;dbl&gt;</th></tr>\n",
       "</thead>\n",
       "<tbody>\n",
       "\t<tr><td>1503960366</td><td>4/12/2016 12:00:00 AM</td><td>0</td></tr>\n",
       "\t<tr><td>1503960366</td><td>4/12/2016 12:01:00 AM</td><td>0</td></tr>\n",
       "\t<tr><td>1503960366</td><td>4/12/2016 12:02:00 AM</td><td>0</td></tr>\n",
       "\t<tr><td>1503960366</td><td>4/12/2016 12:03:00 AM</td><td>0</td></tr>\n",
       "\t<tr><td>1503960366</td><td>4/12/2016 12:04:00 AM</td><td>0</td></tr>\n",
       "\t<tr><td>1503960366</td><td>4/12/2016 12:05:00 AM</td><td>0</td></tr>\n",
       "</tbody>\n",
       "</table>\n"
      ],
      "text/latex": [
       "A tibble: 6 × 3\n",
       "\\begin{tabular}{lll}\n",
       " Id & ActivityMinute & Intensity\\\\\n",
       " <dbl> & <chr> & <dbl>\\\\\n",
       "\\hline\n",
       "\t 1503960366 & 4/12/2016 12:00:00 AM & 0\\\\\n",
       "\t 1503960366 & 4/12/2016 12:01:00 AM & 0\\\\\n",
       "\t 1503960366 & 4/12/2016 12:02:00 AM & 0\\\\\n",
       "\t 1503960366 & 4/12/2016 12:03:00 AM & 0\\\\\n",
       "\t 1503960366 & 4/12/2016 12:04:00 AM & 0\\\\\n",
       "\t 1503960366 & 4/12/2016 12:05:00 AM & 0\\\\\n",
       "\\end{tabular}\n"
      ],
      "text/markdown": [
       "\n",
       "A tibble: 6 × 3\n",
       "\n",
       "| Id &lt;dbl&gt; | ActivityMinute &lt;chr&gt; | Intensity &lt;dbl&gt; |\n",
       "|---|---|---|\n",
       "| 1503960366 | 4/12/2016 12:00:00 AM | 0 |\n",
       "| 1503960366 | 4/12/2016 12:01:00 AM | 0 |\n",
       "| 1503960366 | 4/12/2016 12:02:00 AM | 0 |\n",
       "| 1503960366 | 4/12/2016 12:03:00 AM | 0 |\n",
       "| 1503960366 | 4/12/2016 12:04:00 AM | 0 |\n",
       "| 1503960366 | 4/12/2016 12:05:00 AM | 0 |\n",
       "\n"
      ],
      "text/plain": [
       "  Id         ActivityMinute        Intensity\n",
       "1 1503960366 4/12/2016 12:00:00 AM 0        \n",
       "2 1503960366 4/12/2016 12:01:00 AM 0        \n",
       "3 1503960366 4/12/2016 12:02:00 AM 0        \n",
       "4 1503960366 4/12/2016 12:03:00 AM 0        \n",
       "5 1503960366 4/12/2016 12:04:00 AM 0        \n",
       "6 1503960366 4/12/2016 12:05:00 AM 0        "
      ]
     },
     "metadata": {},
     "output_type": "display_data"
    }
   ],
   "source": [
    "min_intensities_narrow <- \n",
    "  read_csv(\"C:\\\\Users\\\\Joako\\\\Documents\\\\R_proyectos\\\\Caso_practico\\\\data_trabajo\\\\minuteIntensitiesNarrow_merged.csv\")\n",
    "head(min_intensities_narrow)"
   ]
  },
  {
   "cell_type": "code",
   "execution_count": 151,
   "id": "a0513236-af0b-4c9e-90e6-14c1cb3cf01e",
   "metadata": {
    "collapsed": true,
    "jupyter": {
     "outputs_hidden": true
    },
    "tags": []
   },
   "outputs": [
    {
     "name": "stderr",
     "output_type": "stream",
     "text": [
      "\u001b[1mRows: \u001b[22m\u001b[34m22099\u001b[39m \u001b[1mColumns: \u001b[22m\u001b[34m4\u001b[39m\n",
      "\u001b[36m──\u001b[39m \u001b[1mColumn specification\u001b[22m \u001b[36m────────────────────────────────────────────────────────\u001b[39m\n",
      "\u001b[1mDelimiter:\u001b[22m \",\"\n",
      "\u001b[31mchr\u001b[39m (1): ActivityHour\n",
      "\u001b[32mdbl\u001b[39m (3): Id, TotalIntensity, AverageIntensity\n",
      "\n",
      "\u001b[36mℹ\u001b[39m Use `spec()` to retrieve the full column specification for this data.\n",
      "\u001b[36mℹ\u001b[39m Specify the column types or set `show_col_types = FALSE` to quiet this message.\n"
     ]
    },
    {
     "data": {
      "text/html": [
       "<table class=\"dataframe\">\n",
       "<caption>A tibble: 6 × 4</caption>\n",
       "<thead>\n",
       "\t<tr><th scope=col>Id</th><th scope=col>ActivityHour</th><th scope=col>TotalIntensity</th><th scope=col>AverageIntensity</th></tr>\n",
       "\t<tr><th scope=col>&lt;dbl&gt;</th><th scope=col>&lt;chr&gt;</th><th scope=col>&lt;dbl&gt;</th><th scope=col>&lt;dbl&gt;</th></tr>\n",
       "</thead>\n",
       "<tbody>\n",
       "\t<tr><td>1503960366</td><td>4/12/2016 12:00:00 AM</td><td>20</td><td>0.333333</td></tr>\n",
       "\t<tr><td>1503960366</td><td>4/12/2016 1:00:00 AM </td><td> 8</td><td>0.133333</td></tr>\n",
       "\t<tr><td>1503960366</td><td>4/12/2016 2:00:00 AM </td><td> 7</td><td>0.116667</td></tr>\n",
       "\t<tr><td>1503960366</td><td>4/12/2016 3:00:00 AM </td><td> 0</td><td>0.000000</td></tr>\n",
       "\t<tr><td>1503960366</td><td>4/12/2016 4:00:00 AM </td><td> 0</td><td>0.000000</td></tr>\n",
       "\t<tr><td>1503960366</td><td>4/12/2016 5:00:00 AM </td><td> 0</td><td>0.000000</td></tr>\n",
       "</tbody>\n",
       "</table>\n"
      ],
      "text/latex": [
       "A tibble: 6 × 4\n",
       "\\begin{tabular}{llll}\n",
       " Id & ActivityHour & TotalIntensity & AverageIntensity\\\\\n",
       " <dbl> & <chr> & <dbl> & <dbl>\\\\\n",
       "\\hline\n",
       "\t 1503960366 & 4/12/2016 12:00:00 AM & 20 & 0.333333\\\\\n",
       "\t 1503960366 & 4/12/2016 1:00:00 AM  &  8 & 0.133333\\\\\n",
       "\t 1503960366 & 4/12/2016 2:00:00 AM  &  7 & 0.116667\\\\\n",
       "\t 1503960366 & 4/12/2016 3:00:00 AM  &  0 & 0.000000\\\\\n",
       "\t 1503960366 & 4/12/2016 4:00:00 AM  &  0 & 0.000000\\\\\n",
       "\t 1503960366 & 4/12/2016 5:00:00 AM  &  0 & 0.000000\\\\\n",
       "\\end{tabular}\n"
      ],
      "text/markdown": [
       "\n",
       "A tibble: 6 × 4\n",
       "\n",
       "| Id &lt;dbl&gt; | ActivityHour &lt;chr&gt; | TotalIntensity &lt;dbl&gt; | AverageIntensity &lt;dbl&gt; |\n",
       "|---|---|---|---|\n",
       "| 1503960366 | 4/12/2016 12:00:00 AM | 20 | 0.333333 |\n",
       "| 1503960366 | 4/12/2016 1:00:00 AM  |  8 | 0.133333 |\n",
       "| 1503960366 | 4/12/2016 2:00:00 AM  |  7 | 0.116667 |\n",
       "| 1503960366 | 4/12/2016 3:00:00 AM  |  0 | 0.000000 |\n",
       "| 1503960366 | 4/12/2016 4:00:00 AM  |  0 | 0.000000 |\n",
       "| 1503960366 | 4/12/2016 5:00:00 AM  |  0 | 0.000000 |\n",
       "\n"
      ],
      "text/plain": [
       "  Id         ActivityHour          TotalIntensity AverageIntensity\n",
       "1 1503960366 4/12/2016 12:00:00 AM 20             0.333333        \n",
       "2 1503960366 4/12/2016 1:00:00 AM   8             0.133333        \n",
       "3 1503960366 4/12/2016 2:00:00 AM   7             0.116667        \n",
       "4 1503960366 4/12/2016 3:00:00 AM   0             0.000000        \n",
       "5 1503960366 4/12/2016 4:00:00 AM   0             0.000000        \n",
       "6 1503960366 4/12/2016 5:00:00 AM   0             0.000000        "
      ]
     },
     "metadata": {},
     "output_type": "display_data"
    }
   ],
   "source": [
    "hourly_intensities <- read_csv(\"C:\\\\Users\\\\Joako\\\\Documents\\\\R_proyectos\\\\Caso_practico\\\\data_trabajo\\\\hourlyIntensities_merged.csv\")\n",
    "head(hourly_intensities)"
   ]
  },
  {
   "cell_type": "code",
   "execution_count": 186,
   "id": "002f34ef-6532-42e1-af79-f151b13e9660",
   "metadata": {
    "collapsed": true,
    "jupyter": {
     "outputs_hidden": true
    },
    "tags": []
   },
   "outputs": [
    {
     "name": "stderr",
     "output_type": "stream",
     "text": [
      "\u001b[1mRows: \u001b[22m\u001b[34m22099\u001b[39m \u001b[1mColumns: \u001b[22m\u001b[34m3\u001b[39m\n",
      "\u001b[36m──\u001b[39m \u001b[1mColumn specification\u001b[22m \u001b[36m────────────────────────────────────────────────────────\u001b[39m\n",
      "\u001b[1mDelimiter:\u001b[22m \",\"\n",
      "\u001b[31mchr\u001b[39m (1): ActivityHour\n",
      "\u001b[32mdbl\u001b[39m (2): Id, Calories\n",
      "\n",
      "\u001b[36mℹ\u001b[39m Use `spec()` to retrieve the full column specification for this data.\n",
      "\u001b[36mℹ\u001b[39m Specify the column types or set `show_col_types = FALSE` to quiet this message.\n"
     ]
    },
    {
     "data": {
      "text/html": [
       "<table class=\"dataframe\">\n",
       "<caption>A tibble: 6 × 3</caption>\n",
       "<thead>\n",
       "\t<tr><th scope=col>Id</th><th scope=col>ActivityHour</th><th scope=col>Calories</th></tr>\n",
       "\t<tr><th scope=col>&lt;dbl&gt;</th><th scope=col>&lt;chr&gt;</th><th scope=col>&lt;dbl&gt;</th></tr>\n",
       "</thead>\n",
       "<tbody>\n",
       "\t<tr><td>1503960366</td><td>4/12/2016 12:00:00 AM</td><td>81</td></tr>\n",
       "\t<tr><td>1503960366</td><td>4/12/2016 1:00:00 AM </td><td>61</td></tr>\n",
       "\t<tr><td>1503960366</td><td>4/12/2016 2:00:00 AM </td><td>59</td></tr>\n",
       "\t<tr><td>1503960366</td><td>4/12/2016 3:00:00 AM </td><td>47</td></tr>\n",
       "\t<tr><td>1503960366</td><td>4/12/2016 4:00:00 AM </td><td>48</td></tr>\n",
       "\t<tr><td>1503960366</td><td>4/12/2016 5:00:00 AM </td><td>48</td></tr>\n",
       "</tbody>\n",
       "</table>\n"
      ],
      "text/latex": [
       "A tibble: 6 × 3\n",
       "\\begin{tabular}{lll}\n",
       " Id & ActivityHour & Calories\\\\\n",
       " <dbl> & <chr> & <dbl>\\\\\n",
       "\\hline\n",
       "\t 1503960366 & 4/12/2016 12:00:00 AM & 81\\\\\n",
       "\t 1503960366 & 4/12/2016 1:00:00 AM  & 61\\\\\n",
       "\t 1503960366 & 4/12/2016 2:00:00 AM  & 59\\\\\n",
       "\t 1503960366 & 4/12/2016 3:00:00 AM  & 47\\\\\n",
       "\t 1503960366 & 4/12/2016 4:00:00 AM  & 48\\\\\n",
       "\t 1503960366 & 4/12/2016 5:00:00 AM  & 48\\\\\n",
       "\\end{tabular}\n"
      ],
      "text/markdown": [
       "\n",
       "A tibble: 6 × 3\n",
       "\n",
       "| Id &lt;dbl&gt; | ActivityHour &lt;chr&gt; | Calories &lt;dbl&gt; |\n",
       "|---|---|---|\n",
       "| 1503960366 | 4/12/2016 12:00:00 AM | 81 |\n",
       "| 1503960366 | 4/12/2016 1:00:00 AM  | 61 |\n",
       "| 1503960366 | 4/12/2016 2:00:00 AM  | 59 |\n",
       "| 1503960366 | 4/12/2016 3:00:00 AM  | 47 |\n",
       "| 1503960366 | 4/12/2016 4:00:00 AM  | 48 |\n",
       "| 1503960366 | 4/12/2016 5:00:00 AM  | 48 |\n",
       "\n"
      ],
      "text/plain": [
       "  Id         ActivityHour          Calories\n",
       "1 1503960366 4/12/2016 12:00:00 AM 81      \n",
       "2 1503960366 4/12/2016 1:00:00 AM  61      \n",
       "3 1503960366 4/12/2016 2:00:00 AM  59      \n",
       "4 1503960366 4/12/2016 3:00:00 AM  47      \n",
       "5 1503960366 4/12/2016 4:00:00 AM  48      \n",
       "6 1503960366 4/12/2016 5:00:00 AM  48      "
      ]
     },
     "metadata": {},
     "output_type": "display_data"
    }
   ],
   "source": [
    "hourly_calories <- read_csv(\"C:\\\\Users\\\\Joako\\\\Documents\\\\R_proyectos\\\\Caso_practico\\\\data_trabajo\\\\hourlyCalories_merged.csv\") \n",
    "head(hourly_calories)"
   ]
  },
  {
   "cell_type": "markdown",
   "id": "694403ae-1763-4b36-b2a0-2a8dc82063a4",
   "metadata": {
    "tags": []
   },
   "source": [
    "#### Verificación de registros de usuarios y observaciones\n",
    "Los datos recopilados son de 33 usuarios durante 30 días, con lo cual compruebo si los data.frame tienen el mismo numero de registro y mismos usarios"
   ]
  },
  {
   "cell_type": "code",
   "execution_count": 155,
   "id": "2bb5a477-e97f-4891-a995-e928b86a0220",
   "metadata": {
    "collapsed": true,
    "jupyter": {
     "outputs_hidden": true
    },
    "tags": []
   },
   "outputs": [
    {
     "name": "stderr",
     "output_type": "stream",
     "text": [
      "Warning message:\n",
      "\"Unknown or uninitialised column: `Id`.\"\n"
     ]
    },
    {
     "data": {
      "text/html": [
       "0"
      ],
      "text/latex": [
       "0"
      ],
      "text/markdown": [
       "0"
      ],
      "text/plain": [
       "[1] 0"
      ]
     },
     "metadata": {},
     "output_type": "display_data"
    },
    {
     "name": "stderr",
     "output_type": "stream",
     "text": [
      "Warning message:\n",
      "\"Unknown or uninitialised column: `Id`.\"\n"
     ]
    },
    {
     "data": {
      "text/html": [
       "0"
      ],
      "text/latex": [
       "0"
      ],
      "text/markdown": [
       "0"
      ],
      "text/plain": [
       "[1] 0"
      ]
     },
     "metadata": {},
     "output_type": "display_data"
    },
    {
     "name": "stderr",
     "output_type": "stream",
     "text": [
      "Warning message:\n",
      "\"Unknown or uninitialised column: `Id`.\"\n"
     ]
    },
    {
     "data": {
      "text/html": [
       "0"
      ],
      "text/latex": [
       "0"
      ],
      "text/markdown": [
       "0"
      ],
      "text/plain": [
       "[1] 0"
      ]
     },
     "metadata": {},
     "output_type": "display_data"
    },
    {
     "name": "stderr",
     "output_type": "stream",
     "text": [
      "Warning message:\n",
      "\"Unknown or uninitialised column: `Id`.\"\n"
     ]
    },
    {
     "data": {
      "text/html": [
       "0"
      ],
      "text/latex": [
       "0"
      ],
      "text/markdown": [
       "0"
      ],
      "text/plain": [
       "[1] 0"
      ]
     },
     "metadata": {},
     "output_type": "display_data"
    },
    {
     "data": {
      "text/html": [
       "33"
      ],
      "text/latex": [
       "33"
      ],
      "text/markdown": [
       "33"
      ],
      "text/plain": [
       "[1] 33"
      ]
     },
     "metadata": {},
     "output_type": "display_data"
    }
   ],
   "source": [
    "n_unique(daily_activity$Id)\n",
    "n_unique(sleep_day_df$Id)\n",
    "n_unique(min_calories_narrow$Id)\n",
    "n_unique(min_intensities_narrow$Id)\n",
    "n_unique(hourly_intensities$Id)"
   ]
  },
  {
   "cell_type": "code",
   "execution_count": 187,
   "id": "ae476e95-5e44-4afb-a12e-2a5b8553ba8c",
   "metadata": {},
   "outputs": [
    {
     "data": {
      "text/html": [
       "33"
      ],
      "text/latex": [
       "33"
      ],
      "text/markdown": [
       "33"
      ],
      "text/plain": [
       "[1] 33"
      ]
     },
     "metadata": {},
     "output_type": "display_data"
    }
   ],
   "source": [
    "n_unique(hourly_calories$Id)"
   ]
  },
  {
   "cell_type": "code",
   "execution_count": 22,
   "id": "7d3fdf3c-4e94-44a9-b8a9-a7558602b799",
   "metadata": {
    "collapsed": true,
    "jupyter": {
     "outputs_hidden": true
    },
    "tags": []
   },
   "outputs": [
    {
     "data": {
      "text/html": [
       "0"
      ],
      "text/latex": [
       "0"
      ],
      "text/markdown": [
       "0"
      ],
      "text/plain": [
       "[1] 0"
      ]
     },
     "metadata": {},
     "output_type": "display_data"
    },
    {
     "data": {
      "text/html": [
       "3"
      ],
      "text/latex": [
       "3"
      ],
      "text/markdown": [
       "3"
      ],
      "text/plain": [
       "[1] 3"
      ]
     },
     "metadata": {},
     "output_type": "display_data"
    },
    {
     "data": {
      "text/html": [
       "0"
      ],
      "text/latex": [
       "0"
      ],
      "text/markdown": [
       "0"
      ],
      "text/plain": [
       "[1] 0"
      ]
     },
     "metadata": {},
     "output_type": "display_data"
    },
    {
     "data": {
      "text/html": [
       "0"
      ],
      "text/latex": [
       "0"
      ],
      "text/markdown": [
       "0"
      ],
      "text/plain": [
       "[1] 0"
      ]
     },
     "metadata": {},
     "output_type": "display_data"
    }
   ],
   "source": [
    "sum(duplicated(daily_activity))\n",
    "sum(duplicated(sleep_day_df))\n",
    "sum(duplicated(min_calories_narrow))\n",
    "sum(duplicated(min_intensities_narrow))"
   ]
  },
  {
   "cell_type": "code",
   "execution_count": 156,
   "id": "ed0644cc-8694-446c-9898-9cc8257b2b7c",
   "metadata": {},
   "outputs": [
    {
     "data": {
      "text/html": [
       "0"
      ],
      "text/latex": [
       "0"
      ],
      "text/markdown": [
       "0"
      ],
      "text/plain": [
       "[1] 0"
      ]
     },
     "metadata": {},
     "output_type": "display_data"
    }
   ],
   "source": [
    "sum(duplicated(hourly_intensities))"
   ]
  },
  {
   "cell_type": "code",
   "execution_count": 189,
   "id": "4837cc4c-d2f8-4187-9019-214e4c84ab66",
   "metadata": {},
   "outputs": [
    {
     "data": {
      "text/html": [
       "0"
      ],
      "text/latex": [
       "0"
      ],
      "text/markdown": [
       "0"
      ],
      "text/plain": [
       "[1] 0"
      ]
     },
     "metadata": {},
     "output_type": "display_data"
    }
   ],
   "source": [
    "sum(duplicated(hourly_calories))"
   ]
  },
  {
   "cell_type": "markdown",
   "id": "38b614e6-70b6-4ba9-b3b8-20bf65e231a6",
   "metadata": {
    "tags": []
   },
   "source": [
    " Nombre data.frame     | Número se sujetos | Registros duplicados\n",
    "-----------------------|-------------------|----------------------\n",
    "daily_activity         | 33                | 0\n",
    "sleep_day_df           | 24                | 3\n",
    "min_calories_narrow    | 33                | 0\n",
    "min_intensities_narrow | 33                | 0\n",
    "\n",
    "En este resumen se puede comprobar que el data.frame sleep_day_df tiene 7 sujetos de los que no se tienen registros de tiempo de sueño y adicionalmente de los 24 sujetos existen 3 con registros duplicados con lo cual eliminaré esos registros duplicados."
   ]
  },
  {
   "cell_type": "code",
   "execution_count": 23,
   "id": "8bf06d95-a454-4bdb-a7c1-d75fc8ecba93",
   "metadata": {},
   "outputs": [],
   "source": [
    "sleep_day_df <- sleep_day_df %>%\n",
    "  distinct() %>%\n",
    "  drop_na()"
   ]
  },
  {
   "cell_type": "markdown",
   "id": "af147597-567c-4161-9298-c31fa806b457",
   "metadata": {},
   "source": [
    "Comprobación:"
   ]
  },
  {
   "cell_type": "code",
   "execution_count": 24,
   "id": "82006ea8-5653-4416-aaf4-a2c5154dca57",
   "metadata": {
    "tags": []
   },
   "outputs": [
    {
     "data": {
      "text/html": [
       "0"
      ],
      "text/latex": [
       "0"
      ],
      "text/markdown": [
       "0"
      ],
      "text/plain": [
       "[1] 0"
      ]
     },
     "metadata": {},
     "output_type": "display_data"
    }
   ],
   "source": [
    "sum(duplicated(sleep_day_df))"
   ]
  },
  {
   "cell_type": "markdown",
   "id": "5a535b1e-44bf-4fae-a11d-539c423aa446",
   "metadata": {},
   "source": [
    "#### Limpiando y renombrando columnas\n",
    "La idea es que todas las columnas estén estandarizadas con respectos a sus *nombres*, *espaciado* y el *formato tolower*. Para todos los data.frame la columna que hace referencia a la fecha llevaran el nombre **date** "
   ]
  },
  {
   "cell_type": "code",
   "execution_count": 25,
   "id": "71b2294e-48fb-4321-9430-d8d7a0eec3c7",
   "metadata": {
    "collapsed": true,
    "jupyter": {
     "outputs_hidden": true
    },
    "tags": []
   },
   "outputs": [
    {
     "data": {
      "text/html": [
       "<table class=\"dataframe\">\n",
       "<caption>A spec_tbl_df: 940 × 15</caption>\n",
       "<thead>\n",
       "\t<tr><th scope=col>id</th><th scope=col>activity_date</th><th scope=col>total_steps</th><th scope=col>total_distance</th><th scope=col>tracker_distance</th><th scope=col>logged_activities_distance</th><th scope=col>very_active_distance</th><th scope=col>moderately_active_distance</th><th scope=col>light_active_distance</th><th scope=col>sedentary_active_distance</th><th scope=col>very_active_minutes</th><th scope=col>fairly_active_minutes</th><th scope=col>lightly_active_minutes</th><th scope=col>sedentary_minutes</th><th scope=col>calories</th></tr>\n",
       "\t<tr><th scope=col>&lt;dbl&gt;</th><th scope=col>&lt;chr&gt;</th><th scope=col>&lt;dbl&gt;</th><th scope=col>&lt;dbl&gt;</th><th scope=col>&lt;dbl&gt;</th><th scope=col>&lt;dbl&gt;</th><th scope=col>&lt;dbl&gt;</th><th scope=col>&lt;dbl&gt;</th><th scope=col>&lt;dbl&gt;</th><th scope=col>&lt;dbl&gt;</th><th scope=col>&lt;dbl&gt;</th><th scope=col>&lt;dbl&gt;</th><th scope=col>&lt;dbl&gt;</th><th scope=col>&lt;dbl&gt;</th><th scope=col>&lt;dbl&gt;</th></tr>\n",
       "</thead>\n",
       "<tbody>\n",
       "\t<tr><td>1503960366</td><td>4/12/2016</td><td>13162</td><td> 8.50</td><td> 8.50</td><td>0</td><td>1.88</td><td>0.55</td><td>6.06</td><td>0</td><td>25</td><td>13</td><td>328</td><td> 728</td><td>1985</td></tr>\n",
       "\t<tr><td>1503960366</td><td>4/13/2016</td><td>10735</td><td> 6.97</td><td> 6.97</td><td>0</td><td>1.57</td><td>0.69</td><td>4.71</td><td>0</td><td>21</td><td>19</td><td>217</td><td> 776</td><td>1797</td></tr>\n",
       "\t<tr><td>1503960366</td><td>4/14/2016</td><td>10460</td><td> 6.74</td><td> 6.74</td><td>0</td><td>2.44</td><td>0.40</td><td>3.91</td><td>0</td><td>30</td><td>11</td><td>181</td><td>1218</td><td>1776</td></tr>\n",
       "\t<tr><td>1503960366</td><td>4/15/2016</td><td> 9762</td><td> 6.28</td><td> 6.28</td><td>0</td><td>2.14</td><td>1.26</td><td>2.83</td><td>0</td><td>29</td><td>34</td><td>209</td><td> 726</td><td>1745</td></tr>\n",
       "\t<tr><td>1503960366</td><td>4/16/2016</td><td>12669</td><td> 8.16</td><td> 8.16</td><td>0</td><td>2.71</td><td>0.41</td><td>5.04</td><td>0</td><td>36</td><td>10</td><td>221</td><td> 773</td><td>1863</td></tr>\n",
       "\t<tr><td>1503960366</td><td>4/17/2016</td><td> 9705</td><td> 6.48</td><td> 6.48</td><td>0</td><td>3.19</td><td>0.78</td><td>2.51</td><td>0</td><td>38</td><td>20</td><td>164</td><td> 539</td><td>1728</td></tr>\n",
       "\t<tr><td>1503960366</td><td>4/18/2016</td><td>13019</td><td> 8.59</td><td> 8.59</td><td>0</td><td>3.25</td><td>0.64</td><td>4.71</td><td>0</td><td>42</td><td>16</td><td>233</td><td>1149</td><td>1921</td></tr>\n",
       "\t<tr><td>1503960366</td><td>4/19/2016</td><td>15506</td><td> 9.88</td><td> 9.88</td><td>0</td><td>3.53</td><td>1.32</td><td>5.03</td><td>0</td><td>50</td><td>31</td><td>264</td><td> 775</td><td>2035</td></tr>\n",
       "\t<tr><td>1503960366</td><td>4/20/2016</td><td>10544</td><td> 6.68</td><td> 6.68</td><td>0</td><td>1.96</td><td>0.48</td><td>4.24</td><td>0</td><td>28</td><td>12</td><td>205</td><td> 818</td><td>1786</td></tr>\n",
       "\t<tr><td>1503960366</td><td>4/21/2016</td><td> 9819</td><td> 6.34</td><td> 6.34</td><td>0</td><td>1.34</td><td>0.35</td><td>4.65</td><td>0</td><td>19</td><td> 8</td><td>211</td><td> 838</td><td>1775</td></tr>\n",
       "\t<tr><td>1503960366</td><td>4/22/2016</td><td>12764</td><td> 8.13</td><td> 8.13</td><td>0</td><td>4.76</td><td>1.12</td><td>2.24</td><td>0</td><td>66</td><td>27</td><td>130</td><td>1217</td><td>1827</td></tr>\n",
       "\t<tr><td>1503960366</td><td>4/23/2016</td><td>14371</td><td> 9.04</td><td> 9.04</td><td>0</td><td>2.81</td><td>0.87</td><td>5.36</td><td>0</td><td>41</td><td>21</td><td>262</td><td> 732</td><td>1949</td></tr>\n",
       "\t<tr><td>1503960366</td><td>4/24/2016</td><td>10039</td><td> 6.41</td><td> 6.41</td><td>0</td><td>2.92</td><td>0.21</td><td>3.28</td><td>0</td><td>39</td><td> 5</td><td>238</td><td> 709</td><td>1788</td></tr>\n",
       "\t<tr><td>1503960366</td><td>4/25/2016</td><td>15355</td><td> 9.80</td><td> 9.80</td><td>0</td><td>5.29</td><td>0.57</td><td>3.94</td><td>0</td><td>73</td><td>14</td><td>216</td><td> 814</td><td>2013</td></tr>\n",
       "\t<tr><td>1503960366</td><td>4/26/2016</td><td>13755</td><td> 8.79</td><td> 8.79</td><td>0</td><td>2.33</td><td>0.92</td><td>5.54</td><td>0</td><td>31</td><td>23</td><td>279</td><td> 833</td><td>1970</td></tr>\n",
       "\t<tr><td>1503960366</td><td>4/27/2016</td><td>18134</td><td>12.21</td><td>12.21</td><td>0</td><td>6.40</td><td>0.41</td><td>5.41</td><td>0</td><td>78</td><td>11</td><td>243</td><td>1108</td><td>2159</td></tr>\n",
       "\t<tr><td>1503960366</td><td>4/28/2016</td><td>13154</td><td> 8.53</td><td> 8.53</td><td>0</td><td>3.54</td><td>1.16</td><td>3.79</td><td>0</td><td>48</td><td>28</td><td>189</td><td> 782</td><td>1898</td></tr>\n",
       "\t<tr><td>1503960366</td><td>4/29/2016</td><td>11181</td><td> 7.15</td><td> 7.15</td><td>0</td><td>1.06</td><td>0.50</td><td>5.58</td><td>0</td><td>16</td><td>12</td><td>243</td><td> 815</td><td>1837</td></tr>\n",
       "\t<tr><td>1503960366</td><td>4/30/2016</td><td>14673</td><td> 9.25</td><td> 9.25</td><td>0</td><td>3.56</td><td>1.42</td><td>4.27</td><td>0</td><td>52</td><td>34</td><td>217</td><td> 712</td><td>1947</td></tr>\n",
       "\t<tr><td>1503960366</td><td>5/1/2016 </td><td>10602</td><td> 6.81</td><td> 6.81</td><td>0</td><td>2.29</td><td>1.60</td><td>2.92</td><td>0</td><td>33</td><td>35</td><td>246</td><td> 730</td><td>1820</td></tr>\n",
       "\t<tr><td>1503960366</td><td>5/2/2016 </td><td>14727</td><td> 9.71</td><td> 9.71</td><td>0</td><td>3.21</td><td>0.57</td><td>5.92</td><td>0</td><td>41</td><td>15</td><td>277</td><td> 798</td><td>2004</td></tr>\n",
       "\t<tr><td>1503960366</td><td>5/3/2016 </td><td>15103</td><td> 9.66</td><td> 9.66</td><td>0</td><td>3.73</td><td>1.05</td><td>4.88</td><td>0</td><td>50</td><td>24</td><td>254</td><td> 816</td><td>1990</td></tr>\n",
       "\t<tr><td>1503960366</td><td>5/4/2016 </td><td>11100</td><td> 7.15</td><td> 7.15</td><td>0</td><td>2.46</td><td>0.87</td><td>3.82</td><td>0</td><td>36</td><td>22</td><td>203</td><td>1179</td><td>1819</td></tr>\n",
       "\t<tr><td>1503960366</td><td>5/5/2016 </td><td>14070</td><td> 8.90</td><td> 8.90</td><td>0</td><td>2.92</td><td>1.08</td><td>4.88</td><td>0</td><td>45</td><td>24</td><td>250</td><td> 857</td><td>1959</td></tr>\n",
       "\t<tr><td>1503960366</td><td>5/6/2016 </td><td>12159</td><td> 8.03</td><td> 8.03</td><td>0</td><td>1.97</td><td>0.25</td><td>5.81</td><td>0</td><td>24</td><td> 6</td><td>289</td><td> 754</td><td>1896</td></tr>\n",
       "\t<tr><td>1503960366</td><td>5/7/2016 </td><td>11992</td><td> 7.71</td><td> 7.71</td><td>0</td><td>2.46</td><td>2.12</td><td>3.13</td><td>0</td><td>37</td><td>46</td><td>175</td><td> 833</td><td>1821</td></tr>\n",
       "\t<tr><td>1503960366</td><td>5/8/2016 </td><td>10060</td><td> 6.58</td><td> 6.58</td><td>0</td><td>3.53</td><td>0.32</td><td>2.73</td><td>0</td><td>44</td><td> 8</td><td>203</td><td> 574</td><td>1740</td></tr>\n",
       "\t<tr><td>1503960366</td><td>5/9/2016 </td><td>12022</td><td> 7.72</td><td> 7.72</td><td>0</td><td>3.45</td><td>0.53</td><td>3.74</td><td>0</td><td>46</td><td>11</td><td>206</td><td> 835</td><td>1819</td></tr>\n",
       "\t<tr><td>1503960366</td><td>5/10/2016</td><td>12207</td><td> 7.77</td><td> 7.77</td><td>0</td><td>3.35</td><td>1.16</td><td>3.26</td><td>0</td><td>46</td><td>31</td><td>214</td><td> 746</td><td>1859</td></tr>\n",
       "\t<tr><td>1503960366</td><td>5/11/2016</td><td>12770</td><td> 8.13</td><td> 8.13</td><td>0</td><td>2.56</td><td>1.01</td><td>4.55</td><td>0</td><td>36</td><td>23</td><td>251</td><td> 669</td><td>1783</td></tr>\n",
       "\t<tr><td>⋮</td><td>⋮</td><td>⋮</td><td>⋮</td><td>⋮</td><td>⋮</td><td>⋮</td><td>⋮</td><td>⋮</td><td>⋮</td><td>⋮</td><td>⋮</td><td>⋮</td><td>⋮</td><td>⋮</td></tr>\n",
       "\t<tr><td>8877689391</td><td>4/13/2016</td><td>15337</td><td> 9.58</td><td> 9.58</td><td>0</td><td> 3.55</td><td>0.38</td><td> 5.64</td><td>0.00</td><td>108</td><td>18</td><td>216</td><td>1098</td><td>3566</td></tr>\n",
       "\t<tr><td>8877689391</td><td>4/14/2016</td><td>21129</td><td>18.98</td><td>18.98</td><td>0</td><td>10.55</td><td>0.59</td><td> 7.75</td><td>0.02</td><td> 68</td><td>13</td><td>298</td><td>1061</td><td>3793</td></tr>\n",
       "\t<tr><td>8877689391</td><td>4/15/2016</td><td>13422</td><td> 7.17</td><td> 7.17</td><td>0</td><td> 0.05</td><td>0.05</td><td> 7.01</td><td>0.01</td><td>106</td><td> 1</td><td>281</td><td>1052</td><td>3934</td></tr>\n",
       "\t<tr><td>8877689391</td><td>4/16/2016</td><td>29326</td><td>25.29</td><td>25.29</td><td>0</td><td>13.24</td><td>1.21</td><td>10.71</td><td>0.00</td><td> 94</td><td>29</td><td>429</td><td> 888</td><td>4547</td></tr>\n",
       "\t<tr><td>8877689391</td><td>4/17/2016</td><td>15118</td><td> 8.87</td><td> 8.87</td><td>0</td><td> 0.00</td><td>0.07</td><td> 8.79</td><td>0.00</td><td> 58</td><td>15</td><td>307</td><td>1060</td><td>3545</td></tr>\n",
       "\t<tr><td>8877689391</td><td>4/18/2016</td><td>11423</td><td> 8.67</td><td> 8.67</td><td>0</td><td> 2.44</td><td>0.27</td><td> 5.94</td><td>0.00</td><td> 29</td><td> 5</td><td>191</td><td>1215</td><td>2761</td></tr>\n",
       "\t<tr><td>8877689391</td><td>4/19/2016</td><td>18785</td><td>17.40</td><td>17.40</td><td>0</td><td>12.15</td><td>0.18</td><td> 5.03</td><td>0.00</td><td> 82</td><td>13</td><td>214</td><td>1131</td><td>3676</td></tr>\n",
       "\t<tr><td>8877689391</td><td>4/20/2016</td><td>19948</td><td>18.11</td><td>18.11</td><td>0</td><td>11.02</td><td>0.69</td><td> 6.34</td><td>0.00</td><td> 73</td><td>19</td><td>225</td><td>1123</td><td>3679</td></tr>\n",
       "\t<tr><td>8877689391</td><td>4/21/2016</td><td>19377</td><td>17.62</td><td>17.62</td><td>0</td><td>12.29</td><td>0.42</td><td> 4.89</td><td>0.00</td><td> 82</td><td>13</td><td>226</td><td>1119</td><td>3659</td></tr>\n",
       "\t<tr><td>8877689391</td><td>4/22/2016</td><td>18258</td><td>16.31</td><td>16.31</td><td>0</td><td>10.23</td><td>0.03</td><td> 5.97</td><td>0.05</td><td> 61</td><td> 2</td><td>236</td><td>1141</td><td>3427</td></tr>\n",
       "\t<tr><td>8877689391</td><td>4/23/2016</td><td>11200</td><td> 7.43</td><td> 7.43</td><td>0</td><td> 0.00</td><td>0.00</td><td> 7.40</td><td>0.01</td><td>102</td><td> 6</td><td>300</td><td>1032</td><td>3891</td></tr>\n",
       "\t<tr><td>8877689391</td><td>4/24/2016</td><td>16674</td><td>15.74</td><td>15.74</td><td>0</td><td>11.01</td><td>0.01</td><td> 4.69</td><td>0.00</td><td> 64</td><td> 1</td><td>227</td><td>1148</td><td>3455</td></tr>\n",
       "\t<tr><td>8877689391</td><td>4/25/2016</td><td>12986</td><td> 8.74</td><td> 8.74</td><td>0</td><td> 2.37</td><td>0.07</td><td> 6.27</td><td>0.01</td><td>113</td><td> 8</td><td>218</td><td>1101</td><td>3802</td></tr>\n",
       "\t<tr><td>8877689391</td><td>4/26/2016</td><td>11101</td><td> 8.43</td><td> 8.43</td><td>0</td><td> 1.76</td><td>0.13</td><td> 6.50</td><td>0.00</td><td> 22</td><td> 3</td><td>258</td><td>1157</td><td>2860</td></tr>\n",
       "\t<tr><td>8877689391</td><td>4/27/2016</td><td>23629</td><td>20.65</td><td>20.65</td><td>0</td><td>13.07</td><td>0.44</td><td> 7.10</td><td>0.00</td><td> 93</td><td> 8</td><td>235</td><td>1104</td><td>3808</td></tr>\n",
       "\t<tr><td>8877689391</td><td>4/28/2016</td><td>14890</td><td>11.30</td><td>11.30</td><td>0</td><td> 4.93</td><td>0.38</td><td> 5.97</td><td>0.00</td><td> 58</td><td> 8</td><td>231</td><td>1143</td><td>3060</td></tr>\n",
       "\t<tr><td>8877689391</td><td>4/29/2016</td><td> 9733</td><td> 7.39</td><td> 7.39</td><td>0</td><td> 1.38</td><td>0.17</td><td> 5.79</td><td>0.00</td><td> 18</td><td> 5</td><td>210</td><td>1207</td><td>2698</td></tr>\n",
       "\t<tr><td>8877689391</td><td>4/30/2016</td><td>27745</td><td>26.72</td><td>26.72</td><td>0</td><td>21.66</td><td>0.08</td><td> 4.93</td><td>0.00</td><td>124</td><td> 4</td><td>223</td><td>1089</td><td>4398</td></tr>\n",
       "\t<tr><td>8877689391</td><td>5/1/2016 </td><td>10930</td><td> 8.32</td><td> 8.32</td><td>0</td><td> 3.13</td><td>0.57</td><td> 4.57</td><td>0.00</td><td> 36</td><td>12</td><td>166</td><td>1226</td><td>2786</td></tr>\n",
       "\t<tr><td>8877689391</td><td>5/2/2016 </td><td> 4790</td><td> 3.64</td><td> 3.64</td><td>0</td><td> 0.00</td><td>0.00</td><td> 3.56</td><td>0.00</td><td>  0</td><td> 0</td><td>105</td><td>1335</td><td>2189</td></tr>\n",
       "\t<tr><td>8877689391</td><td>5/3/2016 </td><td>10818</td><td> 8.21</td><td> 8.21</td><td>0</td><td> 1.39</td><td>0.10</td><td> 6.67</td><td>0.01</td><td> 19</td><td> 3</td><td>229</td><td>1189</td><td>2817</td></tr>\n",
       "\t<tr><td>8877689391</td><td>5/4/2016 </td><td>18193</td><td>16.30</td><td>16.30</td><td>0</td><td>10.42</td><td>0.31</td><td> 5.53</td><td>0.00</td><td> 66</td><td> 8</td><td>212</td><td>1154</td><td>3477</td></tr>\n",
       "\t<tr><td>8877689391</td><td>5/5/2016 </td><td>14055</td><td>10.67</td><td>10.67</td><td>0</td><td> 5.46</td><td>0.82</td><td> 4.37</td><td>0.00</td><td> 67</td><td>15</td><td>188</td><td>1170</td><td>3052</td></tr>\n",
       "\t<tr><td>8877689391</td><td>5/6/2016 </td><td>21727</td><td>19.34</td><td>19.34</td><td>0</td><td>12.79</td><td>0.29</td><td> 6.16</td><td>0.00</td><td> 96</td><td>17</td><td>232</td><td>1095</td><td>4015</td></tr>\n",
       "\t<tr><td>8877689391</td><td>5/7/2016 </td><td>12332</td><td> 8.13</td><td> 8.13</td><td>0</td><td> 0.08</td><td>0.96</td><td> 6.99</td><td>0.00</td><td>105</td><td>28</td><td>271</td><td>1036</td><td>4142</td></tr>\n",
       "\t<tr><td>8877689391</td><td>5/8/2016 </td><td>10686</td><td> 8.11</td><td> 8.11</td><td>0</td><td> 1.08</td><td>0.20</td><td> 6.80</td><td>0.00</td><td> 17</td><td> 4</td><td>245</td><td>1174</td><td>2847</td></tr>\n",
       "\t<tr><td>8877689391</td><td>5/9/2016 </td><td>20226</td><td>18.25</td><td>18.25</td><td>0</td><td>11.10</td><td>0.80</td><td> 6.24</td><td>0.05</td><td> 73</td><td>19</td><td>217</td><td>1131</td><td>3710</td></tr>\n",
       "\t<tr><td>8877689391</td><td>5/10/2016</td><td>10733</td><td> 8.15</td><td> 8.15</td><td>0</td><td> 1.35</td><td>0.46</td><td> 6.28</td><td>0.00</td><td> 18</td><td>11</td><td>224</td><td>1187</td><td>2832</td></tr>\n",
       "\t<tr><td>8877689391</td><td>5/11/2016</td><td>21420</td><td>19.56</td><td>19.56</td><td>0</td><td>13.22</td><td>0.41</td><td> 5.89</td><td>0.00</td><td> 88</td><td>12</td><td>213</td><td>1127</td><td>3832</td></tr>\n",
       "\t<tr><td>8877689391</td><td>5/12/2016</td><td> 8064</td><td> 6.12</td><td> 6.12</td><td>0</td><td> 1.82</td><td>0.04</td><td> 4.25</td><td>0.00</td><td> 23</td><td> 1</td><td>137</td><td> 770</td><td>1849</td></tr>\n",
       "</tbody>\n",
       "</table>\n"
      ],
      "text/latex": [
       "A spec\\_tbl\\_df: 940 × 15\n",
       "\\begin{tabular}{lllllllllllllll}\n",
       " id & activity\\_date & total\\_steps & total\\_distance & tracker\\_distance & logged\\_activities\\_distance & very\\_active\\_distance & moderately\\_active\\_distance & light\\_active\\_distance & sedentary\\_active\\_distance & very\\_active\\_minutes & fairly\\_active\\_minutes & lightly\\_active\\_minutes & sedentary\\_minutes & calories\\\\\n",
       " <dbl> & <chr> & <dbl> & <dbl> & <dbl> & <dbl> & <dbl> & <dbl> & <dbl> & <dbl> & <dbl> & <dbl> & <dbl> & <dbl> & <dbl>\\\\\n",
       "\\hline\n",
       "\t 1503960366 & 4/12/2016 & 13162 &  8.50 &  8.50 & 0 & 1.88 & 0.55 & 6.06 & 0 & 25 & 13 & 328 &  728 & 1985\\\\\n",
       "\t 1503960366 & 4/13/2016 & 10735 &  6.97 &  6.97 & 0 & 1.57 & 0.69 & 4.71 & 0 & 21 & 19 & 217 &  776 & 1797\\\\\n",
       "\t 1503960366 & 4/14/2016 & 10460 &  6.74 &  6.74 & 0 & 2.44 & 0.40 & 3.91 & 0 & 30 & 11 & 181 & 1218 & 1776\\\\\n",
       "\t 1503960366 & 4/15/2016 &  9762 &  6.28 &  6.28 & 0 & 2.14 & 1.26 & 2.83 & 0 & 29 & 34 & 209 &  726 & 1745\\\\\n",
       "\t 1503960366 & 4/16/2016 & 12669 &  8.16 &  8.16 & 0 & 2.71 & 0.41 & 5.04 & 0 & 36 & 10 & 221 &  773 & 1863\\\\\n",
       "\t 1503960366 & 4/17/2016 &  9705 &  6.48 &  6.48 & 0 & 3.19 & 0.78 & 2.51 & 0 & 38 & 20 & 164 &  539 & 1728\\\\\n",
       "\t 1503960366 & 4/18/2016 & 13019 &  8.59 &  8.59 & 0 & 3.25 & 0.64 & 4.71 & 0 & 42 & 16 & 233 & 1149 & 1921\\\\\n",
       "\t 1503960366 & 4/19/2016 & 15506 &  9.88 &  9.88 & 0 & 3.53 & 1.32 & 5.03 & 0 & 50 & 31 & 264 &  775 & 2035\\\\\n",
       "\t 1503960366 & 4/20/2016 & 10544 &  6.68 &  6.68 & 0 & 1.96 & 0.48 & 4.24 & 0 & 28 & 12 & 205 &  818 & 1786\\\\\n",
       "\t 1503960366 & 4/21/2016 &  9819 &  6.34 &  6.34 & 0 & 1.34 & 0.35 & 4.65 & 0 & 19 &  8 & 211 &  838 & 1775\\\\\n",
       "\t 1503960366 & 4/22/2016 & 12764 &  8.13 &  8.13 & 0 & 4.76 & 1.12 & 2.24 & 0 & 66 & 27 & 130 & 1217 & 1827\\\\\n",
       "\t 1503960366 & 4/23/2016 & 14371 &  9.04 &  9.04 & 0 & 2.81 & 0.87 & 5.36 & 0 & 41 & 21 & 262 &  732 & 1949\\\\\n",
       "\t 1503960366 & 4/24/2016 & 10039 &  6.41 &  6.41 & 0 & 2.92 & 0.21 & 3.28 & 0 & 39 &  5 & 238 &  709 & 1788\\\\\n",
       "\t 1503960366 & 4/25/2016 & 15355 &  9.80 &  9.80 & 0 & 5.29 & 0.57 & 3.94 & 0 & 73 & 14 & 216 &  814 & 2013\\\\\n",
       "\t 1503960366 & 4/26/2016 & 13755 &  8.79 &  8.79 & 0 & 2.33 & 0.92 & 5.54 & 0 & 31 & 23 & 279 &  833 & 1970\\\\\n",
       "\t 1503960366 & 4/27/2016 & 18134 & 12.21 & 12.21 & 0 & 6.40 & 0.41 & 5.41 & 0 & 78 & 11 & 243 & 1108 & 2159\\\\\n",
       "\t 1503960366 & 4/28/2016 & 13154 &  8.53 &  8.53 & 0 & 3.54 & 1.16 & 3.79 & 0 & 48 & 28 & 189 &  782 & 1898\\\\\n",
       "\t 1503960366 & 4/29/2016 & 11181 &  7.15 &  7.15 & 0 & 1.06 & 0.50 & 5.58 & 0 & 16 & 12 & 243 &  815 & 1837\\\\\n",
       "\t 1503960366 & 4/30/2016 & 14673 &  9.25 &  9.25 & 0 & 3.56 & 1.42 & 4.27 & 0 & 52 & 34 & 217 &  712 & 1947\\\\\n",
       "\t 1503960366 & 5/1/2016  & 10602 &  6.81 &  6.81 & 0 & 2.29 & 1.60 & 2.92 & 0 & 33 & 35 & 246 &  730 & 1820\\\\\n",
       "\t 1503960366 & 5/2/2016  & 14727 &  9.71 &  9.71 & 0 & 3.21 & 0.57 & 5.92 & 0 & 41 & 15 & 277 &  798 & 2004\\\\\n",
       "\t 1503960366 & 5/3/2016  & 15103 &  9.66 &  9.66 & 0 & 3.73 & 1.05 & 4.88 & 0 & 50 & 24 & 254 &  816 & 1990\\\\\n",
       "\t 1503960366 & 5/4/2016  & 11100 &  7.15 &  7.15 & 0 & 2.46 & 0.87 & 3.82 & 0 & 36 & 22 & 203 & 1179 & 1819\\\\\n",
       "\t 1503960366 & 5/5/2016  & 14070 &  8.90 &  8.90 & 0 & 2.92 & 1.08 & 4.88 & 0 & 45 & 24 & 250 &  857 & 1959\\\\\n",
       "\t 1503960366 & 5/6/2016  & 12159 &  8.03 &  8.03 & 0 & 1.97 & 0.25 & 5.81 & 0 & 24 &  6 & 289 &  754 & 1896\\\\\n",
       "\t 1503960366 & 5/7/2016  & 11992 &  7.71 &  7.71 & 0 & 2.46 & 2.12 & 3.13 & 0 & 37 & 46 & 175 &  833 & 1821\\\\\n",
       "\t 1503960366 & 5/8/2016  & 10060 &  6.58 &  6.58 & 0 & 3.53 & 0.32 & 2.73 & 0 & 44 &  8 & 203 &  574 & 1740\\\\\n",
       "\t 1503960366 & 5/9/2016  & 12022 &  7.72 &  7.72 & 0 & 3.45 & 0.53 & 3.74 & 0 & 46 & 11 & 206 &  835 & 1819\\\\\n",
       "\t 1503960366 & 5/10/2016 & 12207 &  7.77 &  7.77 & 0 & 3.35 & 1.16 & 3.26 & 0 & 46 & 31 & 214 &  746 & 1859\\\\\n",
       "\t 1503960366 & 5/11/2016 & 12770 &  8.13 &  8.13 & 0 & 2.56 & 1.01 & 4.55 & 0 & 36 & 23 & 251 &  669 & 1783\\\\\n",
       "\t ⋮ & ⋮ & ⋮ & ⋮ & ⋮ & ⋮ & ⋮ & ⋮ & ⋮ & ⋮ & ⋮ & ⋮ & ⋮ & ⋮ & ⋮\\\\\n",
       "\t 8877689391 & 4/13/2016 & 15337 &  9.58 &  9.58 & 0 &  3.55 & 0.38 &  5.64 & 0.00 & 108 & 18 & 216 & 1098 & 3566\\\\\n",
       "\t 8877689391 & 4/14/2016 & 21129 & 18.98 & 18.98 & 0 & 10.55 & 0.59 &  7.75 & 0.02 &  68 & 13 & 298 & 1061 & 3793\\\\\n",
       "\t 8877689391 & 4/15/2016 & 13422 &  7.17 &  7.17 & 0 &  0.05 & 0.05 &  7.01 & 0.01 & 106 &  1 & 281 & 1052 & 3934\\\\\n",
       "\t 8877689391 & 4/16/2016 & 29326 & 25.29 & 25.29 & 0 & 13.24 & 1.21 & 10.71 & 0.00 &  94 & 29 & 429 &  888 & 4547\\\\\n",
       "\t 8877689391 & 4/17/2016 & 15118 &  8.87 &  8.87 & 0 &  0.00 & 0.07 &  8.79 & 0.00 &  58 & 15 & 307 & 1060 & 3545\\\\\n",
       "\t 8877689391 & 4/18/2016 & 11423 &  8.67 &  8.67 & 0 &  2.44 & 0.27 &  5.94 & 0.00 &  29 &  5 & 191 & 1215 & 2761\\\\\n",
       "\t 8877689391 & 4/19/2016 & 18785 & 17.40 & 17.40 & 0 & 12.15 & 0.18 &  5.03 & 0.00 &  82 & 13 & 214 & 1131 & 3676\\\\\n",
       "\t 8877689391 & 4/20/2016 & 19948 & 18.11 & 18.11 & 0 & 11.02 & 0.69 &  6.34 & 0.00 &  73 & 19 & 225 & 1123 & 3679\\\\\n",
       "\t 8877689391 & 4/21/2016 & 19377 & 17.62 & 17.62 & 0 & 12.29 & 0.42 &  4.89 & 0.00 &  82 & 13 & 226 & 1119 & 3659\\\\\n",
       "\t 8877689391 & 4/22/2016 & 18258 & 16.31 & 16.31 & 0 & 10.23 & 0.03 &  5.97 & 0.05 &  61 &  2 & 236 & 1141 & 3427\\\\\n",
       "\t 8877689391 & 4/23/2016 & 11200 &  7.43 &  7.43 & 0 &  0.00 & 0.00 &  7.40 & 0.01 & 102 &  6 & 300 & 1032 & 3891\\\\\n",
       "\t 8877689391 & 4/24/2016 & 16674 & 15.74 & 15.74 & 0 & 11.01 & 0.01 &  4.69 & 0.00 &  64 &  1 & 227 & 1148 & 3455\\\\\n",
       "\t 8877689391 & 4/25/2016 & 12986 &  8.74 &  8.74 & 0 &  2.37 & 0.07 &  6.27 & 0.01 & 113 &  8 & 218 & 1101 & 3802\\\\\n",
       "\t 8877689391 & 4/26/2016 & 11101 &  8.43 &  8.43 & 0 &  1.76 & 0.13 &  6.50 & 0.00 &  22 &  3 & 258 & 1157 & 2860\\\\\n",
       "\t 8877689391 & 4/27/2016 & 23629 & 20.65 & 20.65 & 0 & 13.07 & 0.44 &  7.10 & 0.00 &  93 &  8 & 235 & 1104 & 3808\\\\\n",
       "\t 8877689391 & 4/28/2016 & 14890 & 11.30 & 11.30 & 0 &  4.93 & 0.38 &  5.97 & 0.00 &  58 &  8 & 231 & 1143 & 3060\\\\\n",
       "\t 8877689391 & 4/29/2016 &  9733 &  7.39 &  7.39 & 0 &  1.38 & 0.17 &  5.79 & 0.00 &  18 &  5 & 210 & 1207 & 2698\\\\\n",
       "\t 8877689391 & 4/30/2016 & 27745 & 26.72 & 26.72 & 0 & 21.66 & 0.08 &  4.93 & 0.00 & 124 &  4 & 223 & 1089 & 4398\\\\\n",
       "\t 8877689391 & 5/1/2016  & 10930 &  8.32 &  8.32 & 0 &  3.13 & 0.57 &  4.57 & 0.00 &  36 & 12 & 166 & 1226 & 2786\\\\\n",
       "\t 8877689391 & 5/2/2016  &  4790 &  3.64 &  3.64 & 0 &  0.00 & 0.00 &  3.56 & 0.00 &   0 &  0 & 105 & 1335 & 2189\\\\\n",
       "\t 8877689391 & 5/3/2016  & 10818 &  8.21 &  8.21 & 0 &  1.39 & 0.10 &  6.67 & 0.01 &  19 &  3 & 229 & 1189 & 2817\\\\\n",
       "\t 8877689391 & 5/4/2016  & 18193 & 16.30 & 16.30 & 0 & 10.42 & 0.31 &  5.53 & 0.00 &  66 &  8 & 212 & 1154 & 3477\\\\\n",
       "\t 8877689391 & 5/5/2016  & 14055 & 10.67 & 10.67 & 0 &  5.46 & 0.82 &  4.37 & 0.00 &  67 & 15 & 188 & 1170 & 3052\\\\\n",
       "\t 8877689391 & 5/6/2016  & 21727 & 19.34 & 19.34 & 0 & 12.79 & 0.29 &  6.16 & 0.00 &  96 & 17 & 232 & 1095 & 4015\\\\\n",
       "\t 8877689391 & 5/7/2016  & 12332 &  8.13 &  8.13 & 0 &  0.08 & 0.96 &  6.99 & 0.00 & 105 & 28 & 271 & 1036 & 4142\\\\\n",
       "\t 8877689391 & 5/8/2016  & 10686 &  8.11 &  8.11 & 0 &  1.08 & 0.20 &  6.80 & 0.00 &  17 &  4 & 245 & 1174 & 2847\\\\\n",
       "\t 8877689391 & 5/9/2016  & 20226 & 18.25 & 18.25 & 0 & 11.10 & 0.80 &  6.24 & 0.05 &  73 & 19 & 217 & 1131 & 3710\\\\\n",
       "\t 8877689391 & 5/10/2016 & 10733 &  8.15 &  8.15 & 0 &  1.35 & 0.46 &  6.28 & 0.00 &  18 & 11 & 224 & 1187 & 2832\\\\\n",
       "\t 8877689391 & 5/11/2016 & 21420 & 19.56 & 19.56 & 0 & 13.22 & 0.41 &  5.89 & 0.00 &  88 & 12 & 213 & 1127 & 3832\\\\\n",
       "\t 8877689391 & 5/12/2016 &  8064 &  6.12 &  6.12 & 0 &  1.82 & 0.04 &  4.25 & 0.00 &  23 &  1 & 137 &  770 & 1849\\\\\n",
       "\\end{tabular}\n"
      ],
      "text/markdown": [
       "\n",
       "A spec_tbl_df: 940 × 15\n",
       "\n",
       "| id &lt;dbl&gt; | activity_date &lt;chr&gt; | total_steps &lt;dbl&gt; | total_distance &lt;dbl&gt; | tracker_distance &lt;dbl&gt; | logged_activities_distance &lt;dbl&gt; | very_active_distance &lt;dbl&gt; | moderately_active_distance &lt;dbl&gt; | light_active_distance &lt;dbl&gt; | sedentary_active_distance &lt;dbl&gt; | very_active_minutes &lt;dbl&gt; | fairly_active_minutes &lt;dbl&gt; | lightly_active_minutes &lt;dbl&gt; | sedentary_minutes &lt;dbl&gt; | calories &lt;dbl&gt; |\n",
       "|---|---|---|---|---|---|---|---|---|---|---|---|---|---|---|\n",
       "| 1503960366 | 4/12/2016 | 13162 |  8.50 |  8.50 | 0 | 1.88 | 0.55 | 6.06 | 0 | 25 | 13 | 328 |  728 | 1985 |\n",
       "| 1503960366 | 4/13/2016 | 10735 |  6.97 |  6.97 | 0 | 1.57 | 0.69 | 4.71 | 0 | 21 | 19 | 217 |  776 | 1797 |\n",
       "| 1503960366 | 4/14/2016 | 10460 |  6.74 |  6.74 | 0 | 2.44 | 0.40 | 3.91 | 0 | 30 | 11 | 181 | 1218 | 1776 |\n",
       "| 1503960366 | 4/15/2016 |  9762 |  6.28 |  6.28 | 0 | 2.14 | 1.26 | 2.83 | 0 | 29 | 34 | 209 |  726 | 1745 |\n",
       "| 1503960366 | 4/16/2016 | 12669 |  8.16 |  8.16 | 0 | 2.71 | 0.41 | 5.04 | 0 | 36 | 10 | 221 |  773 | 1863 |\n",
       "| 1503960366 | 4/17/2016 |  9705 |  6.48 |  6.48 | 0 | 3.19 | 0.78 | 2.51 | 0 | 38 | 20 | 164 |  539 | 1728 |\n",
       "| 1503960366 | 4/18/2016 | 13019 |  8.59 |  8.59 | 0 | 3.25 | 0.64 | 4.71 | 0 | 42 | 16 | 233 | 1149 | 1921 |\n",
       "| 1503960366 | 4/19/2016 | 15506 |  9.88 |  9.88 | 0 | 3.53 | 1.32 | 5.03 | 0 | 50 | 31 | 264 |  775 | 2035 |\n",
       "| 1503960366 | 4/20/2016 | 10544 |  6.68 |  6.68 | 0 | 1.96 | 0.48 | 4.24 | 0 | 28 | 12 | 205 |  818 | 1786 |\n",
       "| 1503960366 | 4/21/2016 |  9819 |  6.34 |  6.34 | 0 | 1.34 | 0.35 | 4.65 | 0 | 19 |  8 | 211 |  838 | 1775 |\n",
       "| 1503960366 | 4/22/2016 | 12764 |  8.13 |  8.13 | 0 | 4.76 | 1.12 | 2.24 | 0 | 66 | 27 | 130 | 1217 | 1827 |\n",
       "| 1503960366 | 4/23/2016 | 14371 |  9.04 |  9.04 | 0 | 2.81 | 0.87 | 5.36 | 0 | 41 | 21 | 262 |  732 | 1949 |\n",
       "| 1503960366 | 4/24/2016 | 10039 |  6.41 |  6.41 | 0 | 2.92 | 0.21 | 3.28 | 0 | 39 |  5 | 238 |  709 | 1788 |\n",
       "| 1503960366 | 4/25/2016 | 15355 |  9.80 |  9.80 | 0 | 5.29 | 0.57 | 3.94 | 0 | 73 | 14 | 216 |  814 | 2013 |\n",
       "| 1503960366 | 4/26/2016 | 13755 |  8.79 |  8.79 | 0 | 2.33 | 0.92 | 5.54 | 0 | 31 | 23 | 279 |  833 | 1970 |\n",
       "| 1503960366 | 4/27/2016 | 18134 | 12.21 | 12.21 | 0 | 6.40 | 0.41 | 5.41 | 0 | 78 | 11 | 243 | 1108 | 2159 |\n",
       "| 1503960366 | 4/28/2016 | 13154 |  8.53 |  8.53 | 0 | 3.54 | 1.16 | 3.79 | 0 | 48 | 28 | 189 |  782 | 1898 |\n",
       "| 1503960366 | 4/29/2016 | 11181 |  7.15 |  7.15 | 0 | 1.06 | 0.50 | 5.58 | 0 | 16 | 12 | 243 |  815 | 1837 |\n",
       "| 1503960366 | 4/30/2016 | 14673 |  9.25 |  9.25 | 0 | 3.56 | 1.42 | 4.27 | 0 | 52 | 34 | 217 |  712 | 1947 |\n",
       "| 1503960366 | 5/1/2016  | 10602 |  6.81 |  6.81 | 0 | 2.29 | 1.60 | 2.92 | 0 | 33 | 35 | 246 |  730 | 1820 |\n",
       "| 1503960366 | 5/2/2016  | 14727 |  9.71 |  9.71 | 0 | 3.21 | 0.57 | 5.92 | 0 | 41 | 15 | 277 |  798 | 2004 |\n",
       "| 1503960366 | 5/3/2016  | 15103 |  9.66 |  9.66 | 0 | 3.73 | 1.05 | 4.88 | 0 | 50 | 24 | 254 |  816 | 1990 |\n",
       "| 1503960366 | 5/4/2016  | 11100 |  7.15 |  7.15 | 0 | 2.46 | 0.87 | 3.82 | 0 | 36 | 22 | 203 | 1179 | 1819 |\n",
       "| 1503960366 | 5/5/2016  | 14070 |  8.90 |  8.90 | 0 | 2.92 | 1.08 | 4.88 | 0 | 45 | 24 | 250 |  857 | 1959 |\n",
       "| 1503960366 | 5/6/2016  | 12159 |  8.03 |  8.03 | 0 | 1.97 | 0.25 | 5.81 | 0 | 24 |  6 | 289 |  754 | 1896 |\n",
       "| 1503960366 | 5/7/2016  | 11992 |  7.71 |  7.71 | 0 | 2.46 | 2.12 | 3.13 | 0 | 37 | 46 | 175 |  833 | 1821 |\n",
       "| 1503960366 | 5/8/2016  | 10060 |  6.58 |  6.58 | 0 | 3.53 | 0.32 | 2.73 | 0 | 44 |  8 | 203 |  574 | 1740 |\n",
       "| 1503960366 | 5/9/2016  | 12022 |  7.72 |  7.72 | 0 | 3.45 | 0.53 | 3.74 | 0 | 46 | 11 | 206 |  835 | 1819 |\n",
       "| 1503960366 | 5/10/2016 | 12207 |  7.77 |  7.77 | 0 | 3.35 | 1.16 | 3.26 | 0 | 46 | 31 | 214 |  746 | 1859 |\n",
       "| 1503960366 | 5/11/2016 | 12770 |  8.13 |  8.13 | 0 | 2.56 | 1.01 | 4.55 | 0 | 36 | 23 | 251 |  669 | 1783 |\n",
       "| ⋮ | ⋮ | ⋮ | ⋮ | ⋮ | ⋮ | ⋮ | ⋮ | ⋮ | ⋮ | ⋮ | ⋮ | ⋮ | ⋮ | ⋮ |\n",
       "| 8877689391 | 4/13/2016 | 15337 |  9.58 |  9.58 | 0 |  3.55 | 0.38 |  5.64 | 0.00 | 108 | 18 | 216 | 1098 | 3566 |\n",
       "| 8877689391 | 4/14/2016 | 21129 | 18.98 | 18.98 | 0 | 10.55 | 0.59 |  7.75 | 0.02 |  68 | 13 | 298 | 1061 | 3793 |\n",
       "| 8877689391 | 4/15/2016 | 13422 |  7.17 |  7.17 | 0 |  0.05 | 0.05 |  7.01 | 0.01 | 106 |  1 | 281 | 1052 | 3934 |\n",
       "| 8877689391 | 4/16/2016 | 29326 | 25.29 | 25.29 | 0 | 13.24 | 1.21 | 10.71 | 0.00 |  94 | 29 | 429 |  888 | 4547 |\n",
       "| 8877689391 | 4/17/2016 | 15118 |  8.87 |  8.87 | 0 |  0.00 | 0.07 |  8.79 | 0.00 |  58 | 15 | 307 | 1060 | 3545 |\n",
       "| 8877689391 | 4/18/2016 | 11423 |  8.67 |  8.67 | 0 |  2.44 | 0.27 |  5.94 | 0.00 |  29 |  5 | 191 | 1215 | 2761 |\n",
       "| 8877689391 | 4/19/2016 | 18785 | 17.40 | 17.40 | 0 | 12.15 | 0.18 |  5.03 | 0.00 |  82 | 13 | 214 | 1131 | 3676 |\n",
       "| 8877689391 | 4/20/2016 | 19948 | 18.11 | 18.11 | 0 | 11.02 | 0.69 |  6.34 | 0.00 |  73 | 19 | 225 | 1123 | 3679 |\n",
       "| 8877689391 | 4/21/2016 | 19377 | 17.62 | 17.62 | 0 | 12.29 | 0.42 |  4.89 | 0.00 |  82 | 13 | 226 | 1119 | 3659 |\n",
       "| 8877689391 | 4/22/2016 | 18258 | 16.31 | 16.31 | 0 | 10.23 | 0.03 |  5.97 | 0.05 |  61 |  2 | 236 | 1141 | 3427 |\n",
       "| 8877689391 | 4/23/2016 | 11200 |  7.43 |  7.43 | 0 |  0.00 | 0.00 |  7.40 | 0.01 | 102 |  6 | 300 | 1032 | 3891 |\n",
       "| 8877689391 | 4/24/2016 | 16674 | 15.74 | 15.74 | 0 | 11.01 | 0.01 |  4.69 | 0.00 |  64 |  1 | 227 | 1148 | 3455 |\n",
       "| 8877689391 | 4/25/2016 | 12986 |  8.74 |  8.74 | 0 |  2.37 | 0.07 |  6.27 | 0.01 | 113 |  8 | 218 | 1101 | 3802 |\n",
       "| 8877689391 | 4/26/2016 | 11101 |  8.43 |  8.43 | 0 |  1.76 | 0.13 |  6.50 | 0.00 |  22 |  3 | 258 | 1157 | 2860 |\n",
       "| 8877689391 | 4/27/2016 | 23629 | 20.65 | 20.65 | 0 | 13.07 | 0.44 |  7.10 | 0.00 |  93 |  8 | 235 | 1104 | 3808 |\n",
       "| 8877689391 | 4/28/2016 | 14890 | 11.30 | 11.30 | 0 |  4.93 | 0.38 |  5.97 | 0.00 |  58 |  8 | 231 | 1143 | 3060 |\n",
       "| 8877689391 | 4/29/2016 |  9733 |  7.39 |  7.39 | 0 |  1.38 | 0.17 |  5.79 | 0.00 |  18 |  5 | 210 | 1207 | 2698 |\n",
       "| 8877689391 | 4/30/2016 | 27745 | 26.72 | 26.72 | 0 | 21.66 | 0.08 |  4.93 | 0.00 | 124 |  4 | 223 | 1089 | 4398 |\n",
       "| 8877689391 | 5/1/2016  | 10930 |  8.32 |  8.32 | 0 |  3.13 | 0.57 |  4.57 | 0.00 |  36 | 12 | 166 | 1226 | 2786 |\n",
       "| 8877689391 | 5/2/2016  |  4790 |  3.64 |  3.64 | 0 |  0.00 | 0.00 |  3.56 | 0.00 |   0 |  0 | 105 | 1335 | 2189 |\n",
       "| 8877689391 | 5/3/2016  | 10818 |  8.21 |  8.21 | 0 |  1.39 | 0.10 |  6.67 | 0.01 |  19 |  3 | 229 | 1189 | 2817 |\n",
       "| 8877689391 | 5/4/2016  | 18193 | 16.30 | 16.30 | 0 | 10.42 | 0.31 |  5.53 | 0.00 |  66 |  8 | 212 | 1154 | 3477 |\n",
       "| 8877689391 | 5/5/2016  | 14055 | 10.67 | 10.67 | 0 |  5.46 | 0.82 |  4.37 | 0.00 |  67 | 15 | 188 | 1170 | 3052 |\n",
       "| 8877689391 | 5/6/2016  | 21727 | 19.34 | 19.34 | 0 | 12.79 | 0.29 |  6.16 | 0.00 |  96 | 17 | 232 | 1095 | 4015 |\n",
       "| 8877689391 | 5/7/2016  | 12332 |  8.13 |  8.13 | 0 |  0.08 | 0.96 |  6.99 | 0.00 | 105 | 28 | 271 | 1036 | 4142 |\n",
       "| 8877689391 | 5/8/2016  | 10686 |  8.11 |  8.11 | 0 |  1.08 | 0.20 |  6.80 | 0.00 |  17 |  4 | 245 | 1174 | 2847 |\n",
       "| 8877689391 | 5/9/2016  | 20226 | 18.25 | 18.25 | 0 | 11.10 | 0.80 |  6.24 | 0.05 |  73 | 19 | 217 | 1131 | 3710 |\n",
       "| 8877689391 | 5/10/2016 | 10733 |  8.15 |  8.15 | 0 |  1.35 | 0.46 |  6.28 | 0.00 |  18 | 11 | 224 | 1187 | 2832 |\n",
       "| 8877689391 | 5/11/2016 | 21420 | 19.56 | 19.56 | 0 | 13.22 | 0.41 |  5.89 | 0.00 |  88 | 12 | 213 | 1127 | 3832 |\n",
       "| 8877689391 | 5/12/2016 |  8064 |  6.12 |  6.12 | 0 |  1.82 | 0.04 |  4.25 | 0.00 |  23 |  1 | 137 |  770 | 1849 |\n",
       "\n"
      ],
      "text/plain": [
       "    id         activity_date total_steps total_distance tracker_distance\n",
       "1   1503960366 4/12/2016     13162        8.50           8.50           \n",
       "2   1503960366 4/13/2016     10735        6.97           6.97           \n",
       "3   1503960366 4/14/2016     10460        6.74           6.74           \n",
       "4   1503960366 4/15/2016      9762        6.28           6.28           \n",
       "5   1503960366 4/16/2016     12669        8.16           8.16           \n",
       "6   1503960366 4/17/2016      9705        6.48           6.48           \n",
       "7   1503960366 4/18/2016     13019        8.59           8.59           \n",
       "8   1503960366 4/19/2016     15506        9.88           9.88           \n",
       "9   1503960366 4/20/2016     10544        6.68           6.68           \n",
       "10  1503960366 4/21/2016      9819        6.34           6.34           \n",
       "11  1503960366 4/22/2016     12764        8.13           8.13           \n",
       "12  1503960366 4/23/2016     14371        9.04           9.04           \n",
       "13  1503960366 4/24/2016     10039        6.41           6.41           \n",
       "14  1503960366 4/25/2016     15355        9.80           9.80           \n",
       "15  1503960366 4/26/2016     13755        8.79           8.79           \n",
       "16  1503960366 4/27/2016     18134       12.21          12.21           \n",
       "17  1503960366 4/28/2016     13154        8.53           8.53           \n",
       "18  1503960366 4/29/2016     11181        7.15           7.15           \n",
       "19  1503960366 4/30/2016     14673        9.25           9.25           \n",
       "20  1503960366 5/1/2016      10602        6.81           6.81           \n",
       "21  1503960366 5/2/2016      14727        9.71           9.71           \n",
       "22  1503960366 5/3/2016      15103        9.66           9.66           \n",
       "23  1503960366 5/4/2016      11100        7.15           7.15           \n",
       "24  1503960366 5/5/2016      14070        8.90           8.90           \n",
       "25  1503960366 5/6/2016      12159        8.03           8.03           \n",
       "26  1503960366 5/7/2016      11992        7.71           7.71           \n",
       "27  1503960366 5/8/2016      10060        6.58           6.58           \n",
       "28  1503960366 5/9/2016      12022        7.72           7.72           \n",
       "29  1503960366 5/10/2016     12207        7.77           7.77           \n",
       "30  1503960366 5/11/2016     12770        8.13           8.13           \n",
       "⋮   ⋮          ⋮             ⋮           ⋮              ⋮               \n",
       "911 8877689391 4/13/2016     15337        9.58           9.58           \n",
       "912 8877689391 4/14/2016     21129       18.98          18.98           \n",
       "913 8877689391 4/15/2016     13422        7.17           7.17           \n",
       "914 8877689391 4/16/2016     29326       25.29          25.29           \n",
       "915 8877689391 4/17/2016     15118        8.87           8.87           \n",
       "916 8877689391 4/18/2016     11423        8.67           8.67           \n",
       "917 8877689391 4/19/2016     18785       17.40          17.40           \n",
       "918 8877689391 4/20/2016     19948       18.11          18.11           \n",
       "919 8877689391 4/21/2016     19377       17.62          17.62           \n",
       "920 8877689391 4/22/2016     18258       16.31          16.31           \n",
       "921 8877689391 4/23/2016     11200        7.43           7.43           \n",
       "922 8877689391 4/24/2016     16674       15.74          15.74           \n",
       "923 8877689391 4/25/2016     12986        8.74           8.74           \n",
       "924 8877689391 4/26/2016     11101        8.43           8.43           \n",
       "925 8877689391 4/27/2016     23629       20.65          20.65           \n",
       "926 8877689391 4/28/2016     14890       11.30          11.30           \n",
       "927 8877689391 4/29/2016      9733        7.39           7.39           \n",
       "928 8877689391 4/30/2016     27745       26.72          26.72           \n",
       "929 8877689391 5/1/2016      10930        8.32           8.32           \n",
       "930 8877689391 5/2/2016       4790        3.64           3.64           \n",
       "931 8877689391 5/3/2016      10818        8.21           8.21           \n",
       "932 8877689391 5/4/2016      18193       16.30          16.30           \n",
       "933 8877689391 5/5/2016      14055       10.67          10.67           \n",
       "934 8877689391 5/6/2016      21727       19.34          19.34           \n",
       "935 8877689391 5/7/2016      12332        8.13           8.13           \n",
       "936 8877689391 5/8/2016      10686        8.11           8.11           \n",
       "937 8877689391 5/9/2016      20226       18.25          18.25           \n",
       "938 8877689391 5/10/2016     10733        8.15           8.15           \n",
       "939 8877689391 5/11/2016     21420       19.56          19.56           \n",
       "940 8877689391 5/12/2016      8064        6.12           6.12           \n",
       "    logged_activities_distance very_active_distance moderately_active_distance\n",
       "1   0                          1.88                 0.55                      \n",
       "2   0                          1.57                 0.69                      \n",
       "3   0                          2.44                 0.40                      \n",
       "4   0                          2.14                 1.26                      \n",
       "5   0                          2.71                 0.41                      \n",
       "6   0                          3.19                 0.78                      \n",
       "7   0                          3.25                 0.64                      \n",
       "8   0                          3.53                 1.32                      \n",
       "9   0                          1.96                 0.48                      \n",
       "10  0                          1.34                 0.35                      \n",
       "11  0                          4.76                 1.12                      \n",
       "12  0                          2.81                 0.87                      \n",
       "13  0                          2.92                 0.21                      \n",
       "14  0                          5.29                 0.57                      \n",
       "15  0                          2.33                 0.92                      \n",
       "16  0                          6.40                 0.41                      \n",
       "17  0                          3.54                 1.16                      \n",
       "18  0                          1.06                 0.50                      \n",
       "19  0                          3.56                 1.42                      \n",
       "20  0                          2.29                 1.60                      \n",
       "21  0                          3.21                 0.57                      \n",
       "22  0                          3.73                 1.05                      \n",
       "23  0                          2.46                 0.87                      \n",
       "24  0                          2.92                 1.08                      \n",
       "25  0                          1.97                 0.25                      \n",
       "26  0                          2.46                 2.12                      \n",
       "27  0                          3.53                 0.32                      \n",
       "28  0                          3.45                 0.53                      \n",
       "29  0                          3.35                 1.16                      \n",
       "30  0                          2.56                 1.01                      \n",
       "⋮   ⋮                          ⋮                    ⋮                         \n",
       "911 0                           3.55                0.38                      \n",
       "912 0                          10.55                0.59                      \n",
       "913 0                           0.05                0.05                      \n",
       "914 0                          13.24                1.21                      \n",
       "915 0                           0.00                0.07                      \n",
       "916 0                           2.44                0.27                      \n",
       "917 0                          12.15                0.18                      \n",
       "918 0                          11.02                0.69                      \n",
       "919 0                          12.29                0.42                      \n",
       "920 0                          10.23                0.03                      \n",
       "921 0                           0.00                0.00                      \n",
       "922 0                          11.01                0.01                      \n",
       "923 0                           2.37                0.07                      \n",
       "924 0                           1.76                0.13                      \n",
       "925 0                          13.07                0.44                      \n",
       "926 0                           4.93                0.38                      \n",
       "927 0                           1.38                0.17                      \n",
       "928 0                          21.66                0.08                      \n",
       "929 0                           3.13                0.57                      \n",
       "930 0                           0.00                0.00                      \n",
       "931 0                           1.39                0.10                      \n",
       "932 0                          10.42                0.31                      \n",
       "933 0                           5.46                0.82                      \n",
       "934 0                          12.79                0.29                      \n",
       "935 0                           0.08                0.96                      \n",
       "936 0                           1.08                0.20                      \n",
       "937 0                          11.10                0.80                      \n",
       "938 0                           1.35                0.46                      \n",
       "939 0                          13.22                0.41                      \n",
       "940 0                           1.82                0.04                      \n",
       "    light_active_distance sedentary_active_distance very_active_minutes\n",
       "1   6.06                  0                         25                 \n",
       "2   4.71                  0                         21                 \n",
       "3   3.91                  0                         30                 \n",
       "4   2.83                  0                         29                 \n",
       "5   5.04                  0                         36                 \n",
       "6   2.51                  0                         38                 \n",
       "7   4.71                  0                         42                 \n",
       "8   5.03                  0                         50                 \n",
       "9   4.24                  0                         28                 \n",
       "10  4.65                  0                         19                 \n",
       "11  2.24                  0                         66                 \n",
       "12  5.36                  0                         41                 \n",
       "13  3.28                  0                         39                 \n",
       "14  3.94                  0                         73                 \n",
       "15  5.54                  0                         31                 \n",
       "16  5.41                  0                         78                 \n",
       "17  3.79                  0                         48                 \n",
       "18  5.58                  0                         16                 \n",
       "19  4.27                  0                         52                 \n",
       "20  2.92                  0                         33                 \n",
       "21  5.92                  0                         41                 \n",
       "22  4.88                  0                         50                 \n",
       "23  3.82                  0                         36                 \n",
       "24  4.88                  0                         45                 \n",
       "25  5.81                  0                         24                 \n",
       "26  3.13                  0                         37                 \n",
       "27  2.73                  0                         44                 \n",
       "28  3.74                  0                         46                 \n",
       "29  3.26                  0                         46                 \n",
       "30  4.55                  0                         36                 \n",
       "⋮   ⋮                     ⋮                         ⋮                  \n",
       "911  5.64                 0.00                      108                \n",
       "912  7.75                 0.02                       68                \n",
       "913  7.01                 0.01                      106                \n",
       "914 10.71                 0.00                       94                \n",
       "915  8.79                 0.00                       58                \n",
       "916  5.94                 0.00                       29                \n",
       "917  5.03                 0.00                       82                \n",
       "918  6.34                 0.00                       73                \n",
       "919  4.89                 0.00                       82                \n",
       "920  5.97                 0.05                       61                \n",
       "921  7.40                 0.01                      102                \n",
       "922  4.69                 0.00                       64                \n",
       "923  6.27                 0.01                      113                \n",
       "924  6.50                 0.00                       22                \n",
       "925  7.10                 0.00                       93                \n",
       "926  5.97                 0.00                       58                \n",
       "927  5.79                 0.00                       18                \n",
       "928  4.93                 0.00                      124                \n",
       "929  4.57                 0.00                       36                \n",
       "930  3.56                 0.00                        0                \n",
       "931  6.67                 0.01                       19                \n",
       "932  5.53                 0.00                       66                \n",
       "933  4.37                 0.00                       67                \n",
       "934  6.16                 0.00                       96                \n",
       "935  6.99                 0.00                      105                \n",
       "936  6.80                 0.00                       17                \n",
       "937  6.24                 0.05                       73                \n",
       "938  6.28                 0.00                       18                \n",
       "939  5.89                 0.00                       88                \n",
       "940  4.25                 0.00                       23                \n",
       "    fairly_active_minutes lightly_active_minutes sedentary_minutes calories\n",
       "1   13                    328                     728              1985    \n",
       "2   19                    217                     776              1797    \n",
       "3   11                    181                    1218              1776    \n",
       "4   34                    209                     726              1745    \n",
       "5   10                    221                     773              1863    \n",
       "6   20                    164                     539              1728    \n",
       "7   16                    233                    1149              1921    \n",
       "8   31                    264                     775              2035    \n",
       "9   12                    205                     818              1786    \n",
       "10   8                    211                     838              1775    \n",
       "11  27                    130                    1217              1827    \n",
       "12  21                    262                     732              1949    \n",
       "13   5                    238                     709              1788    \n",
       "14  14                    216                     814              2013    \n",
       "15  23                    279                     833              1970    \n",
       "16  11                    243                    1108              2159    \n",
       "17  28                    189                     782              1898    \n",
       "18  12                    243                     815              1837    \n",
       "19  34                    217                     712              1947    \n",
       "20  35                    246                     730              1820    \n",
       "21  15                    277                     798              2004    \n",
       "22  24                    254                     816              1990    \n",
       "23  22                    203                    1179              1819    \n",
       "24  24                    250                     857              1959    \n",
       "25   6                    289                     754              1896    \n",
       "26  46                    175                     833              1821    \n",
       "27   8                    203                     574              1740    \n",
       "28  11                    206                     835              1819    \n",
       "29  31                    214                     746              1859    \n",
       "30  23                    251                     669              1783    \n",
       "⋮   ⋮                     ⋮                      ⋮                 ⋮       \n",
       "911 18                    216                    1098              3566    \n",
       "912 13                    298                    1061              3793    \n",
       "913  1                    281                    1052              3934    \n",
       "914 29                    429                     888              4547    \n",
       "915 15                    307                    1060              3545    \n",
       "916  5                    191                    1215              2761    \n",
       "917 13                    214                    1131              3676    \n",
       "918 19                    225                    1123              3679    \n",
       "919 13                    226                    1119              3659    \n",
       "920  2                    236                    1141              3427    \n",
       "921  6                    300                    1032              3891    \n",
       "922  1                    227                    1148              3455    \n",
       "923  8                    218                    1101              3802    \n",
       "924  3                    258                    1157              2860    \n",
       "925  8                    235                    1104              3808    \n",
       "926  8                    231                    1143              3060    \n",
       "927  5                    210                    1207              2698    \n",
       "928  4                    223                    1089              4398    \n",
       "929 12                    166                    1226              2786    \n",
       "930  0                    105                    1335              2189    \n",
       "931  3                    229                    1189              2817    \n",
       "932  8                    212                    1154              3477    \n",
       "933 15                    188                    1170              3052    \n",
       "934 17                    232                    1095              4015    \n",
       "935 28                    271                    1036              4142    \n",
       "936  4                    245                    1174              2847    \n",
       "937 19                    217                    1131              3710    \n",
       "938 11                    224                    1187              2832    \n",
       "939 12                    213                    1127              3832    \n",
       "940  1                    137                     770              1849    "
      ]
     },
     "metadata": {},
     "output_type": "display_data"
    },
    {
     "data": {
      "text/html": [
       "<table class=\"dataframe\">\n",
       "<caption>A tibble: 410 × 5</caption>\n",
       "<thead>\n",
       "\t<tr><th scope=col>id</th><th scope=col>sleep_day</th><th scope=col>total_sleep_records</th><th scope=col>total_minutes_asleep</th><th scope=col>total_time_in_bed</th></tr>\n",
       "\t<tr><th scope=col>&lt;dbl&gt;</th><th scope=col>&lt;chr&gt;</th><th scope=col>&lt;dbl&gt;</th><th scope=col>&lt;dbl&gt;</th><th scope=col>&lt;dbl&gt;</th></tr>\n",
       "</thead>\n",
       "<tbody>\n",
       "\t<tr><td>1503960366</td><td>4/12/2016 12:00:00 AM</td><td>1</td><td>327</td><td>346</td></tr>\n",
       "\t<tr><td>1503960366</td><td>4/13/2016 12:00:00 AM</td><td>2</td><td>384</td><td>407</td></tr>\n",
       "\t<tr><td>1503960366</td><td>4/15/2016 12:00:00 AM</td><td>1</td><td>412</td><td>442</td></tr>\n",
       "\t<tr><td>1503960366</td><td>4/16/2016 12:00:00 AM</td><td>2</td><td>340</td><td>367</td></tr>\n",
       "\t<tr><td>1503960366</td><td>4/17/2016 12:00:00 AM</td><td>1</td><td>700</td><td>712</td></tr>\n",
       "\t<tr><td>1503960366</td><td>4/19/2016 12:00:00 AM</td><td>1</td><td>304</td><td>320</td></tr>\n",
       "\t<tr><td>1503960366</td><td>4/20/2016 12:00:00 AM</td><td>1</td><td>360</td><td>377</td></tr>\n",
       "\t<tr><td>1503960366</td><td>4/21/2016 12:00:00 AM</td><td>1</td><td>325</td><td>364</td></tr>\n",
       "\t<tr><td>1503960366</td><td>4/23/2016 12:00:00 AM</td><td>1</td><td>361</td><td>384</td></tr>\n",
       "\t<tr><td>1503960366</td><td>4/24/2016 12:00:00 AM</td><td>1</td><td>430</td><td>449</td></tr>\n",
       "\t<tr><td>1503960366</td><td>4/25/2016 12:00:00 AM</td><td>1</td><td>277</td><td>323</td></tr>\n",
       "\t<tr><td>1503960366</td><td>4/26/2016 12:00:00 AM</td><td>1</td><td>245</td><td>274</td></tr>\n",
       "\t<tr><td>1503960366</td><td>4/28/2016 12:00:00 AM</td><td>1</td><td>366</td><td>393</td></tr>\n",
       "\t<tr><td>1503960366</td><td>4/29/2016 12:00:00 AM</td><td>1</td><td>341</td><td>354</td></tr>\n",
       "\t<tr><td>1503960366</td><td>4/30/2016 12:00:00 AM</td><td>1</td><td>404</td><td>425</td></tr>\n",
       "\t<tr><td>1503960366</td><td>5/1/2016 12:00:00 AM </td><td>1</td><td>369</td><td>396</td></tr>\n",
       "\t<tr><td>1503960366</td><td>5/2/2016 12:00:00 AM </td><td>1</td><td>277</td><td>309</td></tr>\n",
       "\t<tr><td>1503960366</td><td>5/3/2016 12:00:00 AM </td><td>1</td><td>273</td><td>296</td></tr>\n",
       "\t<tr><td>1503960366</td><td>5/5/2016 12:00:00 AM </td><td>1</td><td>247</td><td>264</td></tr>\n",
       "\t<tr><td>1503960366</td><td>5/6/2016 12:00:00 AM </td><td>1</td><td>334</td><td>367</td></tr>\n",
       "\t<tr><td>1503960366</td><td>5/7/2016 12:00:00 AM </td><td>1</td><td>331</td><td>349</td></tr>\n",
       "\t<tr><td>1503960366</td><td>5/8/2016 12:00:00 AM </td><td>1</td><td>594</td><td>611</td></tr>\n",
       "\t<tr><td>1503960366</td><td>5/9/2016 12:00:00 AM </td><td>1</td><td>338</td><td>342</td></tr>\n",
       "\t<tr><td>1503960366</td><td>5/10/2016 12:00:00 AM</td><td>1</td><td>383</td><td>403</td></tr>\n",
       "\t<tr><td>1503960366</td><td>5/11/2016 12:00:00 AM</td><td>1</td><td>285</td><td>306</td></tr>\n",
       "\t<tr><td>1644430081</td><td>4/29/2016 12:00:00 AM</td><td>1</td><td>119</td><td>127</td></tr>\n",
       "\t<tr><td>1644430081</td><td>4/30/2016 12:00:00 AM</td><td>1</td><td>124</td><td>142</td></tr>\n",
       "\t<tr><td>1644430081</td><td>5/2/2016 12:00:00 AM </td><td>1</td><td>796</td><td>961</td></tr>\n",
       "\t<tr><td>1644430081</td><td>5/8/2016 12:00:00 AM </td><td>1</td><td>137</td><td>154</td></tr>\n",
       "\t<tr><td>1844505072</td><td>4/15/2016 12:00:00 AM</td><td>1</td><td>644</td><td>961</td></tr>\n",
       "\t<tr><td>⋮</td><td>⋮</td><td>⋮</td><td>⋮</td><td>⋮</td></tr>\n",
       "\t<tr><td>8378563200</td><td>4/28/2016 12:00:00 AM</td><td>1</td><td>506</td><td>556</td></tr>\n",
       "\t<tr><td>8378563200</td><td>4/29/2016 12:00:00 AM</td><td>1</td><td>527</td><td>562</td></tr>\n",
       "\t<tr><td>8378563200</td><td>4/30/2016 12:00:00 AM</td><td>1</td><td>468</td><td>555</td></tr>\n",
       "\t<tr><td>8378563200</td><td>5/1/2016 12:00:00 AM </td><td>1</td><td>475</td><td>539</td></tr>\n",
       "\t<tr><td>8378563200</td><td>5/2/2016 12:00:00 AM </td><td>1</td><td>351</td><td>385</td></tr>\n",
       "\t<tr><td>8378563200</td><td>5/3/2016 12:00:00 AM </td><td>1</td><td>405</td><td>429</td></tr>\n",
       "\t<tr><td>8378563200</td><td>5/4/2016 12:00:00 AM </td><td>1</td><td>441</td><td>477</td></tr>\n",
       "\t<tr><td>8378563200</td><td>5/5/2016 12:00:00 AM </td><td>1</td><td>381</td><td>417</td></tr>\n",
       "\t<tr><td>8378563200</td><td>5/6/2016 12:00:00 AM </td><td>1</td><td>323</td><td>355</td></tr>\n",
       "\t<tr><td>8378563200</td><td>5/7/2016 12:00:00 AM </td><td>2</td><td>459</td><td>513</td></tr>\n",
       "\t<tr><td>8378563200</td><td>5/8/2016 12:00:00 AM </td><td>1</td><td>545</td><td>606</td></tr>\n",
       "\t<tr><td>8378563200</td><td>5/9/2016 12:00:00 AM </td><td>1</td><td>359</td><td>399</td></tr>\n",
       "\t<tr><td>8378563200</td><td>5/10/2016 12:00:00 AM</td><td>1</td><td>342</td><td>391</td></tr>\n",
       "\t<tr><td>8378563200</td><td>5/11/2016 12:00:00 AM</td><td>1</td><td>368</td><td>387</td></tr>\n",
       "\t<tr><td>8378563200</td><td>5/12/2016 12:00:00 AM</td><td>1</td><td>496</td><td>546</td></tr>\n",
       "\t<tr><td>8792009665</td><td>4/12/2016 12:00:00 AM</td><td>1</td><td>458</td><td>493</td></tr>\n",
       "\t<tr><td>8792009665</td><td>4/13/2016 12:00:00 AM</td><td>1</td><td>531</td><td>552</td></tr>\n",
       "\t<tr><td>8792009665</td><td>4/14/2016 12:00:00 AM</td><td>1</td><td>486</td><td>503</td></tr>\n",
       "\t<tr><td>8792009665</td><td>4/15/2016 12:00:00 AM</td><td>1</td><td>363</td><td>377</td></tr>\n",
       "\t<tr><td>8792009665</td><td>4/20/2016 12:00:00 AM</td><td>1</td><td>528</td><td>547</td></tr>\n",
       "\t<tr><td>8792009665</td><td>4/22/2016 12:00:00 AM</td><td>1</td><td>391</td><td>407</td></tr>\n",
       "\t<tr><td>8792009665</td><td>4/23/2016 12:00:00 AM</td><td>1</td><td>339</td><td>360</td></tr>\n",
       "\t<tr><td>8792009665</td><td>4/27/2016 12:00:00 AM</td><td>1</td><td>423</td><td>428</td></tr>\n",
       "\t<tr><td>8792009665</td><td>4/28/2016 12:00:00 AM</td><td>1</td><td>402</td><td>416</td></tr>\n",
       "\t<tr><td>8792009665</td><td>4/29/2016 12:00:00 AM</td><td>1</td><td>398</td><td>406</td></tr>\n",
       "\t<tr><td>8792009665</td><td>4/30/2016 12:00:00 AM</td><td>1</td><td>343</td><td>360</td></tr>\n",
       "\t<tr><td>8792009665</td><td>5/1/2016 12:00:00 AM </td><td>1</td><td>503</td><td>527</td></tr>\n",
       "\t<tr><td>8792009665</td><td>5/2/2016 12:00:00 AM </td><td>1</td><td>415</td><td>423</td></tr>\n",
       "\t<tr><td>8792009665</td><td>5/3/2016 12:00:00 AM </td><td>1</td><td>516</td><td>545</td></tr>\n",
       "\t<tr><td>8792009665</td><td>5/4/2016 12:00:00 AM </td><td>1</td><td>439</td><td>463</td></tr>\n",
       "</tbody>\n",
       "</table>\n"
      ],
      "text/latex": [
       "A tibble: 410 × 5\n",
       "\\begin{tabular}{lllll}\n",
       " id & sleep\\_day & total\\_sleep\\_records & total\\_minutes\\_asleep & total\\_time\\_in\\_bed\\\\\n",
       " <dbl> & <chr> & <dbl> & <dbl> & <dbl>\\\\\n",
       "\\hline\n",
       "\t 1503960366 & 4/12/2016 12:00:00 AM & 1 & 327 & 346\\\\\n",
       "\t 1503960366 & 4/13/2016 12:00:00 AM & 2 & 384 & 407\\\\\n",
       "\t 1503960366 & 4/15/2016 12:00:00 AM & 1 & 412 & 442\\\\\n",
       "\t 1503960366 & 4/16/2016 12:00:00 AM & 2 & 340 & 367\\\\\n",
       "\t 1503960366 & 4/17/2016 12:00:00 AM & 1 & 700 & 712\\\\\n",
       "\t 1503960366 & 4/19/2016 12:00:00 AM & 1 & 304 & 320\\\\\n",
       "\t 1503960366 & 4/20/2016 12:00:00 AM & 1 & 360 & 377\\\\\n",
       "\t 1503960366 & 4/21/2016 12:00:00 AM & 1 & 325 & 364\\\\\n",
       "\t 1503960366 & 4/23/2016 12:00:00 AM & 1 & 361 & 384\\\\\n",
       "\t 1503960366 & 4/24/2016 12:00:00 AM & 1 & 430 & 449\\\\\n",
       "\t 1503960366 & 4/25/2016 12:00:00 AM & 1 & 277 & 323\\\\\n",
       "\t 1503960366 & 4/26/2016 12:00:00 AM & 1 & 245 & 274\\\\\n",
       "\t 1503960366 & 4/28/2016 12:00:00 AM & 1 & 366 & 393\\\\\n",
       "\t 1503960366 & 4/29/2016 12:00:00 AM & 1 & 341 & 354\\\\\n",
       "\t 1503960366 & 4/30/2016 12:00:00 AM & 1 & 404 & 425\\\\\n",
       "\t 1503960366 & 5/1/2016 12:00:00 AM  & 1 & 369 & 396\\\\\n",
       "\t 1503960366 & 5/2/2016 12:00:00 AM  & 1 & 277 & 309\\\\\n",
       "\t 1503960366 & 5/3/2016 12:00:00 AM  & 1 & 273 & 296\\\\\n",
       "\t 1503960366 & 5/5/2016 12:00:00 AM  & 1 & 247 & 264\\\\\n",
       "\t 1503960366 & 5/6/2016 12:00:00 AM  & 1 & 334 & 367\\\\\n",
       "\t 1503960366 & 5/7/2016 12:00:00 AM  & 1 & 331 & 349\\\\\n",
       "\t 1503960366 & 5/8/2016 12:00:00 AM  & 1 & 594 & 611\\\\\n",
       "\t 1503960366 & 5/9/2016 12:00:00 AM  & 1 & 338 & 342\\\\\n",
       "\t 1503960366 & 5/10/2016 12:00:00 AM & 1 & 383 & 403\\\\\n",
       "\t 1503960366 & 5/11/2016 12:00:00 AM & 1 & 285 & 306\\\\\n",
       "\t 1644430081 & 4/29/2016 12:00:00 AM & 1 & 119 & 127\\\\\n",
       "\t 1644430081 & 4/30/2016 12:00:00 AM & 1 & 124 & 142\\\\\n",
       "\t 1644430081 & 5/2/2016 12:00:00 AM  & 1 & 796 & 961\\\\\n",
       "\t 1644430081 & 5/8/2016 12:00:00 AM  & 1 & 137 & 154\\\\\n",
       "\t 1844505072 & 4/15/2016 12:00:00 AM & 1 & 644 & 961\\\\\n",
       "\t ⋮ & ⋮ & ⋮ & ⋮ & ⋮\\\\\n",
       "\t 8378563200 & 4/28/2016 12:00:00 AM & 1 & 506 & 556\\\\\n",
       "\t 8378563200 & 4/29/2016 12:00:00 AM & 1 & 527 & 562\\\\\n",
       "\t 8378563200 & 4/30/2016 12:00:00 AM & 1 & 468 & 555\\\\\n",
       "\t 8378563200 & 5/1/2016 12:00:00 AM  & 1 & 475 & 539\\\\\n",
       "\t 8378563200 & 5/2/2016 12:00:00 AM  & 1 & 351 & 385\\\\\n",
       "\t 8378563200 & 5/3/2016 12:00:00 AM  & 1 & 405 & 429\\\\\n",
       "\t 8378563200 & 5/4/2016 12:00:00 AM  & 1 & 441 & 477\\\\\n",
       "\t 8378563200 & 5/5/2016 12:00:00 AM  & 1 & 381 & 417\\\\\n",
       "\t 8378563200 & 5/6/2016 12:00:00 AM  & 1 & 323 & 355\\\\\n",
       "\t 8378563200 & 5/7/2016 12:00:00 AM  & 2 & 459 & 513\\\\\n",
       "\t 8378563200 & 5/8/2016 12:00:00 AM  & 1 & 545 & 606\\\\\n",
       "\t 8378563200 & 5/9/2016 12:00:00 AM  & 1 & 359 & 399\\\\\n",
       "\t 8378563200 & 5/10/2016 12:00:00 AM & 1 & 342 & 391\\\\\n",
       "\t 8378563200 & 5/11/2016 12:00:00 AM & 1 & 368 & 387\\\\\n",
       "\t 8378563200 & 5/12/2016 12:00:00 AM & 1 & 496 & 546\\\\\n",
       "\t 8792009665 & 4/12/2016 12:00:00 AM & 1 & 458 & 493\\\\\n",
       "\t 8792009665 & 4/13/2016 12:00:00 AM & 1 & 531 & 552\\\\\n",
       "\t 8792009665 & 4/14/2016 12:00:00 AM & 1 & 486 & 503\\\\\n",
       "\t 8792009665 & 4/15/2016 12:00:00 AM & 1 & 363 & 377\\\\\n",
       "\t 8792009665 & 4/20/2016 12:00:00 AM & 1 & 528 & 547\\\\\n",
       "\t 8792009665 & 4/22/2016 12:00:00 AM & 1 & 391 & 407\\\\\n",
       "\t 8792009665 & 4/23/2016 12:00:00 AM & 1 & 339 & 360\\\\\n",
       "\t 8792009665 & 4/27/2016 12:00:00 AM & 1 & 423 & 428\\\\\n",
       "\t 8792009665 & 4/28/2016 12:00:00 AM & 1 & 402 & 416\\\\\n",
       "\t 8792009665 & 4/29/2016 12:00:00 AM & 1 & 398 & 406\\\\\n",
       "\t 8792009665 & 4/30/2016 12:00:00 AM & 1 & 343 & 360\\\\\n",
       "\t 8792009665 & 5/1/2016 12:00:00 AM  & 1 & 503 & 527\\\\\n",
       "\t 8792009665 & 5/2/2016 12:00:00 AM  & 1 & 415 & 423\\\\\n",
       "\t 8792009665 & 5/3/2016 12:00:00 AM  & 1 & 516 & 545\\\\\n",
       "\t 8792009665 & 5/4/2016 12:00:00 AM  & 1 & 439 & 463\\\\\n",
       "\\end{tabular}\n"
      ],
      "text/markdown": [
       "\n",
       "A tibble: 410 × 5\n",
       "\n",
       "| id &lt;dbl&gt; | sleep_day &lt;chr&gt; | total_sleep_records &lt;dbl&gt; | total_minutes_asleep &lt;dbl&gt; | total_time_in_bed &lt;dbl&gt; |\n",
       "|---|---|---|---|---|\n",
       "| 1503960366 | 4/12/2016 12:00:00 AM | 1 | 327 | 346 |\n",
       "| 1503960366 | 4/13/2016 12:00:00 AM | 2 | 384 | 407 |\n",
       "| 1503960366 | 4/15/2016 12:00:00 AM | 1 | 412 | 442 |\n",
       "| 1503960366 | 4/16/2016 12:00:00 AM | 2 | 340 | 367 |\n",
       "| 1503960366 | 4/17/2016 12:00:00 AM | 1 | 700 | 712 |\n",
       "| 1503960366 | 4/19/2016 12:00:00 AM | 1 | 304 | 320 |\n",
       "| 1503960366 | 4/20/2016 12:00:00 AM | 1 | 360 | 377 |\n",
       "| 1503960366 | 4/21/2016 12:00:00 AM | 1 | 325 | 364 |\n",
       "| 1503960366 | 4/23/2016 12:00:00 AM | 1 | 361 | 384 |\n",
       "| 1503960366 | 4/24/2016 12:00:00 AM | 1 | 430 | 449 |\n",
       "| 1503960366 | 4/25/2016 12:00:00 AM | 1 | 277 | 323 |\n",
       "| 1503960366 | 4/26/2016 12:00:00 AM | 1 | 245 | 274 |\n",
       "| 1503960366 | 4/28/2016 12:00:00 AM | 1 | 366 | 393 |\n",
       "| 1503960366 | 4/29/2016 12:00:00 AM | 1 | 341 | 354 |\n",
       "| 1503960366 | 4/30/2016 12:00:00 AM | 1 | 404 | 425 |\n",
       "| 1503960366 | 5/1/2016 12:00:00 AM  | 1 | 369 | 396 |\n",
       "| 1503960366 | 5/2/2016 12:00:00 AM  | 1 | 277 | 309 |\n",
       "| 1503960366 | 5/3/2016 12:00:00 AM  | 1 | 273 | 296 |\n",
       "| 1503960366 | 5/5/2016 12:00:00 AM  | 1 | 247 | 264 |\n",
       "| 1503960366 | 5/6/2016 12:00:00 AM  | 1 | 334 | 367 |\n",
       "| 1503960366 | 5/7/2016 12:00:00 AM  | 1 | 331 | 349 |\n",
       "| 1503960366 | 5/8/2016 12:00:00 AM  | 1 | 594 | 611 |\n",
       "| 1503960366 | 5/9/2016 12:00:00 AM  | 1 | 338 | 342 |\n",
       "| 1503960366 | 5/10/2016 12:00:00 AM | 1 | 383 | 403 |\n",
       "| 1503960366 | 5/11/2016 12:00:00 AM | 1 | 285 | 306 |\n",
       "| 1644430081 | 4/29/2016 12:00:00 AM | 1 | 119 | 127 |\n",
       "| 1644430081 | 4/30/2016 12:00:00 AM | 1 | 124 | 142 |\n",
       "| 1644430081 | 5/2/2016 12:00:00 AM  | 1 | 796 | 961 |\n",
       "| 1644430081 | 5/8/2016 12:00:00 AM  | 1 | 137 | 154 |\n",
       "| 1844505072 | 4/15/2016 12:00:00 AM | 1 | 644 | 961 |\n",
       "| ⋮ | ⋮ | ⋮ | ⋮ | ⋮ |\n",
       "| 8378563200 | 4/28/2016 12:00:00 AM | 1 | 506 | 556 |\n",
       "| 8378563200 | 4/29/2016 12:00:00 AM | 1 | 527 | 562 |\n",
       "| 8378563200 | 4/30/2016 12:00:00 AM | 1 | 468 | 555 |\n",
       "| 8378563200 | 5/1/2016 12:00:00 AM  | 1 | 475 | 539 |\n",
       "| 8378563200 | 5/2/2016 12:00:00 AM  | 1 | 351 | 385 |\n",
       "| 8378563200 | 5/3/2016 12:00:00 AM  | 1 | 405 | 429 |\n",
       "| 8378563200 | 5/4/2016 12:00:00 AM  | 1 | 441 | 477 |\n",
       "| 8378563200 | 5/5/2016 12:00:00 AM  | 1 | 381 | 417 |\n",
       "| 8378563200 | 5/6/2016 12:00:00 AM  | 1 | 323 | 355 |\n",
       "| 8378563200 | 5/7/2016 12:00:00 AM  | 2 | 459 | 513 |\n",
       "| 8378563200 | 5/8/2016 12:00:00 AM  | 1 | 545 | 606 |\n",
       "| 8378563200 | 5/9/2016 12:00:00 AM  | 1 | 359 | 399 |\n",
       "| 8378563200 | 5/10/2016 12:00:00 AM | 1 | 342 | 391 |\n",
       "| 8378563200 | 5/11/2016 12:00:00 AM | 1 | 368 | 387 |\n",
       "| 8378563200 | 5/12/2016 12:00:00 AM | 1 | 496 | 546 |\n",
       "| 8792009665 | 4/12/2016 12:00:00 AM | 1 | 458 | 493 |\n",
       "| 8792009665 | 4/13/2016 12:00:00 AM | 1 | 531 | 552 |\n",
       "| 8792009665 | 4/14/2016 12:00:00 AM | 1 | 486 | 503 |\n",
       "| 8792009665 | 4/15/2016 12:00:00 AM | 1 | 363 | 377 |\n",
       "| 8792009665 | 4/20/2016 12:00:00 AM | 1 | 528 | 547 |\n",
       "| 8792009665 | 4/22/2016 12:00:00 AM | 1 | 391 | 407 |\n",
       "| 8792009665 | 4/23/2016 12:00:00 AM | 1 | 339 | 360 |\n",
       "| 8792009665 | 4/27/2016 12:00:00 AM | 1 | 423 | 428 |\n",
       "| 8792009665 | 4/28/2016 12:00:00 AM | 1 | 402 | 416 |\n",
       "| 8792009665 | 4/29/2016 12:00:00 AM | 1 | 398 | 406 |\n",
       "| 8792009665 | 4/30/2016 12:00:00 AM | 1 | 343 | 360 |\n",
       "| 8792009665 | 5/1/2016 12:00:00 AM  | 1 | 503 | 527 |\n",
       "| 8792009665 | 5/2/2016 12:00:00 AM  | 1 | 415 | 423 |\n",
       "| 8792009665 | 5/3/2016 12:00:00 AM  | 1 | 516 | 545 |\n",
       "| 8792009665 | 5/4/2016 12:00:00 AM  | 1 | 439 | 463 |\n",
       "\n"
      ],
      "text/plain": [
       "    id         sleep_day             total_sleep_records total_minutes_asleep\n",
       "1   1503960366 4/12/2016 12:00:00 AM 1                   327                 \n",
       "2   1503960366 4/13/2016 12:00:00 AM 2                   384                 \n",
       "3   1503960366 4/15/2016 12:00:00 AM 1                   412                 \n",
       "4   1503960366 4/16/2016 12:00:00 AM 2                   340                 \n",
       "5   1503960366 4/17/2016 12:00:00 AM 1                   700                 \n",
       "6   1503960366 4/19/2016 12:00:00 AM 1                   304                 \n",
       "7   1503960366 4/20/2016 12:00:00 AM 1                   360                 \n",
       "8   1503960366 4/21/2016 12:00:00 AM 1                   325                 \n",
       "9   1503960366 4/23/2016 12:00:00 AM 1                   361                 \n",
       "10  1503960366 4/24/2016 12:00:00 AM 1                   430                 \n",
       "11  1503960366 4/25/2016 12:00:00 AM 1                   277                 \n",
       "12  1503960366 4/26/2016 12:00:00 AM 1                   245                 \n",
       "13  1503960366 4/28/2016 12:00:00 AM 1                   366                 \n",
       "14  1503960366 4/29/2016 12:00:00 AM 1                   341                 \n",
       "15  1503960366 4/30/2016 12:00:00 AM 1                   404                 \n",
       "16  1503960366 5/1/2016 12:00:00 AM  1                   369                 \n",
       "17  1503960366 5/2/2016 12:00:00 AM  1                   277                 \n",
       "18  1503960366 5/3/2016 12:00:00 AM  1                   273                 \n",
       "19  1503960366 5/5/2016 12:00:00 AM  1                   247                 \n",
       "20  1503960366 5/6/2016 12:00:00 AM  1                   334                 \n",
       "21  1503960366 5/7/2016 12:00:00 AM  1                   331                 \n",
       "22  1503960366 5/8/2016 12:00:00 AM  1                   594                 \n",
       "23  1503960366 5/9/2016 12:00:00 AM  1                   338                 \n",
       "24  1503960366 5/10/2016 12:00:00 AM 1                   383                 \n",
       "25  1503960366 5/11/2016 12:00:00 AM 1                   285                 \n",
       "26  1644430081 4/29/2016 12:00:00 AM 1                   119                 \n",
       "27  1644430081 4/30/2016 12:00:00 AM 1                   124                 \n",
       "28  1644430081 5/2/2016 12:00:00 AM  1                   796                 \n",
       "29  1644430081 5/8/2016 12:00:00 AM  1                   137                 \n",
       "30  1844505072 4/15/2016 12:00:00 AM 1                   644                 \n",
       "⋮   ⋮          ⋮                     ⋮                   ⋮                   \n",
       "381 8378563200 4/28/2016 12:00:00 AM 1                   506                 \n",
       "382 8378563200 4/29/2016 12:00:00 AM 1                   527                 \n",
       "383 8378563200 4/30/2016 12:00:00 AM 1                   468                 \n",
       "384 8378563200 5/1/2016 12:00:00 AM  1                   475                 \n",
       "385 8378563200 5/2/2016 12:00:00 AM  1                   351                 \n",
       "386 8378563200 5/3/2016 12:00:00 AM  1                   405                 \n",
       "387 8378563200 5/4/2016 12:00:00 AM  1                   441                 \n",
       "388 8378563200 5/5/2016 12:00:00 AM  1                   381                 \n",
       "389 8378563200 5/6/2016 12:00:00 AM  1                   323                 \n",
       "390 8378563200 5/7/2016 12:00:00 AM  2                   459                 \n",
       "391 8378563200 5/8/2016 12:00:00 AM  1                   545                 \n",
       "392 8378563200 5/9/2016 12:00:00 AM  1                   359                 \n",
       "393 8378563200 5/10/2016 12:00:00 AM 1                   342                 \n",
       "394 8378563200 5/11/2016 12:00:00 AM 1                   368                 \n",
       "395 8378563200 5/12/2016 12:00:00 AM 1                   496                 \n",
       "396 8792009665 4/12/2016 12:00:00 AM 1                   458                 \n",
       "397 8792009665 4/13/2016 12:00:00 AM 1                   531                 \n",
       "398 8792009665 4/14/2016 12:00:00 AM 1                   486                 \n",
       "399 8792009665 4/15/2016 12:00:00 AM 1                   363                 \n",
       "400 8792009665 4/20/2016 12:00:00 AM 1                   528                 \n",
       "401 8792009665 4/22/2016 12:00:00 AM 1                   391                 \n",
       "402 8792009665 4/23/2016 12:00:00 AM 1                   339                 \n",
       "403 8792009665 4/27/2016 12:00:00 AM 1                   423                 \n",
       "404 8792009665 4/28/2016 12:00:00 AM 1                   402                 \n",
       "405 8792009665 4/29/2016 12:00:00 AM 1                   398                 \n",
       "406 8792009665 4/30/2016 12:00:00 AM 1                   343                 \n",
       "407 8792009665 5/1/2016 12:00:00 AM  1                   503                 \n",
       "408 8792009665 5/2/2016 12:00:00 AM  1                   415                 \n",
       "409 8792009665 5/3/2016 12:00:00 AM  1                   516                 \n",
       "410 8792009665 5/4/2016 12:00:00 AM  1                   439                 \n",
       "    total_time_in_bed\n",
       "1   346              \n",
       "2   407              \n",
       "3   442              \n",
       "4   367              \n",
       "5   712              \n",
       "6   320              \n",
       "7   377              \n",
       "8   364              \n",
       "9   384              \n",
       "10  449              \n",
       "11  323              \n",
       "12  274              \n",
       "13  393              \n",
       "14  354              \n",
       "15  425              \n",
       "16  396              \n",
       "17  309              \n",
       "18  296              \n",
       "19  264              \n",
       "20  367              \n",
       "21  349              \n",
       "22  611              \n",
       "23  342              \n",
       "24  403              \n",
       "25  306              \n",
       "26  127              \n",
       "27  142              \n",
       "28  961              \n",
       "29  154              \n",
       "30  961              \n",
       "⋮   ⋮                \n",
       "381 556              \n",
       "382 562              \n",
       "383 555              \n",
       "384 539              \n",
       "385 385              \n",
       "386 429              \n",
       "387 477              \n",
       "388 417              \n",
       "389 355              \n",
       "390 513              \n",
       "391 606              \n",
       "392 399              \n",
       "393 391              \n",
       "394 387              \n",
       "395 546              \n",
       "396 493              \n",
       "397 552              \n",
       "398 503              \n",
       "399 377              \n",
       "400 547              \n",
       "401 407              \n",
       "402 360              \n",
       "403 428              \n",
       "404 416              \n",
       "405 406              \n",
       "406 360              \n",
       "407 527              \n",
       "408 423              \n",
       "409 545              \n",
       "410 463              "
      ]
     },
     "metadata": {},
     "output_type": "display_data"
    },
    {
     "data": {
      "text/html": [
       "<table class=\"dataframe\">\n",
       "<caption>A spec_tbl_df: 1325580 × 3</caption>\n",
       "<thead>\n",
       "\t<tr><th scope=col>id</th><th scope=col>activity_minute</th><th scope=col>calories</th></tr>\n",
       "\t<tr><th scope=col>&lt;dbl&gt;</th><th scope=col>&lt;chr&gt;</th><th scope=col>&lt;dbl&gt;</th></tr>\n",
       "</thead>\n",
       "<tbody>\n",
       "\t<tr><td>1503960366</td><td>4/12/2016 12:00:00 AM</td><td>0.7865</td></tr>\n",
       "\t<tr><td>1503960366</td><td>4/12/2016 12:01:00 AM</td><td>0.7865</td></tr>\n",
       "\t<tr><td>1503960366</td><td>4/12/2016 12:02:00 AM</td><td>0.7865</td></tr>\n",
       "\t<tr><td>1503960366</td><td>4/12/2016 12:03:00 AM</td><td>0.7865</td></tr>\n",
       "\t<tr><td>1503960366</td><td>4/12/2016 12:04:00 AM</td><td>0.7865</td></tr>\n",
       "\t<tr><td>1503960366</td><td>4/12/2016 12:05:00 AM</td><td>0.9438</td></tr>\n",
       "\t<tr><td>1503960366</td><td>4/12/2016 12:06:00 AM</td><td>0.9438</td></tr>\n",
       "\t<tr><td>1503960366</td><td>4/12/2016 12:07:00 AM</td><td>0.9438</td></tr>\n",
       "\t<tr><td>1503960366</td><td>4/12/2016 12:08:00 AM</td><td>0.9438</td></tr>\n",
       "\t<tr><td>1503960366</td><td>4/12/2016 12:09:00 AM</td><td>0.9438</td></tr>\n",
       "\t<tr><td>1503960366</td><td>4/12/2016 12:10:00 AM</td><td>0.9438</td></tr>\n",
       "\t<tr><td>1503960366</td><td>4/12/2016 12:11:00 AM</td><td>0.9438</td></tr>\n",
       "\t<tr><td>1503960366</td><td>4/12/2016 12:12:00 AM</td><td>0.7865</td></tr>\n",
       "\t<tr><td>1503960366</td><td>4/12/2016 12:13:00 AM</td><td>0.7865</td></tr>\n",
       "\t<tr><td>1503960366</td><td>4/12/2016 12:14:00 AM</td><td>0.9438</td></tr>\n",
       "\t<tr><td>1503960366</td><td>4/12/2016 12:15:00 AM</td><td>0.7865</td></tr>\n",
       "\t<tr><td>1503960366</td><td>4/12/2016 12:16:00 AM</td><td>0.9438</td></tr>\n",
       "\t<tr><td>1503960366</td><td>4/12/2016 12:17:00 AM</td><td>0.7865</td></tr>\n",
       "\t<tr><td>1503960366</td><td>4/12/2016 12:18:00 AM</td><td>0.7865</td></tr>\n",
       "\t<tr><td>1503960366</td><td>4/12/2016 12:19:00 AM</td><td>0.7865</td></tr>\n",
       "\t<tr><td>1503960366</td><td>4/12/2016 12:20:00 AM</td><td>0.9438</td></tr>\n",
       "\t<tr><td>1503960366</td><td>4/12/2016 12:21:00 AM</td><td>0.9438</td></tr>\n",
       "\t<tr><td>1503960366</td><td>4/12/2016 12:22:00 AM</td><td>0.9438</td></tr>\n",
       "\t<tr><td>1503960366</td><td>4/12/2016 12:23:00 AM</td><td>0.9438</td></tr>\n",
       "\t<tr><td>1503960366</td><td>4/12/2016 12:24:00 AM</td><td>0.9438</td></tr>\n",
       "\t<tr><td>1503960366</td><td>4/12/2016 12:25:00 AM</td><td>2.0449</td></tr>\n",
       "\t<tr><td>1503960366</td><td>4/12/2016 12:26:00 AM</td><td>0.9438</td></tr>\n",
       "\t<tr><td>1503960366</td><td>4/12/2016 12:27:00 AM</td><td>0.9438</td></tr>\n",
       "\t<tr><td>1503960366</td><td>4/12/2016 12:28:00 AM</td><td>0.9438</td></tr>\n",
       "\t<tr><td>1503960366</td><td>4/12/2016 12:29:00 AM</td><td>2.5168</td></tr>\n",
       "\t<tr><td>⋮</td><td>⋮</td><td>⋮</td></tr>\n",
       "\t<tr><td>8877689391</td><td>5/12/2016 1:30:00 PM</td><td>1.33353</td></tr>\n",
       "\t<tr><td>8877689391</td><td>5/12/2016 1:31:00 PM</td><td>1.21230</td></tr>\n",
       "\t<tr><td>8877689391</td><td>5/12/2016 1:32:00 PM</td><td>1.21230</td></tr>\n",
       "\t<tr><td>8877689391</td><td>5/12/2016 1:33:00 PM</td><td>1.21230</td></tr>\n",
       "\t<tr><td>8877689391</td><td>5/12/2016 1:34:00 PM</td><td>3.15198</td></tr>\n",
       "\t<tr><td>8877689391</td><td>5/12/2016 1:35:00 PM</td><td>5.09166</td></tr>\n",
       "\t<tr><td>8877689391</td><td>5/12/2016 1:36:00 PM</td><td>6.54642</td></tr>\n",
       "\t<tr><td>8877689391</td><td>5/12/2016 1:37:00 PM</td><td>8.97102</td></tr>\n",
       "\t<tr><td>8877689391</td><td>5/12/2016 1:38:00 PM</td><td>3.63690</td></tr>\n",
       "\t<tr><td>8877689391</td><td>5/12/2016 1:39:00 PM</td><td>1.21230</td></tr>\n",
       "\t<tr><td>8877689391</td><td>5/12/2016 1:40:00 PM</td><td>1.33353</td></tr>\n",
       "\t<tr><td>8877689391</td><td>5/12/2016 1:41:00 PM</td><td>1.33353</td></tr>\n",
       "\t<tr><td>8877689391</td><td>5/12/2016 1:42:00 PM</td><td>1.33353</td></tr>\n",
       "\t<tr><td>8877689391</td><td>5/12/2016 1:43:00 PM</td><td>1.33353</td></tr>\n",
       "\t<tr><td>8877689391</td><td>5/12/2016 1:44:00 PM</td><td>3.39444</td></tr>\n",
       "\t<tr><td>8877689391</td><td>5/12/2016 1:45:00 PM</td><td>1.57599</td></tr>\n",
       "\t<tr><td>8877689391</td><td>5/12/2016 1:46:00 PM</td><td>1.33353</td></tr>\n",
       "\t<tr><td>8877689391</td><td>5/12/2016 1:47:00 PM</td><td>1.21230</td></tr>\n",
       "\t<tr><td>8877689391</td><td>5/12/2016 1:48:00 PM</td><td>1.33353</td></tr>\n",
       "\t<tr><td>8877689391</td><td>5/12/2016 1:49:00 PM</td><td>1.33353</td></tr>\n",
       "\t<tr><td>8877689391</td><td>5/12/2016 1:50:00 PM</td><td>1.33353</td></tr>\n",
       "\t<tr><td>8877689391</td><td>5/12/2016 1:51:00 PM</td><td>1.33353</td></tr>\n",
       "\t<tr><td>8877689391</td><td>5/12/2016 1:52:00 PM</td><td>1.33353</td></tr>\n",
       "\t<tr><td>8877689391</td><td>5/12/2016 1:53:00 PM</td><td>1.33353</td></tr>\n",
       "\t<tr><td>8877689391</td><td>5/12/2016 1:54:00 PM</td><td>1.33353</td></tr>\n",
       "\t<tr><td>8877689391</td><td>5/12/2016 1:55:00 PM</td><td>1.33353</td></tr>\n",
       "\t<tr><td>8877689391</td><td>5/12/2016 1:56:00 PM</td><td>1.33353</td></tr>\n",
       "\t<tr><td>8877689391</td><td>5/12/2016 1:57:00 PM</td><td>1.33353</td></tr>\n",
       "\t<tr><td>8877689391</td><td>5/12/2016 1:58:00 PM</td><td>1.33353</td></tr>\n",
       "\t<tr><td>8877689391</td><td>5/12/2016 1:59:00 PM</td><td>1.33353</td></tr>\n",
       "</tbody>\n",
       "</table>\n"
      ],
      "text/latex": [
       "A spec\\_tbl\\_df: 1325580 × 3\n",
       "\\begin{tabular}{lll}\n",
       " id & activity\\_minute & calories\\\\\n",
       " <dbl> & <chr> & <dbl>\\\\\n",
       "\\hline\n",
       "\t 1503960366 & 4/12/2016 12:00:00 AM & 0.7865\\\\\n",
       "\t 1503960366 & 4/12/2016 12:01:00 AM & 0.7865\\\\\n",
       "\t 1503960366 & 4/12/2016 12:02:00 AM & 0.7865\\\\\n",
       "\t 1503960366 & 4/12/2016 12:03:00 AM & 0.7865\\\\\n",
       "\t 1503960366 & 4/12/2016 12:04:00 AM & 0.7865\\\\\n",
       "\t 1503960366 & 4/12/2016 12:05:00 AM & 0.9438\\\\\n",
       "\t 1503960366 & 4/12/2016 12:06:00 AM & 0.9438\\\\\n",
       "\t 1503960366 & 4/12/2016 12:07:00 AM & 0.9438\\\\\n",
       "\t 1503960366 & 4/12/2016 12:08:00 AM & 0.9438\\\\\n",
       "\t 1503960366 & 4/12/2016 12:09:00 AM & 0.9438\\\\\n",
       "\t 1503960366 & 4/12/2016 12:10:00 AM & 0.9438\\\\\n",
       "\t 1503960366 & 4/12/2016 12:11:00 AM & 0.9438\\\\\n",
       "\t 1503960366 & 4/12/2016 12:12:00 AM & 0.7865\\\\\n",
       "\t 1503960366 & 4/12/2016 12:13:00 AM & 0.7865\\\\\n",
       "\t 1503960366 & 4/12/2016 12:14:00 AM & 0.9438\\\\\n",
       "\t 1503960366 & 4/12/2016 12:15:00 AM & 0.7865\\\\\n",
       "\t 1503960366 & 4/12/2016 12:16:00 AM & 0.9438\\\\\n",
       "\t 1503960366 & 4/12/2016 12:17:00 AM & 0.7865\\\\\n",
       "\t 1503960366 & 4/12/2016 12:18:00 AM & 0.7865\\\\\n",
       "\t 1503960366 & 4/12/2016 12:19:00 AM & 0.7865\\\\\n",
       "\t 1503960366 & 4/12/2016 12:20:00 AM & 0.9438\\\\\n",
       "\t 1503960366 & 4/12/2016 12:21:00 AM & 0.9438\\\\\n",
       "\t 1503960366 & 4/12/2016 12:22:00 AM & 0.9438\\\\\n",
       "\t 1503960366 & 4/12/2016 12:23:00 AM & 0.9438\\\\\n",
       "\t 1503960366 & 4/12/2016 12:24:00 AM & 0.9438\\\\\n",
       "\t 1503960366 & 4/12/2016 12:25:00 AM & 2.0449\\\\\n",
       "\t 1503960366 & 4/12/2016 12:26:00 AM & 0.9438\\\\\n",
       "\t 1503960366 & 4/12/2016 12:27:00 AM & 0.9438\\\\\n",
       "\t 1503960366 & 4/12/2016 12:28:00 AM & 0.9438\\\\\n",
       "\t 1503960366 & 4/12/2016 12:29:00 AM & 2.5168\\\\\n",
       "\t ⋮ & ⋮ & ⋮\\\\\n",
       "\t 8877689391 & 5/12/2016 1:30:00 PM & 1.33353\\\\\n",
       "\t 8877689391 & 5/12/2016 1:31:00 PM & 1.21230\\\\\n",
       "\t 8877689391 & 5/12/2016 1:32:00 PM & 1.21230\\\\\n",
       "\t 8877689391 & 5/12/2016 1:33:00 PM & 1.21230\\\\\n",
       "\t 8877689391 & 5/12/2016 1:34:00 PM & 3.15198\\\\\n",
       "\t 8877689391 & 5/12/2016 1:35:00 PM & 5.09166\\\\\n",
       "\t 8877689391 & 5/12/2016 1:36:00 PM & 6.54642\\\\\n",
       "\t 8877689391 & 5/12/2016 1:37:00 PM & 8.97102\\\\\n",
       "\t 8877689391 & 5/12/2016 1:38:00 PM & 3.63690\\\\\n",
       "\t 8877689391 & 5/12/2016 1:39:00 PM & 1.21230\\\\\n",
       "\t 8877689391 & 5/12/2016 1:40:00 PM & 1.33353\\\\\n",
       "\t 8877689391 & 5/12/2016 1:41:00 PM & 1.33353\\\\\n",
       "\t 8877689391 & 5/12/2016 1:42:00 PM & 1.33353\\\\\n",
       "\t 8877689391 & 5/12/2016 1:43:00 PM & 1.33353\\\\\n",
       "\t 8877689391 & 5/12/2016 1:44:00 PM & 3.39444\\\\\n",
       "\t 8877689391 & 5/12/2016 1:45:00 PM & 1.57599\\\\\n",
       "\t 8877689391 & 5/12/2016 1:46:00 PM & 1.33353\\\\\n",
       "\t 8877689391 & 5/12/2016 1:47:00 PM & 1.21230\\\\\n",
       "\t 8877689391 & 5/12/2016 1:48:00 PM & 1.33353\\\\\n",
       "\t 8877689391 & 5/12/2016 1:49:00 PM & 1.33353\\\\\n",
       "\t 8877689391 & 5/12/2016 1:50:00 PM & 1.33353\\\\\n",
       "\t 8877689391 & 5/12/2016 1:51:00 PM & 1.33353\\\\\n",
       "\t 8877689391 & 5/12/2016 1:52:00 PM & 1.33353\\\\\n",
       "\t 8877689391 & 5/12/2016 1:53:00 PM & 1.33353\\\\\n",
       "\t 8877689391 & 5/12/2016 1:54:00 PM & 1.33353\\\\\n",
       "\t 8877689391 & 5/12/2016 1:55:00 PM & 1.33353\\\\\n",
       "\t 8877689391 & 5/12/2016 1:56:00 PM & 1.33353\\\\\n",
       "\t 8877689391 & 5/12/2016 1:57:00 PM & 1.33353\\\\\n",
       "\t 8877689391 & 5/12/2016 1:58:00 PM & 1.33353\\\\\n",
       "\t 8877689391 & 5/12/2016 1:59:00 PM & 1.33353\\\\\n",
       "\\end{tabular}\n"
      ],
      "text/markdown": [
       "\n",
       "A spec_tbl_df: 1325580 × 3\n",
       "\n",
       "| id &lt;dbl&gt; | activity_minute &lt;chr&gt; | calories &lt;dbl&gt; |\n",
       "|---|---|---|\n",
       "| 1503960366 | 4/12/2016 12:00:00 AM | 0.7865 |\n",
       "| 1503960366 | 4/12/2016 12:01:00 AM | 0.7865 |\n",
       "| 1503960366 | 4/12/2016 12:02:00 AM | 0.7865 |\n",
       "| 1503960366 | 4/12/2016 12:03:00 AM | 0.7865 |\n",
       "| 1503960366 | 4/12/2016 12:04:00 AM | 0.7865 |\n",
       "| 1503960366 | 4/12/2016 12:05:00 AM | 0.9438 |\n",
       "| 1503960366 | 4/12/2016 12:06:00 AM | 0.9438 |\n",
       "| 1503960366 | 4/12/2016 12:07:00 AM | 0.9438 |\n",
       "| 1503960366 | 4/12/2016 12:08:00 AM | 0.9438 |\n",
       "| 1503960366 | 4/12/2016 12:09:00 AM | 0.9438 |\n",
       "| 1503960366 | 4/12/2016 12:10:00 AM | 0.9438 |\n",
       "| 1503960366 | 4/12/2016 12:11:00 AM | 0.9438 |\n",
       "| 1503960366 | 4/12/2016 12:12:00 AM | 0.7865 |\n",
       "| 1503960366 | 4/12/2016 12:13:00 AM | 0.7865 |\n",
       "| 1503960366 | 4/12/2016 12:14:00 AM | 0.9438 |\n",
       "| 1503960366 | 4/12/2016 12:15:00 AM | 0.7865 |\n",
       "| 1503960366 | 4/12/2016 12:16:00 AM | 0.9438 |\n",
       "| 1503960366 | 4/12/2016 12:17:00 AM | 0.7865 |\n",
       "| 1503960366 | 4/12/2016 12:18:00 AM | 0.7865 |\n",
       "| 1503960366 | 4/12/2016 12:19:00 AM | 0.7865 |\n",
       "| 1503960366 | 4/12/2016 12:20:00 AM | 0.9438 |\n",
       "| 1503960366 | 4/12/2016 12:21:00 AM | 0.9438 |\n",
       "| 1503960366 | 4/12/2016 12:22:00 AM | 0.9438 |\n",
       "| 1503960366 | 4/12/2016 12:23:00 AM | 0.9438 |\n",
       "| 1503960366 | 4/12/2016 12:24:00 AM | 0.9438 |\n",
       "| 1503960366 | 4/12/2016 12:25:00 AM | 2.0449 |\n",
       "| 1503960366 | 4/12/2016 12:26:00 AM | 0.9438 |\n",
       "| 1503960366 | 4/12/2016 12:27:00 AM | 0.9438 |\n",
       "| 1503960366 | 4/12/2016 12:28:00 AM | 0.9438 |\n",
       "| 1503960366 | 4/12/2016 12:29:00 AM | 2.5168 |\n",
       "| ⋮ | ⋮ | ⋮ |\n",
       "| 8877689391 | 5/12/2016 1:30:00 PM | 1.33353 |\n",
       "| 8877689391 | 5/12/2016 1:31:00 PM | 1.21230 |\n",
       "| 8877689391 | 5/12/2016 1:32:00 PM | 1.21230 |\n",
       "| 8877689391 | 5/12/2016 1:33:00 PM | 1.21230 |\n",
       "| 8877689391 | 5/12/2016 1:34:00 PM | 3.15198 |\n",
       "| 8877689391 | 5/12/2016 1:35:00 PM | 5.09166 |\n",
       "| 8877689391 | 5/12/2016 1:36:00 PM | 6.54642 |\n",
       "| 8877689391 | 5/12/2016 1:37:00 PM | 8.97102 |\n",
       "| 8877689391 | 5/12/2016 1:38:00 PM | 3.63690 |\n",
       "| 8877689391 | 5/12/2016 1:39:00 PM | 1.21230 |\n",
       "| 8877689391 | 5/12/2016 1:40:00 PM | 1.33353 |\n",
       "| 8877689391 | 5/12/2016 1:41:00 PM | 1.33353 |\n",
       "| 8877689391 | 5/12/2016 1:42:00 PM | 1.33353 |\n",
       "| 8877689391 | 5/12/2016 1:43:00 PM | 1.33353 |\n",
       "| 8877689391 | 5/12/2016 1:44:00 PM | 3.39444 |\n",
       "| 8877689391 | 5/12/2016 1:45:00 PM | 1.57599 |\n",
       "| 8877689391 | 5/12/2016 1:46:00 PM | 1.33353 |\n",
       "| 8877689391 | 5/12/2016 1:47:00 PM | 1.21230 |\n",
       "| 8877689391 | 5/12/2016 1:48:00 PM | 1.33353 |\n",
       "| 8877689391 | 5/12/2016 1:49:00 PM | 1.33353 |\n",
       "| 8877689391 | 5/12/2016 1:50:00 PM | 1.33353 |\n",
       "| 8877689391 | 5/12/2016 1:51:00 PM | 1.33353 |\n",
       "| 8877689391 | 5/12/2016 1:52:00 PM | 1.33353 |\n",
       "| 8877689391 | 5/12/2016 1:53:00 PM | 1.33353 |\n",
       "| 8877689391 | 5/12/2016 1:54:00 PM | 1.33353 |\n",
       "| 8877689391 | 5/12/2016 1:55:00 PM | 1.33353 |\n",
       "| 8877689391 | 5/12/2016 1:56:00 PM | 1.33353 |\n",
       "| 8877689391 | 5/12/2016 1:57:00 PM | 1.33353 |\n",
       "| 8877689391 | 5/12/2016 1:58:00 PM | 1.33353 |\n",
       "| 8877689391 | 5/12/2016 1:59:00 PM | 1.33353 |\n",
       "\n"
      ],
      "text/plain": [
       "        id         activity_minute       calories\n",
       "1       1503960366 4/12/2016 12:00:00 AM 0.7865  \n",
       "2       1503960366 4/12/2016 12:01:00 AM 0.7865  \n",
       "3       1503960366 4/12/2016 12:02:00 AM 0.7865  \n",
       "4       1503960366 4/12/2016 12:03:00 AM 0.7865  \n",
       "5       1503960366 4/12/2016 12:04:00 AM 0.7865  \n",
       "6       1503960366 4/12/2016 12:05:00 AM 0.9438  \n",
       "7       1503960366 4/12/2016 12:06:00 AM 0.9438  \n",
       "8       1503960366 4/12/2016 12:07:00 AM 0.9438  \n",
       "9       1503960366 4/12/2016 12:08:00 AM 0.9438  \n",
       "10      1503960366 4/12/2016 12:09:00 AM 0.9438  \n",
       "11      1503960366 4/12/2016 12:10:00 AM 0.9438  \n",
       "12      1503960366 4/12/2016 12:11:00 AM 0.9438  \n",
       "13      1503960366 4/12/2016 12:12:00 AM 0.7865  \n",
       "14      1503960366 4/12/2016 12:13:00 AM 0.7865  \n",
       "15      1503960366 4/12/2016 12:14:00 AM 0.9438  \n",
       "16      1503960366 4/12/2016 12:15:00 AM 0.7865  \n",
       "17      1503960366 4/12/2016 12:16:00 AM 0.9438  \n",
       "18      1503960366 4/12/2016 12:17:00 AM 0.7865  \n",
       "19      1503960366 4/12/2016 12:18:00 AM 0.7865  \n",
       "20      1503960366 4/12/2016 12:19:00 AM 0.7865  \n",
       "21      1503960366 4/12/2016 12:20:00 AM 0.9438  \n",
       "22      1503960366 4/12/2016 12:21:00 AM 0.9438  \n",
       "23      1503960366 4/12/2016 12:22:00 AM 0.9438  \n",
       "24      1503960366 4/12/2016 12:23:00 AM 0.9438  \n",
       "25      1503960366 4/12/2016 12:24:00 AM 0.9438  \n",
       "26      1503960366 4/12/2016 12:25:00 AM 2.0449  \n",
       "27      1503960366 4/12/2016 12:26:00 AM 0.9438  \n",
       "28      1503960366 4/12/2016 12:27:00 AM 0.9438  \n",
       "29      1503960366 4/12/2016 12:28:00 AM 0.9438  \n",
       "30      1503960366 4/12/2016 12:29:00 AM 2.5168  \n",
       "⋮       ⋮          ⋮                     ⋮       \n",
       "1325551 8877689391 5/12/2016 1:30:00 PM  1.33353 \n",
       "1325552 8877689391 5/12/2016 1:31:00 PM  1.21230 \n",
       "1325553 8877689391 5/12/2016 1:32:00 PM  1.21230 \n",
       "1325554 8877689391 5/12/2016 1:33:00 PM  1.21230 \n",
       "1325555 8877689391 5/12/2016 1:34:00 PM  3.15198 \n",
       "1325556 8877689391 5/12/2016 1:35:00 PM  5.09166 \n",
       "1325557 8877689391 5/12/2016 1:36:00 PM  6.54642 \n",
       "1325558 8877689391 5/12/2016 1:37:00 PM  8.97102 \n",
       "1325559 8877689391 5/12/2016 1:38:00 PM  3.63690 \n",
       "1325560 8877689391 5/12/2016 1:39:00 PM  1.21230 \n",
       "1325561 8877689391 5/12/2016 1:40:00 PM  1.33353 \n",
       "1325562 8877689391 5/12/2016 1:41:00 PM  1.33353 \n",
       "1325563 8877689391 5/12/2016 1:42:00 PM  1.33353 \n",
       "1325564 8877689391 5/12/2016 1:43:00 PM  1.33353 \n",
       "1325565 8877689391 5/12/2016 1:44:00 PM  3.39444 \n",
       "1325566 8877689391 5/12/2016 1:45:00 PM  1.57599 \n",
       "1325567 8877689391 5/12/2016 1:46:00 PM  1.33353 \n",
       "1325568 8877689391 5/12/2016 1:47:00 PM  1.21230 \n",
       "1325569 8877689391 5/12/2016 1:48:00 PM  1.33353 \n",
       "1325570 8877689391 5/12/2016 1:49:00 PM  1.33353 \n",
       "1325571 8877689391 5/12/2016 1:50:00 PM  1.33353 \n",
       "1325572 8877689391 5/12/2016 1:51:00 PM  1.33353 \n",
       "1325573 8877689391 5/12/2016 1:52:00 PM  1.33353 \n",
       "1325574 8877689391 5/12/2016 1:53:00 PM  1.33353 \n",
       "1325575 8877689391 5/12/2016 1:54:00 PM  1.33353 \n",
       "1325576 8877689391 5/12/2016 1:55:00 PM  1.33353 \n",
       "1325577 8877689391 5/12/2016 1:56:00 PM  1.33353 \n",
       "1325578 8877689391 5/12/2016 1:57:00 PM  1.33353 \n",
       "1325579 8877689391 5/12/2016 1:58:00 PM  1.33353 \n",
       "1325580 8877689391 5/12/2016 1:59:00 PM  1.33353 "
      ]
     },
     "metadata": {},
     "output_type": "display_data"
    },
    {
     "data": {
      "text/html": [
       "<table class=\"dataframe\">\n",
       "<caption>A spec_tbl_df: 1325580 × 3</caption>\n",
       "<thead>\n",
       "\t<tr><th scope=col>id</th><th scope=col>activity_minute</th><th scope=col>intensity</th></tr>\n",
       "\t<tr><th scope=col>&lt;dbl&gt;</th><th scope=col>&lt;chr&gt;</th><th scope=col>&lt;dbl&gt;</th></tr>\n",
       "</thead>\n",
       "<tbody>\n",
       "\t<tr><td>1503960366</td><td>4/12/2016 12:00:00 AM</td><td>0</td></tr>\n",
       "\t<tr><td>1503960366</td><td>4/12/2016 12:01:00 AM</td><td>0</td></tr>\n",
       "\t<tr><td>1503960366</td><td>4/12/2016 12:02:00 AM</td><td>0</td></tr>\n",
       "\t<tr><td>1503960366</td><td>4/12/2016 12:03:00 AM</td><td>0</td></tr>\n",
       "\t<tr><td>1503960366</td><td>4/12/2016 12:04:00 AM</td><td>0</td></tr>\n",
       "\t<tr><td>1503960366</td><td>4/12/2016 12:05:00 AM</td><td>0</td></tr>\n",
       "\t<tr><td>1503960366</td><td>4/12/2016 12:06:00 AM</td><td>0</td></tr>\n",
       "\t<tr><td>1503960366</td><td>4/12/2016 12:07:00 AM</td><td>0</td></tr>\n",
       "\t<tr><td>1503960366</td><td>4/12/2016 12:08:00 AM</td><td>0</td></tr>\n",
       "\t<tr><td>1503960366</td><td>4/12/2016 12:09:00 AM</td><td>0</td></tr>\n",
       "\t<tr><td>1503960366</td><td>4/12/2016 12:10:00 AM</td><td>0</td></tr>\n",
       "\t<tr><td>1503960366</td><td>4/12/2016 12:11:00 AM</td><td>0</td></tr>\n",
       "\t<tr><td>1503960366</td><td>4/12/2016 12:12:00 AM</td><td>0</td></tr>\n",
       "\t<tr><td>1503960366</td><td>4/12/2016 12:13:00 AM</td><td>0</td></tr>\n",
       "\t<tr><td>1503960366</td><td>4/12/2016 12:14:00 AM</td><td>0</td></tr>\n",
       "\t<tr><td>1503960366</td><td>4/12/2016 12:15:00 AM</td><td>0</td></tr>\n",
       "\t<tr><td>1503960366</td><td>4/12/2016 12:16:00 AM</td><td>0</td></tr>\n",
       "\t<tr><td>1503960366</td><td>4/12/2016 12:17:00 AM</td><td>0</td></tr>\n",
       "\t<tr><td>1503960366</td><td>4/12/2016 12:18:00 AM</td><td>0</td></tr>\n",
       "\t<tr><td>1503960366</td><td>4/12/2016 12:19:00 AM</td><td>0</td></tr>\n",
       "\t<tr><td>1503960366</td><td>4/12/2016 12:20:00 AM</td><td>0</td></tr>\n",
       "\t<tr><td>1503960366</td><td>4/12/2016 12:21:00 AM</td><td>0</td></tr>\n",
       "\t<tr><td>1503960366</td><td>4/12/2016 12:22:00 AM</td><td>0</td></tr>\n",
       "\t<tr><td>1503960366</td><td>4/12/2016 12:23:00 AM</td><td>0</td></tr>\n",
       "\t<tr><td>1503960366</td><td>4/12/2016 12:24:00 AM</td><td>0</td></tr>\n",
       "\t<tr><td>1503960366</td><td>4/12/2016 12:25:00 AM</td><td>1</td></tr>\n",
       "\t<tr><td>1503960366</td><td>4/12/2016 12:26:00 AM</td><td>0</td></tr>\n",
       "\t<tr><td>1503960366</td><td>4/12/2016 12:27:00 AM</td><td>0</td></tr>\n",
       "\t<tr><td>1503960366</td><td>4/12/2016 12:28:00 AM</td><td>0</td></tr>\n",
       "\t<tr><td>1503960366</td><td>4/12/2016 12:29:00 AM</td><td>1</td></tr>\n",
       "\t<tr><td>⋮</td><td>⋮</td><td>⋮</td></tr>\n",
       "\t<tr><td>8877689391</td><td>5/12/2016 1:30:00 PM</td><td>0</td></tr>\n",
       "\t<tr><td>8877689391</td><td>5/12/2016 1:31:00 PM</td><td>0</td></tr>\n",
       "\t<tr><td>8877689391</td><td>5/12/2016 1:32:00 PM</td><td>0</td></tr>\n",
       "\t<tr><td>8877689391</td><td>5/12/2016 1:33:00 PM</td><td>0</td></tr>\n",
       "\t<tr><td>8877689391</td><td>5/12/2016 1:34:00 PM</td><td>1</td></tr>\n",
       "\t<tr><td>8877689391</td><td>5/12/2016 1:35:00 PM</td><td>1</td></tr>\n",
       "\t<tr><td>8877689391</td><td>5/12/2016 1:36:00 PM</td><td>1</td></tr>\n",
       "\t<tr><td>8877689391</td><td>5/12/2016 1:37:00 PM</td><td>1</td></tr>\n",
       "\t<tr><td>8877689391</td><td>5/12/2016 1:38:00 PM</td><td>1</td></tr>\n",
       "\t<tr><td>8877689391</td><td>5/12/2016 1:39:00 PM</td><td>0</td></tr>\n",
       "\t<tr><td>8877689391</td><td>5/12/2016 1:40:00 PM</td><td>0</td></tr>\n",
       "\t<tr><td>8877689391</td><td>5/12/2016 1:41:00 PM</td><td>0</td></tr>\n",
       "\t<tr><td>8877689391</td><td>5/12/2016 1:42:00 PM</td><td>0</td></tr>\n",
       "\t<tr><td>8877689391</td><td>5/12/2016 1:43:00 PM</td><td>0</td></tr>\n",
       "\t<tr><td>8877689391</td><td>5/12/2016 1:44:00 PM</td><td>1</td></tr>\n",
       "\t<tr><td>8877689391</td><td>5/12/2016 1:45:00 PM</td><td>0</td></tr>\n",
       "\t<tr><td>8877689391</td><td>5/12/2016 1:46:00 PM</td><td>0</td></tr>\n",
       "\t<tr><td>8877689391</td><td>5/12/2016 1:47:00 PM</td><td>0</td></tr>\n",
       "\t<tr><td>8877689391</td><td>5/12/2016 1:48:00 PM</td><td>0</td></tr>\n",
       "\t<tr><td>8877689391</td><td>5/12/2016 1:49:00 PM</td><td>0</td></tr>\n",
       "\t<tr><td>8877689391</td><td>5/12/2016 1:50:00 PM</td><td>0</td></tr>\n",
       "\t<tr><td>8877689391</td><td>5/12/2016 1:51:00 PM</td><td>0</td></tr>\n",
       "\t<tr><td>8877689391</td><td>5/12/2016 1:52:00 PM</td><td>0</td></tr>\n",
       "\t<tr><td>8877689391</td><td>5/12/2016 1:53:00 PM</td><td>0</td></tr>\n",
       "\t<tr><td>8877689391</td><td>5/12/2016 1:54:00 PM</td><td>0</td></tr>\n",
       "\t<tr><td>8877689391</td><td>5/12/2016 1:55:00 PM</td><td>0</td></tr>\n",
       "\t<tr><td>8877689391</td><td>5/12/2016 1:56:00 PM</td><td>0</td></tr>\n",
       "\t<tr><td>8877689391</td><td>5/12/2016 1:57:00 PM</td><td>0</td></tr>\n",
       "\t<tr><td>8877689391</td><td>5/12/2016 1:58:00 PM</td><td>0</td></tr>\n",
       "\t<tr><td>8877689391</td><td>5/12/2016 1:59:00 PM</td><td>0</td></tr>\n",
       "</tbody>\n",
       "</table>\n"
      ],
      "text/latex": [
       "A spec\\_tbl\\_df: 1325580 × 3\n",
       "\\begin{tabular}{lll}\n",
       " id & activity\\_minute & intensity\\\\\n",
       " <dbl> & <chr> & <dbl>\\\\\n",
       "\\hline\n",
       "\t 1503960366 & 4/12/2016 12:00:00 AM & 0\\\\\n",
       "\t 1503960366 & 4/12/2016 12:01:00 AM & 0\\\\\n",
       "\t 1503960366 & 4/12/2016 12:02:00 AM & 0\\\\\n",
       "\t 1503960366 & 4/12/2016 12:03:00 AM & 0\\\\\n",
       "\t 1503960366 & 4/12/2016 12:04:00 AM & 0\\\\\n",
       "\t 1503960366 & 4/12/2016 12:05:00 AM & 0\\\\\n",
       "\t 1503960366 & 4/12/2016 12:06:00 AM & 0\\\\\n",
       "\t 1503960366 & 4/12/2016 12:07:00 AM & 0\\\\\n",
       "\t 1503960366 & 4/12/2016 12:08:00 AM & 0\\\\\n",
       "\t 1503960366 & 4/12/2016 12:09:00 AM & 0\\\\\n",
       "\t 1503960366 & 4/12/2016 12:10:00 AM & 0\\\\\n",
       "\t 1503960366 & 4/12/2016 12:11:00 AM & 0\\\\\n",
       "\t 1503960366 & 4/12/2016 12:12:00 AM & 0\\\\\n",
       "\t 1503960366 & 4/12/2016 12:13:00 AM & 0\\\\\n",
       "\t 1503960366 & 4/12/2016 12:14:00 AM & 0\\\\\n",
       "\t 1503960366 & 4/12/2016 12:15:00 AM & 0\\\\\n",
       "\t 1503960366 & 4/12/2016 12:16:00 AM & 0\\\\\n",
       "\t 1503960366 & 4/12/2016 12:17:00 AM & 0\\\\\n",
       "\t 1503960366 & 4/12/2016 12:18:00 AM & 0\\\\\n",
       "\t 1503960366 & 4/12/2016 12:19:00 AM & 0\\\\\n",
       "\t 1503960366 & 4/12/2016 12:20:00 AM & 0\\\\\n",
       "\t 1503960366 & 4/12/2016 12:21:00 AM & 0\\\\\n",
       "\t 1503960366 & 4/12/2016 12:22:00 AM & 0\\\\\n",
       "\t 1503960366 & 4/12/2016 12:23:00 AM & 0\\\\\n",
       "\t 1503960366 & 4/12/2016 12:24:00 AM & 0\\\\\n",
       "\t 1503960366 & 4/12/2016 12:25:00 AM & 1\\\\\n",
       "\t 1503960366 & 4/12/2016 12:26:00 AM & 0\\\\\n",
       "\t 1503960366 & 4/12/2016 12:27:00 AM & 0\\\\\n",
       "\t 1503960366 & 4/12/2016 12:28:00 AM & 0\\\\\n",
       "\t 1503960366 & 4/12/2016 12:29:00 AM & 1\\\\\n",
       "\t ⋮ & ⋮ & ⋮\\\\\n",
       "\t 8877689391 & 5/12/2016 1:30:00 PM & 0\\\\\n",
       "\t 8877689391 & 5/12/2016 1:31:00 PM & 0\\\\\n",
       "\t 8877689391 & 5/12/2016 1:32:00 PM & 0\\\\\n",
       "\t 8877689391 & 5/12/2016 1:33:00 PM & 0\\\\\n",
       "\t 8877689391 & 5/12/2016 1:34:00 PM & 1\\\\\n",
       "\t 8877689391 & 5/12/2016 1:35:00 PM & 1\\\\\n",
       "\t 8877689391 & 5/12/2016 1:36:00 PM & 1\\\\\n",
       "\t 8877689391 & 5/12/2016 1:37:00 PM & 1\\\\\n",
       "\t 8877689391 & 5/12/2016 1:38:00 PM & 1\\\\\n",
       "\t 8877689391 & 5/12/2016 1:39:00 PM & 0\\\\\n",
       "\t 8877689391 & 5/12/2016 1:40:00 PM & 0\\\\\n",
       "\t 8877689391 & 5/12/2016 1:41:00 PM & 0\\\\\n",
       "\t 8877689391 & 5/12/2016 1:42:00 PM & 0\\\\\n",
       "\t 8877689391 & 5/12/2016 1:43:00 PM & 0\\\\\n",
       "\t 8877689391 & 5/12/2016 1:44:00 PM & 1\\\\\n",
       "\t 8877689391 & 5/12/2016 1:45:00 PM & 0\\\\\n",
       "\t 8877689391 & 5/12/2016 1:46:00 PM & 0\\\\\n",
       "\t 8877689391 & 5/12/2016 1:47:00 PM & 0\\\\\n",
       "\t 8877689391 & 5/12/2016 1:48:00 PM & 0\\\\\n",
       "\t 8877689391 & 5/12/2016 1:49:00 PM & 0\\\\\n",
       "\t 8877689391 & 5/12/2016 1:50:00 PM & 0\\\\\n",
       "\t 8877689391 & 5/12/2016 1:51:00 PM & 0\\\\\n",
       "\t 8877689391 & 5/12/2016 1:52:00 PM & 0\\\\\n",
       "\t 8877689391 & 5/12/2016 1:53:00 PM & 0\\\\\n",
       "\t 8877689391 & 5/12/2016 1:54:00 PM & 0\\\\\n",
       "\t 8877689391 & 5/12/2016 1:55:00 PM & 0\\\\\n",
       "\t 8877689391 & 5/12/2016 1:56:00 PM & 0\\\\\n",
       "\t 8877689391 & 5/12/2016 1:57:00 PM & 0\\\\\n",
       "\t 8877689391 & 5/12/2016 1:58:00 PM & 0\\\\\n",
       "\t 8877689391 & 5/12/2016 1:59:00 PM & 0\\\\\n",
       "\\end{tabular}\n"
      ],
      "text/markdown": [
       "\n",
       "A spec_tbl_df: 1325580 × 3\n",
       "\n",
       "| id &lt;dbl&gt; | activity_minute &lt;chr&gt; | intensity &lt;dbl&gt; |\n",
       "|---|---|---|\n",
       "| 1503960366 | 4/12/2016 12:00:00 AM | 0 |\n",
       "| 1503960366 | 4/12/2016 12:01:00 AM | 0 |\n",
       "| 1503960366 | 4/12/2016 12:02:00 AM | 0 |\n",
       "| 1503960366 | 4/12/2016 12:03:00 AM | 0 |\n",
       "| 1503960366 | 4/12/2016 12:04:00 AM | 0 |\n",
       "| 1503960366 | 4/12/2016 12:05:00 AM | 0 |\n",
       "| 1503960366 | 4/12/2016 12:06:00 AM | 0 |\n",
       "| 1503960366 | 4/12/2016 12:07:00 AM | 0 |\n",
       "| 1503960366 | 4/12/2016 12:08:00 AM | 0 |\n",
       "| 1503960366 | 4/12/2016 12:09:00 AM | 0 |\n",
       "| 1503960366 | 4/12/2016 12:10:00 AM | 0 |\n",
       "| 1503960366 | 4/12/2016 12:11:00 AM | 0 |\n",
       "| 1503960366 | 4/12/2016 12:12:00 AM | 0 |\n",
       "| 1503960366 | 4/12/2016 12:13:00 AM | 0 |\n",
       "| 1503960366 | 4/12/2016 12:14:00 AM | 0 |\n",
       "| 1503960366 | 4/12/2016 12:15:00 AM | 0 |\n",
       "| 1503960366 | 4/12/2016 12:16:00 AM | 0 |\n",
       "| 1503960366 | 4/12/2016 12:17:00 AM | 0 |\n",
       "| 1503960366 | 4/12/2016 12:18:00 AM | 0 |\n",
       "| 1503960366 | 4/12/2016 12:19:00 AM | 0 |\n",
       "| 1503960366 | 4/12/2016 12:20:00 AM | 0 |\n",
       "| 1503960366 | 4/12/2016 12:21:00 AM | 0 |\n",
       "| 1503960366 | 4/12/2016 12:22:00 AM | 0 |\n",
       "| 1503960366 | 4/12/2016 12:23:00 AM | 0 |\n",
       "| 1503960366 | 4/12/2016 12:24:00 AM | 0 |\n",
       "| 1503960366 | 4/12/2016 12:25:00 AM | 1 |\n",
       "| 1503960366 | 4/12/2016 12:26:00 AM | 0 |\n",
       "| 1503960366 | 4/12/2016 12:27:00 AM | 0 |\n",
       "| 1503960366 | 4/12/2016 12:28:00 AM | 0 |\n",
       "| 1503960366 | 4/12/2016 12:29:00 AM | 1 |\n",
       "| ⋮ | ⋮ | ⋮ |\n",
       "| 8877689391 | 5/12/2016 1:30:00 PM | 0 |\n",
       "| 8877689391 | 5/12/2016 1:31:00 PM | 0 |\n",
       "| 8877689391 | 5/12/2016 1:32:00 PM | 0 |\n",
       "| 8877689391 | 5/12/2016 1:33:00 PM | 0 |\n",
       "| 8877689391 | 5/12/2016 1:34:00 PM | 1 |\n",
       "| 8877689391 | 5/12/2016 1:35:00 PM | 1 |\n",
       "| 8877689391 | 5/12/2016 1:36:00 PM | 1 |\n",
       "| 8877689391 | 5/12/2016 1:37:00 PM | 1 |\n",
       "| 8877689391 | 5/12/2016 1:38:00 PM | 1 |\n",
       "| 8877689391 | 5/12/2016 1:39:00 PM | 0 |\n",
       "| 8877689391 | 5/12/2016 1:40:00 PM | 0 |\n",
       "| 8877689391 | 5/12/2016 1:41:00 PM | 0 |\n",
       "| 8877689391 | 5/12/2016 1:42:00 PM | 0 |\n",
       "| 8877689391 | 5/12/2016 1:43:00 PM | 0 |\n",
       "| 8877689391 | 5/12/2016 1:44:00 PM | 1 |\n",
       "| 8877689391 | 5/12/2016 1:45:00 PM | 0 |\n",
       "| 8877689391 | 5/12/2016 1:46:00 PM | 0 |\n",
       "| 8877689391 | 5/12/2016 1:47:00 PM | 0 |\n",
       "| 8877689391 | 5/12/2016 1:48:00 PM | 0 |\n",
       "| 8877689391 | 5/12/2016 1:49:00 PM | 0 |\n",
       "| 8877689391 | 5/12/2016 1:50:00 PM | 0 |\n",
       "| 8877689391 | 5/12/2016 1:51:00 PM | 0 |\n",
       "| 8877689391 | 5/12/2016 1:52:00 PM | 0 |\n",
       "| 8877689391 | 5/12/2016 1:53:00 PM | 0 |\n",
       "| 8877689391 | 5/12/2016 1:54:00 PM | 0 |\n",
       "| 8877689391 | 5/12/2016 1:55:00 PM | 0 |\n",
       "| 8877689391 | 5/12/2016 1:56:00 PM | 0 |\n",
       "| 8877689391 | 5/12/2016 1:57:00 PM | 0 |\n",
       "| 8877689391 | 5/12/2016 1:58:00 PM | 0 |\n",
       "| 8877689391 | 5/12/2016 1:59:00 PM | 0 |\n",
       "\n"
      ],
      "text/plain": [
       "        id         activity_minute       intensity\n",
       "1       1503960366 4/12/2016 12:00:00 AM 0        \n",
       "2       1503960366 4/12/2016 12:01:00 AM 0        \n",
       "3       1503960366 4/12/2016 12:02:00 AM 0        \n",
       "4       1503960366 4/12/2016 12:03:00 AM 0        \n",
       "5       1503960366 4/12/2016 12:04:00 AM 0        \n",
       "6       1503960366 4/12/2016 12:05:00 AM 0        \n",
       "7       1503960366 4/12/2016 12:06:00 AM 0        \n",
       "8       1503960366 4/12/2016 12:07:00 AM 0        \n",
       "9       1503960366 4/12/2016 12:08:00 AM 0        \n",
       "10      1503960366 4/12/2016 12:09:00 AM 0        \n",
       "11      1503960366 4/12/2016 12:10:00 AM 0        \n",
       "12      1503960366 4/12/2016 12:11:00 AM 0        \n",
       "13      1503960366 4/12/2016 12:12:00 AM 0        \n",
       "14      1503960366 4/12/2016 12:13:00 AM 0        \n",
       "15      1503960366 4/12/2016 12:14:00 AM 0        \n",
       "16      1503960366 4/12/2016 12:15:00 AM 0        \n",
       "17      1503960366 4/12/2016 12:16:00 AM 0        \n",
       "18      1503960366 4/12/2016 12:17:00 AM 0        \n",
       "19      1503960366 4/12/2016 12:18:00 AM 0        \n",
       "20      1503960366 4/12/2016 12:19:00 AM 0        \n",
       "21      1503960366 4/12/2016 12:20:00 AM 0        \n",
       "22      1503960366 4/12/2016 12:21:00 AM 0        \n",
       "23      1503960366 4/12/2016 12:22:00 AM 0        \n",
       "24      1503960366 4/12/2016 12:23:00 AM 0        \n",
       "25      1503960366 4/12/2016 12:24:00 AM 0        \n",
       "26      1503960366 4/12/2016 12:25:00 AM 1        \n",
       "27      1503960366 4/12/2016 12:26:00 AM 0        \n",
       "28      1503960366 4/12/2016 12:27:00 AM 0        \n",
       "29      1503960366 4/12/2016 12:28:00 AM 0        \n",
       "30      1503960366 4/12/2016 12:29:00 AM 1        \n",
       "⋮       ⋮          ⋮                     ⋮        \n",
       "1325551 8877689391 5/12/2016 1:30:00 PM  0        \n",
       "1325552 8877689391 5/12/2016 1:31:00 PM  0        \n",
       "1325553 8877689391 5/12/2016 1:32:00 PM  0        \n",
       "1325554 8877689391 5/12/2016 1:33:00 PM  0        \n",
       "1325555 8877689391 5/12/2016 1:34:00 PM  1        \n",
       "1325556 8877689391 5/12/2016 1:35:00 PM  1        \n",
       "1325557 8877689391 5/12/2016 1:36:00 PM  1        \n",
       "1325558 8877689391 5/12/2016 1:37:00 PM  1        \n",
       "1325559 8877689391 5/12/2016 1:38:00 PM  1        \n",
       "1325560 8877689391 5/12/2016 1:39:00 PM  0        \n",
       "1325561 8877689391 5/12/2016 1:40:00 PM  0        \n",
       "1325562 8877689391 5/12/2016 1:41:00 PM  0        \n",
       "1325563 8877689391 5/12/2016 1:42:00 PM  0        \n",
       "1325564 8877689391 5/12/2016 1:43:00 PM  0        \n",
       "1325565 8877689391 5/12/2016 1:44:00 PM  1        \n",
       "1325566 8877689391 5/12/2016 1:45:00 PM  0        \n",
       "1325567 8877689391 5/12/2016 1:46:00 PM  0        \n",
       "1325568 8877689391 5/12/2016 1:47:00 PM  0        \n",
       "1325569 8877689391 5/12/2016 1:48:00 PM  0        \n",
       "1325570 8877689391 5/12/2016 1:49:00 PM  0        \n",
       "1325571 8877689391 5/12/2016 1:50:00 PM  0        \n",
       "1325572 8877689391 5/12/2016 1:51:00 PM  0        \n",
       "1325573 8877689391 5/12/2016 1:52:00 PM  0        \n",
       "1325574 8877689391 5/12/2016 1:53:00 PM  0        \n",
       "1325575 8877689391 5/12/2016 1:54:00 PM  0        \n",
       "1325576 8877689391 5/12/2016 1:55:00 PM  0        \n",
       "1325577 8877689391 5/12/2016 1:56:00 PM  0        \n",
       "1325578 8877689391 5/12/2016 1:57:00 PM  0        \n",
       "1325579 8877689391 5/12/2016 1:58:00 PM  0        \n",
       "1325580 8877689391 5/12/2016 1:59:00 PM  0        "
      ]
     },
     "metadata": {},
     "output_type": "display_data"
    }
   ],
   "source": [
    "clean_names(daily_activity)\n",
    "clean_names(sleep_day_df)\n",
    "clean_names(min_calories_narrow)\n",
    "clean_names(min_intensities_narrow)"
   ]
  },
  {
   "cell_type": "code",
   "execution_count": 157,
   "id": "79e49fbb-7b3d-4401-906e-45f48769f995",
   "metadata": {
    "collapsed": true,
    "jupyter": {
     "outputs_hidden": true
    },
    "tags": []
   },
   "outputs": [
    {
     "data": {
      "text/html": [
       "<table class=\"dataframe\">\n",
       "<caption>A spec_tbl_df: 22099 × 4</caption>\n",
       "<thead>\n",
       "\t<tr><th scope=col>id</th><th scope=col>activity_hour</th><th scope=col>total_intensity</th><th scope=col>average_intensity</th></tr>\n",
       "\t<tr><th scope=col>&lt;dbl&gt;</th><th scope=col>&lt;chr&gt;</th><th scope=col>&lt;dbl&gt;</th><th scope=col>&lt;dbl&gt;</th></tr>\n",
       "</thead>\n",
       "<tbody>\n",
       "\t<tr><td>1503960366</td><td>4/12/2016 12:00:00 AM</td><td>20</td><td>0.333333</td></tr>\n",
       "\t<tr><td>1503960366</td><td>4/12/2016 1:00:00 AM </td><td> 8</td><td>0.133333</td></tr>\n",
       "\t<tr><td>1503960366</td><td>4/12/2016 2:00:00 AM </td><td> 7</td><td>0.116667</td></tr>\n",
       "\t<tr><td>1503960366</td><td>4/12/2016 3:00:00 AM </td><td> 0</td><td>0.000000</td></tr>\n",
       "\t<tr><td>1503960366</td><td>4/12/2016 4:00:00 AM </td><td> 0</td><td>0.000000</td></tr>\n",
       "\t<tr><td>1503960366</td><td>4/12/2016 5:00:00 AM </td><td> 0</td><td>0.000000</td></tr>\n",
       "\t<tr><td>1503960366</td><td>4/12/2016 6:00:00 AM </td><td> 0</td><td>0.000000</td></tr>\n",
       "\t<tr><td>1503960366</td><td>4/12/2016 7:00:00 AM </td><td> 0</td><td>0.000000</td></tr>\n",
       "\t<tr><td>1503960366</td><td>4/12/2016 8:00:00 AM </td><td>13</td><td>0.216667</td></tr>\n",
       "\t<tr><td>1503960366</td><td>4/12/2016 9:00:00 AM </td><td>30</td><td>0.500000</td></tr>\n",
       "\t<tr><td>1503960366</td><td>4/12/2016 10:00:00 AM</td><td>29</td><td>0.483333</td></tr>\n",
       "\t<tr><td>1503960366</td><td>4/12/2016 11:00:00 AM</td><td>12</td><td>0.200000</td></tr>\n",
       "\t<tr><td>1503960366</td><td>4/12/2016 12:00:00 PM</td><td>11</td><td>0.183333</td></tr>\n",
       "\t<tr><td>1503960366</td><td>4/12/2016 1:00:00 PM </td><td> 6</td><td>0.100000</td></tr>\n",
       "\t<tr><td>1503960366</td><td>4/12/2016 2:00:00 PM </td><td>36</td><td>0.600000</td></tr>\n",
       "\t<tr><td>1503960366</td><td>4/12/2016 3:00:00 PM </td><td>58</td><td>0.966667</td></tr>\n",
       "\t<tr><td>1503960366</td><td>4/12/2016 4:00:00 PM </td><td>13</td><td>0.216667</td></tr>\n",
       "\t<tr><td>1503960366</td><td>4/12/2016 5:00:00 PM </td><td>16</td><td>0.266667</td></tr>\n",
       "\t<tr><td>1503960366</td><td>4/12/2016 6:00:00 PM </td><td>29</td><td>0.483333</td></tr>\n",
       "\t<tr><td>1503960366</td><td>4/12/2016 7:00:00 PM </td><td>39</td><td>0.650000</td></tr>\n",
       "\t<tr><td>1503960366</td><td>4/12/2016 8:00:00 PM </td><td>41</td><td>0.683333</td></tr>\n",
       "\t<tr><td>1503960366</td><td>4/12/2016 9:00:00 PM </td><td>31</td><td>0.516667</td></tr>\n",
       "\t<tr><td>1503960366</td><td>4/12/2016 10:00:00 PM</td><td> 9</td><td>0.150000</td></tr>\n",
       "\t<tr><td>1503960366</td><td>4/12/2016 11:00:00 PM</td><td>21</td><td>0.350000</td></tr>\n",
       "\t<tr><td>1503960366</td><td>4/13/2016 12:00:00 AM</td><td>14</td><td>0.233333</td></tr>\n",
       "\t<tr><td>1503960366</td><td>4/13/2016 1:00:00 AM </td><td> 0</td><td>0.000000</td></tr>\n",
       "\t<tr><td>1503960366</td><td>4/13/2016 2:00:00 AM </td><td> 0</td><td>0.000000</td></tr>\n",
       "\t<tr><td>1503960366</td><td>4/13/2016 3:00:00 AM </td><td> 4</td><td>0.066667</td></tr>\n",
       "\t<tr><td>1503960366</td><td>4/13/2016 4:00:00 AM </td><td> 0</td><td>0.000000</td></tr>\n",
       "\t<tr><td>1503960366</td><td>4/13/2016 5:00:00 AM </td><td> 0</td><td>0.000000</td></tr>\n",
       "\t<tr><td>⋮</td><td>⋮</td><td>⋮</td><td>⋮</td></tr>\n",
       "\t<tr><td>8877689391</td><td>5/11/2016 9:00:00 AM </td><td> 11</td><td>0.183333</td></tr>\n",
       "\t<tr><td>8877689391</td><td>5/11/2016 10:00:00 AM</td><td> 11</td><td>0.183333</td></tr>\n",
       "\t<tr><td>8877689391</td><td>5/11/2016 11:00:00 AM</td><td> 23</td><td>0.383333</td></tr>\n",
       "\t<tr><td>8877689391</td><td>5/11/2016 12:00:00 PM</td><td> 96</td><td>1.600000</td></tr>\n",
       "\t<tr><td>8877689391</td><td>5/11/2016 1:00:00 PM </td><td> 12</td><td>0.200000</td></tr>\n",
       "\t<tr><td>8877689391</td><td>5/11/2016 2:00:00 PM </td><td>  3</td><td>0.050000</td></tr>\n",
       "\t<tr><td>8877689391</td><td>5/11/2016 3:00:00 PM </td><td>  8</td><td>0.133333</td></tr>\n",
       "\t<tr><td>8877689391</td><td>5/11/2016 4:00:00 PM </td><td> 58</td><td>0.966667</td></tr>\n",
       "\t<tr><td>8877689391</td><td>5/11/2016 5:00:00 PM </td><td>163</td><td>2.716667</td></tr>\n",
       "\t<tr><td>8877689391</td><td>5/11/2016 6:00:00 PM </td><td> 29</td><td>0.483333</td></tr>\n",
       "\t<tr><td>8877689391</td><td>5/11/2016 7:00:00 PM </td><td> 15</td><td>0.250000</td></tr>\n",
       "\t<tr><td>8877689391</td><td>5/11/2016 8:00:00 PM </td><td> 26</td><td>0.433333</td></tr>\n",
       "\t<tr><td>8877689391</td><td>5/11/2016 9:00:00 PM </td><td> 13</td><td>0.216667</td></tr>\n",
       "\t<tr><td>8877689391</td><td>5/11/2016 10:00:00 PM</td><td>  4</td><td>0.066667</td></tr>\n",
       "\t<tr><td>8877689391</td><td>5/11/2016 11:00:00 PM</td><td>  0</td><td>0.000000</td></tr>\n",
       "\t<tr><td>8877689391</td><td>5/12/2016 12:00:00 AM</td><td>  0</td><td>0.000000</td></tr>\n",
       "\t<tr><td>8877689391</td><td>5/12/2016 1:00:00 AM </td><td>  0</td><td>0.000000</td></tr>\n",
       "\t<tr><td>8877689391</td><td>5/12/2016 2:00:00 AM </td><td>  0</td><td>0.000000</td></tr>\n",
       "\t<tr><td>8877689391</td><td>5/12/2016 3:00:00 AM </td><td>  0</td><td>0.000000</td></tr>\n",
       "\t<tr><td>8877689391</td><td>5/12/2016 4:00:00 AM </td><td>  0</td><td>0.000000</td></tr>\n",
       "\t<tr><td>8877689391</td><td>5/12/2016 5:00:00 AM </td><td>  0</td><td>0.000000</td></tr>\n",
       "\t<tr><td>8877689391</td><td>5/12/2016 6:00:00 AM </td><td>  9</td><td>0.150000</td></tr>\n",
       "\t<tr><td>8877689391</td><td>5/12/2016 7:00:00 AM </td><td> 19</td><td>0.316667</td></tr>\n",
       "\t<tr><td>8877689391</td><td>5/12/2016 8:00:00 AM </td><td> 16</td><td>0.266667</td></tr>\n",
       "\t<tr><td>8877689391</td><td>5/12/2016 9:00:00 AM </td><td>  4</td><td>0.066667</td></tr>\n",
       "\t<tr><td>8877689391</td><td>5/12/2016 10:00:00 AM</td><td> 12</td><td>0.200000</td></tr>\n",
       "\t<tr><td>8877689391</td><td>5/12/2016 11:00:00 AM</td><td> 29</td><td>0.483333</td></tr>\n",
       "\t<tr><td>8877689391</td><td>5/12/2016 12:00:00 PM</td><td> 93</td><td>1.550000</td></tr>\n",
       "\t<tr><td>8877689391</td><td>5/12/2016 1:00:00 PM </td><td>  6</td><td>0.100000</td></tr>\n",
       "\t<tr><td>8877689391</td><td>5/12/2016 2:00:00 PM </td><td>  9</td><td>0.150000</td></tr>\n",
       "</tbody>\n",
       "</table>\n"
      ],
      "text/latex": [
       "A spec\\_tbl\\_df: 22099 × 4\n",
       "\\begin{tabular}{llll}\n",
       " id & activity\\_hour & total\\_intensity & average\\_intensity\\\\\n",
       " <dbl> & <chr> & <dbl> & <dbl>\\\\\n",
       "\\hline\n",
       "\t 1503960366 & 4/12/2016 12:00:00 AM & 20 & 0.333333\\\\\n",
       "\t 1503960366 & 4/12/2016 1:00:00 AM  &  8 & 0.133333\\\\\n",
       "\t 1503960366 & 4/12/2016 2:00:00 AM  &  7 & 0.116667\\\\\n",
       "\t 1503960366 & 4/12/2016 3:00:00 AM  &  0 & 0.000000\\\\\n",
       "\t 1503960366 & 4/12/2016 4:00:00 AM  &  0 & 0.000000\\\\\n",
       "\t 1503960366 & 4/12/2016 5:00:00 AM  &  0 & 0.000000\\\\\n",
       "\t 1503960366 & 4/12/2016 6:00:00 AM  &  0 & 0.000000\\\\\n",
       "\t 1503960366 & 4/12/2016 7:00:00 AM  &  0 & 0.000000\\\\\n",
       "\t 1503960366 & 4/12/2016 8:00:00 AM  & 13 & 0.216667\\\\\n",
       "\t 1503960366 & 4/12/2016 9:00:00 AM  & 30 & 0.500000\\\\\n",
       "\t 1503960366 & 4/12/2016 10:00:00 AM & 29 & 0.483333\\\\\n",
       "\t 1503960366 & 4/12/2016 11:00:00 AM & 12 & 0.200000\\\\\n",
       "\t 1503960366 & 4/12/2016 12:00:00 PM & 11 & 0.183333\\\\\n",
       "\t 1503960366 & 4/12/2016 1:00:00 PM  &  6 & 0.100000\\\\\n",
       "\t 1503960366 & 4/12/2016 2:00:00 PM  & 36 & 0.600000\\\\\n",
       "\t 1503960366 & 4/12/2016 3:00:00 PM  & 58 & 0.966667\\\\\n",
       "\t 1503960366 & 4/12/2016 4:00:00 PM  & 13 & 0.216667\\\\\n",
       "\t 1503960366 & 4/12/2016 5:00:00 PM  & 16 & 0.266667\\\\\n",
       "\t 1503960366 & 4/12/2016 6:00:00 PM  & 29 & 0.483333\\\\\n",
       "\t 1503960366 & 4/12/2016 7:00:00 PM  & 39 & 0.650000\\\\\n",
       "\t 1503960366 & 4/12/2016 8:00:00 PM  & 41 & 0.683333\\\\\n",
       "\t 1503960366 & 4/12/2016 9:00:00 PM  & 31 & 0.516667\\\\\n",
       "\t 1503960366 & 4/12/2016 10:00:00 PM &  9 & 0.150000\\\\\n",
       "\t 1503960366 & 4/12/2016 11:00:00 PM & 21 & 0.350000\\\\\n",
       "\t 1503960366 & 4/13/2016 12:00:00 AM & 14 & 0.233333\\\\\n",
       "\t 1503960366 & 4/13/2016 1:00:00 AM  &  0 & 0.000000\\\\\n",
       "\t 1503960366 & 4/13/2016 2:00:00 AM  &  0 & 0.000000\\\\\n",
       "\t 1503960366 & 4/13/2016 3:00:00 AM  &  4 & 0.066667\\\\\n",
       "\t 1503960366 & 4/13/2016 4:00:00 AM  &  0 & 0.000000\\\\\n",
       "\t 1503960366 & 4/13/2016 5:00:00 AM  &  0 & 0.000000\\\\\n",
       "\t ⋮ & ⋮ & ⋮ & ⋮\\\\\n",
       "\t 8877689391 & 5/11/2016 9:00:00 AM  &  11 & 0.183333\\\\\n",
       "\t 8877689391 & 5/11/2016 10:00:00 AM &  11 & 0.183333\\\\\n",
       "\t 8877689391 & 5/11/2016 11:00:00 AM &  23 & 0.383333\\\\\n",
       "\t 8877689391 & 5/11/2016 12:00:00 PM &  96 & 1.600000\\\\\n",
       "\t 8877689391 & 5/11/2016 1:00:00 PM  &  12 & 0.200000\\\\\n",
       "\t 8877689391 & 5/11/2016 2:00:00 PM  &   3 & 0.050000\\\\\n",
       "\t 8877689391 & 5/11/2016 3:00:00 PM  &   8 & 0.133333\\\\\n",
       "\t 8877689391 & 5/11/2016 4:00:00 PM  &  58 & 0.966667\\\\\n",
       "\t 8877689391 & 5/11/2016 5:00:00 PM  & 163 & 2.716667\\\\\n",
       "\t 8877689391 & 5/11/2016 6:00:00 PM  &  29 & 0.483333\\\\\n",
       "\t 8877689391 & 5/11/2016 7:00:00 PM  &  15 & 0.250000\\\\\n",
       "\t 8877689391 & 5/11/2016 8:00:00 PM  &  26 & 0.433333\\\\\n",
       "\t 8877689391 & 5/11/2016 9:00:00 PM  &  13 & 0.216667\\\\\n",
       "\t 8877689391 & 5/11/2016 10:00:00 PM &   4 & 0.066667\\\\\n",
       "\t 8877689391 & 5/11/2016 11:00:00 PM &   0 & 0.000000\\\\\n",
       "\t 8877689391 & 5/12/2016 12:00:00 AM &   0 & 0.000000\\\\\n",
       "\t 8877689391 & 5/12/2016 1:00:00 AM  &   0 & 0.000000\\\\\n",
       "\t 8877689391 & 5/12/2016 2:00:00 AM  &   0 & 0.000000\\\\\n",
       "\t 8877689391 & 5/12/2016 3:00:00 AM  &   0 & 0.000000\\\\\n",
       "\t 8877689391 & 5/12/2016 4:00:00 AM  &   0 & 0.000000\\\\\n",
       "\t 8877689391 & 5/12/2016 5:00:00 AM  &   0 & 0.000000\\\\\n",
       "\t 8877689391 & 5/12/2016 6:00:00 AM  &   9 & 0.150000\\\\\n",
       "\t 8877689391 & 5/12/2016 7:00:00 AM  &  19 & 0.316667\\\\\n",
       "\t 8877689391 & 5/12/2016 8:00:00 AM  &  16 & 0.266667\\\\\n",
       "\t 8877689391 & 5/12/2016 9:00:00 AM  &   4 & 0.066667\\\\\n",
       "\t 8877689391 & 5/12/2016 10:00:00 AM &  12 & 0.200000\\\\\n",
       "\t 8877689391 & 5/12/2016 11:00:00 AM &  29 & 0.483333\\\\\n",
       "\t 8877689391 & 5/12/2016 12:00:00 PM &  93 & 1.550000\\\\\n",
       "\t 8877689391 & 5/12/2016 1:00:00 PM  &   6 & 0.100000\\\\\n",
       "\t 8877689391 & 5/12/2016 2:00:00 PM  &   9 & 0.150000\\\\\n",
       "\\end{tabular}\n"
      ],
      "text/markdown": [
       "\n",
       "A spec_tbl_df: 22099 × 4\n",
       "\n",
       "| id &lt;dbl&gt; | activity_hour &lt;chr&gt; | total_intensity &lt;dbl&gt; | average_intensity &lt;dbl&gt; |\n",
       "|---|---|---|---|\n",
       "| 1503960366 | 4/12/2016 12:00:00 AM | 20 | 0.333333 |\n",
       "| 1503960366 | 4/12/2016 1:00:00 AM  |  8 | 0.133333 |\n",
       "| 1503960366 | 4/12/2016 2:00:00 AM  |  7 | 0.116667 |\n",
       "| 1503960366 | 4/12/2016 3:00:00 AM  |  0 | 0.000000 |\n",
       "| 1503960366 | 4/12/2016 4:00:00 AM  |  0 | 0.000000 |\n",
       "| 1503960366 | 4/12/2016 5:00:00 AM  |  0 | 0.000000 |\n",
       "| 1503960366 | 4/12/2016 6:00:00 AM  |  0 | 0.000000 |\n",
       "| 1503960366 | 4/12/2016 7:00:00 AM  |  0 | 0.000000 |\n",
       "| 1503960366 | 4/12/2016 8:00:00 AM  | 13 | 0.216667 |\n",
       "| 1503960366 | 4/12/2016 9:00:00 AM  | 30 | 0.500000 |\n",
       "| 1503960366 | 4/12/2016 10:00:00 AM | 29 | 0.483333 |\n",
       "| 1503960366 | 4/12/2016 11:00:00 AM | 12 | 0.200000 |\n",
       "| 1503960366 | 4/12/2016 12:00:00 PM | 11 | 0.183333 |\n",
       "| 1503960366 | 4/12/2016 1:00:00 PM  |  6 | 0.100000 |\n",
       "| 1503960366 | 4/12/2016 2:00:00 PM  | 36 | 0.600000 |\n",
       "| 1503960366 | 4/12/2016 3:00:00 PM  | 58 | 0.966667 |\n",
       "| 1503960366 | 4/12/2016 4:00:00 PM  | 13 | 0.216667 |\n",
       "| 1503960366 | 4/12/2016 5:00:00 PM  | 16 | 0.266667 |\n",
       "| 1503960366 | 4/12/2016 6:00:00 PM  | 29 | 0.483333 |\n",
       "| 1503960366 | 4/12/2016 7:00:00 PM  | 39 | 0.650000 |\n",
       "| 1503960366 | 4/12/2016 8:00:00 PM  | 41 | 0.683333 |\n",
       "| 1503960366 | 4/12/2016 9:00:00 PM  | 31 | 0.516667 |\n",
       "| 1503960366 | 4/12/2016 10:00:00 PM |  9 | 0.150000 |\n",
       "| 1503960366 | 4/12/2016 11:00:00 PM | 21 | 0.350000 |\n",
       "| 1503960366 | 4/13/2016 12:00:00 AM | 14 | 0.233333 |\n",
       "| 1503960366 | 4/13/2016 1:00:00 AM  |  0 | 0.000000 |\n",
       "| 1503960366 | 4/13/2016 2:00:00 AM  |  0 | 0.000000 |\n",
       "| 1503960366 | 4/13/2016 3:00:00 AM  |  4 | 0.066667 |\n",
       "| 1503960366 | 4/13/2016 4:00:00 AM  |  0 | 0.000000 |\n",
       "| 1503960366 | 4/13/2016 5:00:00 AM  |  0 | 0.000000 |\n",
       "| ⋮ | ⋮ | ⋮ | ⋮ |\n",
       "| 8877689391 | 5/11/2016 9:00:00 AM  |  11 | 0.183333 |\n",
       "| 8877689391 | 5/11/2016 10:00:00 AM |  11 | 0.183333 |\n",
       "| 8877689391 | 5/11/2016 11:00:00 AM |  23 | 0.383333 |\n",
       "| 8877689391 | 5/11/2016 12:00:00 PM |  96 | 1.600000 |\n",
       "| 8877689391 | 5/11/2016 1:00:00 PM  |  12 | 0.200000 |\n",
       "| 8877689391 | 5/11/2016 2:00:00 PM  |   3 | 0.050000 |\n",
       "| 8877689391 | 5/11/2016 3:00:00 PM  |   8 | 0.133333 |\n",
       "| 8877689391 | 5/11/2016 4:00:00 PM  |  58 | 0.966667 |\n",
       "| 8877689391 | 5/11/2016 5:00:00 PM  | 163 | 2.716667 |\n",
       "| 8877689391 | 5/11/2016 6:00:00 PM  |  29 | 0.483333 |\n",
       "| 8877689391 | 5/11/2016 7:00:00 PM  |  15 | 0.250000 |\n",
       "| 8877689391 | 5/11/2016 8:00:00 PM  |  26 | 0.433333 |\n",
       "| 8877689391 | 5/11/2016 9:00:00 PM  |  13 | 0.216667 |\n",
       "| 8877689391 | 5/11/2016 10:00:00 PM |   4 | 0.066667 |\n",
       "| 8877689391 | 5/11/2016 11:00:00 PM |   0 | 0.000000 |\n",
       "| 8877689391 | 5/12/2016 12:00:00 AM |   0 | 0.000000 |\n",
       "| 8877689391 | 5/12/2016 1:00:00 AM  |   0 | 0.000000 |\n",
       "| 8877689391 | 5/12/2016 2:00:00 AM  |   0 | 0.000000 |\n",
       "| 8877689391 | 5/12/2016 3:00:00 AM  |   0 | 0.000000 |\n",
       "| 8877689391 | 5/12/2016 4:00:00 AM  |   0 | 0.000000 |\n",
       "| 8877689391 | 5/12/2016 5:00:00 AM  |   0 | 0.000000 |\n",
       "| 8877689391 | 5/12/2016 6:00:00 AM  |   9 | 0.150000 |\n",
       "| 8877689391 | 5/12/2016 7:00:00 AM  |  19 | 0.316667 |\n",
       "| 8877689391 | 5/12/2016 8:00:00 AM  |  16 | 0.266667 |\n",
       "| 8877689391 | 5/12/2016 9:00:00 AM  |   4 | 0.066667 |\n",
       "| 8877689391 | 5/12/2016 10:00:00 AM |  12 | 0.200000 |\n",
       "| 8877689391 | 5/12/2016 11:00:00 AM |  29 | 0.483333 |\n",
       "| 8877689391 | 5/12/2016 12:00:00 PM |  93 | 1.550000 |\n",
       "| 8877689391 | 5/12/2016 1:00:00 PM  |   6 | 0.100000 |\n",
       "| 8877689391 | 5/12/2016 2:00:00 PM  |   9 | 0.150000 |\n",
       "\n"
      ],
      "text/plain": [
       "      id         activity_hour         total_intensity average_intensity\n",
       "1     1503960366 4/12/2016 12:00:00 AM 20              0.333333         \n",
       "2     1503960366 4/12/2016 1:00:00 AM   8              0.133333         \n",
       "3     1503960366 4/12/2016 2:00:00 AM   7              0.116667         \n",
       "4     1503960366 4/12/2016 3:00:00 AM   0              0.000000         \n",
       "5     1503960366 4/12/2016 4:00:00 AM   0              0.000000         \n",
       "6     1503960366 4/12/2016 5:00:00 AM   0              0.000000         \n",
       "7     1503960366 4/12/2016 6:00:00 AM   0              0.000000         \n",
       "8     1503960366 4/12/2016 7:00:00 AM   0              0.000000         \n",
       "9     1503960366 4/12/2016 8:00:00 AM  13              0.216667         \n",
       "10    1503960366 4/12/2016 9:00:00 AM  30              0.500000         \n",
       "11    1503960366 4/12/2016 10:00:00 AM 29              0.483333         \n",
       "12    1503960366 4/12/2016 11:00:00 AM 12              0.200000         \n",
       "13    1503960366 4/12/2016 12:00:00 PM 11              0.183333         \n",
       "14    1503960366 4/12/2016 1:00:00 PM   6              0.100000         \n",
       "15    1503960366 4/12/2016 2:00:00 PM  36              0.600000         \n",
       "16    1503960366 4/12/2016 3:00:00 PM  58              0.966667         \n",
       "17    1503960366 4/12/2016 4:00:00 PM  13              0.216667         \n",
       "18    1503960366 4/12/2016 5:00:00 PM  16              0.266667         \n",
       "19    1503960366 4/12/2016 6:00:00 PM  29              0.483333         \n",
       "20    1503960366 4/12/2016 7:00:00 PM  39              0.650000         \n",
       "21    1503960366 4/12/2016 8:00:00 PM  41              0.683333         \n",
       "22    1503960366 4/12/2016 9:00:00 PM  31              0.516667         \n",
       "23    1503960366 4/12/2016 10:00:00 PM  9              0.150000         \n",
       "24    1503960366 4/12/2016 11:00:00 PM 21              0.350000         \n",
       "25    1503960366 4/13/2016 12:00:00 AM 14              0.233333         \n",
       "26    1503960366 4/13/2016 1:00:00 AM   0              0.000000         \n",
       "27    1503960366 4/13/2016 2:00:00 AM   0              0.000000         \n",
       "28    1503960366 4/13/2016 3:00:00 AM   4              0.066667         \n",
       "29    1503960366 4/13/2016 4:00:00 AM   0              0.000000         \n",
       "30    1503960366 4/13/2016 5:00:00 AM   0              0.000000         \n",
       "⋮     ⋮          ⋮                     ⋮               ⋮                \n",
       "22070 8877689391 5/11/2016 9:00:00 AM   11             0.183333         \n",
       "22071 8877689391 5/11/2016 10:00:00 AM  11             0.183333         \n",
       "22072 8877689391 5/11/2016 11:00:00 AM  23             0.383333         \n",
       "22073 8877689391 5/11/2016 12:00:00 PM  96             1.600000         \n",
       "22074 8877689391 5/11/2016 1:00:00 PM   12             0.200000         \n",
       "22075 8877689391 5/11/2016 2:00:00 PM    3             0.050000         \n",
       "22076 8877689391 5/11/2016 3:00:00 PM    8             0.133333         \n",
       "22077 8877689391 5/11/2016 4:00:00 PM   58             0.966667         \n",
       "22078 8877689391 5/11/2016 5:00:00 PM  163             2.716667         \n",
       "22079 8877689391 5/11/2016 6:00:00 PM   29             0.483333         \n",
       "22080 8877689391 5/11/2016 7:00:00 PM   15             0.250000         \n",
       "22081 8877689391 5/11/2016 8:00:00 PM   26             0.433333         \n",
       "22082 8877689391 5/11/2016 9:00:00 PM   13             0.216667         \n",
       "22083 8877689391 5/11/2016 10:00:00 PM   4             0.066667         \n",
       "22084 8877689391 5/11/2016 11:00:00 PM   0             0.000000         \n",
       "22085 8877689391 5/12/2016 12:00:00 AM   0             0.000000         \n",
       "22086 8877689391 5/12/2016 1:00:00 AM    0             0.000000         \n",
       "22087 8877689391 5/12/2016 2:00:00 AM    0             0.000000         \n",
       "22088 8877689391 5/12/2016 3:00:00 AM    0             0.000000         \n",
       "22089 8877689391 5/12/2016 4:00:00 AM    0             0.000000         \n",
       "22090 8877689391 5/12/2016 5:00:00 AM    0             0.000000         \n",
       "22091 8877689391 5/12/2016 6:00:00 AM    9             0.150000         \n",
       "22092 8877689391 5/12/2016 7:00:00 AM   19             0.316667         \n",
       "22093 8877689391 5/12/2016 8:00:00 AM   16             0.266667         \n",
       "22094 8877689391 5/12/2016 9:00:00 AM    4             0.066667         \n",
       "22095 8877689391 5/12/2016 10:00:00 AM  12             0.200000         \n",
       "22096 8877689391 5/12/2016 11:00:00 AM  29             0.483333         \n",
       "22097 8877689391 5/12/2016 12:00:00 PM  93             1.550000         \n",
       "22098 8877689391 5/12/2016 1:00:00 PM    6             0.100000         \n",
       "22099 8877689391 5/12/2016 2:00:00 PM    9             0.150000         "
      ]
     },
     "metadata": {},
     "output_type": "display_data"
    }
   ],
   "source": [
    "clean_names(hourly_intensities)"
   ]
  },
  {
   "cell_type": "code",
   "execution_count": 190,
   "id": "4bb44bdd-d7a5-40a4-86c1-3437ce01cace",
   "metadata": {
    "collapsed": true,
    "jupyter": {
     "outputs_hidden": true
    },
    "tags": []
   },
   "outputs": [
    {
     "data": {
      "text/html": [
       "<table class=\"dataframe\">\n",
       "<caption>A spec_tbl_df: 22099 × 3</caption>\n",
       "<thead>\n",
       "\t<tr><th scope=col>id</th><th scope=col>activity_hour</th><th scope=col>calories</th></tr>\n",
       "\t<tr><th scope=col>&lt;dbl&gt;</th><th scope=col>&lt;chr&gt;</th><th scope=col>&lt;dbl&gt;</th></tr>\n",
       "</thead>\n",
       "<tbody>\n",
       "\t<tr><td>1503960366</td><td>4/12/2016 12:00:00 AM</td><td> 81</td></tr>\n",
       "\t<tr><td>1503960366</td><td>4/12/2016 1:00:00 AM </td><td> 61</td></tr>\n",
       "\t<tr><td>1503960366</td><td>4/12/2016 2:00:00 AM </td><td> 59</td></tr>\n",
       "\t<tr><td>1503960366</td><td>4/12/2016 3:00:00 AM </td><td> 47</td></tr>\n",
       "\t<tr><td>1503960366</td><td>4/12/2016 4:00:00 AM </td><td> 48</td></tr>\n",
       "\t<tr><td>1503960366</td><td>4/12/2016 5:00:00 AM </td><td> 48</td></tr>\n",
       "\t<tr><td>1503960366</td><td>4/12/2016 6:00:00 AM </td><td> 48</td></tr>\n",
       "\t<tr><td>1503960366</td><td>4/12/2016 7:00:00 AM </td><td> 47</td></tr>\n",
       "\t<tr><td>1503960366</td><td>4/12/2016 8:00:00 AM </td><td> 68</td></tr>\n",
       "\t<tr><td>1503960366</td><td>4/12/2016 9:00:00 AM </td><td>141</td></tr>\n",
       "\t<tr><td>1503960366</td><td>4/12/2016 10:00:00 AM</td><td> 99</td></tr>\n",
       "\t<tr><td>1503960366</td><td>4/12/2016 11:00:00 AM</td><td> 76</td></tr>\n",
       "\t<tr><td>1503960366</td><td>4/12/2016 12:00:00 PM</td><td> 73</td></tr>\n",
       "\t<tr><td>1503960366</td><td>4/12/2016 1:00:00 PM </td><td> 66</td></tr>\n",
       "\t<tr><td>1503960366</td><td>4/12/2016 2:00:00 PM </td><td>110</td></tr>\n",
       "\t<tr><td>1503960366</td><td>4/12/2016 3:00:00 PM </td><td>151</td></tr>\n",
       "\t<tr><td>1503960366</td><td>4/12/2016 4:00:00 PM </td><td> 76</td></tr>\n",
       "\t<tr><td>1503960366</td><td>4/12/2016 5:00:00 PM </td><td> 83</td></tr>\n",
       "\t<tr><td>1503960366</td><td>4/12/2016 6:00:00 PM </td><td>124</td></tr>\n",
       "\t<tr><td>1503960366</td><td>4/12/2016 7:00:00 PM </td><td>104</td></tr>\n",
       "\t<tr><td>1503960366</td><td>4/12/2016 8:00:00 PM </td><td>132</td></tr>\n",
       "\t<tr><td>1503960366</td><td>4/12/2016 9:00:00 PM </td><td>100</td></tr>\n",
       "\t<tr><td>1503960366</td><td>4/12/2016 10:00:00 PM</td><td> 65</td></tr>\n",
       "\t<tr><td>1503960366</td><td>4/12/2016 11:00:00 PM</td><td> 81</td></tr>\n",
       "\t<tr><td>1503960366</td><td>4/13/2016 12:00:00 AM</td><td> 69</td></tr>\n",
       "\t<tr><td>1503960366</td><td>4/13/2016 1:00:00 AM </td><td> 48</td></tr>\n",
       "\t<tr><td>1503960366</td><td>4/13/2016 2:00:00 AM </td><td> 47</td></tr>\n",
       "\t<tr><td>1503960366</td><td>4/13/2016 3:00:00 AM </td><td> 53</td></tr>\n",
       "\t<tr><td>1503960366</td><td>4/13/2016 4:00:00 AM </td><td> 47</td></tr>\n",
       "\t<tr><td>1503960366</td><td>4/13/2016 5:00:00 AM </td><td> 47</td></tr>\n",
       "\t<tr><td>⋮</td><td>⋮</td><td>⋮</td></tr>\n",
       "\t<tr><td>8877689391</td><td>5/11/2016 9:00:00 AM </td><td>113</td></tr>\n",
       "\t<tr><td>8877689391</td><td>5/11/2016 10:00:00 AM</td><td>107</td></tr>\n",
       "\t<tr><td>8877689391</td><td>5/11/2016 11:00:00 AM</td><td>168</td></tr>\n",
       "\t<tr><td>8877689391</td><td>5/11/2016 12:00:00 PM</td><td>402</td></tr>\n",
       "\t<tr><td>8877689391</td><td>5/11/2016 1:00:00 PM </td><td>120</td></tr>\n",
       "\t<tr><td>8877689391</td><td>5/11/2016 2:00:00 PM </td><td> 82</td></tr>\n",
       "\t<tr><td>8877689391</td><td>5/11/2016 3:00:00 PM </td><td>108</td></tr>\n",
       "\t<tr><td>8877689391</td><td>5/11/2016 4:00:00 PM </td><td>310</td></tr>\n",
       "\t<tr><td>8877689391</td><td>5/11/2016 5:00:00 PM </td><td>835</td></tr>\n",
       "\t<tr><td>8877689391</td><td>5/11/2016 6:00:00 PM </td><td>197</td></tr>\n",
       "\t<tr><td>8877689391</td><td>5/11/2016 7:00:00 PM </td><td>144</td></tr>\n",
       "\t<tr><td>8877689391</td><td>5/11/2016 8:00:00 PM </td><td>174</td></tr>\n",
       "\t<tr><td>8877689391</td><td>5/11/2016 9:00:00 PM </td><td>123</td></tr>\n",
       "\t<tr><td>8877689391</td><td>5/11/2016 10:00:00 PM</td><td> 93</td></tr>\n",
       "\t<tr><td>8877689391</td><td>5/11/2016 11:00:00 PM</td><td> 73</td></tr>\n",
       "\t<tr><td>8877689391</td><td>5/12/2016 12:00:00 AM</td><td> 73</td></tr>\n",
       "\t<tr><td>8877689391</td><td>5/12/2016 1:00:00 AM </td><td> 73</td></tr>\n",
       "\t<tr><td>8877689391</td><td>5/12/2016 2:00:00 AM </td><td> 73</td></tr>\n",
       "\t<tr><td>8877689391</td><td>5/12/2016 3:00:00 AM </td><td> 73</td></tr>\n",
       "\t<tr><td>8877689391</td><td>5/12/2016 4:00:00 AM </td><td> 73</td></tr>\n",
       "\t<tr><td>8877689391</td><td>5/12/2016 5:00:00 AM </td><td> 73</td></tr>\n",
       "\t<tr><td>8877689391</td><td>5/12/2016 6:00:00 AM </td><td>107</td></tr>\n",
       "\t<tr><td>8877689391</td><td>5/12/2016 7:00:00 AM </td><td>148</td></tr>\n",
       "\t<tr><td>8877689391</td><td>5/12/2016 8:00:00 AM </td><td>137</td></tr>\n",
       "\t<tr><td>8877689391</td><td>5/12/2016 9:00:00 AM </td><td> 88</td></tr>\n",
       "\t<tr><td>8877689391</td><td>5/12/2016 10:00:00 AM</td><td>126</td></tr>\n",
       "\t<tr><td>8877689391</td><td>5/12/2016 11:00:00 AM</td><td>192</td></tr>\n",
       "\t<tr><td>8877689391</td><td>5/12/2016 12:00:00 PM</td><td>321</td></tr>\n",
       "\t<tr><td>8877689391</td><td>5/12/2016 1:00:00 PM </td><td>101</td></tr>\n",
       "\t<tr><td>8877689391</td><td>5/12/2016 2:00:00 PM </td><td>113</td></tr>\n",
       "</tbody>\n",
       "</table>\n"
      ],
      "text/latex": [
       "A spec\\_tbl\\_df: 22099 × 3\n",
       "\\begin{tabular}{lll}\n",
       " id & activity\\_hour & calories\\\\\n",
       " <dbl> & <chr> & <dbl>\\\\\n",
       "\\hline\n",
       "\t 1503960366 & 4/12/2016 12:00:00 AM &  81\\\\\n",
       "\t 1503960366 & 4/12/2016 1:00:00 AM  &  61\\\\\n",
       "\t 1503960366 & 4/12/2016 2:00:00 AM  &  59\\\\\n",
       "\t 1503960366 & 4/12/2016 3:00:00 AM  &  47\\\\\n",
       "\t 1503960366 & 4/12/2016 4:00:00 AM  &  48\\\\\n",
       "\t 1503960366 & 4/12/2016 5:00:00 AM  &  48\\\\\n",
       "\t 1503960366 & 4/12/2016 6:00:00 AM  &  48\\\\\n",
       "\t 1503960366 & 4/12/2016 7:00:00 AM  &  47\\\\\n",
       "\t 1503960366 & 4/12/2016 8:00:00 AM  &  68\\\\\n",
       "\t 1503960366 & 4/12/2016 9:00:00 AM  & 141\\\\\n",
       "\t 1503960366 & 4/12/2016 10:00:00 AM &  99\\\\\n",
       "\t 1503960366 & 4/12/2016 11:00:00 AM &  76\\\\\n",
       "\t 1503960366 & 4/12/2016 12:00:00 PM &  73\\\\\n",
       "\t 1503960366 & 4/12/2016 1:00:00 PM  &  66\\\\\n",
       "\t 1503960366 & 4/12/2016 2:00:00 PM  & 110\\\\\n",
       "\t 1503960366 & 4/12/2016 3:00:00 PM  & 151\\\\\n",
       "\t 1503960366 & 4/12/2016 4:00:00 PM  &  76\\\\\n",
       "\t 1503960366 & 4/12/2016 5:00:00 PM  &  83\\\\\n",
       "\t 1503960366 & 4/12/2016 6:00:00 PM  & 124\\\\\n",
       "\t 1503960366 & 4/12/2016 7:00:00 PM  & 104\\\\\n",
       "\t 1503960366 & 4/12/2016 8:00:00 PM  & 132\\\\\n",
       "\t 1503960366 & 4/12/2016 9:00:00 PM  & 100\\\\\n",
       "\t 1503960366 & 4/12/2016 10:00:00 PM &  65\\\\\n",
       "\t 1503960366 & 4/12/2016 11:00:00 PM &  81\\\\\n",
       "\t 1503960366 & 4/13/2016 12:00:00 AM &  69\\\\\n",
       "\t 1503960366 & 4/13/2016 1:00:00 AM  &  48\\\\\n",
       "\t 1503960366 & 4/13/2016 2:00:00 AM  &  47\\\\\n",
       "\t 1503960366 & 4/13/2016 3:00:00 AM  &  53\\\\\n",
       "\t 1503960366 & 4/13/2016 4:00:00 AM  &  47\\\\\n",
       "\t 1503960366 & 4/13/2016 5:00:00 AM  &  47\\\\\n",
       "\t ⋮ & ⋮ & ⋮\\\\\n",
       "\t 8877689391 & 5/11/2016 9:00:00 AM  & 113\\\\\n",
       "\t 8877689391 & 5/11/2016 10:00:00 AM & 107\\\\\n",
       "\t 8877689391 & 5/11/2016 11:00:00 AM & 168\\\\\n",
       "\t 8877689391 & 5/11/2016 12:00:00 PM & 402\\\\\n",
       "\t 8877689391 & 5/11/2016 1:00:00 PM  & 120\\\\\n",
       "\t 8877689391 & 5/11/2016 2:00:00 PM  &  82\\\\\n",
       "\t 8877689391 & 5/11/2016 3:00:00 PM  & 108\\\\\n",
       "\t 8877689391 & 5/11/2016 4:00:00 PM  & 310\\\\\n",
       "\t 8877689391 & 5/11/2016 5:00:00 PM  & 835\\\\\n",
       "\t 8877689391 & 5/11/2016 6:00:00 PM  & 197\\\\\n",
       "\t 8877689391 & 5/11/2016 7:00:00 PM  & 144\\\\\n",
       "\t 8877689391 & 5/11/2016 8:00:00 PM  & 174\\\\\n",
       "\t 8877689391 & 5/11/2016 9:00:00 PM  & 123\\\\\n",
       "\t 8877689391 & 5/11/2016 10:00:00 PM &  93\\\\\n",
       "\t 8877689391 & 5/11/2016 11:00:00 PM &  73\\\\\n",
       "\t 8877689391 & 5/12/2016 12:00:00 AM &  73\\\\\n",
       "\t 8877689391 & 5/12/2016 1:00:00 AM  &  73\\\\\n",
       "\t 8877689391 & 5/12/2016 2:00:00 AM  &  73\\\\\n",
       "\t 8877689391 & 5/12/2016 3:00:00 AM  &  73\\\\\n",
       "\t 8877689391 & 5/12/2016 4:00:00 AM  &  73\\\\\n",
       "\t 8877689391 & 5/12/2016 5:00:00 AM  &  73\\\\\n",
       "\t 8877689391 & 5/12/2016 6:00:00 AM  & 107\\\\\n",
       "\t 8877689391 & 5/12/2016 7:00:00 AM  & 148\\\\\n",
       "\t 8877689391 & 5/12/2016 8:00:00 AM  & 137\\\\\n",
       "\t 8877689391 & 5/12/2016 9:00:00 AM  &  88\\\\\n",
       "\t 8877689391 & 5/12/2016 10:00:00 AM & 126\\\\\n",
       "\t 8877689391 & 5/12/2016 11:00:00 AM & 192\\\\\n",
       "\t 8877689391 & 5/12/2016 12:00:00 PM & 321\\\\\n",
       "\t 8877689391 & 5/12/2016 1:00:00 PM  & 101\\\\\n",
       "\t 8877689391 & 5/12/2016 2:00:00 PM  & 113\\\\\n",
       "\\end{tabular}\n"
      ],
      "text/markdown": [
       "\n",
       "A spec_tbl_df: 22099 × 3\n",
       "\n",
       "| id &lt;dbl&gt; | activity_hour &lt;chr&gt; | calories &lt;dbl&gt; |\n",
       "|---|---|---|\n",
       "| 1503960366 | 4/12/2016 12:00:00 AM |  81 |\n",
       "| 1503960366 | 4/12/2016 1:00:00 AM  |  61 |\n",
       "| 1503960366 | 4/12/2016 2:00:00 AM  |  59 |\n",
       "| 1503960366 | 4/12/2016 3:00:00 AM  |  47 |\n",
       "| 1503960366 | 4/12/2016 4:00:00 AM  |  48 |\n",
       "| 1503960366 | 4/12/2016 5:00:00 AM  |  48 |\n",
       "| 1503960366 | 4/12/2016 6:00:00 AM  |  48 |\n",
       "| 1503960366 | 4/12/2016 7:00:00 AM  |  47 |\n",
       "| 1503960366 | 4/12/2016 8:00:00 AM  |  68 |\n",
       "| 1503960366 | 4/12/2016 9:00:00 AM  | 141 |\n",
       "| 1503960366 | 4/12/2016 10:00:00 AM |  99 |\n",
       "| 1503960366 | 4/12/2016 11:00:00 AM |  76 |\n",
       "| 1503960366 | 4/12/2016 12:00:00 PM |  73 |\n",
       "| 1503960366 | 4/12/2016 1:00:00 PM  |  66 |\n",
       "| 1503960366 | 4/12/2016 2:00:00 PM  | 110 |\n",
       "| 1503960366 | 4/12/2016 3:00:00 PM  | 151 |\n",
       "| 1503960366 | 4/12/2016 4:00:00 PM  |  76 |\n",
       "| 1503960366 | 4/12/2016 5:00:00 PM  |  83 |\n",
       "| 1503960366 | 4/12/2016 6:00:00 PM  | 124 |\n",
       "| 1503960366 | 4/12/2016 7:00:00 PM  | 104 |\n",
       "| 1503960366 | 4/12/2016 8:00:00 PM  | 132 |\n",
       "| 1503960366 | 4/12/2016 9:00:00 PM  | 100 |\n",
       "| 1503960366 | 4/12/2016 10:00:00 PM |  65 |\n",
       "| 1503960366 | 4/12/2016 11:00:00 PM |  81 |\n",
       "| 1503960366 | 4/13/2016 12:00:00 AM |  69 |\n",
       "| 1503960366 | 4/13/2016 1:00:00 AM  |  48 |\n",
       "| 1503960366 | 4/13/2016 2:00:00 AM  |  47 |\n",
       "| 1503960366 | 4/13/2016 3:00:00 AM  |  53 |\n",
       "| 1503960366 | 4/13/2016 4:00:00 AM  |  47 |\n",
       "| 1503960366 | 4/13/2016 5:00:00 AM  |  47 |\n",
       "| ⋮ | ⋮ | ⋮ |\n",
       "| 8877689391 | 5/11/2016 9:00:00 AM  | 113 |\n",
       "| 8877689391 | 5/11/2016 10:00:00 AM | 107 |\n",
       "| 8877689391 | 5/11/2016 11:00:00 AM | 168 |\n",
       "| 8877689391 | 5/11/2016 12:00:00 PM | 402 |\n",
       "| 8877689391 | 5/11/2016 1:00:00 PM  | 120 |\n",
       "| 8877689391 | 5/11/2016 2:00:00 PM  |  82 |\n",
       "| 8877689391 | 5/11/2016 3:00:00 PM  | 108 |\n",
       "| 8877689391 | 5/11/2016 4:00:00 PM  | 310 |\n",
       "| 8877689391 | 5/11/2016 5:00:00 PM  | 835 |\n",
       "| 8877689391 | 5/11/2016 6:00:00 PM  | 197 |\n",
       "| 8877689391 | 5/11/2016 7:00:00 PM  | 144 |\n",
       "| 8877689391 | 5/11/2016 8:00:00 PM  | 174 |\n",
       "| 8877689391 | 5/11/2016 9:00:00 PM  | 123 |\n",
       "| 8877689391 | 5/11/2016 10:00:00 PM |  93 |\n",
       "| 8877689391 | 5/11/2016 11:00:00 PM |  73 |\n",
       "| 8877689391 | 5/12/2016 12:00:00 AM |  73 |\n",
       "| 8877689391 | 5/12/2016 1:00:00 AM  |  73 |\n",
       "| 8877689391 | 5/12/2016 2:00:00 AM  |  73 |\n",
       "| 8877689391 | 5/12/2016 3:00:00 AM  |  73 |\n",
       "| 8877689391 | 5/12/2016 4:00:00 AM  |  73 |\n",
       "| 8877689391 | 5/12/2016 5:00:00 AM  |  73 |\n",
       "| 8877689391 | 5/12/2016 6:00:00 AM  | 107 |\n",
       "| 8877689391 | 5/12/2016 7:00:00 AM  | 148 |\n",
       "| 8877689391 | 5/12/2016 8:00:00 AM  | 137 |\n",
       "| 8877689391 | 5/12/2016 9:00:00 AM  |  88 |\n",
       "| 8877689391 | 5/12/2016 10:00:00 AM | 126 |\n",
       "| 8877689391 | 5/12/2016 11:00:00 AM | 192 |\n",
       "| 8877689391 | 5/12/2016 12:00:00 PM | 321 |\n",
       "| 8877689391 | 5/12/2016 1:00:00 PM  | 101 |\n",
       "| 8877689391 | 5/12/2016 2:00:00 PM  | 113 |\n",
       "\n"
      ],
      "text/plain": [
       "      id         activity_hour         calories\n",
       "1     1503960366 4/12/2016 12:00:00 AM  81     \n",
       "2     1503960366 4/12/2016 1:00:00 AM   61     \n",
       "3     1503960366 4/12/2016 2:00:00 AM   59     \n",
       "4     1503960366 4/12/2016 3:00:00 AM   47     \n",
       "5     1503960366 4/12/2016 4:00:00 AM   48     \n",
       "6     1503960366 4/12/2016 5:00:00 AM   48     \n",
       "7     1503960366 4/12/2016 6:00:00 AM   48     \n",
       "8     1503960366 4/12/2016 7:00:00 AM   47     \n",
       "9     1503960366 4/12/2016 8:00:00 AM   68     \n",
       "10    1503960366 4/12/2016 9:00:00 AM  141     \n",
       "11    1503960366 4/12/2016 10:00:00 AM  99     \n",
       "12    1503960366 4/12/2016 11:00:00 AM  76     \n",
       "13    1503960366 4/12/2016 12:00:00 PM  73     \n",
       "14    1503960366 4/12/2016 1:00:00 PM   66     \n",
       "15    1503960366 4/12/2016 2:00:00 PM  110     \n",
       "16    1503960366 4/12/2016 3:00:00 PM  151     \n",
       "17    1503960366 4/12/2016 4:00:00 PM   76     \n",
       "18    1503960366 4/12/2016 5:00:00 PM   83     \n",
       "19    1503960366 4/12/2016 6:00:00 PM  124     \n",
       "20    1503960366 4/12/2016 7:00:00 PM  104     \n",
       "21    1503960366 4/12/2016 8:00:00 PM  132     \n",
       "22    1503960366 4/12/2016 9:00:00 PM  100     \n",
       "23    1503960366 4/12/2016 10:00:00 PM  65     \n",
       "24    1503960366 4/12/2016 11:00:00 PM  81     \n",
       "25    1503960366 4/13/2016 12:00:00 AM  69     \n",
       "26    1503960366 4/13/2016 1:00:00 AM   48     \n",
       "27    1503960366 4/13/2016 2:00:00 AM   47     \n",
       "28    1503960366 4/13/2016 3:00:00 AM   53     \n",
       "29    1503960366 4/13/2016 4:00:00 AM   47     \n",
       "30    1503960366 4/13/2016 5:00:00 AM   47     \n",
       "⋮     ⋮          ⋮                     ⋮       \n",
       "22070 8877689391 5/11/2016 9:00:00 AM  113     \n",
       "22071 8877689391 5/11/2016 10:00:00 AM 107     \n",
       "22072 8877689391 5/11/2016 11:00:00 AM 168     \n",
       "22073 8877689391 5/11/2016 12:00:00 PM 402     \n",
       "22074 8877689391 5/11/2016 1:00:00 PM  120     \n",
       "22075 8877689391 5/11/2016 2:00:00 PM   82     \n",
       "22076 8877689391 5/11/2016 3:00:00 PM  108     \n",
       "22077 8877689391 5/11/2016 4:00:00 PM  310     \n",
       "22078 8877689391 5/11/2016 5:00:00 PM  835     \n",
       "22079 8877689391 5/11/2016 6:00:00 PM  197     \n",
       "22080 8877689391 5/11/2016 7:00:00 PM  144     \n",
       "22081 8877689391 5/11/2016 8:00:00 PM  174     \n",
       "22082 8877689391 5/11/2016 9:00:00 PM  123     \n",
       "22083 8877689391 5/11/2016 10:00:00 PM  93     \n",
       "22084 8877689391 5/11/2016 11:00:00 PM  73     \n",
       "22085 8877689391 5/12/2016 12:00:00 AM  73     \n",
       "22086 8877689391 5/12/2016 1:00:00 AM   73     \n",
       "22087 8877689391 5/12/2016 2:00:00 AM   73     \n",
       "22088 8877689391 5/12/2016 3:00:00 AM   73     \n",
       "22089 8877689391 5/12/2016 4:00:00 AM   73     \n",
       "22090 8877689391 5/12/2016 5:00:00 AM   73     \n",
       "22091 8877689391 5/12/2016 6:00:00 AM  107     \n",
       "22092 8877689391 5/12/2016 7:00:00 AM  148     \n",
       "22093 8877689391 5/12/2016 8:00:00 AM  137     \n",
       "22094 8877689391 5/12/2016 9:00:00 AM   88     \n",
       "22095 8877689391 5/12/2016 10:00:00 AM 126     \n",
       "22096 8877689391 5/12/2016 11:00:00 AM 192     \n",
       "22097 8877689391 5/12/2016 12:00:00 PM 321     \n",
       "22098 8877689391 5/12/2016 1:00:00 PM  101     \n",
       "22099 8877689391 5/12/2016 2:00:00 PM  113     "
      ]
     },
     "metadata": {},
     "output_type": "display_data"
    }
   ],
   "source": [
    "clean_names(hourly_calories)"
   ]
  },
  {
   "cell_type": "code",
   "execution_count": 26,
   "id": "e0363c5c-120e-4c3d-a326-b985a93b748d",
   "metadata": {},
   "outputs": [],
   "source": [
    "daily_activity <- rename_with(daily_activity, tolower)\n",
    "sleep_day_df <- rename_with(sleep_day_df, tolower)\n",
    "min_calories_narrow <- rename_with(min_calories_narrow, tolower)\n",
    "min_intensities_narrow <- rename_with(min_intensities_narrow, tolower)"
   ]
  },
  {
   "cell_type": "code",
   "execution_count": 158,
   "id": "3d9336aa-d880-4bb7-84d7-86548ebd4af5",
   "metadata": {},
   "outputs": [],
   "source": [
    "hourly_intensities <- rename_with(hourly_intensities, tolower)"
   ]
  },
  {
   "cell_type": "code",
   "execution_count": 191,
   "id": "50743494-83cc-45c5-8f8d-48082dc83b61",
   "metadata": {},
   "outputs": [],
   "source": [
    "hourly_calories <- rename_with(hourly_calories, tolower)"
   ]
  },
  {
   "cell_type": "code",
   "execution_count": 27,
   "id": "76f8697d-e4c7-48f9-b5d3-ffce1ef274dd",
   "metadata": {
    "tags": []
   },
   "outputs": [
    {
     "data": {
      "text/html": [
       "'Date'"
      ],
      "text/latex": [
       "'Date'"
      ],
      "text/markdown": [
       "'Date'"
      ],
      "text/plain": [
       "[1] \"Date\""
      ]
     },
     "metadata": {},
     "output_type": "display_data"
    },
    {
     "data": {
      "text/html": [
       "<style>\n",
       ".list-inline {list-style: none; margin:0; padding: 0}\n",
       ".list-inline>li {display: inline-block}\n",
       ".list-inline>li:not(:last-child)::after {content: \"\\00b7\"; padding: 0 .5ex}\n",
       "</style>\n",
       "<ol class=list-inline><li>'POSIXct'</li><li>'POSIXt'</li></ol>\n"
      ],
      "text/latex": [
       "\\begin{enumerate*}\n",
       "\\item 'POSIXct'\n",
       "\\item 'POSIXt'\n",
       "\\end{enumerate*}\n"
      ],
      "text/markdown": [
       "1. 'POSIXct'\n",
       "2. 'POSIXt'\n",
       "\n",
       "\n"
      ],
      "text/plain": [
       "[1] \"POSIXct\" \"POSIXt\" "
      ]
     },
     "metadata": {},
     "output_type": "display_data"
    }
   ],
   "source": [
    "daily_activity$activitydate <- mdy(daily_activity$activitydate)\n",
    "class(daily_activity$activitydate)\n",
    "\n",
    "daily_activity <- daily_activity %>%\n",
    "  rename(date = activitydate)\n",
    "\n",
    "sleep_day_df <- sleep_day_df %>%\n",
    "  rename(date = sleepday)\n",
    "\n",
    "sleep_day_df$date <- mdy_hms(sleep_day_df$date)\n",
    "class(sleep_day_df$date)"
   ]
  },
  {
   "cell_type": "markdown",
   "id": "f3d5f96a-9966-48dc-8d92-4d2c0a4ad08f",
   "metadata": {},
   "source": [
    "Comprobación de los data.frame daily_activity y sleep_day_df para ver el resultado tras la limpieza, aplicación tolower, cambio del tipo y renombrado de la columna **activitydate** a **date**. En el caso de los otros data.frame incorporaré dos procedimientos adicionales."
   ]
  },
  {
   "cell_type": "code",
   "execution_count": 28,
   "id": "ff80ef77-d351-4ca5-b161-2aba02cf23d2",
   "metadata": {
    "collapsed": true,
    "jupyter": {
     "outputs_hidden": true
    },
    "tags": []
   },
   "outputs": [
    {
     "data": {
      "text/html": [
       "<table class=\"dataframe\">\n",
       "<caption>A tibble: 6 × 15</caption>\n",
       "<thead>\n",
       "\t<tr><th scope=col>id</th><th scope=col>date</th><th scope=col>totalsteps</th><th scope=col>totaldistance</th><th scope=col>trackerdistance</th><th scope=col>loggedactivitiesdistance</th><th scope=col>veryactivedistance</th><th scope=col>moderatelyactivedistance</th><th scope=col>lightactivedistance</th><th scope=col>sedentaryactivedistance</th><th scope=col>veryactiveminutes</th><th scope=col>fairlyactiveminutes</th><th scope=col>lightlyactiveminutes</th><th scope=col>sedentaryminutes</th><th scope=col>calories</th></tr>\n",
       "\t<tr><th scope=col>&lt;dbl&gt;</th><th scope=col>&lt;date&gt;</th><th scope=col>&lt;dbl&gt;</th><th scope=col>&lt;dbl&gt;</th><th scope=col>&lt;dbl&gt;</th><th scope=col>&lt;dbl&gt;</th><th scope=col>&lt;dbl&gt;</th><th scope=col>&lt;dbl&gt;</th><th scope=col>&lt;dbl&gt;</th><th scope=col>&lt;dbl&gt;</th><th scope=col>&lt;dbl&gt;</th><th scope=col>&lt;dbl&gt;</th><th scope=col>&lt;dbl&gt;</th><th scope=col>&lt;dbl&gt;</th><th scope=col>&lt;dbl&gt;</th></tr>\n",
       "</thead>\n",
       "<tbody>\n",
       "\t<tr><td>1503960366</td><td>2016-04-12</td><td>13162</td><td>8.50</td><td>8.50</td><td>0</td><td>1.88</td><td>0.55</td><td>6.06</td><td>0</td><td>25</td><td>13</td><td>328</td><td> 728</td><td>1985</td></tr>\n",
       "\t<tr><td>1503960366</td><td>2016-04-13</td><td>10735</td><td>6.97</td><td>6.97</td><td>0</td><td>1.57</td><td>0.69</td><td>4.71</td><td>0</td><td>21</td><td>19</td><td>217</td><td> 776</td><td>1797</td></tr>\n",
       "\t<tr><td>1503960366</td><td>2016-04-14</td><td>10460</td><td>6.74</td><td>6.74</td><td>0</td><td>2.44</td><td>0.40</td><td>3.91</td><td>0</td><td>30</td><td>11</td><td>181</td><td>1218</td><td>1776</td></tr>\n",
       "\t<tr><td>1503960366</td><td>2016-04-15</td><td> 9762</td><td>6.28</td><td>6.28</td><td>0</td><td>2.14</td><td>1.26</td><td>2.83</td><td>0</td><td>29</td><td>34</td><td>209</td><td> 726</td><td>1745</td></tr>\n",
       "\t<tr><td>1503960366</td><td>2016-04-16</td><td>12669</td><td>8.16</td><td>8.16</td><td>0</td><td>2.71</td><td>0.41</td><td>5.04</td><td>0</td><td>36</td><td>10</td><td>221</td><td> 773</td><td>1863</td></tr>\n",
       "\t<tr><td>1503960366</td><td>2016-04-17</td><td> 9705</td><td>6.48</td><td>6.48</td><td>0</td><td>3.19</td><td>0.78</td><td>2.51</td><td>0</td><td>38</td><td>20</td><td>164</td><td> 539</td><td>1728</td></tr>\n",
       "</tbody>\n",
       "</table>\n"
      ],
      "text/latex": [
       "A tibble: 6 × 15\n",
       "\\begin{tabular}{lllllllllllllll}\n",
       " id & date & totalsteps & totaldistance & trackerdistance & loggedactivitiesdistance & veryactivedistance & moderatelyactivedistance & lightactivedistance & sedentaryactivedistance & veryactiveminutes & fairlyactiveminutes & lightlyactiveminutes & sedentaryminutes & calories\\\\\n",
       " <dbl> & <date> & <dbl> & <dbl> & <dbl> & <dbl> & <dbl> & <dbl> & <dbl> & <dbl> & <dbl> & <dbl> & <dbl> & <dbl> & <dbl>\\\\\n",
       "\\hline\n",
       "\t 1503960366 & 2016-04-12 & 13162 & 8.50 & 8.50 & 0 & 1.88 & 0.55 & 6.06 & 0 & 25 & 13 & 328 &  728 & 1985\\\\\n",
       "\t 1503960366 & 2016-04-13 & 10735 & 6.97 & 6.97 & 0 & 1.57 & 0.69 & 4.71 & 0 & 21 & 19 & 217 &  776 & 1797\\\\\n",
       "\t 1503960366 & 2016-04-14 & 10460 & 6.74 & 6.74 & 0 & 2.44 & 0.40 & 3.91 & 0 & 30 & 11 & 181 & 1218 & 1776\\\\\n",
       "\t 1503960366 & 2016-04-15 &  9762 & 6.28 & 6.28 & 0 & 2.14 & 1.26 & 2.83 & 0 & 29 & 34 & 209 &  726 & 1745\\\\\n",
       "\t 1503960366 & 2016-04-16 & 12669 & 8.16 & 8.16 & 0 & 2.71 & 0.41 & 5.04 & 0 & 36 & 10 & 221 &  773 & 1863\\\\\n",
       "\t 1503960366 & 2016-04-17 &  9705 & 6.48 & 6.48 & 0 & 3.19 & 0.78 & 2.51 & 0 & 38 & 20 & 164 &  539 & 1728\\\\\n",
       "\\end{tabular}\n"
      ],
      "text/markdown": [
       "\n",
       "A tibble: 6 × 15\n",
       "\n",
       "| id &lt;dbl&gt; | date &lt;date&gt; | totalsteps &lt;dbl&gt; | totaldistance &lt;dbl&gt; | trackerdistance &lt;dbl&gt; | loggedactivitiesdistance &lt;dbl&gt; | veryactivedistance &lt;dbl&gt; | moderatelyactivedistance &lt;dbl&gt; | lightactivedistance &lt;dbl&gt; | sedentaryactivedistance &lt;dbl&gt; | veryactiveminutes &lt;dbl&gt; | fairlyactiveminutes &lt;dbl&gt; | lightlyactiveminutes &lt;dbl&gt; | sedentaryminutes &lt;dbl&gt; | calories &lt;dbl&gt; |\n",
       "|---|---|---|---|---|---|---|---|---|---|---|---|---|---|---|\n",
       "| 1503960366 | 2016-04-12 | 13162 | 8.50 | 8.50 | 0 | 1.88 | 0.55 | 6.06 | 0 | 25 | 13 | 328 |  728 | 1985 |\n",
       "| 1503960366 | 2016-04-13 | 10735 | 6.97 | 6.97 | 0 | 1.57 | 0.69 | 4.71 | 0 | 21 | 19 | 217 |  776 | 1797 |\n",
       "| 1503960366 | 2016-04-14 | 10460 | 6.74 | 6.74 | 0 | 2.44 | 0.40 | 3.91 | 0 | 30 | 11 | 181 | 1218 | 1776 |\n",
       "| 1503960366 | 2016-04-15 |  9762 | 6.28 | 6.28 | 0 | 2.14 | 1.26 | 2.83 | 0 | 29 | 34 | 209 |  726 | 1745 |\n",
       "| 1503960366 | 2016-04-16 | 12669 | 8.16 | 8.16 | 0 | 2.71 | 0.41 | 5.04 | 0 | 36 | 10 | 221 |  773 | 1863 |\n",
       "| 1503960366 | 2016-04-17 |  9705 | 6.48 | 6.48 | 0 | 3.19 | 0.78 | 2.51 | 0 | 38 | 20 | 164 |  539 | 1728 |\n",
       "\n"
      ],
      "text/plain": [
       "  id         date       totalsteps totaldistance trackerdistance\n",
       "1 1503960366 2016-04-12 13162      8.50          8.50           \n",
       "2 1503960366 2016-04-13 10735      6.97          6.97           \n",
       "3 1503960366 2016-04-14 10460      6.74          6.74           \n",
       "4 1503960366 2016-04-15  9762      6.28          6.28           \n",
       "5 1503960366 2016-04-16 12669      8.16          8.16           \n",
       "6 1503960366 2016-04-17  9705      6.48          6.48           \n",
       "  loggedactivitiesdistance veryactivedistance moderatelyactivedistance\n",
       "1 0                        1.88               0.55                    \n",
       "2 0                        1.57               0.69                    \n",
       "3 0                        2.44               0.40                    \n",
       "4 0                        2.14               1.26                    \n",
       "5 0                        2.71               0.41                    \n",
       "6 0                        3.19               0.78                    \n",
       "  lightactivedistance sedentaryactivedistance veryactiveminutes\n",
       "1 6.06                0                       25               \n",
       "2 4.71                0                       21               \n",
       "3 3.91                0                       30               \n",
       "4 2.83                0                       29               \n",
       "5 5.04                0                       36               \n",
       "6 2.51                0                       38               \n",
       "  fairlyactiveminutes lightlyactiveminutes sedentaryminutes calories\n",
       "1 13                  328                   728             1985    \n",
       "2 19                  217                   776             1797    \n",
       "3 11                  181                  1218             1776    \n",
       "4 34                  209                   726             1745    \n",
       "5 10                  221                   773             1863    \n",
       "6 20                  164                   539             1728    "
      ]
     },
     "metadata": {},
     "output_type": "display_data"
    },
    {
     "data": {
      "text/html": [
       "<table class=\"dataframe\">\n",
       "<caption>A tibble: 6 × 5</caption>\n",
       "<thead>\n",
       "\t<tr><th scope=col>id</th><th scope=col>date</th><th scope=col>totalsleeprecords</th><th scope=col>totalminutesasleep</th><th scope=col>totaltimeinbed</th></tr>\n",
       "\t<tr><th scope=col>&lt;dbl&gt;</th><th scope=col>&lt;dttm&gt;</th><th scope=col>&lt;dbl&gt;</th><th scope=col>&lt;dbl&gt;</th><th scope=col>&lt;dbl&gt;</th></tr>\n",
       "</thead>\n",
       "<tbody>\n",
       "\t<tr><td>1503960366</td><td>2016-04-12</td><td>1</td><td>327</td><td>346</td></tr>\n",
       "\t<tr><td>1503960366</td><td>2016-04-13</td><td>2</td><td>384</td><td>407</td></tr>\n",
       "\t<tr><td>1503960366</td><td>2016-04-15</td><td>1</td><td>412</td><td>442</td></tr>\n",
       "\t<tr><td>1503960366</td><td>2016-04-16</td><td>2</td><td>340</td><td>367</td></tr>\n",
       "\t<tr><td>1503960366</td><td>2016-04-17</td><td>1</td><td>700</td><td>712</td></tr>\n",
       "\t<tr><td>1503960366</td><td>2016-04-19</td><td>1</td><td>304</td><td>320</td></tr>\n",
       "</tbody>\n",
       "</table>\n"
      ],
      "text/latex": [
       "A tibble: 6 × 5\n",
       "\\begin{tabular}{lllll}\n",
       " id & date & totalsleeprecords & totalminutesasleep & totaltimeinbed\\\\\n",
       " <dbl> & <dttm> & <dbl> & <dbl> & <dbl>\\\\\n",
       "\\hline\n",
       "\t 1503960366 & 2016-04-12 & 1 & 327 & 346\\\\\n",
       "\t 1503960366 & 2016-04-13 & 2 & 384 & 407\\\\\n",
       "\t 1503960366 & 2016-04-15 & 1 & 412 & 442\\\\\n",
       "\t 1503960366 & 2016-04-16 & 2 & 340 & 367\\\\\n",
       "\t 1503960366 & 2016-04-17 & 1 & 700 & 712\\\\\n",
       "\t 1503960366 & 2016-04-19 & 1 & 304 & 320\\\\\n",
       "\\end{tabular}\n"
      ],
      "text/markdown": [
       "\n",
       "A tibble: 6 × 5\n",
       "\n",
       "| id &lt;dbl&gt; | date &lt;dttm&gt; | totalsleeprecords &lt;dbl&gt; | totalminutesasleep &lt;dbl&gt; | totaltimeinbed &lt;dbl&gt; |\n",
       "|---|---|---|---|---|\n",
       "| 1503960366 | 2016-04-12 | 1 | 327 | 346 |\n",
       "| 1503960366 | 2016-04-13 | 2 | 384 | 407 |\n",
       "| 1503960366 | 2016-04-15 | 1 | 412 | 442 |\n",
       "| 1503960366 | 2016-04-16 | 2 | 340 | 367 |\n",
       "| 1503960366 | 2016-04-17 | 1 | 700 | 712 |\n",
       "| 1503960366 | 2016-04-19 | 1 | 304 | 320 |\n",
       "\n"
      ],
      "text/plain": [
       "  id         date       totalsleeprecords totalminutesasleep totaltimeinbed\n",
       "1 1503960366 2016-04-12 1                 327                346           \n",
       "2 1503960366 2016-04-13 2                 384                407           \n",
       "3 1503960366 2016-04-15 1                 412                442           \n",
       "4 1503960366 2016-04-16 2                 340                367           \n",
       "5 1503960366 2016-04-17 1                 700                712           \n",
       "6 1503960366 2016-04-19 1                 304                320           "
      ]
     },
     "metadata": {},
     "output_type": "display_data"
    }
   ],
   "source": [
    "head(daily_activity)\n",
    "head(sleep_day_df)"
   ]
  },
  {
   "cell_type": "markdown",
   "id": "56ce44d8-512a-4a91-ae8c-2eb35ee01e7c",
   "metadata": {},
   "source": [
    "Los data.frame min_calories_narrow y min_intensities_narrow tienen la particularidad que la columna activityminute contienen registros fecha, hora, minuto con lo cual cada observación es un caso único y no podré agrupar por fecha y por id para próximos cálculos, por lo tanto la transformare a fecha unicamente."
   ]
  },
  {
   "cell_type": "code",
   "execution_count": 29,
   "id": "84afc4c4-48ed-42a4-9288-f13c9028639c",
   "metadata": {
    "tags": []
   },
   "outputs": [
    {
     "data": {
      "text/html": [
       "<style>\n",
       ".list-inline {list-style: none; margin:0; padding: 0}\n",
       ".list-inline>li {display: inline-block}\n",
       ".list-inline>li:not(:last-child)::after {content: \"\\00b7\"; padding: 0 .5ex}\n",
       "</style>\n",
       "<ol class=list-inline><li>'POSIXct'</li><li>'POSIXt'</li></ol>\n"
      ],
      "text/latex": [
       "\\begin{enumerate*}\n",
       "\\item 'POSIXct'\n",
       "\\item 'POSIXt'\n",
       "\\end{enumerate*}\n"
      ],
      "text/markdown": [
       "1. 'POSIXct'\n",
       "2. 'POSIXt'\n",
       "\n",
       "\n"
      ],
      "text/plain": [
       "[1] \"POSIXct\" \"POSIXt\" "
      ]
     },
     "metadata": {},
     "output_type": "display_data"
    },
    {
     "data": {
      "text/html": [
       "<style>\n",
       ".list-inline {list-style: none; margin:0; padding: 0}\n",
       ".list-inline>li {display: inline-block}\n",
       ".list-inline>li:not(:last-child)::after {content: \"\\00b7\"; padding: 0 .5ex}\n",
       "</style>\n",
       "<ol class=list-inline><li>'POSIXct'</li><li>'POSIXt'</li></ol>\n"
      ],
      "text/latex": [
       "\\begin{enumerate*}\n",
       "\\item 'POSIXct'\n",
       "\\item 'POSIXt'\n",
       "\\end{enumerate*}\n"
      ],
      "text/markdown": [
       "1. 'POSIXct'\n",
       "2. 'POSIXt'\n",
       "\n",
       "\n"
      ],
      "text/plain": [
       "[1] \"POSIXct\" \"POSIXt\" "
      ]
     },
     "metadata": {},
     "output_type": "display_data"
    }
   ],
   "source": [
    "min_calories_narrow<- min_calories_narrow %>% \n",
    "  rename(date_minute = activityminute) %>% \n",
    "  mutate(date_minute = as.POSIXct(date_minute,format =\"%m/%d/%Y %I:%M:%S %p\" , tz=Sys.timezone()))\n",
    "class(min_calories_narrow$date_minute)\n",
    "\n",
    "min_intensities_narrow <- min_intensities_narrow %>% \n",
    "  rename(date_minute = activityminute) %>% \n",
    "  mutate(date_minute = as.POSIXct(date_minute,format =\"%m/%d/%Y %I:%M:%S %p\" , tz=Sys.timezone()))\n",
    "class(min_intensities_narrow$date_minute)"
   ]
  },
  {
   "cell_type": "code",
   "execution_count": 159,
   "id": "01810c7b-7faa-4086-ab9e-8aaea7e41fd4",
   "metadata": {},
   "outputs": [],
   "source": [
    "hourly_intensities <- hourly_intensities %>%\n",
    "  rename(date = activityhour) %>%\n",
    "  mutate(date = as.POSIXct(date,format =\"%m/%d/%Y %I:%M:%S %p\" , tz=Sys.timezone()))\n",
    "hourly_intensities$time <- format(hourly_intensities$date, format = \"%H:%M:%S\")\n",
    "hourly_intensities$date <- format(hourly_intensities$date, format = \"%m-%d-%y\")"
   ]
  },
  {
   "cell_type": "code",
   "execution_count": 192,
   "id": "d9455857-5180-4df8-ba00-d9eddd90be48",
   "metadata": {},
   "outputs": [],
   "source": [
    "hourly_calories <- hourly_calories %>%\n",
    "  rename(date = activityhour) %>%\n",
    "  mutate(date = as.POSIXct(date,format =\"%m/%d/%Y %I:%M:%S %p\" , tz=Sys.timezone()))\n",
    "hourly_calories$time <- format(hourly_calories$date, format = \"%H:%M:%S\")\n",
    "hourly_calories$date <- format(hourly_calories$date, format = \"%m-%d-%y\")"
   ]
  },
  {
   "cell_type": "code",
   "execution_count": 30,
   "id": "d6a29210-6070-4a3d-bc12-de47efdf2fe9",
   "metadata": {
    "collapsed": true,
    "jupyter": {
     "outputs_hidden": true
    },
    "tags": []
   },
   "outputs": [
    {
     "data": {
      "text/html": [
       "<table class=\"dataframe\">\n",
       "<caption>A tibble: 6 × 3</caption>\n",
       "<thead>\n",
       "\t<tr><th scope=col>id</th><th scope=col>date_minute</th><th scope=col>intensity</th></tr>\n",
       "\t<tr><th scope=col>&lt;dbl&gt;</th><th scope=col>&lt;dttm&gt;</th><th scope=col>&lt;dbl&gt;</th></tr>\n",
       "</thead>\n",
       "<tbody>\n",
       "\t<tr><td>1503960366</td><td>2016-04-12 00:00:00</td><td>0</td></tr>\n",
       "\t<tr><td>1503960366</td><td>2016-04-12 00:01:00</td><td>0</td></tr>\n",
       "\t<tr><td>1503960366</td><td>2016-04-12 00:02:00</td><td>0</td></tr>\n",
       "\t<tr><td>1503960366</td><td>2016-04-12 00:03:00</td><td>0</td></tr>\n",
       "\t<tr><td>1503960366</td><td>2016-04-12 00:04:00</td><td>0</td></tr>\n",
       "\t<tr><td>1503960366</td><td>2016-04-12 00:05:00</td><td>0</td></tr>\n",
       "</tbody>\n",
       "</table>\n"
      ],
      "text/latex": [
       "A tibble: 6 × 3\n",
       "\\begin{tabular}{lll}\n",
       " id & date\\_minute & intensity\\\\\n",
       " <dbl> & <dttm> & <dbl>\\\\\n",
       "\\hline\n",
       "\t 1503960366 & 2016-04-12 00:00:00 & 0\\\\\n",
       "\t 1503960366 & 2016-04-12 00:01:00 & 0\\\\\n",
       "\t 1503960366 & 2016-04-12 00:02:00 & 0\\\\\n",
       "\t 1503960366 & 2016-04-12 00:03:00 & 0\\\\\n",
       "\t 1503960366 & 2016-04-12 00:04:00 & 0\\\\\n",
       "\t 1503960366 & 2016-04-12 00:05:00 & 0\\\\\n",
       "\\end{tabular}\n"
      ],
      "text/markdown": [
       "\n",
       "A tibble: 6 × 3\n",
       "\n",
       "| id &lt;dbl&gt; | date_minute &lt;dttm&gt; | intensity &lt;dbl&gt; |\n",
       "|---|---|---|\n",
       "| 1503960366 | 2016-04-12 00:00:00 | 0 |\n",
       "| 1503960366 | 2016-04-12 00:01:00 | 0 |\n",
       "| 1503960366 | 2016-04-12 00:02:00 | 0 |\n",
       "| 1503960366 | 2016-04-12 00:03:00 | 0 |\n",
       "| 1503960366 | 2016-04-12 00:04:00 | 0 |\n",
       "| 1503960366 | 2016-04-12 00:05:00 | 0 |\n",
       "\n"
      ],
      "text/plain": [
       "  id         date_minute         intensity\n",
       "1 1503960366 2016-04-12 00:00:00 0        \n",
       "2 1503960366 2016-04-12 00:01:00 0        \n",
       "3 1503960366 2016-04-12 00:02:00 0        \n",
       "4 1503960366 2016-04-12 00:03:00 0        \n",
       "5 1503960366 2016-04-12 00:04:00 0        \n",
       "6 1503960366 2016-04-12 00:05:00 0        "
      ]
     },
     "metadata": {},
     "output_type": "display_data"
    },
    {
     "data": {
      "text/html": [
       "<table class=\"dataframe\">\n",
       "<caption>A tibble: 1325580 × 3</caption>\n",
       "<thead>\n",
       "\t<tr><th scope=col>id</th><th scope=col>date_minute</th><th scope=col>intensity</th></tr>\n",
       "\t<tr><th scope=col>&lt;dbl&gt;</th><th scope=col>&lt;dttm&gt;</th><th scope=col>&lt;dbl&gt;</th></tr>\n",
       "</thead>\n",
       "<tbody>\n",
       "\t<tr><td>1503960366</td><td>2016-04-12 00:00:00</td><td>0</td></tr>\n",
       "\t<tr><td>1503960366</td><td>2016-04-12 00:01:00</td><td>0</td></tr>\n",
       "\t<tr><td>1503960366</td><td>2016-04-12 00:02:00</td><td>0</td></tr>\n",
       "\t<tr><td>1503960366</td><td>2016-04-12 00:03:00</td><td>0</td></tr>\n",
       "\t<tr><td>1503960366</td><td>2016-04-12 00:04:00</td><td>0</td></tr>\n",
       "\t<tr><td>1503960366</td><td>2016-04-12 00:05:00</td><td>0</td></tr>\n",
       "\t<tr><td>1503960366</td><td>2016-04-12 00:06:00</td><td>0</td></tr>\n",
       "\t<tr><td>1503960366</td><td>2016-04-12 00:07:00</td><td>0</td></tr>\n",
       "\t<tr><td>1503960366</td><td>2016-04-12 00:08:00</td><td>0</td></tr>\n",
       "\t<tr><td>1503960366</td><td>2016-04-12 00:09:00</td><td>0</td></tr>\n",
       "\t<tr><td>1503960366</td><td>2016-04-12 00:10:00</td><td>0</td></tr>\n",
       "\t<tr><td>1503960366</td><td>2016-04-12 00:11:00</td><td>0</td></tr>\n",
       "\t<tr><td>1503960366</td><td>2016-04-12 00:12:00</td><td>0</td></tr>\n",
       "\t<tr><td>1503960366</td><td>2016-04-12 00:13:00</td><td>0</td></tr>\n",
       "\t<tr><td>1503960366</td><td>2016-04-12 00:14:00</td><td>0</td></tr>\n",
       "\t<tr><td>1503960366</td><td>2016-04-12 00:15:00</td><td>0</td></tr>\n",
       "\t<tr><td>1503960366</td><td>2016-04-12 00:16:00</td><td>0</td></tr>\n",
       "\t<tr><td>1503960366</td><td>2016-04-12 00:17:00</td><td>0</td></tr>\n",
       "\t<tr><td>1503960366</td><td>2016-04-12 00:18:00</td><td>0</td></tr>\n",
       "\t<tr><td>1503960366</td><td>2016-04-12 00:19:00</td><td>0</td></tr>\n",
       "\t<tr><td>1503960366</td><td>2016-04-12 00:20:00</td><td>0</td></tr>\n",
       "\t<tr><td>1503960366</td><td>2016-04-12 00:21:00</td><td>0</td></tr>\n",
       "\t<tr><td>1503960366</td><td>2016-04-12 00:22:00</td><td>0</td></tr>\n",
       "\t<tr><td>1503960366</td><td>2016-04-12 00:23:00</td><td>0</td></tr>\n",
       "\t<tr><td>1503960366</td><td>2016-04-12 00:24:00</td><td>0</td></tr>\n",
       "\t<tr><td>1503960366</td><td>2016-04-12 00:25:00</td><td>1</td></tr>\n",
       "\t<tr><td>1503960366</td><td>2016-04-12 00:26:00</td><td>0</td></tr>\n",
       "\t<tr><td>1503960366</td><td>2016-04-12 00:27:00</td><td>0</td></tr>\n",
       "\t<tr><td>1503960366</td><td>2016-04-12 00:28:00</td><td>0</td></tr>\n",
       "\t<tr><td>1503960366</td><td>2016-04-12 00:29:00</td><td>1</td></tr>\n",
       "\t<tr><td>⋮</td><td>⋮</td><td>⋮</td></tr>\n",
       "\t<tr><td>8877689391</td><td>2016-05-12 13:30:00</td><td>0</td></tr>\n",
       "\t<tr><td>8877689391</td><td>2016-05-12 13:31:00</td><td>0</td></tr>\n",
       "\t<tr><td>8877689391</td><td>2016-05-12 13:32:00</td><td>0</td></tr>\n",
       "\t<tr><td>8877689391</td><td>2016-05-12 13:33:00</td><td>0</td></tr>\n",
       "\t<tr><td>8877689391</td><td>2016-05-12 13:34:00</td><td>1</td></tr>\n",
       "\t<tr><td>8877689391</td><td>2016-05-12 13:35:00</td><td>1</td></tr>\n",
       "\t<tr><td>8877689391</td><td>2016-05-12 13:36:00</td><td>1</td></tr>\n",
       "\t<tr><td>8877689391</td><td>2016-05-12 13:37:00</td><td>1</td></tr>\n",
       "\t<tr><td>8877689391</td><td>2016-05-12 13:38:00</td><td>1</td></tr>\n",
       "\t<tr><td>8877689391</td><td>2016-05-12 13:39:00</td><td>0</td></tr>\n",
       "\t<tr><td>8877689391</td><td>2016-05-12 13:40:00</td><td>0</td></tr>\n",
       "\t<tr><td>8877689391</td><td>2016-05-12 13:41:00</td><td>0</td></tr>\n",
       "\t<tr><td>8877689391</td><td>2016-05-12 13:42:00</td><td>0</td></tr>\n",
       "\t<tr><td>8877689391</td><td>2016-05-12 13:43:00</td><td>0</td></tr>\n",
       "\t<tr><td>8877689391</td><td>2016-05-12 13:44:00</td><td>1</td></tr>\n",
       "\t<tr><td>8877689391</td><td>2016-05-12 13:45:00</td><td>0</td></tr>\n",
       "\t<tr><td>8877689391</td><td>2016-05-12 13:46:00</td><td>0</td></tr>\n",
       "\t<tr><td>8877689391</td><td>2016-05-12 13:47:00</td><td>0</td></tr>\n",
       "\t<tr><td>8877689391</td><td>2016-05-12 13:48:00</td><td>0</td></tr>\n",
       "\t<tr><td>8877689391</td><td>2016-05-12 13:49:00</td><td>0</td></tr>\n",
       "\t<tr><td>8877689391</td><td>2016-05-12 13:50:00</td><td>0</td></tr>\n",
       "\t<tr><td>8877689391</td><td>2016-05-12 13:51:00</td><td>0</td></tr>\n",
       "\t<tr><td>8877689391</td><td>2016-05-12 13:52:00</td><td>0</td></tr>\n",
       "\t<tr><td>8877689391</td><td>2016-05-12 13:53:00</td><td>0</td></tr>\n",
       "\t<tr><td>8877689391</td><td>2016-05-12 13:54:00</td><td>0</td></tr>\n",
       "\t<tr><td>8877689391</td><td>2016-05-12 13:55:00</td><td>0</td></tr>\n",
       "\t<tr><td>8877689391</td><td>2016-05-12 13:56:00</td><td>0</td></tr>\n",
       "\t<tr><td>8877689391</td><td>2016-05-12 13:57:00</td><td>0</td></tr>\n",
       "\t<tr><td>8877689391</td><td>2016-05-12 13:58:00</td><td>0</td></tr>\n",
       "\t<tr><td>8877689391</td><td>2016-05-12 13:59:00</td><td>0</td></tr>\n",
       "</tbody>\n",
       "</table>\n"
      ],
      "text/latex": [
       "A tibble: 1325580 × 3\n",
       "\\begin{tabular}{lll}\n",
       " id & date\\_minute & intensity\\\\\n",
       " <dbl> & <dttm> & <dbl>\\\\\n",
       "\\hline\n",
       "\t 1503960366 & 2016-04-12 00:00:00 & 0\\\\\n",
       "\t 1503960366 & 2016-04-12 00:01:00 & 0\\\\\n",
       "\t 1503960366 & 2016-04-12 00:02:00 & 0\\\\\n",
       "\t 1503960366 & 2016-04-12 00:03:00 & 0\\\\\n",
       "\t 1503960366 & 2016-04-12 00:04:00 & 0\\\\\n",
       "\t 1503960366 & 2016-04-12 00:05:00 & 0\\\\\n",
       "\t 1503960366 & 2016-04-12 00:06:00 & 0\\\\\n",
       "\t 1503960366 & 2016-04-12 00:07:00 & 0\\\\\n",
       "\t 1503960366 & 2016-04-12 00:08:00 & 0\\\\\n",
       "\t 1503960366 & 2016-04-12 00:09:00 & 0\\\\\n",
       "\t 1503960366 & 2016-04-12 00:10:00 & 0\\\\\n",
       "\t 1503960366 & 2016-04-12 00:11:00 & 0\\\\\n",
       "\t 1503960366 & 2016-04-12 00:12:00 & 0\\\\\n",
       "\t 1503960366 & 2016-04-12 00:13:00 & 0\\\\\n",
       "\t 1503960366 & 2016-04-12 00:14:00 & 0\\\\\n",
       "\t 1503960366 & 2016-04-12 00:15:00 & 0\\\\\n",
       "\t 1503960366 & 2016-04-12 00:16:00 & 0\\\\\n",
       "\t 1503960366 & 2016-04-12 00:17:00 & 0\\\\\n",
       "\t 1503960366 & 2016-04-12 00:18:00 & 0\\\\\n",
       "\t 1503960366 & 2016-04-12 00:19:00 & 0\\\\\n",
       "\t 1503960366 & 2016-04-12 00:20:00 & 0\\\\\n",
       "\t 1503960366 & 2016-04-12 00:21:00 & 0\\\\\n",
       "\t 1503960366 & 2016-04-12 00:22:00 & 0\\\\\n",
       "\t 1503960366 & 2016-04-12 00:23:00 & 0\\\\\n",
       "\t 1503960366 & 2016-04-12 00:24:00 & 0\\\\\n",
       "\t 1503960366 & 2016-04-12 00:25:00 & 1\\\\\n",
       "\t 1503960366 & 2016-04-12 00:26:00 & 0\\\\\n",
       "\t 1503960366 & 2016-04-12 00:27:00 & 0\\\\\n",
       "\t 1503960366 & 2016-04-12 00:28:00 & 0\\\\\n",
       "\t 1503960366 & 2016-04-12 00:29:00 & 1\\\\\n",
       "\t ⋮ & ⋮ & ⋮\\\\\n",
       "\t 8877689391 & 2016-05-12 13:30:00 & 0\\\\\n",
       "\t 8877689391 & 2016-05-12 13:31:00 & 0\\\\\n",
       "\t 8877689391 & 2016-05-12 13:32:00 & 0\\\\\n",
       "\t 8877689391 & 2016-05-12 13:33:00 & 0\\\\\n",
       "\t 8877689391 & 2016-05-12 13:34:00 & 1\\\\\n",
       "\t 8877689391 & 2016-05-12 13:35:00 & 1\\\\\n",
       "\t 8877689391 & 2016-05-12 13:36:00 & 1\\\\\n",
       "\t 8877689391 & 2016-05-12 13:37:00 & 1\\\\\n",
       "\t 8877689391 & 2016-05-12 13:38:00 & 1\\\\\n",
       "\t 8877689391 & 2016-05-12 13:39:00 & 0\\\\\n",
       "\t 8877689391 & 2016-05-12 13:40:00 & 0\\\\\n",
       "\t 8877689391 & 2016-05-12 13:41:00 & 0\\\\\n",
       "\t 8877689391 & 2016-05-12 13:42:00 & 0\\\\\n",
       "\t 8877689391 & 2016-05-12 13:43:00 & 0\\\\\n",
       "\t 8877689391 & 2016-05-12 13:44:00 & 1\\\\\n",
       "\t 8877689391 & 2016-05-12 13:45:00 & 0\\\\\n",
       "\t 8877689391 & 2016-05-12 13:46:00 & 0\\\\\n",
       "\t 8877689391 & 2016-05-12 13:47:00 & 0\\\\\n",
       "\t 8877689391 & 2016-05-12 13:48:00 & 0\\\\\n",
       "\t 8877689391 & 2016-05-12 13:49:00 & 0\\\\\n",
       "\t 8877689391 & 2016-05-12 13:50:00 & 0\\\\\n",
       "\t 8877689391 & 2016-05-12 13:51:00 & 0\\\\\n",
       "\t 8877689391 & 2016-05-12 13:52:00 & 0\\\\\n",
       "\t 8877689391 & 2016-05-12 13:53:00 & 0\\\\\n",
       "\t 8877689391 & 2016-05-12 13:54:00 & 0\\\\\n",
       "\t 8877689391 & 2016-05-12 13:55:00 & 0\\\\\n",
       "\t 8877689391 & 2016-05-12 13:56:00 & 0\\\\\n",
       "\t 8877689391 & 2016-05-12 13:57:00 & 0\\\\\n",
       "\t 8877689391 & 2016-05-12 13:58:00 & 0\\\\\n",
       "\t 8877689391 & 2016-05-12 13:59:00 & 0\\\\\n",
       "\\end{tabular}\n"
      ],
      "text/markdown": [
       "\n",
       "A tibble: 1325580 × 3\n",
       "\n",
       "| id &lt;dbl&gt; | date_minute &lt;dttm&gt; | intensity &lt;dbl&gt; |\n",
       "|---|---|---|\n",
       "| 1503960366 | 2016-04-12 00:00:00 | 0 |\n",
       "| 1503960366 | 2016-04-12 00:01:00 | 0 |\n",
       "| 1503960366 | 2016-04-12 00:02:00 | 0 |\n",
       "| 1503960366 | 2016-04-12 00:03:00 | 0 |\n",
       "| 1503960366 | 2016-04-12 00:04:00 | 0 |\n",
       "| 1503960366 | 2016-04-12 00:05:00 | 0 |\n",
       "| 1503960366 | 2016-04-12 00:06:00 | 0 |\n",
       "| 1503960366 | 2016-04-12 00:07:00 | 0 |\n",
       "| 1503960366 | 2016-04-12 00:08:00 | 0 |\n",
       "| 1503960366 | 2016-04-12 00:09:00 | 0 |\n",
       "| 1503960366 | 2016-04-12 00:10:00 | 0 |\n",
       "| 1503960366 | 2016-04-12 00:11:00 | 0 |\n",
       "| 1503960366 | 2016-04-12 00:12:00 | 0 |\n",
       "| 1503960366 | 2016-04-12 00:13:00 | 0 |\n",
       "| 1503960366 | 2016-04-12 00:14:00 | 0 |\n",
       "| 1503960366 | 2016-04-12 00:15:00 | 0 |\n",
       "| 1503960366 | 2016-04-12 00:16:00 | 0 |\n",
       "| 1503960366 | 2016-04-12 00:17:00 | 0 |\n",
       "| 1503960366 | 2016-04-12 00:18:00 | 0 |\n",
       "| 1503960366 | 2016-04-12 00:19:00 | 0 |\n",
       "| 1503960366 | 2016-04-12 00:20:00 | 0 |\n",
       "| 1503960366 | 2016-04-12 00:21:00 | 0 |\n",
       "| 1503960366 | 2016-04-12 00:22:00 | 0 |\n",
       "| 1503960366 | 2016-04-12 00:23:00 | 0 |\n",
       "| 1503960366 | 2016-04-12 00:24:00 | 0 |\n",
       "| 1503960366 | 2016-04-12 00:25:00 | 1 |\n",
       "| 1503960366 | 2016-04-12 00:26:00 | 0 |\n",
       "| 1503960366 | 2016-04-12 00:27:00 | 0 |\n",
       "| 1503960366 | 2016-04-12 00:28:00 | 0 |\n",
       "| 1503960366 | 2016-04-12 00:29:00 | 1 |\n",
       "| ⋮ | ⋮ | ⋮ |\n",
       "| 8877689391 | 2016-05-12 13:30:00 | 0 |\n",
       "| 8877689391 | 2016-05-12 13:31:00 | 0 |\n",
       "| 8877689391 | 2016-05-12 13:32:00 | 0 |\n",
       "| 8877689391 | 2016-05-12 13:33:00 | 0 |\n",
       "| 8877689391 | 2016-05-12 13:34:00 | 1 |\n",
       "| 8877689391 | 2016-05-12 13:35:00 | 1 |\n",
       "| 8877689391 | 2016-05-12 13:36:00 | 1 |\n",
       "| 8877689391 | 2016-05-12 13:37:00 | 1 |\n",
       "| 8877689391 | 2016-05-12 13:38:00 | 1 |\n",
       "| 8877689391 | 2016-05-12 13:39:00 | 0 |\n",
       "| 8877689391 | 2016-05-12 13:40:00 | 0 |\n",
       "| 8877689391 | 2016-05-12 13:41:00 | 0 |\n",
       "| 8877689391 | 2016-05-12 13:42:00 | 0 |\n",
       "| 8877689391 | 2016-05-12 13:43:00 | 0 |\n",
       "| 8877689391 | 2016-05-12 13:44:00 | 1 |\n",
       "| 8877689391 | 2016-05-12 13:45:00 | 0 |\n",
       "| 8877689391 | 2016-05-12 13:46:00 | 0 |\n",
       "| 8877689391 | 2016-05-12 13:47:00 | 0 |\n",
       "| 8877689391 | 2016-05-12 13:48:00 | 0 |\n",
       "| 8877689391 | 2016-05-12 13:49:00 | 0 |\n",
       "| 8877689391 | 2016-05-12 13:50:00 | 0 |\n",
       "| 8877689391 | 2016-05-12 13:51:00 | 0 |\n",
       "| 8877689391 | 2016-05-12 13:52:00 | 0 |\n",
       "| 8877689391 | 2016-05-12 13:53:00 | 0 |\n",
       "| 8877689391 | 2016-05-12 13:54:00 | 0 |\n",
       "| 8877689391 | 2016-05-12 13:55:00 | 0 |\n",
       "| 8877689391 | 2016-05-12 13:56:00 | 0 |\n",
       "| 8877689391 | 2016-05-12 13:57:00 | 0 |\n",
       "| 8877689391 | 2016-05-12 13:58:00 | 0 |\n",
       "| 8877689391 | 2016-05-12 13:59:00 | 0 |\n",
       "\n"
      ],
      "text/plain": [
       "        id         date_minute         intensity\n",
       "1       1503960366 2016-04-12 00:00:00 0        \n",
       "2       1503960366 2016-04-12 00:01:00 0        \n",
       "3       1503960366 2016-04-12 00:02:00 0        \n",
       "4       1503960366 2016-04-12 00:03:00 0        \n",
       "5       1503960366 2016-04-12 00:04:00 0        \n",
       "6       1503960366 2016-04-12 00:05:00 0        \n",
       "7       1503960366 2016-04-12 00:06:00 0        \n",
       "8       1503960366 2016-04-12 00:07:00 0        \n",
       "9       1503960366 2016-04-12 00:08:00 0        \n",
       "10      1503960366 2016-04-12 00:09:00 0        \n",
       "11      1503960366 2016-04-12 00:10:00 0        \n",
       "12      1503960366 2016-04-12 00:11:00 0        \n",
       "13      1503960366 2016-04-12 00:12:00 0        \n",
       "14      1503960366 2016-04-12 00:13:00 0        \n",
       "15      1503960366 2016-04-12 00:14:00 0        \n",
       "16      1503960366 2016-04-12 00:15:00 0        \n",
       "17      1503960366 2016-04-12 00:16:00 0        \n",
       "18      1503960366 2016-04-12 00:17:00 0        \n",
       "19      1503960366 2016-04-12 00:18:00 0        \n",
       "20      1503960366 2016-04-12 00:19:00 0        \n",
       "21      1503960366 2016-04-12 00:20:00 0        \n",
       "22      1503960366 2016-04-12 00:21:00 0        \n",
       "23      1503960366 2016-04-12 00:22:00 0        \n",
       "24      1503960366 2016-04-12 00:23:00 0        \n",
       "25      1503960366 2016-04-12 00:24:00 0        \n",
       "26      1503960366 2016-04-12 00:25:00 1        \n",
       "27      1503960366 2016-04-12 00:26:00 0        \n",
       "28      1503960366 2016-04-12 00:27:00 0        \n",
       "29      1503960366 2016-04-12 00:28:00 0        \n",
       "30      1503960366 2016-04-12 00:29:00 1        \n",
       "⋮       ⋮          ⋮                   ⋮        \n",
       "1325551 8877689391 2016-05-12 13:30:00 0        \n",
       "1325552 8877689391 2016-05-12 13:31:00 0        \n",
       "1325553 8877689391 2016-05-12 13:32:00 0        \n",
       "1325554 8877689391 2016-05-12 13:33:00 0        \n",
       "1325555 8877689391 2016-05-12 13:34:00 1        \n",
       "1325556 8877689391 2016-05-12 13:35:00 1        \n",
       "1325557 8877689391 2016-05-12 13:36:00 1        \n",
       "1325558 8877689391 2016-05-12 13:37:00 1        \n",
       "1325559 8877689391 2016-05-12 13:38:00 1        \n",
       "1325560 8877689391 2016-05-12 13:39:00 0        \n",
       "1325561 8877689391 2016-05-12 13:40:00 0        \n",
       "1325562 8877689391 2016-05-12 13:41:00 0        \n",
       "1325563 8877689391 2016-05-12 13:42:00 0        \n",
       "1325564 8877689391 2016-05-12 13:43:00 0        \n",
       "1325565 8877689391 2016-05-12 13:44:00 1        \n",
       "1325566 8877689391 2016-05-12 13:45:00 0        \n",
       "1325567 8877689391 2016-05-12 13:46:00 0        \n",
       "1325568 8877689391 2016-05-12 13:47:00 0        \n",
       "1325569 8877689391 2016-05-12 13:48:00 0        \n",
       "1325570 8877689391 2016-05-12 13:49:00 0        \n",
       "1325571 8877689391 2016-05-12 13:50:00 0        \n",
       "1325572 8877689391 2016-05-12 13:51:00 0        \n",
       "1325573 8877689391 2016-05-12 13:52:00 0        \n",
       "1325574 8877689391 2016-05-12 13:53:00 0        \n",
       "1325575 8877689391 2016-05-12 13:54:00 0        \n",
       "1325576 8877689391 2016-05-12 13:55:00 0        \n",
       "1325577 8877689391 2016-05-12 13:56:00 0        \n",
       "1325578 8877689391 2016-05-12 13:57:00 0        \n",
       "1325579 8877689391 2016-05-12 13:58:00 0        \n",
       "1325580 8877689391 2016-05-12 13:59:00 0        "
      ]
     },
     "metadata": {},
     "output_type": "display_data"
    }
   ],
   "source": [
    "head(min_intensities_narrow)\n",
    "View(min_intensities_narrow)"
   ]
  },
  {
   "cell_type": "markdown",
   "id": "c0be03a9-12b7-45a4-85d5-27e3967ec8fe",
   "metadata": {
    "tags": []
   },
   "source": [
    "#### Fusionando los data.frame min_calories_narrow y min_intensities_narrow"
   ]
  },
  {
   "cell_type": "code",
   "execution_count": 31,
   "id": "09ffc502-e8e9-4003-91ce-de571aaad0aa",
   "metadata": {},
   "outputs": [],
   "source": [
    "intensity_calories <- \n",
    "  merge(min_intensities_narrow, min_calories_narrow, by=c (\"id\", \"date_minute\"))"
   ]
  },
  {
   "cell_type": "code",
   "execution_count": 32,
   "id": "9bff17c2-4b26-4d89-8e8c-8e6f6c852612",
   "metadata": {
    "collapsed": true,
    "jupyter": {
     "outputs_hidden": true
    },
    "tags": []
   },
   "outputs": [
    {
     "data": {
      "text/html": [
       "<table class=\"dataframe\">\n",
       "<caption>A data.frame: 6 × 4</caption>\n",
       "<thead>\n",
       "\t<tr><th></th><th scope=col>id</th><th scope=col>date_minute</th><th scope=col>intensity</th><th scope=col>calories</th></tr>\n",
       "\t<tr><th></th><th scope=col>&lt;dbl&gt;</th><th scope=col>&lt;dttm&gt;</th><th scope=col>&lt;dbl&gt;</th><th scope=col>&lt;dbl&gt;</th></tr>\n",
       "</thead>\n",
       "<tbody>\n",
       "\t<tr><th scope=row>1</th><td>1503960366</td><td>2016-04-12 00:00:00</td><td>0</td><td>0.7865</td></tr>\n",
       "\t<tr><th scope=row>2</th><td>1503960366</td><td>2016-04-12 00:01:00</td><td>0</td><td>0.7865</td></tr>\n",
       "\t<tr><th scope=row>3</th><td>1503960366</td><td>2016-04-12 00:02:00</td><td>0</td><td>0.7865</td></tr>\n",
       "\t<tr><th scope=row>4</th><td>1503960366</td><td>2016-04-12 00:03:00</td><td>0</td><td>0.7865</td></tr>\n",
       "\t<tr><th scope=row>5</th><td>1503960366</td><td>2016-04-12 00:04:00</td><td>0</td><td>0.7865</td></tr>\n",
       "\t<tr><th scope=row>6</th><td>1503960366</td><td>2016-04-12 00:05:00</td><td>0</td><td>0.9438</td></tr>\n",
       "</tbody>\n",
       "</table>\n"
      ],
      "text/latex": [
       "A data.frame: 6 × 4\n",
       "\\begin{tabular}{r|llll}\n",
       "  & id & date\\_minute & intensity & calories\\\\\n",
       "  & <dbl> & <dttm> & <dbl> & <dbl>\\\\\n",
       "\\hline\n",
       "\t1 & 1503960366 & 2016-04-12 00:00:00 & 0 & 0.7865\\\\\n",
       "\t2 & 1503960366 & 2016-04-12 00:01:00 & 0 & 0.7865\\\\\n",
       "\t3 & 1503960366 & 2016-04-12 00:02:00 & 0 & 0.7865\\\\\n",
       "\t4 & 1503960366 & 2016-04-12 00:03:00 & 0 & 0.7865\\\\\n",
       "\t5 & 1503960366 & 2016-04-12 00:04:00 & 0 & 0.7865\\\\\n",
       "\t6 & 1503960366 & 2016-04-12 00:05:00 & 0 & 0.9438\\\\\n",
       "\\end{tabular}\n"
      ],
      "text/markdown": [
       "\n",
       "A data.frame: 6 × 4\n",
       "\n",
       "| <!--/--> | id &lt;dbl&gt; | date_minute &lt;dttm&gt; | intensity &lt;dbl&gt; | calories &lt;dbl&gt; |\n",
       "|---|---|---|---|---|\n",
       "| 1 | 1503960366 | 2016-04-12 00:00:00 | 0 | 0.7865 |\n",
       "| 2 | 1503960366 | 2016-04-12 00:01:00 | 0 | 0.7865 |\n",
       "| 3 | 1503960366 | 2016-04-12 00:02:00 | 0 | 0.7865 |\n",
       "| 4 | 1503960366 | 2016-04-12 00:03:00 | 0 | 0.7865 |\n",
       "| 5 | 1503960366 | 2016-04-12 00:04:00 | 0 | 0.7865 |\n",
       "| 6 | 1503960366 | 2016-04-12 00:05:00 | 0 | 0.9438 |\n",
       "\n"
      ],
      "text/plain": [
       "  id         date_minute         intensity calories\n",
       "1 1503960366 2016-04-12 00:00:00 0         0.7865  \n",
       "2 1503960366 2016-04-12 00:01:00 0         0.7865  \n",
       "3 1503960366 2016-04-12 00:02:00 0         0.7865  \n",
       "4 1503960366 2016-04-12 00:03:00 0         0.7865  \n",
       "5 1503960366 2016-04-12 00:04:00 0         0.7865  \n",
       "6 1503960366 2016-04-12 00:05:00 0         0.9438  "
      ]
     },
     "metadata": {},
     "output_type": "display_data"
    }
   ],
   "source": [
    "head(intensity_calories)"
   ]
  },
  {
   "cell_type": "markdown",
   "id": "546d86d8-6434-418a-ac2f-ec606bcdc792",
   "metadata": {},
   "source": [
    "#### Renombrar a date la columna date_minute\n",
    "Además del renombrado transforme la columna a fecha, elimando las horas y minutos de modo que pueda operar con ellos agrupando por id"
   ]
  },
  {
   "cell_type": "code",
   "execution_count": 33,
   "id": "ee48c4a3-139e-40fb-9f4c-74235b75bae6",
   "metadata": {},
   "outputs": [],
   "source": [
    "intensity_calories <- intensity_calories %>%\n",
    "  rename(date = date_minute) %>% \n",
    "  mutate(date = as.Date(date,format =\"%m/%d/%Y\"))"
   ]
  },
  {
   "cell_type": "code",
   "execution_count": 34,
   "id": "a6a625fc-54a2-472f-8142-96a29bec71bb",
   "metadata": {
    "collapsed": true,
    "jupyter": {
     "outputs_hidden": true
    },
    "tags": []
   },
   "outputs": [
    {
     "data": {
      "text/html": [
       "<table class=\"dataframe\">\n",
       "<caption>A data.frame: 6 × 4</caption>\n",
       "<thead>\n",
       "\t<tr><th></th><th scope=col>id</th><th scope=col>date</th><th scope=col>intensity</th><th scope=col>calories</th></tr>\n",
       "\t<tr><th></th><th scope=col>&lt;dbl&gt;</th><th scope=col>&lt;date&gt;</th><th scope=col>&lt;dbl&gt;</th><th scope=col>&lt;dbl&gt;</th></tr>\n",
       "</thead>\n",
       "<tbody>\n",
       "\t<tr><th scope=row>1</th><td>1503960366</td><td>2016-04-11</td><td>0</td><td>0.7865</td></tr>\n",
       "\t<tr><th scope=row>2</th><td>1503960366</td><td>2016-04-11</td><td>0</td><td>0.7865</td></tr>\n",
       "\t<tr><th scope=row>3</th><td>1503960366</td><td>2016-04-11</td><td>0</td><td>0.7865</td></tr>\n",
       "\t<tr><th scope=row>4</th><td>1503960366</td><td>2016-04-11</td><td>0</td><td>0.7865</td></tr>\n",
       "\t<tr><th scope=row>5</th><td>1503960366</td><td>2016-04-11</td><td>0</td><td>0.7865</td></tr>\n",
       "\t<tr><th scope=row>6</th><td>1503960366</td><td>2016-04-11</td><td>0</td><td>0.9438</td></tr>\n",
       "</tbody>\n",
       "</table>\n"
      ],
      "text/latex": [
       "A data.frame: 6 × 4\n",
       "\\begin{tabular}{r|llll}\n",
       "  & id & date & intensity & calories\\\\\n",
       "  & <dbl> & <date> & <dbl> & <dbl>\\\\\n",
       "\\hline\n",
       "\t1 & 1503960366 & 2016-04-11 & 0 & 0.7865\\\\\n",
       "\t2 & 1503960366 & 2016-04-11 & 0 & 0.7865\\\\\n",
       "\t3 & 1503960366 & 2016-04-11 & 0 & 0.7865\\\\\n",
       "\t4 & 1503960366 & 2016-04-11 & 0 & 0.7865\\\\\n",
       "\t5 & 1503960366 & 2016-04-11 & 0 & 0.7865\\\\\n",
       "\t6 & 1503960366 & 2016-04-11 & 0 & 0.9438\\\\\n",
       "\\end{tabular}\n"
      ],
      "text/markdown": [
       "\n",
       "A data.frame: 6 × 4\n",
       "\n",
       "| <!--/--> | id &lt;dbl&gt; | date &lt;date&gt; | intensity &lt;dbl&gt; | calories &lt;dbl&gt; |\n",
       "|---|---|---|---|---|\n",
       "| 1 | 1503960366 | 2016-04-11 | 0 | 0.7865 |\n",
       "| 2 | 1503960366 | 2016-04-11 | 0 | 0.7865 |\n",
       "| 3 | 1503960366 | 2016-04-11 | 0 | 0.7865 |\n",
       "| 4 | 1503960366 | 2016-04-11 | 0 | 0.7865 |\n",
       "| 5 | 1503960366 | 2016-04-11 | 0 | 0.7865 |\n",
       "| 6 | 1503960366 | 2016-04-11 | 0 | 0.9438 |\n",
       "\n"
      ],
      "text/plain": [
       "  id         date       intensity calories\n",
       "1 1503960366 2016-04-11 0         0.7865  \n",
       "2 1503960366 2016-04-11 0         0.7865  \n",
       "3 1503960366 2016-04-11 0         0.7865  \n",
       "4 1503960366 2016-04-11 0         0.7865  \n",
       "5 1503960366 2016-04-11 0         0.7865  \n",
       "6 1503960366 2016-04-11 0         0.9438  "
      ]
     },
     "metadata": {},
     "output_type": "display_data"
    }
   ],
   "source": [
    "head(intensity_calories)"
   ]
  },
  {
   "cell_type": "code",
   "execution_count": null,
   "id": "2bd5627d-201f-40e2-b426-5b00d5601f23",
   "metadata": {},
   "outputs": [],
   "source": []
  },
  {
   "cell_type": "code",
   "execution_count": null,
   "id": "11e838ca-fa73-49ce-8a05-640b6ea86db7",
   "metadata": {},
   "outputs": [],
   "source": []
  },
  {
   "cell_type": "markdown",
   "id": "c44df36d-fc37-4e18-9ea7-f4309c440e74",
   "metadata": {
    "tags": []
   },
   "source": [
    "### Análisis de rango de uso\n",
    "Éste análisis creo que es el primero en aparecer, ya que permite construir un mejor storytelling"
   ]
  },
  {
   "cell_type": "markdown",
   "id": "9c0236e7-c11e-4937-81c7-f7398a031e67",
   "metadata": {},
   "source": [
    "Para el análisis del patrón de uso, utilizo el data.frame daily_activity para construir uno llamado daily_minutes_used en el que ubicaremos el uso que hicieron los sujetos del dispositivo inteligente según una escala de: *bajo*, *moderado*, *regular*, *alto*"
   ]
  },
  {
   "cell_type": "code",
   "execution_count": 97,
   "id": "e3b79396-ef88-4a98-84d9-da73bc03e7b6",
   "metadata": {},
   "outputs": [],
   "source": [
    "daily_minutes_used <- daily_activity %>%\n",
    "  group_by(id, date) %>%\n",
    "  mutate(minutesused = sum(veryactiveminutes, fairlyactiveminutes, lightlyactiveminutes, sedentaryminutes))"
   ]
  },
  {
   "cell_type": "markdown",
   "id": "56d81806-0fc8-4ab7-9c41-3a1ce67f7163",
   "metadata": {},
   "source": [
    "###### Filtrando a los sujetos con cero uso\n",
    "La idea es ubicar si alguno de los sujetos no uso durante estos 30 días el dispositivo inteligente"
   ]
  },
  {
   "cell_type": "code",
   "execution_count": 98,
   "id": "b720f0a5-5888-4530-ad5c-58a75964b45f",
   "metadata": {
    "collapsed": true,
    "jupyter": {
     "outputs_hidden": true
    },
    "tags": []
   },
   "outputs": [
    {
     "data": {
      "text/html": [
       "<table class=\"dataframe\">\n",
       "<caption>A grouped_df: 0 × 16</caption>\n",
       "<thead>\n",
       "\t<tr><th scope=col>id</th><th scope=col>date</th><th scope=col>totalsteps</th><th scope=col>totaldistance</th><th scope=col>trackerdistance</th><th scope=col>loggedactivitiesdistance</th><th scope=col>veryactivedistance</th><th scope=col>moderatelyactivedistance</th><th scope=col>lightactivedistance</th><th scope=col>sedentaryactivedistance</th><th scope=col>veryactiveminutes</th><th scope=col>fairlyactiveminutes</th><th scope=col>lightlyactiveminutes</th><th scope=col>sedentaryminutes</th><th scope=col>calories</th><th scope=col>minutesused</th></tr>\n",
       "\t<tr><th scope=col>&lt;dbl&gt;</th><th scope=col>&lt;date&gt;</th><th scope=col>&lt;dbl&gt;</th><th scope=col>&lt;dbl&gt;</th><th scope=col>&lt;dbl&gt;</th><th scope=col>&lt;dbl&gt;</th><th scope=col>&lt;dbl&gt;</th><th scope=col>&lt;dbl&gt;</th><th scope=col>&lt;dbl&gt;</th><th scope=col>&lt;dbl&gt;</th><th scope=col>&lt;dbl&gt;</th><th scope=col>&lt;dbl&gt;</th><th scope=col>&lt;dbl&gt;</th><th scope=col>&lt;dbl&gt;</th><th scope=col>&lt;dbl&gt;</th><th scope=col>&lt;dbl&gt;</th></tr>\n",
       "</thead>\n",
       "<tbody>\n",
       "</tbody>\n",
       "</table>\n"
      ],
      "text/latex": [
       "A grouped\\_df: 0 × 16\n",
       "\\begin{tabular}{llllllllllllllll}\n",
       " id & date & totalsteps & totaldistance & trackerdistance & loggedactivitiesdistance & veryactivedistance & moderatelyactivedistance & lightactivedistance & sedentaryactivedistance & veryactiveminutes & fairlyactiveminutes & lightlyactiveminutes & sedentaryminutes & calories & minutesused\\\\\n",
       " <dbl> & <date> & <dbl> & <dbl> & <dbl> & <dbl> & <dbl> & <dbl> & <dbl> & <dbl> & <dbl> & <dbl> & <dbl> & <dbl> & <dbl> & <dbl>\\\\\n",
       "\\hline\n",
       "\\end{tabular}\n"
      ],
      "text/markdown": [
       "\n",
       "A grouped_df: 0 × 16\n",
       "\n",
       "| id &lt;dbl&gt; | date &lt;date&gt; | totalsteps &lt;dbl&gt; | totaldistance &lt;dbl&gt; | trackerdistance &lt;dbl&gt; | loggedactivitiesdistance &lt;dbl&gt; | veryactivedistance &lt;dbl&gt; | moderatelyactivedistance &lt;dbl&gt; | lightactivedistance &lt;dbl&gt; | sedentaryactivedistance &lt;dbl&gt; | veryactiveminutes &lt;dbl&gt; | fairlyactiveminutes &lt;dbl&gt; | lightlyactiveminutes &lt;dbl&gt; | sedentaryminutes &lt;dbl&gt; | calories &lt;dbl&gt; | minutesused &lt;dbl&gt; |\n",
       "|---|---|---|---|---|---|---|---|---|---|---|---|---|---|---|---|\n",
       "\n"
      ],
      "text/plain": [
       "     id date totalsteps totaldistance trackerdistance loggedactivitiesdistance\n",
       "     veryactivedistance moderatelyactivedistance lightactivedistance\n",
       "     sedentaryactivedistance veryactiveminutes fairlyactiveminutes\n",
       "     lightlyactiveminutes sedentaryminutes calories minutesused"
      ]
     },
     "metadata": {},
     "output_type": "display_data"
    }
   ],
   "source": [
    "daily_minutes_used %>%\n",
    "  group_by(id, date) %>%\n",
    "  filter(minutesused <= 1)"
   ]
  },
  {
   "cell_type": "markdown",
   "id": "a09d3259-3591-46b0-8eae-7ac3fdce45c9",
   "metadata": {},
   "source": [
    "No hay ningún sujeto que no usuara el dispositivo inteligente, todos los usaron en mayor o menor medida. Lo cual indica que los dispositivos una vez adquirido siempre son usados por las personas."
   ]
  },
  {
   "cell_type": "markdown",
   "id": "d662dc5d-3ad5-4179-8f32-6d0744a5cb8f",
   "metadata": {
    "tags": []
   },
   "source": [
    "###### Descubriendo a los sujetos con menor uso diario del dispositivo inteligente"
   ]
  },
  {
   "cell_type": "code",
   "execution_count": 102,
   "id": "7cc5f032-4297-40cc-84e4-96987b1e23bb",
   "metadata": {
    "collapsed": true,
    "jupyter": {
     "outputs_hidden": true
    },
    "tags": []
   },
   "outputs": [
    {
     "data": {
      "text/html": [
       "<table class=\"dataframe\">\n",
       "<caption>A grouped_df: 31 × 3</caption>\n",
       "<thead>\n",
       "\t<tr><th scope=col>id</th><th scope=col>date</th><th scope=col>minutesused</th></tr>\n",
       "\t<tr><th scope=col>&lt;dbl&gt;</th><th scope=col>&lt;date&gt;</th><th scope=col>&lt;dbl&gt;</th></tr>\n",
       "</thead>\n",
       "<tbody>\n",
       "\t<tr><td>1927972279</td><td>2016-04-12</td><td>789</td></tr>\n",
       "\t<tr><td>6962181067</td><td>2016-04-13</td><td>722</td></tr>\n",
       "\t<tr><td>2026352035</td><td>2016-04-14</td><td>850</td></tr>\n",
       "\t<tr><td>1844505072</td><td>2016-04-15</td><td>703</td></tr>\n",
       "\t<tr><td>8378563200</td><td>2016-04-16</td><td>790</td></tr>\n",
       "\t<tr><td>8378563200</td><td>2016-04-17</td><td>692</td></tr>\n",
       "\t<tr><td>5553957443</td><td>2016-04-18</td><td>828</td></tr>\n",
       "\t<tr><td>6117666160</td><td>2016-04-19</td><td>905</td></tr>\n",
       "\t<tr><td>5553957443</td><td>2016-04-20</td><td>746</td></tr>\n",
       "\t<tr><td>2026352035</td><td>2016-04-21</td><td>902</td></tr>\n",
       "\t<tr><td>6117666160</td><td>2016-04-22</td><td>815</td></tr>\n",
       "\t<tr><td>5553957443</td><td>2016-04-23</td><td>715</td></tr>\n",
       "\t<tr><td>5553957443</td><td>2016-04-24</td><td>686</td></tr>\n",
       "\t<tr><td>4319703577</td><td>2016-04-25</td><td>942</td></tr>\n",
       "\t<tr><td>8378563200</td><td>2016-04-26</td><td>862</td></tr>\n",
       "\t<tr><td>2026352035</td><td>2016-04-27</td><td>872</td></tr>\n",
       "\t<tr><td>8378563200</td><td>2016-04-28</td><td>871</td></tr>\n",
       "\t<tr><td>2347167796</td><td>2016-04-29</td><td>  6</td></tr>\n",
       "\t<tr><td>1844505072</td><td>2016-04-30</td><td>402</td></tr>\n",
       "\t<tr><td>1844505072</td><td>2016-05-01</td><td>667</td></tr>\n",
       "\t<tr><td>1644430081</td><td>2016-05-02</td><td>838</td></tr>\n",
       "\t<tr><td>8792009665</td><td>2016-05-03</td><td>895</td></tr>\n",
       "\t<tr><td>5577150313</td><td>2016-05-04</td><td>806</td></tr>\n",
       "\t<tr><td>4445114986</td><td>2016-05-05</td><td>927</td></tr>\n",
       "\t<tr><td>6117666160</td><td>2016-05-06</td><td>806</td></tr>\n",
       "\t<tr><td>7007744171</td><td>2016-05-07</td><td>111</td></tr>\n",
       "\t<tr><td>5553957443</td><td>2016-05-08</td><td>726</td></tr>\n",
       "\t<tr><td>6117666160</td><td>2016-05-09</td><td>322</td></tr>\n",
       "\t<tr><td>8792009665</td><td>2016-05-10</td><td> 48</td></tr>\n",
       "\t<tr><td>3977333714</td><td>2016-05-11</td><td> 26</td></tr>\n",
       "\t<tr><td>4319703577</td><td>2016-05-12</td><td>  2</td></tr>\n",
       "</tbody>\n",
       "</table>\n"
      ],
      "text/latex": [
       "A grouped\\_df: 31 × 3\n",
       "\\begin{tabular}{lll}\n",
       " id & date & minutesused\\\\\n",
       " <dbl> & <date> & <dbl>\\\\\n",
       "\\hline\n",
       "\t 1927972279 & 2016-04-12 & 789\\\\\n",
       "\t 6962181067 & 2016-04-13 & 722\\\\\n",
       "\t 2026352035 & 2016-04-14 & 850\\\\\n",
       "\t 1844505072 & 2016-04-15 & 703\\\\\n",
       "\t 8378563200 & 2016-04-16 & 790\\\\\n",
       "\t 8378563200 & 2016-04-17 & 692\\\\\n",
       "\t 5553957443 & 2016-04-18 & 828\\\\\n",
       "\t 6117666160 & 2016-04-19 & 905\\\\\n",
       "\t 5553957443 & 2016-04-20 & 746\\\\\n",
       "\t 2026352035 & 2016-04-21 & 902\\\\\n",
       "\t 6117666160 & 2016-04-22 & 815\\\\\n",
       "\t 5553957443 & 2016-04-23 & 715\\\\\n",
       "\t 5553957443 & 2016-04-24 & 686\\\\\n",
       "\t 4319703577 & 2016-04-25 & 942\\\\\n",
       "\t 8378563200 & 2016-04-26 & 862\\\\\n",
       "\t 2026352035 & 2016-04-27 & 872\\\\\n",
       "\t 8378563200 & 2016-04-28 & 871\\\\\n",
       "\t 2347167796 & 2016-04-29 &   6\\\\\n",
       "\t 1844505072 & 2016-04-30 & 402\\\\\n",
       "\t 1844505072 & 2016-05-01 & 667\\\\\n",
       "\t 1644430081 & 2016-05-02 & 838\\\\\n",
       "\t 8792009665 & 2016-05-03 & 895\\\\\n",
       "\t 5577150313 & 2016-05-04 & 806\\\\\n",
       "\t 4445114986 & 2016-05-05 & 927\\\\\n",
       "\t 6117666160 & 2016-05-06 & 806\\\\\n",
       "\t 7007744171 & 2016-05-07 & 111\\\\\n",
       "\t 5553957443 & 2016-05-08 & 726\\\\\n",
       "\t 6117666160 & 2016-05-09 & 322\\\\\n",
       "\t 8792009665 & 2016-05-10 &  48\\\\\n",
       "\t 3977333714 & 2016-05-11 &  26\\\\\n",
       "\t 4319703577 & 2016-05-12 &   2\\\\\n",
       "\\end{tabular}\n"
      ],
      "text/markdown": [
       "\n",
       "A grouped_df: 31 × 3\n",
       "\n",
       "| id &lt;dbl&gt; | date &lt;date&gt; | minutesused &lt;dbl&gt; |\n",
       "|---|---|---|\n",
       "| 1927972279 | 2016-04-12 | 789 |\n",
       "| 6962181067 | 2016-04-13 | 722 |\n",
       "| 2026352035 | 2016-04-14 | 850 |\n",
       "| 1844505072 | 2016-04-15 | 703 |\n",
       "| 8378563200 | 2016-04-16 | 790 |\n",
       "| 8378563200 | 2016-04-17 | 692 |\n",
       "| 5553957443 | 2016-04-18 | 828 |\n",
       "| 6117666160 | 2016-04-19 | 905 |\n",
       "| 5553957443 | 2016-04-20 | 746 |\n",
       "| 2026352035 | 2016-04-21 | 902 |\n",
       "| 6117666160 | 2016-04-22 | 815 |\n",
       "| 5553957443 | 2016-04-23 | 715 |\n",
       "| 5553957443 | 2016-04-24 | 686 |\n",
       "| 4319703577 | 2016-04-25 | 942 |\n",
       "| 8378563200 | 2016-04-26 | 862 |\n",
       "| 2026352035 | 2016-04-27 | 872 |\n",
       "| 8378563200 | 2016-04-28 | 871 |\n",
       "| 2347167796 | 2016-04-29 |   6 |\n",
       "| 1844505072 | 2016-04-30 | 402 |\n",
       "| 1844505072 | 2016-05-01 | 667 |\n",
       "| 1644430081 | 2016-05-02 | 838 |\n",
       "| 8792009665 | 2016-05-03 | 895 |\n",
       "| 5577150313 | 2016-05-04 | 806 |\n",
       "| 4445114986 | 2016-05-05 | 927 |\n",
       "| 6117666160 | 2016-05-06 | 806 |\n",
       "| 7007744171 | 2016-05-07 | 111 |\n",
       "| 5553957443 | 2016-05-08 | 726 |\n",
       "| 6117666160 | 2016-05-09 | 322 |\n",
       "| 8792009665 | 2016-05-10 |  48 |\n",
       "| 3977333714 | 2016-05-11 |  26 |\n",
       "| 4319703577 | 2016-05-12 |   2 |\n",
       "\n"
      ],
      "text/plain": [
       "   id         date       minutesused\n",
       "1  1927972279 2016-04-12 789        \n",
       "2  6962181067 2016-04-13 722        \n",
       "3  2026352035 2016-04-14 850        \n",
       "4  1844505072 2016-04-15 703        \n",
       "5  8378563200 2016-04-16 790        \n",
       "6  8378563200 2016-04-17 692        \n",
       "7  5553957443 2016-04-18 828        \n",
       "8  6117666160 2016-04-19 905        \n",
       "9  5553957443 2016-04-20 746        \n",
       "10 2026352035 2016-04-21 902        \n",
       "11 6117666160 2016-04-22 815        \n",
       "12 5553957443 2016-04-23 715        \n",
       "13 5553957443 2016-04-24 686        \n",
       "14 4319703577 2016-04-25 942        \n",
       "15 8378563200 2016-04-26 862        \n",
       "16 2026352035 2016-04-27 872        \n",
       "17 8378563200 2016-04-28 871        \n",
       "18 2347167796 2016-04-29   6        \n",
       "19 1844505072 2016-04-30 402        \n",
       "20 1844505072 2016-05-01 667        \n",
       "21 1644430081 2016-05-02 838        \n",
       "22 8792009665 2016-05-03 895        \n",
       "23 5577150313 2016-05-04 806        \n",
       "24 4445114986 2016-05-05 927        \n",
       "25 6117666160 2016-05-06 806        \n",
       "26 7007744171 2016-05-07 111        \n",
       "27 5553957443 2016-05-08 726        \n",
       "28 6117666160 2016-05-09 322        \n",
       "29 8792009665 2016-05-10  48        \n",
       "30 3977333714 2016-05-11  26        \n",
       "31 4319703577 2016-05-12   2        "
      ]
     },
     "metadata": {},
     "output_type": "display_data"
    }
   ],
   "source": [
    "min_df_uso <- daily_minutes_used %>%\n",
    "  group_by(date) %>%\n",
    "  filter(minutesused == min(minutesused)) %>%\n",
    "  select(id, date, minutesused) %>%\n",
    "  arrange(date)\n",
    "View(min_df_uso)"
   ]
  },
  {
   "cell_type": "markdown",
   "id": "f200668f-13cd-4327-8d6c-4f52b8d9cb83",
   "metadata": {
    "tags": []
   },
   "source": [
    "Aquí se puede observar que existen algunas personas con un uso bajo del dispositivo inteligente"
   ]
  },
  {
   "cell_type": "markdown",
   "id": "22beab0e-b50e-4ece-85e8-c0b16907d06d",
   "metadata": {},
   "source": [
    "Destacando a aquellos un con un uso bajo. Son 5 personas"
   ]
  },
  {
   "cell_type": "code",
   "execution_count": 105,
   "id": "0e42f44c-f5f2-48fa-815c-ed9d251e5103",
   "metadata": {
    "collapsed": true,
    "jupyter": {
     "outputs_hidden": true
    },
    "tags": []
   },
   "outputs": [
    {
     "data": {
      "text/html": [
       "<table class=\"dataframe\">\n",
       "<caption>A grouped_df: 5 × 3</caption>\n",
       "<thead>\n",
       "\t<tr><th scope=col>id</th><th scope=col>date</th><th scope=col>minutesused</th></tr>\n",
       "\t<tr><th scope=col>&lt;dbl&gt;</th><th scope=col>&lt;date&gt;</th><th scope=col>&lt;dbl&gt;</th></tr>\n",
       "</thead>\n",
       "<tbody>\n",
       "\t<tr><td>2347167796</td><td>2016-04-29</td><td>  6</td></tr>\n",
       "\t<tr><td>7007744171</td><td>2016-05-07</td><td>111</td></tr>\n",
       "\t<tr><td>8792009665</td><td>2016-05-10</td><td> 48</td></tr>\n",
       "\t<tr><td>3977333714</td><td>2016-05-11</td><td> 26</td></tr>\n",
       "\t<tr><td>4319703577</td><td>2016-05-12</td><td>  2</td></tr>\n",
       "</tbody>\n",
       "</table>\n"
      ],
      "text/latex": [
       "A grouped\\_df: 5 × 3\n",
       "\\begin{tabular}{lll}\n",
       " id & date & minutesused\\\\\n",
       " <dbl> & <date> & <dbl>\\\\\n",
       "\\hline\n",
       "\t 2347167796 & 2016-04-29 &   6\\\\\n",
       "\t 7007744171 & 2016-05-07 & 111\\\\\n",
       "\t 8792009665 & 2016-05-10 &  48\\\\\n",
       "\t 3977333714 & 2016-05-11 &  26\\\\\n",
       "\t 4319703577 & 2016-05-12 &   2\\\\\n",
       "\\end{tabular}\n"
      ],
      "text/markdown": [
       "\n",
       "A grouped_df: 5 × 3\n",
       "\n",
       "| id &lt;dbl&gt; | date &lt;date&gt; | minutesused &lt;dbl&gt; |\n",
       "|---|---|---|\n",
       "| 2347167796 | 2016-04-29 |   6 |\n",
       "| 7007744171 | 2016-05-07 | 111 |\n",
       "| 8792009665 | 2016-05-10 |  48 |\n",
       "| 3977333714 | 2016-05-11 |  26 |\n",
       "| 4319703577 | 2016-05-12 |   2 |\n",
       "\n"
      ],
      "text/plain": [
       "  id         date       minutesused\n",
       "1 2347167796 2016-04-29   6        \n",
       "2 7007744171 2016-05-07 111        \n",
       "3 8792009665 2016-05-10  48        \n",
       "4 3977333714 2016-05-11  26        \n",
       "5 4319703577 2016-05-12   2        "
      ]
     },
     "metadata": {},
     "output_type": "display_data"
    }
   ],
   "source": [
    "min_df_uso %>%\n",
    "    group_by(date) %>%\n",
    "    filter(minutesused <= 150) %>%\n",
    "    select(id, date, minutesused) %>%\n",
    "    arrange(date)"
   ]
  },
  {
   "cell_type": "markdown",
   "id": "263b3f85-cb44-44d1-824d-0702a7790d4f",
   "metadata": {},
   "source": [
    "##### Construir una escala de uso\n",
    "Esta escala tiene 4 niveles de uso: bajo, moderado, regular y alto"
   ]
  },
  {
   "cell_type": "code",
   "execution_count": 106,
   "id": "2791e68f-5cb5-4fbb-b4dd-2e49d07a5b52",
   "metadata": {},
   "outputs": [],
   "source": [
    "rango_uso <- daily_minutes_used %>%\n",
    "  mutate(usertype = case_when(\n",
    "    minutesused < 360 ~ \"Bajo\",\n",
    "    minutesused >= 361 & minutesused < 719 ~ \"Moderado\",\n",
    "    minutesused >= 720 & minutesused < 1079 ~ \"Regular\",\n",
    "    minutesused >= 1080 ~ \"Alto\"\n",
    "  )) "
   ]
  },
  {
   "cell_type": "markdown",
   "id": "aa8b849b-498b-499b-8379-309edb1ed639",
   "metadata": {
    "tags": []
   },
   "source": [
    "###### Totalizar la escala"
   ]
  },
  {
   "cell_type": "code",
   "execution_count": 147,
   "id": "6895b008-b2ae-4a32-9d44-17da8b96b4bc",
   "metadata": {},
   "outputs": [
    {
     "data": {
      "text/html": [
       "<table class=\"dataframe\">\n",
       "<caption>A tibble: 4 × 3</caption>\n",
       "<thead>\n",
       "\t<tr><th scope=col>usertype</th><th scope=col>totalpercent</th><th scope=col>labels</th></tr>\n",
       "\t<tr><th scope=col>&lt;fct&gt;</th><th scope=col>&lt;dbl&gt;</th><th scope=col>&lt;chr&gt;</th></tr>\n",
       "</thead>\n",
       "<tbody>\n",
       "\t<tr><td>Alto    </td><td>60.6382979</td><td>60.64 %</td></tr>\n",
       "\t<tr><td>Bajo    </td><td> 0.9574468</td><td>0.96 % </td></tr>\n",
       "\t<tr><td>Moderado</td><td> 1.7021277</td><td>1.7 %  </td></tr>\n",
       "\t<tr><td>Regular </td><td>36.7021277</td><td>36.7 % </td></tr>\n",
       "</tbody>\n",
       "</table>\n"
      ],
      "text/latex": [
       "A tibble: 4 × 3\n",
       "\\begin{tabular}{lll}\n",
       " usertype & totalpercent & labels\\\\\n",
       " <fct> & <dbl> & <chr>\\\\\n",
       "\\hline\n",
       "\t Alto     & 60.6382979 & 60.64 \\%\\\\\n",
       "\t Bajo     &  0.9574468 & 0.96 \\% \\\\\n",
       "\t Moderado &  1.7021277 & 1.7 \\%  \\\\\n",
       "\t Regular  & 36.7021277 & 36.7 \\% \\\\\n",
       "\\end{tabular}\n"
      ],
      "text/markdown": [
       "\n",
       "A tibble: 4 × 3\n",
       "\n",
       "| usertype &lt;fct&gt; | totalpercent &lt;dbl&gt; | labels &lt;chr&gt; |\n",
       "|---|---|---|\n",
       "| Alto     | 60.6382979 | 60.64 % |\n",
       "| Bajo     |  0.9574468 | 0.96 %  |\n",
       "| Moderado |  1.7021277 | 1.7 %   |\n",
       "| Regular  | 36.7021277 | 36.7 %  |\n",
       "\n"
      ],
      "text/plain": [
       "  usertype totalpercent labels \n",
       "1 Alto     60.6382979   60.64 %\n",
       "2 Bajo      0.9574468   0.96 % \n",
       "3 Moderado  1.7021277   1.7 %  \n",
       "4 Regular  36.7021277   36.7 % "
      ]
     },
     "metadata": {},
     "output_type": "display_data"
    }
   ],
   "source": [
    "rango_uso_percent <- rango_uso %>%\n",
    "  group_by(usertype) %>%\n",
    "  summarise(total = n()) %>%\n",
    "  mutate(totals = sum(total)) %>%\n",
    "  group_by(usertype) %>%\n",
    "  summarise(totalpercent = (total/totals)*100) %>%\n",
    "  mutate(labels = paste(round(totalpercent, 2), \"%\"))\n",
    "\n",
    "rango_uso_percent$usertype <- factor(rango_uso_percent$usertype, levels = c(\"Bajo\", \"Moderado\", \"Regular\", \"Alto\"))\n",
    "View(rango_uso_percent)"
   ]
  },
  {
   "cell_type": "code",
   "execution_count": 143,
   "id": "63cc5519-0a60-409d-baad-130b44b88864",
   "metadata": {},
   "outputs": [],
   "source": [
    "write.csv(rango_uso_percent, \"rango_uso_percent.csv\", row.names = FALSE)"
   ]
  },
  {
   "cell_type": "markdown",
   "id": "20c1ff5c-9e88-47f6-a6a0-734691e396fa",
   "metadata": {
    "tags": []
   },
   "source": [
    "###### Visualizar rango de uso"
   ]
  },
  {
   "cell_type": "code",
   "execution_count": 148,
   "id": "ec5d4080-1431-4a2e-a2ea-4fd08791bad6",
   "metadata": {
    "collapsed": true,
    "jupyter": {
     "outputs_hidden": true
    },
    "tags": []
   },
   "outputs": [
    {
     "data": {
      "image/png": "[encoded data removed]"
     },
     "metadata": {},
     "output_type": "display_data"
    }
   ],
   "source": [
    "display_png(file=\"C:/Users/Joako/Documents/R_proyectos/Caso_practico/Informe_jupyter/Imagenes/Porcentaje_uso.png\")"
   ]
  },
  {
   "cell_type": "code",
   "execution_count": null,
   "id": "caaeb9da-b812-42b6-b992-4051d4cc75c6",
   "metadata": {},
   "outputs": [],
   "source": []
  },
  {
   "cell_type": "code",
   "execution_count": null,
   "id": "aef1492e-7c3c-46f7-9cff-340be1185b6b",
   "metadata": {
    "tags": []
   },
   "outputs": [],
   "source": []
  },
  {
   "cell_type": "code",
   "execution_count": null,
   "id": "f5319d2f-ada9-4d6c-b19b-db7a8efc3d67",
   "metadata": {},
   "outputs": [],
   "source": []
  },
  {
   "cell_type": "markdown",
   "id": "afd8f203-48ab-40a1-8eb2-b8e5fd85d7d8",
   "metadata": {},
   "source": [
    "### Horas de mayor actividad física"
   ]
  },
  {
   "cell_type": "code",
   "execution_count": 160,
   "id": "25d031a3-a14d-4a31-a0b7-2cbb47ed3a4f",
   "metadata": {},
   "outputs": [],
   "source": [
    "intensities <- hourly_intensities %>%\n",
    "  group_by(time) %>%\n",
    "  summarise(avg_intensity = mean(averageintensity))"
   ]
  },
  {
   "cell_type": "markdown",
   "id": "e055aa51-d338-4b1d-8fa2-ddd434ba741c",
   "metadata": {},
   "source": [
    "###### Visualizar horas de mayor actividad física"
   ]
  },
  {
   "cell_type": "code",
   "execution_count": 163,
   "id": "488d3387-2d6a-411f-a148-8b25b3a73e3b",
   "metadata": {},
   "outputs": [
    {
     "data": {
      "image/png": "[encoded data removed]",
      "text/plain": [
       "plot without title"
      ]
     },
     "metadata": {
      "image/png": {
       "height": 420,
       "width": 420
      }
     },
     "output_type": "display_data"
    }
   ],
   "source": [
    "ggplot(data = intensities, aes(x = time, y = avg_intensity)) +\n",
    "  geom_bar(stat = \"identity\", fill = \"#76b7b2\") +\n",
    "  labs(title = \"Promedio de intensidad de actividad y horas de mayor actividad\") +\n",
    "  theme(axis.text.x = element_text(angle = 90))"
   ]
  },
  {
   "cell_type": "code",
   "execution_count": null,
   "id": "214590f0-da62-415d-accc-a289e3659597",
   "metadata": {},
   "outputs": [],
   "source": []
  },
  {
   "cell_type": "markdown",
   "id": "69fd5918-b371-4d49-8909-7ed6e7c5895e",
   "metadata": {},
   "source": [
    "#### Creación de data.frame para el cálculo del consumo de calorías diarias\n",
    "La idea es poder contabilizar cuantas calorías diarias quema o consume cada persona y obtener un promedio de calorías quemadas y establecer un patrón de comparación"
   ]
  },
  {
   "cell_type": "code",
   "execution_count": 35,
   "id": "1c305c64-ccdc-40e2-89f8-f025e27edbbe",
   "metadata": {},
   "outputs": [],
   "source": [
    "sum_diaria_v1 <- intensity_calories %>%\n",
    "  select(id, date, intensity, calories) %>%\n",
    "  group_by(id, date) %>%\n",
    "  summarise(total_diaria =sum(calories),\n",
    "            .groups = \"drop\")"
   ]
  },
  {
   "cell_type": "code",
   "execution_count": 36,
   "id": "94ef4a31-f02d-478a-a4e4-af2761d39ddc",
   "metadata": {
    "tags": []
   },
   "outputs": [
    {
     "data": {
      "text/html": [
       "<table class=\"dataframe\">\n",
       "<caption>A tibble: 6 × 3</caption>\n",
       "<thead>\n",
       "\t<tr><th scope=col>id</th><th scope=col>date</th><th scope=col>total_diaria</th></tr>\n",
       "\t<tr><th scope=col>&lt;dbl&gt;</th><th scope=col>&lt;date&gt;</th><th scope=col>&lt;dbl&gt;</th></tr>\n",
       "</thead>\n",
       "<tbody>\n",
       "\t<tr><td>1503960366</td><td>2016-04-11</td><td> 141.8846</td></tr>\n",
       "\t<tr><td>1503960366</td><td>2016-04-12</td><td>1960.1939</td></tr>\n",
       "\t<tr><td>1503960366</td><td>2016-04-13</td><td>1791.0964</td></tr>\n",
       "\t<tr><td>1503960366</td><td>2016-04-14</td><td>1784.4898</td></tr>\n",
       "\t<tr><td>1503960366</td><td>2016-04-15</td><td>1752.0073</td></tr>\n",
       "\t<tr><td>1503960366</td><td>2016-04-16</td><td>1833.4887</td></tr>\n",
       "</tbody>\n",
       "</table>\n"
      ],
      "text/latex": [
       "A tibble: 6 × 3\n",
       "\\begin{tabular}{lll}\n",
       " id & date & total\\_diaria\\\\\n",
       " <dbl> & <date> & <dbl>\\\\\n",
       "\\hline\n",
       "\t 1503960366 & 2016-04-11 &  141.8846\\\\\n",
       "\t 1503960366 & 2016-04-12 & 1960.1939\\\\\n",
       "\t 1503960366 & 2016-04-13 & 1791.0964\\\\\n",
       "\t 1503960366 & 2016-04-14 & 1784.4898\\\\\n",
       "\t 1503960366 & 2016-04-15 & 1752.0073\\\\\n",
       "\t 1503960366 & 2016-04-16 & 1833.4887\\\\\n",
       "\\end{tabular}\n"
      ],
      "text/markdown": [
       "\n",
       "A tibble: 6 × 3\n",
       "\n",
       "| id &lt;dbl&gt; | date &lt;date&gt; | total_diaria &lt;dbl&gt; |\n",
       "|---|---|---|\n",
       "| 1503960366 | 2016-04-11 |  141.8846 |\n",
       "| 1503960366 | 2016-04-12 | 1960.1939 |\n",
       "| 1503960366 | 2016-04-13 | 1791.0964 |\n",
       "| 1503960366 | 2016-04-14 | 1784.4898 |\n",
       "| 1503960366 | 2016-04-15 | 1752.0073 |\n",
       "| 1503960366 | 2016-04-16 | 1833.4887 |\n",
       "\n"
      ],
      "text/plain": [
       "  id         date       total_diaria\n",
       "1 1503960366 2016-04-11  141.8846   \n",
       "2 1503960366 2016-04-12 1960.1939   \n",
       "3 1503960366 2016-04-13 1791.0964   \n",
       "4 1503960366 2016-04-14 1784.4898   \n",
       "5 1503960366 2016-04-15 1752.0073   \n",
       "6 1503960366 2016-04-16 1833.4887   "
      ]
     },
     "metadata": {},
     "output_type": "display_data"
    }
   ],
   "source": [
    "head(sum_diaria_v1)"
   ]
  },
  {
   "cell_type": "markdown",
   "id": "9acead43-b0c5-41b1-8fd9-18d89506f9a8",
   "metadata": {},
   "source": [
    "Obtener promedios diarios por id del consumo de calorías"
   ]
  },
  {
   "cell_type": "code",
   "execution_count": 37,
   "id": "cbc0981e-049b-4035-a77c-5f1352264b66",
   "metadata": {
    "tags": []
   },
   "outputs": [
    {
     "data": {
      "text/html": [
       "<table class=\"dataframe\">\n",
       "<caption>A data.frame: 6 × 3</caption>\n",
       "<thead>\n",
       "\t<tr><th></th><th scope=col>id</th><th scope=col>date</th><th scope=col>total_diaria</th></tr>\n",
       "\t<tr><th></th><th scope=col>&lt;dbl&gt;</th><th scope=col>&lt;date&gt;</th><th scope=col>&lt;dbl&gt;</th></tr>\n",
       "</thead>\n",
       "<tbody>\n",
       "\t<tr><th scope=row>1</th><td>1503960366</td><td>2016-04-11</td><td>141.8846</td></tr>\n",
       "\t<tr><th scope=row>2</th><td>1624580081</td><td>2016-04-11</td><td>106.5342</td></tr>\n",
       "\t<tr><th scope=row>3</th><td>1644430081</td><td>2016-04-11</td><td>175.3814</td></tr>\n",
       "\t<tr><th scope=row>4</th><td>1844505072</td><td>2016-04-11</td><td>112.2840</td></tr>\n",
       "\t<tr><th scope=row>5</th><td>1927972279</td><td>2016-04-11</td><td>170.1260</td></tr>\n",
       "\t<tr><th scope=row>6</th><td>2022484408</td><td>2016-04-11</td><td>124.5240</td></tr>\n",
       "</tbody>\n",
       "</table>\n"
      ],
      "text/latex": [
       "A data.frame: 6 × 3\n",
       "\\begin{tabular}{r|lll}\n",
       "  & id & date & total\\_diaria\\\\\n",
       "  & <dbl> & <date> & <dbl>\\\\\n",
       "\\hline\n",
       "\t1 & 1503960366 & 2016-04-11 & 141.8846\\\\\n",
       "\t2 & 1624580081 & 2016-04-11 & 106.5342\\\\\n",
       "\t3 & 1644430081 & 2016-04-11 & 175.3814\\\\\n",
       "\t4 & 1844505072 & 2016-04-11 & 112.2840\\\\\n",
       "\t5 & 1927972279 & 2016-04-11 & 170.1260\\\\\n",
       "\t6 & 2022484408 & 2016-04-11 & 124.5240\\\\\n",
       "\\end{tabular}\n"
      ],
      "text/markdown": [
       "\n",
       "A data.frame: 6 × 3\n",
       "\n",
       "| <!--/--> | id &lt;dbl&gt; | date &lt;date&gt; | total_diaria &lt;dbl&gt; |\n",
       "|---|---|---|---|\n",
       "| 1 | 1503960366 | 2016-04-11 | 141.8846 |\n",
       "| 2 | 1624580081 | 2016-04-11 | 106.5342 |\n",
       "| 3 | 1644430081 | 2016-04-11 | 175.3814 |\n",
       "| 4 | 1844505072 | 2016-04-11 | 112.2840 |\n",
       "| 5 | 1927972279 | 2016-04-11 | 170.1260 |\n",
       "| 6 | 2022484408 | 2016-04-11 | 124.5240 |\n",
       "\n"
      ],
      "text/plain": [
       "  id         date       total_diaria\n",
       "1 1503960366 2016-04-11 141.8846    \n",
       "2 1624580081 2016-04-11 106.5342    \n",
       "3 1644430081 2016-04-11 175.3814    \n",
       "4 1844505072 2016-04-11 112.2840    \n",
       "5 1927972279 2016-04-11 170.1260    \n",
       "6 2022484408 2016-04-11 124.5240    "
      ]
     },
     "metadata": {},
     "output_type": "display_data"
    }
   ],
   "source": [
    "promedio_calorias_id <- aggregate(total_diaria ~ id + date, sum_diaria_v1, mean)\n",
    "head(promedio_calorias_id)"
   ]
  },
  {
   "cell_type": "markdown",
   "id": "dc7874b2-3b47-4328-8d61-99118cd17f08",
   "metadata": {},
   "source": [
    "Creación de una escala de comparación por encima o por debajo de la media de cada sujeto de gasto calórico diario"
   ]
  },
  {
   "cell_type": "code",
   "execution_count": 38,
   "id": "b1315df2-59df-49a4-a969-c9e882c23f62",
   "metadata": {
    "tags": []
   },
   "outputs": [],
   "source": [
    "sum_diaria_v1$encima_avg <- ifelse(sum_diaria_v1$total_diaria > promedio_calorias_id$total_diaria, \"Por encima\", \"Por debajo\")"
   ]
  },
  {
   "cell_type": "code",
   "execution_count": 39,
   "id": "013c8eee-9e3e-4525-adfd-c0b9118b062a",
   "metadata": {
    "tags": []
   },
   "outputs": [
    {
     "data": {
      "text/plain": [
       "            \n",
       "             Por debajo Por encima\n",
       "  1503960366          1         30\n",
       "  1624580081         28          4\n",
       "  1644430081          6         25\n",
       "  1844505072         27          5\n",
       "  1927972279         17         15\n",
       "  2022484408         12         20"
      ]
     },
     "metadata": {},
     "output_type": "display_data"
    }
   ],
   "source": [
    "resumen <- table(sum_diaria_v1$id, sum_diaria_v1$encima_avg)\n",
    "head(resumen)"
   ]
  },
  {
   "cell_type": "code",
   "execution_count": 40,
   "id": "30fee79d-7e17-4bcf-91ea-57e86b800880",
   "metadata": {},
   "outputs": [],
   "source": [
    "resumen_df <- as.data.frame.matrix(resumen)\n",
    "colnames(resumen_df) <- c(\"debajo\", \"encima\")"
   ]
  },
  {
   "cell_type": "code",
   "execution_count": 41,
   "id": "b617d6fe-1ba0-494c-bf76-1aec0f0988bc",
   "metadata": {},
   "outputs": [],
   "source": [
    "resumen_df$id <- rownames(resumen_df)"
   ]
  },
  {
   "cell_type": "code",
   "execution_count": 42,
   "id": "ed3e9d4f-a927-4940-b7e2-d9d31c98dacf",
   "metadata": {},
   "outputs": [],
   "source": [
    "tabla_larga <- pivot_longer(resumen_df, cols = c(\"debajo\", \"encima\"), names_to = \"tipo\", values_to = \"dias\")"
   ]
  },
  {
   "cell_type": "markdown",
   "id": "f513a5f8-b534-4e47-b09b-3692611811f5",
   "metadata": {},
   "source": [
    "Formateo de tabla en formato largo"
   ]
  },
  {
   "cell_type": "code",
   "execution_count": 43,
   "id": "6600e222-688d-42ff-aa2a-319e3a5830fd",
   "metadata": {
    "collapsed": true,
    "jupyter": {
     "outputs_hidden": true
    },
    "tags": []
   },
   "outputs": [
    {
     "data": {
      "text/html": [
       "<table class=\"dataframe\">\n",
       "<caption>A tibble: 6 × 3</caption>\n",
       "<thead>\n",
       "\t<tr><th scope=col>id</th><th scope=col>tipo</th><th scope=col>dias</th></tr>\n",
       "\t<tr><th scope=col>&lt;chr&gt;</th><th scope=col>&lt;chr&gt;</th><th scope=col>&lt;int&gt;</th></tr>\n",
       "</thead>\n",
       "<tbody>\n",
       "\t<tr><td>1503960366</td><td>debajo</td><td> 1</td></tr>\n",
       "\t<tr><td>1503960366</td><td>encima</td><td>30</td></tr>\n",
       "\t<tr><td>1624580081</td><td>debajo</td><td>28</td></tr>\n",
       "\t<tr><td>1624580081</td><td>encima</td><td> 4</td></tr>\n",
       "\t<tr><td>1644430081</td><td>debajo</td><td> 6</td></tr>\n",
       "\t<tr><td>1644430081</td><td>encima</td><td>25</td></tr>\n",
       "</tbody>\n",
       "</table>\n"
      ],
      "text/latex": [
       "A tibble: 6 × 3\n",
       "\\begin{tabular}{lll}\n",
       " id & tipo & dias\\\\\n",
       " <chr> & <chr> & <int>\\\\\n",
       "\\hline\n",
       "\t 1503960366 & debajo &  1\\\\\n",
       "\t 1503960366 & encima & 30\\\\\n",
       "\t 1624580081 & debajo & 28\\\\\n",
       "\t 1624580081 & encima &  4\\\\\n",
       "\t 1644430081 & debajo &  6\\\\\n",
       "\t 1644430081 & encima & 25\\\\\n",
       "\\end{tabular}\n"
      ],
      "text/markdown": [
       "\n",
       "A tibble: 6 × 3\n",
       "\n",
       "| id &lt;chr&gt; | tipo &lt;chr&gt; | dias &lt;int&gt; |\n",
       "|---|---|---|\n",
       "| 1503960366 | debajo |  1 |\n",
       "| 1503960366 | encima | 30 |\n",
       "| 1624580081 | debajo | 28 |\n",
       "| 1624580081 | encima |  4 |\n",
       "| 1644430081 | debajo |  6 |\n",
       "| 1644430081 | encima | 25 |\n",
       "\n"
      ],
      "text/plain": [
       "  id         tipo   dias\n",
       "1 1503960366 debajo  1  \n",
       "2 1503960366 encima 30  \n",
       "3 1624580081 debajo 28  \n",
       "4 1624580081 encima  4  \n",
       "5 1644430081 debajo  6  \n",
       "6 1644430081 encima 25  "
      ]
     },
     "metadata": {},
     "output_type": "display_data"
    }
   ],
   "source": [
    "head(tabla_larga)"
   ]
  },
  {
   "cell_type": "markdown",
   "id": "1f39e01f-669a-43f1-8b6d-8e94eacbcdd1",
   "metadata": {},
   "source": [
    "simplificar los id de los sujetos por numeros más pequeños de modo que en el gráfico no se solapen entre si"
   ]
  },
  {
   "cell_type": "code",
   "execution_count": 86,
   "id": "07c0a536-b06d-48cb-be2b-d102e89f8718",
   "metadata": {
    "collapsed": true,
    "jupyter": {
     "outputs_hidden": true
    },
    "tags": []
   },
   "outputs": [
    {
     "name": "stderr",
     "output_type": "stream",
     "text": [
      "Warning message:\n",
      "\"\u001b[1m\u001b[22mThere were 33 warnings in `mutate()`.\n",
      "The first warning was:\n",
      "\u001b[1m\u001b[22m\u001b[36mℹ\u001b[39m In argument: `id_simple = group_indices() + 1`.\n",
      "\u001b[36mℹ\u001b[39m In group 1: `id = \"1503960366\"`.\n",
      "Caused by warning:\n",
      "\u001b[1m\u001b[22m\u001b[33m!\u001b[39m `group_indices()` was deprecated in dplyr 1.0.0.\n",
      "\u001b[36mℹ\u001b[39m Please use `cur_group_id()` instead.\n",
      "\u001b[1m\u001b[22m\u001b[36mℹ\u001b[39m Run `dplyr::last_dplyr_warnings()` to see the 32 remaining warnings.\"\n"
     ]
    }
   ],
   "source": [
    "tabla_larga_v1 <- tabla_larga %>%\n",
    "  group_by(id) %>%\n",
    "  mutate(id_simple = group_indices() + 1) %>%\n",
    "  ungroup()"
   ]
  },
  {
   "cell_type": "code",
   "execution_count": 87,
   "id": "30a35097-b97a-4f91-9e68-a8008347e4af",
   "metadata": {
    "tags": []
   },
   "outputs": [
    {
     "data": {
      "text/html": [
       "<table class=\"dataframe\">\n",
       "<caption>A tibble: 6 × 4</caption>\n",
       "<thead>\n",
       "\t<tr><th scope=col>id</th><th scope=col>tipo</th><th scope=col>dias</th><th scope=col>id_simple</th></tr>\n",
       "\t<tr><th scope=col>&lt;chr&gt;</th><th scope=col>&lt;chr&gt;</th><th scope=col>&lt;int&gt;</th><th scope=col>&lt;dbl&gt;</th></tr>\n",
       "</thead>\n",
       "<tbody>\n",
       "\t<tr><td>1503960366</td><td>debajo</td><td> 1</td><td>2</td></tr>\n",
       "\t<tr><td>1503960366</td><td>encima</td><td>30</td><td>2</td></tr>\n",
       "\t<tr><td>1624580081</td><td>debajo</td><td>28</td><td>3</td></tr>\n",
       "\t<tr><td>1624580081</td><td>encima</td><td> 4</td><td>3</td></tr>\n",
       "\t<tr><td>1644430081</td><td>debajo</td><td> 6</td><td>4</td></tr>\n",
       "\t<tr><td>1644430081</td><td>encima</td><td>25</td><td>4</td></tr>\n",
       "</tbody>\n",
       "</table>\n"
      ],
      "text/latex": [
       "A tibble: 6 × 4\n",
       "\\begin{tabular}{llll}\n",
       " id & tipo & dias & id\\_simple\\\\\n",
       " <chr> & <chr> & <int> & <dbl>\\\\\n",
       "\\hline\n",
       "\t 1503960366 & debajo &  1 & 2\\\\\n",
       "\t 1503960366 & encima & 30 & 2\\\\\n",
       "\t 1624580081 & debajo & 28 & 3\\\\\n",
       "\t 1624580081 & encima &  4 & 3\\\\\n",
       "\t 1644430081 & debajo &  6 & 4\\\\\n",
       "\t 1644430081 & encima & 25 & 4\\\\\n",
       "\\end{tabular}\n"
      ],
      "text/markdown": [
       "\n",
       "A tibble: 6 × 4\n",
       "\n",
       "| id &lt;chr&gt; | tipo &lt;chr&gt; | dias &lt;int&gt; | id_simple &lt;dbl&gt; |\n",
       "|---|---|---|---|\n",
       "| 1503960366 | debajo |  1 | 2 |\n",
       "| 1503960366 | encima | 30 | 2 |\n",
       "| 1624580081 | debajo | 28 | 3 |\n",
       "| 1624580081 | encima |  4 | 3 |\n",
       "| 1644430081 | debajo |  6 | 4 |\n",
       "| 1644430081 | encima | 25 | 4 |\n",
       "\n"
      ],
      "text/plain": [
       "  id         tipo   dias id_simple\n",
       "1 1503960366 debajo  1   2        \n",
       "2 1503960366 encima 30   2        \n",
       "3 1624580081 debajo 28   3        \n",
       "4 1624580081 encima  4   3        \n",
       "5 1644430081 debajo  6   4        \n",
       "6 1644430081 encima 25   4        "
      ]
     },
     "metadata": {},
     "output_type": "display_data"
    }
   ],
   "source": [
    "head(tabla_larga_v1)"
   ]
  },
  {
   "cell_type": "markdown",
   "id": "6d477fa7-c6bb-46bb-b1c5-0cf5f9be2e00",
   "metadata": {
    "tags": []
   },
   "source": [
    "nota 1: Migrar tabla_larga_v1 para realizar gráfico en tableau"
   ]
  },
  {
   "cell_type": "code",
   "execution_count": 89,
   "id": "88c36ae9-1209-47c3-9d67-db9b33402fb2",
   "metadata": {},
   "outputs": [],
   "source": [
    "write.csv(tabla_larga_v1, \"tabla_larga_v1.csv\", row.names = FALSE)"
   ]
  },
  {
   "cell_type": "markdown",
   "id": "94e66d06-014e-4514-b635-58244392b66a",
   "metadata": {
    "tags": []
   },
   "source": [
    "##### Gráfico 2. Comparación gasto calórico diario de cada sujeto contra su propia media"
   ]
  },
  {
   "cell_type": "code",
   "execution_count": 92,
   "id": "79f57be1-8424-4477-8cca-0ad5564b7c2d",
   "metadata": {
    "tags": []
   },
   "outputs": [
    {
     "data": {
      "image/png": "[encoded data removed]"
     },
     "metadata": {},
     "output_type": "display_data"
    }
   ],
   "source": [
    "display_png(file=\"C:/Users/Joako/Documents/R_proyectos/Caso_practico/Informe_jupyter/Imagenes/Comparación_ gasto_calórico.png\")"
   ]
  },
  {
   "cell_type": "markdown",
   "id": "03c61e22-45fa-428f-b70a-b0698a45ae78",
   "metadata": {
    "tags": []
   },
   "source": [
    "### Estimación del consumo de calorías según la intensidad\n",
    "La idea es precisar el impacto del nivel de intensidad de la actividad física y el consumo de calorías para determinar si hay alguna relación significativa entre ambas variables"
   ]
  },
  {
   "cell_type": "markdown",
   "id": "ccc0ae5e-31e0-4590-885c-519ed9b0817c",
   "metadata": {},
   "source": [
    "Creación de un data.frame seleccionando unas variables vinculadas con la intensidad en minutos y las calorías quemadas"
   ]
  },
  {
   "cell_type": "code",
   "execution_count": 95,
   "id": "5ebd194c-ce4b-4778-9d62-8a64ea3020bb",
   "metadata": {},
   "outputs": [],
   "source": [
    "estimacion_calorias <- daily_activity %>%\n",
    "  select(id, date, veryactiveminutes, fairlyactiveminutes, lightlyactiveminutes, sedentaryminutes, calories)"
   ]
  },
  {
   "cell_type": "code",
   "execution_count": 96,
   "id": "c7b5824b-1109-466d-b9df-1df8cd0ee7ec",
   "metadata": {
    "collapsed": true,
    "jupyter": {
     "outputs_hidden": true
    },
    "tags": []
   },
   "outputs": [
    {
     "data": {
      "text/html": [
       "<table class=\"dataframe\">\n",
       "<caption>A tibble: 6 × 7</caption>\n",
       "<thead>\n",
       "\t<tr><th scope=col>id</th><th scope=col>date</th><th scope=col>veryactiveminutes</th><th scope=col>fairlyactiveminutes</th><th scope=col>lightlyactiveminutes</th><th scope=col>sedentaryminutes</th><th scope=col>calories</th></tr>\n",
       "\t<tr><th scope=col>&lt;dbl&gt;</th><th scope=col>&lt;date&gt;</th><th scope=col>&lt;dbl&gt;</th><th scope=col>&lt;dbl&gt;</th><th scope=col>&lt;dbl&gt;</th><th scope=col>&lt;dbl&gt;</th><th scope=col>&lt;dbl&gt;</th></tr>\n",
       "</thead>\n",
       "<tbody>\n",
       "\t<tr><td>1503960366</td><td>2016-04-12</td><td>25</td><td>13</td><td>328</td><td> 728</td><td>1985</td></tr>\n",
       "\t<tr><td>1503960366</td><td>2016-04-13</td><td>21</td><td>19</td><td>217</td><td> 776</td><td>1797</td></tr>\n",
       "\t<tr><td>1503960366</td><td>2016-04-14</td><td>30</td><td>11</td><td>181</td><td>1218</td><td>1776</td></tr>\n",
       "\t<tr><td>1503960366</td><td>2016-04-15</td><td>29</td><td>34</td><td>209</td><td> 726</td><td>1745</td></tr>\n",
       "\t<tr><td>1503960366</td><td>2016-04-16</td><td>36</td><td>10</td><td>221</td><td> 773</td><td>1863</td></tr>\n",
       "\t<tr><td>1503960366</td><td>2016-04-17</td><td>38</td><td>20</td><td>164</td><td> 539</td><td>1728</td></tr>\n",
       "</tbody>\n",
       "</table>\n"
      ],
      "text/latex": [
       "A tibble: 6 × 7\n",
       "\\begin{tabular}{lllllll}\n",
       " id & date & veryactiveminutes & fairlyactiveminutes & lightlyactiveminutes & sedentaryminutes & calories\\\\\n",
       " <dbl> & <date> & <dbl> & <dbl> & <dbl> & <dbl> & <dbl>\\\\\n",
       "\\hline\n",
       "\t 1503960366 & 2016-04-12 & 25 & 13 & 328 &  728 & 1985\\\\\n",
       "\t 1503960366 & 2016-04-13 & 21 & 19 & 217 &  776 & 1797\\\\\n",
       "\t 1503960366 & 2016-04-14 & 30 & 11 & 181 & 1218 & 1776\\\\\n",
       "\t 1503960366 & 2016-04-15 & 29 & 34 & 209 &  726 & 1745\\\\\n",
       "\t 1503960366 & 2016-04-16 & 36 & 10 & 221 &  773 & 1863\\\\\n",
       "\t 1503960366 & 2016-04-17 & 38 & 20 & 164 &  539 & 1728\\\\\n",
       "\\end{tabular}\n"
      ],
      "text/markdown": [
       "\n",
       "A tibble: 6 × 7\n",
       "\n",
       "| id &lt;dbl&gt; | date &lt;date&gt; | veryactiveminutes &lt;dbl&gt; | fairlyactiveminutes &lt;dbl&gt; | lightlyactiveminutes &lt;dbl&gt; | sedentaryminutes &lt;dbl&gt; | calories &lt;dbl&gt; |\n",
       "|---|---|---|---|---|---|---|\n",
       "| 1503960366 | 2016-04-12 | 25 | 13 | 328 |  728 | 1985 |\n",
       "| 1503960366 | 2016-04-13 | 21 | 19 | 217 |  776 | 1797 |\n",
       "| 1503960366 | 2016-04-14 | 30 | 11 | 181 | 1218 | 1776 |\n",
       "| 1503960366 | 2016-04-15 | 29 | 34 | 209 |  726 | 1745 |\n",
       "| 1503960366 | 2016-04-16 | 36 | 10 | 221 |  773 | 1863 |\n",
       "| 1503960366 | 2016-04-17 | 38 | 20 | 164 |  539 | 1728 |\n",
       "\n"
      ],
      "text/plain": [
       "  id         date       veryactiveminutes fairlyactiveminutes\n",
       "1 1503960366 2016-04-12 25                13                 \n",
       "2 1503960366 2016-04-13 21                19                 \n",
       "3 1503960366 2016-04-14 30                11                 \n",
       "4 1503960366 2016-04-15 29                34                 \n",
       "5 1503960366 2016-04-16 36                10                 \n",
       "6 1503960366 2016-04-17 38                20                 \n",
       "  lightlyactiveminutes sedentaryminutes calories\n",
       "1 328                   728             1985    \n",
       "2 217                   776             1797    \n",
       "3 181                  1218             1776    \n",
       "4 209                   726             1745    \n",
       "5 221                   773             1863    \n",
       "6 164                   539             1728    "
      ]
     },
     "metadata": {},
     "output_type": "display_data"
    }
   ],
   "source": [
    "head(estimacion_calorias)"
   ]
  },
  {
   "cell_type": "code",
   "execution_count": 181,
   "id": "cda24188-f9b3-42cf-9ebc-cb94e794355a",
   "metadata": {},
   "outputs": [
    {
     "data": {
      "text/plain": [
       " veryactiveminutes fairlyactiveminutes lightlyactiveminutes sedentaryminutes\n",
       " Min.   :  0.00    Min.   :  0.00      Min.   :  0.0        Min.   :   0.0  \n",
       " 1st Qu.:  0.00    1st Qu.:  0.00      1st Qu.:127.0        1st Qu.: 729.8  \n",
       " Median :  4.00    Median :  6.00      Median :199.0        Median :1057.5  \n",
       " Mean   : 21.16    Mean   : 13.56      Mean   :192.8        Mean   : 991.2  \n",
       " 3rd Qu.: 32.00    3rd Qu.: 19.00      3rd Qu.:264.0        3rd Qu.:1229.5  \n",
       " Max.   :210.00    Max.   :143.00      Max.   :518.0        Max.   :1440.0  \n",
       "    calories   \n",
       " Min.   :   0  \n",
       " 1st Qu.:1828  \n",
       " Median :2134  \n",
       " Mean   :2304  \n",
       " 3rd Qu.:2793  \n",
       " Max.   :4900  "
      ]
     },
     "metadata": {},
     "output_type": "display_data"
    }
   ],
   "source": [
    "resumen_rango_actividad <- estimacion_calorias %>%\n",
    "    select(veryactiveminutes, fairlyactiveminutes, lightlyactiveminutes, sedentaryminutes, calories) %>%\n",
    "    summary()\n",
    "    View(resumen_rango_actividad)"
   ]
  },
  {
   "cell_type": "code",
   "execution_count": 182,
   "id": "6dea83fd-0cc2-4008-bc2f-ed53860ad721",
   "metadata": {},
   "outputs": [
    {
     "data": {
      "text/html": [
       "<table class=\"dataframe\">\n",
       "<caption>A tibble: 1 × 5</caption>\n",
       "<thead>\n",
       "\t<tr><th scope=col>veryactiveminutes</th><th scope=col>fairlyactiveminutes</th><th scope=col>lightlyactiveminutes</th><th scope=col>sedentaryminutes</th><th scope=col>calories</th></tr>\n",
       "\t<tr><th scope=col>&lt;dbl&gt;</th><th scope=col>&lt;dbl&gt;</th><th scope=col>&lt;dbl&gt;</th><th scope=col>&lt;dbl&gt;</th><th scope=col>&lt;dbl&gt;</th></tr>\n",
       "</thead>\n",
       "<tbody>\n",
       "\t<tr><td>21.16489</td><td>13.56489</td><td>192.8128</td><td>991.2106</td><td>2303.61</td></tr>\n",
       "</tbody>\n",
       "</table>\n"
      ],
      "text/latex": [
       "A tibble: 1 × 5\n",
       "\\begin{tabular}{lllll}\n",
       " veryactiveminutes & fairlyactiveminutes & lightlyactiveminutes & sedentaryminutes & calories\\\\\n",
       " <dbl> & <dbl> & <dbl> & <dbl> & <dbl>\\\\\n",
       "\\hline\n",
       "\t 21.16489 & 13.56489 & 192.8128 & 991.2106 & 2303.61\\\\\n",
       "\\end{tabular}\n"
      ],
      "text/markdown": [
       "\n",
       "A tibble: 1 × 5\n",
       "\n",
       "| veryactiveminutes &lt;dbl&gt; | fairlyactiveminutes &lt;dbl&gt; | lightlyactiveminutes &lt;dbl&gt; | sedentaryminutes &lt;dbl&gt; | calories &lt;dbl&gt; |\n",
       "|---|---|---|---|---|\n",
       "| 21.16489 | 13.56489 | 192.8128 | 991.2106 | 2303.61 |\n",
       "\n"
      ],
      "text/plain": [
       "  veryactiveminutes fairlyactiveminutes lightlyactiveminutes sedentaryminutes\n",
       "1 21.16489          13.56489            192.8128             991.2106        \n",
       "  calories\n",
       "1 2303.61 "
      ]
     },
     "metadata": {},
     "output_type": "display_data"
    }
   ],
   "source": [
    "resumen_rango_actividad <- estimacion_calorias %>%\n",
    "    select(veryactiveminutes, fairlyactiveminutes, lightlyactiveminutes, sedentaryminutes, calories) %>%\n",
    "    summarise_all(mean)\n",
    "    View(resumen_rango_actividad)"
   ]
  },
  {
   "cell_type": "markdown",
   "id": "0bd80962-cff4-41ff-88f1-c42e8f5be6ba",
   "metadata": {},
   "source": [
    "#### Creación rango de intensidad\n",
    "El data.frame hourly_intensities en la columna totalintensity refleja que el rango es de 0 a 180 estos puntajes los dividi en tres para tener un criterio de comprobación de la intensidad y el consumo de calorías"
   ]
  },
  {
   "cell_type": "markdown",
   "id": "2431d278-3fb8-4a01-bc1d-9f1e3f0a2372",
   "metadata": {},
   "source": [
    "##### Creación de data.frame para estimar el consumo de calorías según el rango de intensidad"
   ]
  },
  {
   "cell_type": "code",
   "execution_count": 194,
   "id": "c3668fbe-6feb-4026-bd14-5fa8cad03fa0",
   "metadata": {},
   "outputs": [],
   "source": [
    "intensities_calories <- merge(hourly_calories, hourly_intensities, by=c(\"id\", \"date\", \"time\"))"
   ]
  },
  {
   "cell_type": "code",
   "execution_count": 195,
   "id": "6f5b43ba-4768-4eb3-b82f-988ccd26b9cb",
   "metadata": {},
   "outputs": [],
   "source": [
    "inten_calor <- intensities_calories %>%\n",
    "  select(id, date, time, calories, totalintensity)"
   ]
  },
  {
   "cell_type": "code",
   "execution_count": 197,
   "id": "c9075f90-494b-4ad3-a403-9f7e4db5742c",
   "metadata": {},
   "outputs": [
    {
     "data": {
      "text/plain": [
       "    calories      totalintensity  \n",
       " Min.   : 42.00   Min.   :  0.00  \n",
       " 1st Qu.: 63.00   1st Qu.:  0.00  \n",
       " Median : 83.00   Median :  3.00  \n",
       " Mean   : 97.39   Mean   : 12.04  \n",
       " 3rd Qu.:108.00   3rd Qu.: 16.00  \n",
       " Max.   :948.00   Max.   :180.00  "
      ]
     },
     "metadata": {},
     "output_type": "display_data"
    }
   ],
   "source": [
    "inten_calor %>%\n",
    "  select(calories, totalintensity) %>%\n",
    "  summary()"
   ]
  },
  {
   "cell_type": "code",
   "execution_count": 198,
   "id": "c55cedea-441e-41e0-abf8-5ad77186816a",
   "metadata": {},
   "outputs": [],
   "source": [
    "inten_calor_60 <- inten_calor %>%\n",
    "  filter(totalintensity <= 60) %>%\n",
    "  summarise(promedio = mean(totalintensity))\n",
    "\n",
    "inten_calor_120 <- inten_calor %>%\n",
    "  filter(totalintensity > 61 & totalintensity <=120) %>%\n",
    "  summarise(promedio = mean(totalintensity))\n",
    "\n",
    "inten_calor_180 <- inten_calor %>%\n",
    "  filter(totalintensity > 121 & totalintensity <=180) %>%\n",
    "  summarise(promedio = mean(totalintensity))"
   ]
  },
  {
   "cell_type": "code",
   "execution_count": 199,
   "id": "ffc916a5-df09-425c-8c7a-3da21ae4c033",
   "metadata": {},
   "outputs": [],
   "source": [
    "resumen_inten_calor <- bind_rows(\n",
    "  data.frame(rango = \"<= 60\", promedio = inten_calor_60$promedio),\n",
    "  data.frame(rango = \"61-120\", promedio = inten_calor_120$promedio),\n",
    "  data.frame(rango = \"121-180\", promedio = inten_calor_180$promedio)\n",
    ")"
   ]
  },
  {
   "cell_type": "markdown",
   "id": "bbf0b122-a9e1-475d-94b1-477a126b6d9f",
   "metadata": {
    "tags": []
   },
   "source": [
    "###### Visualizar promedio de calorías quemadas según rango de intensidad"
   ]
  },
  {
   "cell_type": "code",
   "execution_count": 200,
   "id": "babcb97f-c777-4c46-8f9c-fc020d83fd89",
   "metadata": {},
   "outputs": [
    {
     "data": {
      "image/png": "[encoded data removed]",
      "text/plain": [
       "plot without title"
      ]
     },
     "metadata": {
      "image/png": {
       "height": 420,
       "width": 420
      }
     },
     "output_type": "display_data"
    }
   ],
   "source": [
    "ggplot(resumen_inten_calor, aes(x = rango, y = promedio)) +\n",
    "  geom_bar(stat = \"identity\", aes(fill=rango)) +\n",
    "  labs(title = \"Promedio de calorías quemadas según rango de intensidad\",\n",
    "       x = \"Rango de intensidad\", y = \"Promedio de calorías quemadas\")+\n",
    "  scale_fill_manual(values=c(\"#ff9da7\", \"#76b7b2\", \"#4e79a7\"), \n",
    "                    labels=c(\"<= 60\", \"61 - 120\", \"121 - 180\"))"
   ]
  },
  {
   "cell_type": "markdown",
   "id": "deff0514-0a98-4f99-ae90-c3116f1444df",
   "metadata": {
    "tags": []
   },
   "source": []
  },
  {
   "cell_type": "code",
   "execution_count": null,
   "id": "bbf501e9-ac43-4f1a-bf0a-5e05310dfccd",
   "metadata": {},
   "outputs": [],
   "source": []
  },
  {
   "cell_type": "markdown",
   "id": "904e3a9a-9585-4bf9-8f05-c4d18c75ab44",
   "metadata": {
    "tags": []
   },
   "source": [
    "### Horas de sueño y actividad física"
   ]
  },
  {
   "cell_type": "code",
   "execution_count": 167,
   "id": "aae96dd3-6854-4783-b133-e460904b393e",
   "metadata": {},
   "outputs": [
    {
     "data": {
      "text/plain": [
       " totalsleeprecords totalminutesasleep totaltimeinbed \n",
       " Min.   :1.00      Min.   : 58.0      Min.   : 61.0  \n",
       " 1st Qu.:1.00      1st Qu.:361.0      1st Qu.:403.8  \n",
       " Median :1.00      Median :432.5      Median :463.0  \n",
       " Mean   :1.12      Mean   :419.2      Mean   :458.5  \n",
       " 3rd Qu.:1.00      3rd Qu.:490.0      3rd Qu.:526.0  \n",
       " Max.   :3.00      Max.   :796.0      Max.   :961.0  "
      ]
     },
     "metadata": {},
     "output_type": "display_data"
    }
   ],
   "source": [
    "sleep <- sleep_day_df %>%\n",
    "  select( totalsleeprecords, totalminutesasleep, totaltimeinbed) %>%\n",
    "  summary()\n",
    "View(sleep)"
   ]
  },
  {
   "cell_type": "markdown",
   "id": "909adc1d-8332-4f13-bced-10810bb7710c",
   "metadata": {},
   "source": [
    "#### Creación de un data.frame con datos del registro de sueño y actividad física\n",
    "La idea es identificar si hay algún patron entre dormir una vez o más de una vez en la cantidad de actividad física realizada"
   ]
  },
  {
   "cell_type": "code",
   "execution_count": 175,
   "id": "95646330-739d-47a3-8b57-32a6dac4813e",
   "metadata": {},
   "outputs": [],
   "source": [
    "activity_sleep <- merge(sleep_day_df, daily_activity, by =c(\"id\", \"date\"))"
   ]
  },
  {
   "cell_type": "code",
   "execution_count": 176,
   "id": "d96e3174-7892-4769-b15b-f45d6e99920a",
   "metadata": {},
   "outputs": [
    {
     "data": {
      "text/html": [
       "<table class=\"dataframe\">\n",
       "<caption>A tibble: 3 × 2</caption>\n",
       "<thead>\n",
       "\t<tr><th scope=col>totalsleeprecords</th><th scope=col>avg</th></tr>\n",
       "\t<tr><th scope=col>&lt;dbl&gt;</th><th scope=col>&lt;dbl&gt;</th></tr>\n",
       "</thead>\n",
       "<tbody>\n",
       "\t<tr><td>1</td><td>8750.893</td></tr>\n",
       "\t<tr><td>2</td><td>6725.930</td></tr>\n",
       "\t<tr><td>3</td><td>5524.333</td></tr>\n",
       "</tbody>\n",
       "</table>\n"
      ],
      "text/latex": [
       "A tibble: 3 × 2\n",
       "\\begin{tabular}{ll}\n",
       " totalsleeprecords & avg\\\\\n",
       " <dbl> & <dbl>\\\\\n",
       "\\hline\n",
       "\t 1 & 8750.893\\\\\n",
       "\t 2 & 6725.930\\\\\n",
       "\t 3 & 5524.333\\\\\n",
       "\\end{tabular}\n"
      ],
      "text/markdown": [
       "\n",
       "A tibble: 3 × 2\n",
       "\n",
       "| totalsleeprecords &lt;dbl&gt; | avg &lt;dbl&gt; |\n",
       "|---|---|\n",
       "| 1 | 8750.893 |\n",
       "| 2 | 6725.930 |\n",
       "| 3 | 5524.333 |\n",
       "\n"
      ],
      "text/plain": [
       "  totalsleeprecords avg     \n",
       "1 1                 8750.893\n",
       "2 2                 6725.930\n",
       "3 3                 5524.333"
      ]
     },
     "metadata": {},
     "output_type": "display_data"
    }
   ],
   "source": [
    "sleep_activity <- activity_sleep %>%\n",
    "  select(id, date, totalsleeprecords, totalsteps) %>%\n",
    "  group_by(totalsleeprecords) %>%\n",
    "  summarise(avg = mean(totalsteps))\n",
    "View(sleep_activity)"
   ]
  },
  {
   "cell_type": "code",
   "execution_count": 178,
   "id": "cc1a4881-1ada-4028-9793-4f475c7b4bc7",
   "metadata": {},
   "outputs": [
    {
     "data": {
      "image/png": "[encoded data removed]",
      "text/plain": [
       "plot without title"
      ]
     },
     "metadata": {
      "image/png": {
       "height": 420,
       "width": 420
      }
     },
     "output_type": "display_data"
    }
   ],
   "source": [
    "ggplot(sleep_activity, aes(x = totalsleeprecords, y = avg)) +\n",
    "  geom_bar(stat = \"identity\", fill = \"#76b7b2\") +\n",
    "  labs(title = \"Promedio de pasos dados según el número de registros de sueño\",\n",
    "       x = \"Número de registros de sueño\", y = \"Promedio de pasos dados\")"
   ]
  }
 ],
 "metadata": {
  "kernelspec": {
   "display_name": "R",
   "language": "R",
   "name": "ir"
  },
  "language_info": {
   "codemirror_mode": "r",
   "file_extension": ".r",
   "mimetype": "text/x-r-source",
   "name": "R",
   "pygments_lexer": "r",
   "version": "4.2.2"
  }
 },
 "nbformat": 4,
 "nbformat_minor": 5
}
